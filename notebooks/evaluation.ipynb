{
 "cells": [
  {
   "cell_type": "code",
   "execution_count": 1,
   "id": "5d8d3ff1",
   "metadata": {},
   "outputs": [
    {
     "name": "stdout",
     "output_type": "stream",
     "text": [
      "Jupyter environment detected. Enabling Open3D WebVisualizer.\n",
      "[Open3D INFO] WebRTC GUI backend enabled.\n",
      "[Open3D INFO] WebRTCWindowSystem: HTTP handshake server disabled.\n"
     ]
    }
   ],
   "source": [
    "import copy\n",
    "from tqdm.auto import tqdm\n",
    "import numpy as np\n",
    "import open3d as o3d\n",
    "import matplotlib.pyplot as plt\n",
    "\n",
    "\n",
    "from superprimitive_fusion.scanner import (\n",
    "    capture_spherical_scans,\n",
    "    virtual_mesh_scan,\n",
    "    mesh_depth_image,\n",
    "    generate_rgbd_noise,\n",
    "    clean_mesh_and_remap_weights,\n",
    ")\n",
    "from superprimitive_fusion.utils import (\n",
    "    bake_uv_to_vertex_colours,\n",
    "    polar2cartesian,\n",
    "    distinct_colours,\n",
    ")\n",
    "from superprimitive_fusion.mesh_fusion import (\n",
    "    fuse_meshes,\n",
    ")\n",
    "from superprimitive_fusion.mesh_fusion_utils import (\n",
    "    get_mesh_components,\n",
    ")"
   ]
  },
  {
   "cell_type": "code",
   "execution_count": 2,
   "id": "6df8fd32",
   "metadata": {},
   "outputs": [
    {
     "name": "stdout",
     "output_type": "stream",
     "text": [
      "Getting the mustard-bottle\n"
     ]
    }
   ],
   "source": [
    "names = (\n",
    "    ('mustard-bottle', 'mustard-bottle.obj'),\n",
    "    # ('table', 'table.obj'),\n",
    "    # ('power-drill', 'power-drill.obj'),\n",
    "    # ('bleach', 'bleach.obj'),\n",
    "    # ('pitcher', 'pitcher.obj'),\n",
    "    # ('mug', 'mug.obj'),\n",
    "    # ('extra-large-clamp', 'extra-large-clamp-leaning.obj'),\n",
    ")\n",
    "\n",
    "gt_meshes = dict()\n",
    "for foldername,filename in names:\n",
    "    print(f'Getting the {foldername}')\n",
    "    \n",
    "    gt_mesh = o3d.io.read_triangle_mesh(f\"../data/posed-meshes/{foldername}/{filename}\", enable_post_processing=True)\n",
    "\n",
    "    bake_uv_to_vertex_colours(gt_mesh)\n",
    "    gt_mesh.compute_vertex_normals()\n",
    "\n",
    "    gt_meshes[foldername] = gt_mesh\n",
    "\n",
    "gt_mesh_list = list(gt_meshes.values())"
   ]
  },
  {
   "cell_type": "code",
   "execution_count": 3,
   "id": "417ddfb3",
   "metadata": {},
   "outputs": [],
   "source": [
    "centres = []\n",
    "for gt_meshname, gt_mesh in gt_meshes.items():\n",
    "    if gt_meshname == 'table':\n",
    "        continue\n",
    "    centres.append(gt_mesh.get_center())\n",
    "\n",
    "centres = np.vstack(centres)\n",
    "\n",
    "obj_centre = centres.mean(axis=0)"
   ]
  },
  {
   "cell_type": "code",
   "execution_count": 15,
   "id": "72247fb7",
   "metadata": {},
   "outputs": [],
   "source": [
    "cam_offset=obj_centre\n",
    "look_at = obj_centre\n",
    "width: int = 360\n",
    "height: int = 240\n",
    "fov: float = 70.0\n",
    "k: float = 10\n",
    "max_normal_angle_deg = None\n",
    "N = 6\n",
    "radius = 0.25\n",
    "include_depth_images = True\n",
    "\n",
    "obj_scans = capture_spherical_scans(\n",
    "    gt_mesh_list,\n",
    "    N,\n",
    "    radius,\n",
    "    look_at,\n",
    "    cam_offset,\n",
    "    width,\n",
    "    height,\n",
    "    fov,\n",
    "    k,\n",
    "    max_normal_angle_deg,\n",
    "    \"latlong\",\n",
    "    constant_uncertainty    =2e-4,\n",
    "    linear_uncertainty      =2e-3,\n",
    "    quadrt_uncertainty      =1e-4,\n",
    "    constant_perlin_sigma   =2e-4,\n",
    "    linear_perlin_sigma     =2e-3,\n",
    "    quadrt_perlin_sigma     =1e-4,\n",
    "    perlin_octaves          =3,\n",
    "    seg_scale_std           =1e-4,\n",
    "    rot_std                 =1e-4,\n",
    "    trn_std                 =1e-3,\n",
    "    grazing_lambda          =1.0,\n",
    "    include_depth_images=include_depth_images,\n",
    ")\n",
    "\n",
    "scan_mw_pairs = [(obj_scan['mesh'][0][0],obj_scan['mesh'][1][0]) for obj_scan in obj_scans]\n",
    "if include_depth_images:\n",
    "    depth_data = [obj_scan['mesh'][2] for obj_scan in obj_scans]\n",
    "scan_meshes = [pair[0] for pair in scan_mw_pairs]"
   ]
  },
  {
   "cell_type": "code",
   "execution_count": 16,
   "id": "e6c2a8a8",
   "metadata": {},
   "outputs": [],
   "source": [
    "for mesh in scan_meshes:\n",
    "    mesh.compute_vertex_normals()\n",
    "o3d.visualization.draw_geometries(scan_meshes)"
   ]
  },
  {
   "cell_type": "code",
   "execution_count": 24,
   "id": "801f4213",
   "metadata": {},
   "outputs": [],
   "source": [
    "import numpy as np\n",
    "import open3d as o3d\n",
    "\n",
    "def make_intrinsic_from_K(K, w, h):\n",
    "    K = np.asarray(K, float)\n",
    "    return o3d.camera.PinholeCameraIntrinsic(w, h, K[0,0], K[1,1], K[0,2], K[1,2])\n",
    "\n",
    "def _o3d_color(rgb):\n",
    "    arr = np.asarray(rgb)\n",
    "    if arr.dtype.kind in \"fc\":\n",
    "        arr = (np.clip(arr, 0, 1) * 255).round().astype(np.uint8)\n",
    "    else:\n",
    "        arr = np.clip(arr, 0, 255).astype(np.uint8)\n",
    "    return o3d.geometry.Image(np.ascontiguousarray(arr))\n",
    "\n",
    "def _o3d_depth(depth, meters=True):\n",
    "    d = np.asarray(depth)\n",
    "    d[~np.isfinite(d)] = 0\n",
    "    if meters:\n",
    "        return o3d.geometry.Image(d.astype(np.float32)), 1.0\n",
    "    else:\n",
    "        return o3d.geometry.Image(d.astype(np.uint16)), 1000.0\n",
    "\n",
    "def tsdf_fuse(\n",
    "    depth_images, rgb_images, K, E_wc_list,\n",
    "    voxel_length=1.0/1024.0, trunc_voxels=4, depth_trunc=1.0,\n",
    "    depth_in_meters=True\n",
    "):\n",
    "    \"\"\"Extrinsics MUST be world->camera (E_wc).\"\"\"\n",
    "    assert len(depth_images)==len(rgb_images)==len(E_wc_list)\n",
    "    h, w = depth_images[0].shape[:2]\n",
    "    intr = make_intrinsic_from_K(K, w, h)\n",
    "    sdf_trunc = trunc_voxels * voxel_length\n",
    "\n",
    "    vol = o3d.pipelines.integration.ScalableTSDFVolume(\n",
    "        voxel_length=voxel_length,\n",
    "        sdf_trunc=sdf_trunc,\n",
    "        color_type=o3d.pipelines.integration.TSDFVolumeColorType.RGB8,\n",
    "    )\n",
    "\n",
    "    for depth, rgb, E_wc in zip(depth_images, rgb_images, E_wc_list):\n",
    "        dimg, depth_scale = _o3d_depth(depth, meters=depth_in_meters)\n",
    "        cimg = _o3d_color(rgb)\n",
    "        rgbd = o3d.geometry.RGBDImage.create_from_color_and_depth(\n",
    "            cimg, dimg, depth_scale=depth_scale, depth_trunc=depth_trunc, convert_rgb_to_intensity=False\n",
    "        )\n",
    "        vol.integrate(rgbd, intr, np.asarray(E_wc, dtype=np.float64))  # pass world->camera directly\n",
    "\n",
    "    mesh = vol.extract_triangle_mesh()\n",
    "    mesh.compute_vertex_normals()\n",
    "    return mesh\n",
    "\n",
    "depth_images = [d['depth'] for d in depth_data]\n",
    "for d in depth_images:\n",
    "    d[~np.isfinite(d)] = 0\n",
    "rgb_images   = [d['rgb'] for d in depth_data]\n",
    "K            = depth_data[0]['K_t']\n",
    "\n",
    "T_wc = [d['E'] for d in depth_data]\n",
    "\n",
    "mesh = tsdf_fuse(\n",
    "    depth_images, rgb_images, K, T_wc,\n",
    "    voxel_length=1./1024,\n",
    "    trunc_voxels=5,\n",
    ")\n",
    "o3d.visualization.draw_geometries([mesh])"
   ]
  },
  {
   "cell_type": "code",
   "execution_count": 18,
   "id": "3dfb4eef",
   "metadata": {},
   "outputs": [
    {
     "data": {
      "text/plain": [
       "TriangleMesh with 67579 points and 133351 triangles."
      ]
     },
     "execution_count": 18,
     "metadata": {},
     "output_type": "execute_result"
    }
   ],
   "source": [
    "mesh = mesh.filter_smooth_taubin(\n",
    "    number_of_iterations=50,\n",
    ")\n",
    "mesh.compute_vertex_normals()"
   ]
  },
  {
   "cell_type": "code",
   "execution_count": 19,
   "id": "27c8d488",
   "metadata": {},
   "outputs": [],
   "source": [
    "o3d.visualization.draw_geometries([mesh])"
   ]
  },
  {
   "cell_type": "code",
   "execution_count": 20,
   "id": "7b346be4",
   "metadata": {},
   "outputs": [],
   "source": [
    "diff_mesh_colours = distinct_colours(len(scan_meshes))\n",
    "diff_col_meshes = []\n",
    "for i,mesh in enumerate(scan_meshes):\n",
    "    if len(np.asarray(mesh.vertices)) == 0:\n",
    "        continue\n",
    "    col_mesh = copy.deepcopy(mesh)\n",
    "    col_mesh.compute_vertex_normals()\n",
    "    col_mesh.paint_uniform_color(diff_mesh_colours[i])\n",
    "    diff_col_meshes.append(col_mesh)\n",
    "\n",
    "\n",
    "front = look_at - (cam_offset + polar2cartesian(0.8, 110, 90))\n",
    "front /= np.linalg.norm(front)\n",
    "o3d.visualization.draw_geometries(\n",
    "    geometry_list=diff_col_meshes,\n",
    "    lookat=look_at,\n",
    "    front=front,\n",
    "    up=np.array([0, 0, 1]),\n",
    "    zoom=0.7,\n",
    ")"
   ]
  },
  {
   "cell_type": "code",
   "execution_count": 22,
   "id": "124631eb",
   "metadata": {},
   "outputs": [
    {
     "data": {
      "application/vnd.jupyter.widget-view+json": {
       "model_id": "68c0d9428e354612972666f009517702",
       "version_major": 2,
       "version_minor": 0
      },
      "text/plain": [
       "Scan:   0%|          | 0/5 [00:00<?, ?scan/s]"
      ]
     },
     "metadata": {},
     "output_type": "display_data"
    }
   ],
   "source": [
    "assert isinstance(scan_mw_pairs, list) and len(scan_mw_pairs) > 0, \"scan_mw_pairs must be a non-empty list\"\n",
    "for i, (m, w) in enumerate(scan_mw_pairs):\n",
    "    assert w.shape[0] == len(np.asarray(m.vertices)), f\"weights length mismatch at pair {i}\"\n",
    "\n",
    "fused_mesh, fused_weights = scan_mw_pairs[0]\n",
    "\n",
    "for t, (mesh, weights) in enumerate(tqdm(scan_mw_pairs[1:], desc=\"Scan\", unit=\"scan\"), start=1):\n",
    "    fused_mesh, fused_weights = fuse_meshes(\n",
    "        mesh1=fused_mesh, weights1=fused_weights,\n",
    "        mesh2=mesh,       weights2=weights,\n",
    "        h_alpha=5.0, r_alpha=2.0,\n",
    "        nrm_shift_iters=3, nrm_smth_iters=1,\n",
    "        shift_all=False,\n",
    "    )"
   ]
  },
  {
   "cell_type": "code",
   "execution_count": 23,
   "id": "fc554286",
   "metadata": {},
   "outputs": [],
   "source": [
    "front = look_at - (cam_offset + polar2cartesian(0.8, 110, 90))\n",
    "front /= np.linalg.norm(front)\n",
    "o3d.visualization.draw_geometries(\n",
    "    geometry_list=[fused_mesh],\n",
    "    lookat=look_at,\n",
    "    front=front,\n",
    "    up=np.array([0, 0, 1]),\n",
    "    zoom=0.7,\n",
    ")"
   ]
  },
  {
   "cell_type": "code",
   "execution_count": 106,
   "id": "aec65862",
   "metadata": {},
   "outputs": [],
   "source": [
    "import os, tempfile\n",
    "from pathlib import Path\n",
    "import numpy as np\n",
    "import pymeshlab as ml\n",
    "\n",
    "# Optional: only if you pass Open3D meshes directly\n",
    "try:\n",
    "    import open3d as o3d\n",
    "    _HAS_O3D = True\n",
    "except Exception:\n",
    "    _HAS_O3D = False\n",
    "\n",
    "def _is_o3d_mesh(x):\n",
    "    return _HAS_O3D and isinstance(x, o3d.geometry.TriangleMesh)\n",
    "\n",
    "def _ensure_path(obj, suffix=\".obj\"):\n",
    "    if isinstance(obj, (str, Path)):\n",
    "        return str(obj), None\n",
    "    if _is_o3d_mesh(obj):\n",
    "        tmp = tempfile.NamedTemporaryFile(suffix=suffix, delete=False); tmp.close()\n",
    "        ok = o3d.io.write_triangle_mesh(tmp.name, obj, write_ascii=False, compressed=False)\n",
    "        if not ok: raise RuntimeError(\"Open3D write failed.\")\n",
    "        return tmp.name, tmp.name\n",
    "    raise TypeError(\"gt/recon must be a filepath or open3d TriangleMesh\")\n",
    "\n",
    "def _cleanup_tmp(p):\n",
    "    if p and os.path.isfile(p):\n",
    "        try: os.remove(p)\n",
    "        except OSError: pass\n",
    "\n",
    "def _list_ids(ms):\n",
    "    try: return list(ms.mesh_id_list())\n",
    "    except Exception: return [i for i in range(ms.number_meshes())]\n",
    "\n",
    "def _dist_array_from_mesh(ms, mesh_id):\n",
    "    m = ms.mesh(mesh_id)\n",
    "    if hasattr(m, \"vertex_quality_array\"):\n",
    "        q = np.asarray(m.vertex_quality_array()).ravel()\n",
    "        if q.size and np.any(np.isfinite(q)): return q\n",
    "    if hasattr(m, \"vertex_scalar_array\"):\n",
    "        s = np.asarray(m.vertex_scalar_array()).ravel()\n",
    "        if s.size and np.any(np.isfinite(s)): return s\n",
    "    raise RuntimeError(\"No per-vertex quality/scalar on mesh id=%s.\" % mesh_id)\n",
    "\n",
    "def _summ(d):\n",
    "    d = np.asarray(d); d = d[np.isfinite(d)]\n",
    "    return dict(\n",
    "        mean=float(d.mean()),\n",
    "        median=float(np.median(d)),\n",
    "        rms=float(np.sqrt((d**2).mean())),\n",
    "        p95=float(np.quantile(d, 0.95)),\n",
    "        p99=float(np.quantile(d, 0.99)),\n",
    "        hausdorff=float(d.max()),\n",
    "        trimmed_hausdorff_99=float(np.quantile(d, 0.99)),\n",
    "        count=int(d.size),\n",
    "    )\n",
    "\n",
    "def _fscore(d_re2gt, d_gt2re, taus_abs):\n",
    "    out = {}\n",
    "    a = np.asarray(d_re2gt); b = np.asarray(d_gt2re)\n",
    "    for t in taus_abs:\n",
    "        P = float((a <= t).mean()) if a.size else 0.0   # how much of recon is within t of GT\n",
    "        R = float((b <= t).mean()) if b.size else 0.0   # how much of GT is within t of recon\n",
    "        F = 0.0 if (P+R)==0 else 2*P*R/(P+R)\n",
    "        out[float(t)] = {\"tau_m\": float(t), \"precision\": P, \"recall\": R, \"fscore\": F}\n",
    "    return out\n",
    "\n",
    "def evaluate_pair_pml_meters(\n",
    "    gt, recon,\n",
    "    samples_per_mesh=200_000,\n",
    "    taus_abs=(2.5e-4, 5e-4, 1e-3, 2e-3),   # 0.25, 0.5, 1, 2 mm\n",
    "    include_topology=True,\n",
    "    return_distance_arrays=False,\n",
    "    debug=False\n",
    "):\n",
    "    gt_path, tmp_gt = _ensure_path(gt, suffix=\".obj\")\n",
    "    re_path, tmp_re = _ensure_path(recon, suffix=\".obj\")\n",
    "    try:\n",
    "        ms = ml.MeshSet()\n",
    "        ms.load_new_mesh(gt_path);    gt_id    = ms.current_mesh_id()\n",
    "        ms.load_new_mesh(re_path);    recon_id = ms.current_mesh_id()\n",
    "\n",
    "        # recon → GT  (savesample=True and capture the new layer id)\n",
    "        before = set(_list_ids(ms))\n",
    "        ms.set_current_mesh(recon_id)\n",
    "        ms.apply_filter('get_hausdorff_distance',\n",
    "                        targetmesh=gt_id,\n",
    "                        samplevert=False, sampleedge=False, sampleface=True,\n",
    "                        samplenum=samples_per_mesh, savesample=True)\n",
    "        rg_sample_id = sorted(list(set(_list_ids(ms)) - before))[-1]\n",
    "        d_re2gt = _dist_array_from_mesh(ms, rg_sample_id)\n",
    "\n",
    "        # GT → recon\n",
    "        before = set(_list_ids(ms))\n",
    "        ms.set_current_mesh(gt_id)\n",
    "        ms.apply_filter('get_hausdorff_distance',\n",
    "                        targetmesh=recon_id,\n",
    "                        samplevert=False, sampleedge=False, sampleface=True,\n",
    "                        samplenum=samples_per_mesh, savesample=True)\n",
    "        gr_sample_id = sorted(list(set(_list_ids(ms)) - before))[-1]\n",
    "        d_gt2re = _dist_array_from_mesh(ms, gr_sample_id)\n",
    "\n",
    "        if debug:\n",
    "            print(\"re→gt min/med/max (m):\", float(d_re2gt.min()), float(np.median(d_re2gt)), float(d_re2gt.max()))\n",
    "            print(\"gt→re min/med/max (m):\", float(d_gt2re.min()), float(np.median(d_gt2re)), float(d_gt2re.max()))\n",
    "            print(\"sample sizes:\", d_re2gt.size, d_gt2re.size)\n",
    "\n",
    "        stats = {\n",
    "            \"recon_to_gt\": _summ(d_re2gt),\n",
    "            \"gt_to_recon\": _summ(d_gt2re),\n",
    "            \"fscore\": _fscore(d_re2gt, d_gt2re, taus_abs=taus_abs),\n",
    "        }\n",
    "\n",
    "        if include_topology:\n",
    "            ms.set_current_mesh(recon_id)\n",
    "            stats[\"recon_topology\"] = ms.apply_filter('get_topological_measures')\n",
    "            ms.set_current_mesh(gt_id)\n",
    "            stats[\"gt_topology\"] = ms.apply_filter('get_topological_measures')\n",
    "\n",
    "        if return_distance_arrays:\n",
    "            stats[\"_distances\"] = {\"recon_to_gt\": d_re2gt, \"gt_to_recon\": d_gt2re}\n",
    "\n",
    "        return stats\n",
    "    finally:\n",
    "        _cleanup_tmp(tmp_gt); _cleanup_tmp(tmp_re)"
   ]
  },
  {
   "cell_type": "code",
   "execution_count": 108,
   "id": "bf596b05",
   "metadata": {},
   "outputs": [
    {
     "name": "stdout",
     "output_type": "stream",
     "text": [
      "\u001b[1;33m[Open3D WARNING] Write OBJ can not include triangle normals.\u001b[0;m\n",
      "\u001b[1;33m[Open3D WARNING] Write OBJ can not include triangle normals.\u001b[0;m\n"
     ]
    },
    {
     "name": "stderr",
     "output_type": "stream",
     "text": [
      "/tmp/ipykernel_106824/2243590511.py:33: UserWarning: Deprecated Function Warning: use 'mesh_number()' instead.\n",
      "  except Exception: return [i for i in range(ms.number_meshes())]\n"
     ]
    },
    {
     "name": "stdout",
     "output_type": "stream",
     "text": [
      "re→gt min/med/max (m): 3.1422425078586613e-10 5.818026643791829e-05 0.0009832752442970882\n",
      "gt→re min/med/max (m): 2.781069263768643e-10 5.766877824046543e-05 0.0027824305719997442\n",
      "sample sizes: 150000 150000\n",
      "{'recon_to_gt': {'mean': 9.050021107892519e-05, 'median': 5.818026643791829e-05, 'rms': 0.0001338071768693322, 'p95': 0.0002887210183372055, 'p99': 0.00047102151224861306, 'hausdorff': 0.0009832752442970882, 'trimmed_hausdorff_99': 0.00047102151224861306, 'count': 150000}, 'gt_to_recon': {'mean': 9.193815261402374e-05, 'median': 5.766877824046543e-05, 'rms': 0.00014659031683699923, 'p95': 0.00029087849876854123, 'p99': 0.0005247199829456394, 'hausdorff': 0.0027824305719997442, 'trimmed_hausdorff_99': 0.0005247199829456394, 'count': 150000}, 'fscore': {0.00025: {'tau_m': 0.00025, 'precision': 0.9287133333333333, 'recall': 0.9289466666666667, 'fscore': 0.9288299853459608}, 0.0005: {'tau_m': 0.0005, 'precision': 0.9918533333333334, 'recall': 0.9884733333333333, 'fscore': 0.990160448859728}, 0.001: {'tau_m': 0.001, 'precision': 1.0, 'recall': 0.9990466666666666, 'fscore': 0.9995231060138666}, 0.002: {'tau_m': 0.002, 'precision': 1.0, 'recall': 0.9997533333333334, 'fscore': 0.9998766514536792}}, 'recon_topology': {'boundary_edges': 109, 'connected_components_number': 1, 'edges_number': 165443, 'faces_number': 110259, 'genus': -1, 'incident_faces_on_non_two_manifold_edges': 0, 'incident_faces_on_non_two_manifold_vertices': 69, 'is_mesh_two_manifold': False, 'non_two_manifold_edges': 0, 'non_two_manifold_vertices': 11, 'number_holes': -1, 'unreferenced_vertices': 0, 'vertices_number': 55146}, 'gt_topology': {'boundary_edges': 24760, 'connected_components_number': 34, 'edges_number': 798812, 'faces_number': 524288, 'genus': -1, 'incident_faces_on_non_two_manifold_edges': 0, 'incident_faces_on_non_two_manifold_vertices': 6, 'is_mesh_two_manifold': False, 'non_two_manifold_edges': 0, 'non_two_manifold_vertices': 4, 'number_holes': -1, 'unreferenced_vertices': 0, 'vertices_number': 274552}}\n"
     ]
    }
   ],
   "source": [
    "res = evaluate_pair_pml_meters(gt_mesh, fused_mesh, samples_per_mesh=150_000, taus_abs=(2.5e-4, 5e-4, 1e-3, 2e-3), debug=True)\n",
    "print(res)"
   ]
  },
  {
   "cell_type": "code",
   "execution_count": 111,
   "id": "1faabd9b",
   "metadata": {},
   "outputs": [],
   "source": [
    "o3d.visualization.draw_geometries([gt_mesh,fused_mesh])"
   ]
  },
  {
   "cell_type": "code",
   "execution_count": 114,
   "id": "eef2c1fc",
   "metadata": {},
   "outputs": [
    {
     "name": "stdout",
     "output_type": "stream",
     "text": [
      "dict_keys(['recon_to_gt', 'gt_to_recon', 'fscore', 'recon_topology', 'gt_topology'])\n",
      "0.09050021107892518\n"
     ]
    }
   ],
   "source": [
    "print(res.keys())\n",
    "print(res['recon_to_gt']['mean']*1000)"
   ]
  }
 ],
 "metadata": {
  "kernelspec": {
   "display_name": "msc-project",
   "language": "python",
   "name": "python3"
  },
  "language_info": {
   "codemirror_mode": {
    "name": "ipython",
    "version": 3
   },
   "file_extension": ".py",
   "mimetype": "text/x-python",
   "name": "python",
   "nbconvert_exporter": "python",
   "pygments_lexer": "ipython3",
   "version": "3.12.2"
  }
 },
 "nbformat": 4,
 "nbformat_minor": 5
}
