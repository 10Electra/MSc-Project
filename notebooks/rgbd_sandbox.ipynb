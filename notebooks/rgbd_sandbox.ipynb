{
 "cells": [
  {
   "cell_type": "code",
   "execution_count": null,
   "id": "84cdcbee",
   "metadata": {},
   "outputs": [],
   "source": [
    "import numpy as np\n",
    "import open3d as o3d\n",
    "import matplotlib.pyplot as plt\n",
    "\n",
    "from typing import Sequence\n",
    "\n",
    "from superprimitive_fusion.scanner import (\n",
    "    capture_spherical_scans,\n",
    "    render_rgb_view,\n",
    "    _interpolate_vertex_colors,\n",
    "    triangulate_rgbd_grid,\n",
    ")\n",
    "from superprimitive_fusion.utils import (\n",
    "    bake_uv_to_vertex_colours,\n",
    "    polar2cartesian,\n",
    "    triangulate_segments,\n",
    ")"
   ]
  },
  {
   "cell_type": "code",
   "execution_count": 2,
   "id": "5b2c8e9f",
   "metadata": {},
   "outputs": [
    {
     "name": "stdout",
     "output_type": "stream",
     "text": [
      "Getting the mustard-bottle\n",
      "Getting the table\n"
     ]
    }
   ],
   "source": [
    "names = (\n",
    "    ('mustard-bottle', 'mustard-bottle.obj'),\n",
    "    ('table', 'table.obj'),\n",
    "    # ('power-drill', 'power-drill.obj'),\n",
    "    # ('bleach', 'bleach.obj'),\n",
    "    # ('pitcher', 'pitcher.obj'),\n",
    "    # ('mug', 'mug.obj'),\n",
    "    # ('extra-large-clamp', 'extra-large-clamp-leaning.obj'),\n",
    ")\n",
    "\n",
    "meshes = dict()\n",
    "for foldername,filename in names:\n",
    "    print(f'Getting the {filename.split('.')[0]}')\n",
    "    \n",
    "    mesh = o3d.io.read_triangle_mesh(f\"../data/posed-meshes/{foldername}/{filename}\", enable_post_processing=True)\n",
    "\n",
    "    bake_uv_to_vertex_colours(mesh)\n",
    "    mesh.compute_vertex_normals()\n",
    "\n",
    "    meshes[foldername] = mesh\n",
    "\n",
    "meshlist = list(meshes.values())"
   ]
  },
  {
   "cell_type": "code",
   "execution_count": 3,
   "id": "5b1856fb",
   "metadata": {},
   "outputs": [],
   "source": [
    "centres = []\n",
    "for meshname, mesh in meshes.items():\n",
    "    if meshname == 'table':\n",
    "        continue\n",
    "    centres.append(mesh.get_center())\n",
    "\n",
    "centres = np.vstack(centres)\n",
    "\n",
    "obj_centre = centres.mean(axis=0)"
   ]
  },
  {
   "cell_type": "code",
   "execution_count": null,
   "id": "b83d1980",
   "metadata": {},
   "outputs": [],
   "source": [
    "mesh: o3d.geometry.TriangleMesh = meshlist\n",
    "cam_centre=polar2cartesian(1.0, 30, 90)\n",
    "look_at=obj_centre\n",
    "dropout_rate: float = 0.0\n",
    "depth_error_std: float = 0.0\n",
    "translation_error_std: float = 0.0\n",
    "rotation_error_std_degs: float = 0.0\n",
    "width_px: int = 360\n",
    "height_px: int = 240\n",
    "fov: float = 70.0\n",
    "k: float = 3.0"
   ]
  },
  {
   "cell_type": "code",
   "execution_count": 5,
   "id": "2198d52e",
   "metadata": {},
   "outputs": [],
   "source": [
    "from superprimitive_fusion.scanner import (\n",
    "    virtual_scan,\n",
    "    mesh_depth_image,\n",
    ")"
   ]
  },
  {
   "cell_type": "code",
   "execution_count": null,
   "id": "b67aa8be",
   "metadata": {},
   "outputs": [],
   "source": [
    "result = virtual_scan(meshlist, cam_centre, look_at)\n",
    "\n",
    "mesh = mesh_depth_image(\n",
    "    points=result['verts'],\n",
    "    vertex_colours=result['vcols'],\n",
    "    cam_centre=cam_centre,\n",
    "    segmentation=result['segmt'],\n",
    "    normals=result['normals'],\n",
    "    k=3.5,\n",
    ")"
   ]
  },
  {
   "cell_type": "code",
   "execution_count": 12,
   "id": "7d289875",
   "metadata": {},
   "outputs": [
    {
     "name": "stdout",
     "output_type": "stream",
     "text": [
      "[]\n"
     ]
    }
   ],
   "source": [
    "print(np.asarray(mesh.vertices))"
   ]
  },
  {
   "cell_type": "code",
   "execution_count": 8,
   "id": "9a89758f",
   "metadata": {},
   "outputs": [
    {
     "name": "stdout",
     "output_type": "stream",
     "text": [
      "\u001b[1;33m[Open3D WARNING] The number of points is 0 when creating axis-aligned bounding box.\u001b[0;m\n"
     ]
    }
   ],
   "source": [
    "o3d.visualization.draw_geometries([mesh])"
   ]
  },
  {
   "cell_type": "code",
   "execution_count": 13,
   "id": "8fc53a66",
   "metadata": {},
   "outputs": [],
   "source": [
    "def _quad_to_tris(idx: tuple[int, int, int, int],\n",
    "                  verts: np.ndarray) -> tuple[list[int], list[int]]:\n",
    "    \"\"\"Split a quadrilateral into two triangles.\n",
    "\n",
    "    The shortest diagonal is used for convex quads, while concave quads are\n",
    "    triangulated so both resulting triangles are oriented counter‑clockwise\n",
    "    (positive signed area).\n",
    "    \"\"\"\n",
    "    def signed_area(a, b, c):\n",
    "        return (b[0] - a[0]) * (c[1] - a[1]) - (b[1] - a[1]) * (c[0] - a[0])\n",
    "\n",
    "    # Convexity check – all cross products have the same sign\n",
    "    crosses: list[float] = []\n",
    "    for i in range(4):\n",
    "        a, b, c = verts[i], verts[(i + 1) % 4], verts[(i + 2) % 4]\n",
    "        ab, bc = b - a, c - b\n",
    "        crosses.append(ab[0] * bc[1] - ab[1] * bc[0])\n",
    "    is_convex = all(cp > 0 for cp in crosses)\n",
    "\n",
    "    if is_convex:\n",
    "        # pick the shorter diagonal\n",
    "        d0 = np.sum((verts[0] - verts[2]) ** 2)\n",
    "        d1 = np.sum((verts[1] - verts[3]) ** 2)\n",
    "        if d0 <= d1:\n",
    "            return [idx[0], idx[1], idx[2]], [idx[0], idx[2], idx[3]]\n",
    "        return [idx[0], idx[1], idx[3]], [idx[1], idx[2], idx[3]]\n",
    "\n",
    "    # Concave: test both diagonals for valid (positive‑area) triangles\n",
    "    sa = [signed_area(*verts[[0, 1, 2]]), signed_area(*verts[[0, 2, 3]]),\n",
    "          signed_area(*verts[[0, 1, 3]]), signed_area(*verts[[1, 2, 3]])]\n",
    "    split1_ok = sa[0] > 0 and sa[1] > 0  # (0,1,2) & (0,2,3)\n",
    "    split2_ok = sa[2] > 0 and sa[3] > 0  # (0,1,3) & (1,2,3)\n",
    "    if split1_ok or not split2_ok:\n",
    "        return [idx[0], idx[1], idx[2]], [idx[0], idx[2], idx[3]]\n",
    "    return [idx[0], idx[1], idx[3]], [idx[1], idx[2], idx[3]]\n",
    "\n",
    "def _interpolate_vertex_colors(\n",
    "        mesh: o3d.geometry.TriangleMesh,\n",
    "        primitive_ids: np.ndarray,\n",
    "        bary_uv: np.ndarray\n",
    "    ) -> np.ndarray:\n",
    "    \"\"\"Return RGB at hit points: sample texture if available, else barycentric vertex colors.\"\"\"\n",
    "    assert primitive_ids.ndim == 1 and bary_uv.ndim == 2, \"Must not be img shape\"\n",
    "\n",
    "    # Texture path\n",
    "    has_uvs = getattr(mesh, \"has_triangle_uvs\", lambda: False)()\n",
    "    has_textures = hasattr(mesh, \"textures\") and len(mesh.textures) > 0\n",
    "    if has_uvs and has_textures:\n",
    "        # (3 * n_tris, 2) -> (n_tris, 3, 2)\n",
    "        tri_uvs_all = np.asarray(mesh.triangle_uvs, dtype=np.float32).reshape(-1, 3, 2)\n",
    "        tri_uvs = tri_uvs_all[primitive_ids]  # (N, 3, 2) for the hit triangles\n",
    "\n",
    "        # Barycentric -> UV on the triangle\n",
    "        u, v = bary_uv[:, 0], bary_uv[:, 1]\n",
    "        w = 1.0 - u - v\n",
    "        hit_uv = (tri_uvs[:, 0, :] * w[:, None] +\n",
    "                  tri_uvs[:, 1, :] * u[:, None] +\n",
    "                  tri_uvs[:, 2, :] * v[:, None]).astype(np.float32)\n",
    "\n",
    "        # Choose texture per triangle if available; else use texture 0 for all.\n",
    "        if hasattr(mesh, \"triangle_material_ids\") and len(mesh.textures) > 1:\n",
    "            tri_mats_all = np.asarray(mesh.triangle_material_ids, dtype=np.int32)\n",
    "            mat_ids = tri_mats_all[primitive_ids]\n",
    "        else:\n",
    "            mat_ids = np.zeros(len(hit_uv), dtype=np.int32)\n",
    "\n",
    "        out = np.zeros((len(hit_uv), 3), dtype=np.float32)\n",
    "\n",
    "        # Sample each texture group (bilinear)\n",
    "        unique_tex = np.unique(mat_ids)\n",
    "        for tex_id in unique_tex:\n",
    "            mask = (mat_ids == tex_id)\n",
    "            if not np.any(mask):\n",
    "                continue\n",
    "\n",
    "            img = np.asarray(mesh.textures[int(tex_id)])\n",
    "            # Ensure H * W * C\n",
    "            if img.ndim == 2:\n",
    "                img = np.repeat(img[..., None], 3, axis=2)\n",
    "            if img.shape[2] > 3:\n",
    "                img = img[..., :3]  # drop alpha\n",
    "\n",
    "            H, W = img.shape[0], img.shape[1]\n",
    "            uv = np.clip(hit_uv[mask], 0.0, 1.0)\n",
    "            x = uv[:, 0] * (W - 1)\n",
    "            y = uv[:, 1] * (H - 1)\n",
    "\n",
    "            x0 = np.floor(x).astype(np.int32)\n",
    "            y0 = np.floor(y).astype(np.int32)\n",
    "            x1 = np.clip(x0 + 1, 0, W - 1)\n",
    "            y1 = np.clip(y0 + 1, 0, H - 1)\n",
    "\n",
    "            wa = (x1 - x) * (y1 - y)\n",
    "            wb = (x - x0) * (y1 - y)\n",
    "            wc = (x1 - x) * (y - y0)\n",
    "            wd = (x - x0) * (y - y0)\n",
    "\n",
    "            Ia = img[y0, x0, :].astype(np.float32)\n",
    "            Ib = img[y0, x1, :].astype(np.float32)\n",
    "            Ic = img[y1, x0, :].astype(np.float32)\n",
    "            Id = img[y1, x1, :].astype(np.float32)\n",
    "\n",
    "            col = (Ia * wa[:, None] + Ib * wb[:, None] +\n",
    "                   Ic * wc[:, None] + Id * wd[:, None]) / 255.0\n",
    "            out[mask] = col\n",
    "\n",
    "        return out\n",
    "\n",
    "    # --- Fallback: per-vertex color interpolation ---\n",
    "    vcols = np.asarray(mesh.vertex_colors, dtype=np.float32)\n",
    "    tris = np.asarray(mesh.triangles, dtype=np.int32)[primitive_ids]\n",
    "    c0, c1, c2 = vcols[tris[:, 0]], vcols[tris[:, 1]], vcols[tris[:, 2]]\n",
    "    u, v = bary_uv[:, 0], bary_uv[:, 1]\n",
    "    w = 1.0 - u - v\n",
    "    return w[:, None] * c0 + u[:, None] * c1 + v[:, None] * c2\n"
   ]
  },
  {
   "cell_type": "code",
   "execution_count": null,
   "id": "3a9f5aa4",
   "metadata": {},
   "outputs": [
    {
     "name": "stdout",
     "output_type": "stream",
     "text": [
      "mustard-bottle is geom id 0\n",
      "table is geom id 1\n"
     ]
    }
   ],
   "source": [
    "###############\n",
    "# Ray casting #\n",
    "###############\n",
    "scene = o3d.t.geometry.RaycastingScene()\n",
    "geom_ids = []\n",
    "for name,mesh in meshes.items():\n",
    "    id = scene.add_triangles(o3d.t.geometry.TriangleMesh.from_legacy(mesh))\n",
    "    geom_ids.append(id)\n",
    "    print(f'{name} is geom id {id}')\n",
    "\n",
    "rays = o3d.t.geometry.RaycastingScene.create_rays_pinhole(\n",
    "    fov_deg=fov,\n",
    "    center=list(look_at),\n",
    "    eye=list(cam_centre),\n",
    "    up=[0, 0, 1],\n",
    "    width_px=width_px,\n",
    "    height_px=height_px,\n",
    ")\n",
    "\n",
    "ans = scene.cast_rays(rays)\n",
    "t_hit = ans[\"t_hit\"].numpy()\n",
    "\n",
    "# Intersection metadata (gometry id + triangle id + barycentric uv + normals)\n",
    "geom_ids = ans[\"geometry_ids\"].numpy().astype(np.int16)\n",
    "geom_ids[geom_ids > 1e2] = -1\n",
    "prim_ids = ans[\"primitive_ids\"].numpy().astype(np.int32)\n",
    "bary_uv = ans.get(\"primitive_uvs\", None).numpy()\n",
    "normals = ans[\"primitive_normals\"]"
   ]
  },
  {
   "cell_type": "code",
   "execution_count": 15,
   "id": "5f84e197",
   "metadata": {},
   "outputs": [],
   "source": [
    "valid = np.isfinite(t_hit).reshape(-1)"
   ]
  },
  {
   "cell_type": "code",
   "execution_count": 16,
   "id": "165053fe",
   "metadata": {},
   "outputs": [],
   "source": [
    "########################\n",
    "# Generate 3‑D vertices#\n",
    "########################\n",
    "rays_np = rays.numpy()  # (H*W,6)\n",
    "origins = rays_np[..., :3]\n",
    "dirs = rays_np[..., 3:]\n",
    "noise = (depth_error_std * np.random.randn(*t_hit.shape)).astype(np.float32)\n",
    "t_noisy = t_hit + noise\n",
    "verts = origins + dirs * t_noisy[..., None]"
   ]
  },
  {
   "cell_type": "code",
   "execution_count": 17,
   "id": "937b55d5",
   "metadata": {},
   "outputs": [],
   "source": [
    "#############################\n",
    "# Colour interpolation step #\n",
    "#############################\n",
    "vcols = np.full((*t_hit.shape, 3), 0.5)\n",
    "\n",
    "# Assertions for bugfixing\n",
    "assert bary_uv is not None\n",
    "for mesh in meshlist:\n",
    "    assert mesh.has_vertex_colors()\n",
    "\n",
    "for id in range(len(meshlist)):\n",
    "    rel_prim_ids = prim_ids[geom_ids==id]\n",
    "    rel_bary_uv  =  bary_uv[geom_ids==id]\n",
    "    vcols[geom_ids==id] = _interpolate_vertex_colors(meshlist[id], rel_prim_ids, rel_bary_uv)"
   ]
  },
  {
   "cell_type": "code",
   "execution_count": 38,
   "id": "436cdb13",
   "metadata": {},
   "outputs": [
    {
     "name": "stdout",
     "output_type": "stream",
     "text": [
      "There are 83741 triangles\n"
     ]
    }
   ],
   "source": [
    "from superprimitive_fusion.scanner import triangulate_rgbd_grid\n",
    "\n",
    "points:         np.ndarray = result['verts']\n",
    "vertex_colours: np.ndarray = result['vcols']\n",
    "cam_centre:     np.ndarray | tuple = cam_centre\n",
    "segmentation:   np.ndarray | None = result['segmt']\n",
    "normals:        np.ndarray | None = result['norms']\n",
    "k = 3.5\n",
    "assert points.ndim == 3\n",
    "if vertex_colours.ndim == 3:\n",
    "    vertex_colours = vertex_colours.reshape(-1, 3)\n",
    "if segmentation is not None:\n",
    "    assert segmentation.ndim == 2\n",
    "if normals is not None:\n",
    "    assert normals.ndim == 3\n",
    "    \n",
    "z = np.linalg.norm((points - cam_centre), axis=2)\n",
    "    \n",
    "valid_img = np.ones_like(segmentation, dtype=bool)\n",
    "valid_img[segmentation==-1] = 0\n",
    "\n",
    "tris = triangulate_rgbd_grid(\n",
    "    verts=points,\n",
    "    valid=valid_img.reshape(-1),\n",
    "    z=z,\n",
    "    obj_id=segmentation,\n",
    "    k=k,\n",
    "    normals=None,\n",
    "    max_normal_angle_deg=None,\n",
    ").astype(np.int32)\n",
    "\n",
    "print(f'There are {len(tris)} triangles')"
   ]
  },
  {
   "cell_type": "code",
   "execution_count": 30,
   "id": "d028c7e9",
   "metadata": {},
   "outputs": [
    {
     "ename": "AssertionError",
     "evalue": "\nArrays are not almost equal to 6 decimals\n\nMismatched elements: 43893 / 86400 (50.8%)\n ACTUAL: array([ True,  True,  True, ...,  True,  True,  True], shape=(86400,))\n DESIRED: array([ True,  True,  True, ..., False, False, False], shape=(86400,))",
     "output_type": "error",
     "traceback": [
      "\u001b[31m---------------------------------------------------------------------------\u001b[39m",
      "\u001b[31mAssertionError\u001b[39m                            Traceback (most recent call last)",
      "\u001b[36mCell\u001b[39m\u001b[36m \u001b[39m\u001b[32mIn[30]\u001b[39m\u001b[32m, line 2\u001b[39m\n\u001b[32m      1\u001b[39m np.testing.assert_array_almost_equal(points,verts)\n\u001b[32m----> \u001b[39m\u001b[32m2\u001b[39m \u001b[43mnp\u001b[49m\u001b[43m.\u001b[49m\u001b[43mtesting\u001b[49m\u001b[43m.\u001b[49m\u001b[43massert_array_almost_equal\u001b[49m\u001b[43m(\u001b[49m\u001b[43mvalid_img\u001b[49m\u001b[43m.\u001b[49m\u001b[43mreshape\u001b[49m\u001b[43m(\u001b[49m\u001b[43m-\u001b[49m\u001b[32;43m1\u001b[39;49m\u001b[43m)\u001b[49m\u001b[43m,\u001b[49m\u001b[43mvalid\u001b[49m\u001b[43m)\u001b[49m\n\u001b[32m      3\u001b[39m np.testing.assert_array_almost_equal(z,t_hit)\n\u001b[32m      4\u001b[39m np.testing.assert_array_almost_equal(segmentation,t_hit)\n",
      "    \u001b[31m[... skipping hidden 2 frame]\u001b[39m\n",
      "\u001b[36mFile \u001b[39m\u001b[32m~/miniconda3/envs/msc-project/lib/python3.12/site-packages/numpy/testing/_private/utils.py:921\u001b[39m, in \u001b[36massert_array_compare\u001b[39m\u001b[34m(comparison, x, y, err_msg, verbose, header, precision, equal_nan, equal_inf, strict, names)\u001b[39m\n\u001b[32m    916\u001b[39m         err_msg += \u001b[33m'\u001b[39m\u001b[38;5;130;01m\\n\u001b[39;00m\u001b[33m'\u001b[39m + \u001b[33m'\u001b[39m\u001b[38;5;130;01m\\n\u001b[39;00m\u001b[33m'\u001b[39m.join(remarks)\n\u001b[32m    917\u001b[39m         msg = build_err_msg([ox, oy], err_msg,\n\u001b[32m    918\u001b[39m                             verbose=verbose, header=header,\n\u001b[32m    919\u001b[39m                             names=names,\n\u001b[32m    920\u001b[39m                             precision=precision)\n\u001b[32m--> \u001b[39m\u001b[32m921\u001b[39m         \u001b[38;5;28;01mraise\u001b[39;00m \u001b[38;5;167;01mAssertionError\u001b[39;00m(msg)\n\u001b[32m    922\u001b[39m \u001b[38;5;28;01mexcept\u001b[39;00m \u001b[38;5;167;01mValueError\u001b[39;00m:\n\u001b[32m    923\u001b[39m     \u001b[38;5;28;01mimport\u001b[39;00m\u001b[38;5;250m \u001b[39m\u001b[34;01mtraceback\u001b[39;00m\n",
      "\u001b[31mAssertionError\u001b[39m: \nArrays are not almost equal to 6 decimals\n\nMismatched elements: 43893 / 86400 (50.8%)\n ACTUAL: array([ True,  True,  True, ...,  True,  True,  True], shape=(86400,))\n DESIRED: array([ True,  True,  True, ..., False, False, False], shape=(86400,))"
     ]
    }
   ],
   "source": [
    "np.testing.assert_array_almost_equal(points,verts)\n",
    "np.testing.assert_array_almost_equal(valid_img.reshape(-1),valid)\n",
    "np.testing.assert_array_almost_equal(z,t_hit)\n",
    "np.testing.assert_array_almost_equal(segmentation,t_hit)"
   ]
  },
  {
   "cell_type": "code",
   "execution_count": 32,
   "id": "5c29ab6a",
   "metadata": {},
   "outputs": [
    {
     "data": {
      "text/plain": [
       "<matplotlib.image.AxesImage at 0x30774fd70>"
      ]
     },
     "execution_count": 32,
     "metadata": {},
     "output_type": "execute_result"
    },
    {
     "data": {
      "image/png": "[encoded data removed]",
      "text/plain": [
       "<Figure size 640x480 with 1 Axes>"
      ]
     },
     "metadata": {},
     "output_type": "display_data"
    }
   ],
   "source": [
    "plt.imshow(valid.reshape(240,360))"
   ]
  },
  {
   "cell_type": "code",
   "execution_count": 35,
   "id": "6c286a18",
   "metadata": {},
   "outputs": [
    {
     "data": {
      "text/plain": [
       "<matplotlib.colorbar.Colorbar at 0x34312ea80>"
      ]
     },
     "execution_count": 35,
     "metadata": {},
     "output_type": "execute_result"
    },
    {
     "data": {
      "image/png": "[encoded data removed]",
      "text/plain": [
       "<Figure size 640x480 with 2 Axes>"
      ]
     },
     "metadata": {},
     "output_type": "display_data"
    }
   ],
   "source": [
    "plt.imshow(valid_img)\n",
    "plt.colorbar()"
   ]
  },
  {
   "cell_type": "code",
   "execution_count": 20,
   "id": "69986502",
   "metadata": {},
   "outputs": [],
   "source": [
    "tris = triangulate_rgbd_grid(\n",
    "    verts=verts,\n",
    "    valid=valid,\n",
    "    z=t_hit,\n",
    "    obj_id=geom_ids,\n",
    "    k=3.5,\n",
    "    normals=None,                   # or your per-pixel normals (H,W,3)\n",
    "    max_normal_angle_deg=None       # e.g. 60 to be stricter on folds\n",
    ").astype(np.int32)"
   ]
  },
  {
   "cell_type": "code",
   "execution_count": null,
   "id": "936bfb74",
   "metadata": {},
   "outputs": [],
   "source": [
    "mesh_out = o3d.geometry.TriangleMesh()\n",
    "mesh_out.vertices = o3d.utility.Vector3dVector(verts.reshape(-1, 3))\n",
    "mesh_out.triangles = o3d.utility.Vector3iVector(tris[:, [0,2,1]])\n",
    "\n",
    "if vcols is not None:\n",
    "    mesh_out.vertex_colors = o3d.utility.Vector3dVector(vcols.reshape(-1,3))\n",
    "\n",
    "#############################\n",
    "# Clean‑up / post‑processing#\n",
    "#############################\n",
    "mesh_out.remove_unreferenced_vertices()\n",
    "mesh_out.remove_degenerate_triangles()\n",
    "mesh_out.remove_duplicated_triangles()\n",
    "mesh_out.remove_non_manifold_edges()\n",
    "mesh_out.compute_vertex_normals()\n",
    "\n",
    "######################\n",
    "# Registration error #\n",
    "######################\n",
    "mesh_out.translate(tuple(np.random.randn(3) * translation_error_std))\n",
    "R = mesh.get_rotation_matrix_from_xyz(\n",
    "    tuple(np.random.randn(3) * np.deg2rad(rotation_error_std_degs))\n",
    ")\n",
    "mesh_out.rotate(R, center=mesh_out.get_center())\n",
    "\n",
    "mesh = mesh_out"
   ]
  },
  {
   "cell_type": "code",
   "execution_count": null,
   "id": "1251a544",
   "metadata": {},
   "outputs": [],
   "source": [
    "o3d.visualization.draw_geometries([mesh])"
   ]
  }
 ],
 "metadata": {
  "kernelspec": {
   "display_name": "msc-project",
   "language": "python",
   "name": "python3"
  },
  "language_info": {
   "codemirror_mode": {
    "name": "ipython",
    "version": 3
   },
   "file_extension": ".py",
   "mimetype": "text/x-python",
   "name": "python",
   "nbconvert_exporter": "python",
   "pygments_lexer": "ipython3",
   "version": "3.12.2"
  }
 },
 "nbformat": 4,
 "nbformat_minor": 5
}
