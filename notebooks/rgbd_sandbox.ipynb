{
 "cells": [
  {
   "cell_type": "code",
   "execution_count": 1,
   "id": "84cdcbee",
   "metadata": {},
   "outputs": [],
   "source": [
    "import numpy as np\n",
    "import open3d as o3d\n",
    "import matplotlib.pyplot as plt\n",
    "\n",
    "from typing import Sequence\n",
    "\n",
    "from superprimitive_fusion.scanner import (\n",
    "    capture_spherical_scans,\n",
    "    render_rgb_view,\n",
    "    _interpolate_vertex_colors,\n",
    "    triangulate_rgbd_grid,\n",
    ")\n",
    "from superprimitive_fusion.utils import (\n",
    "    bake_uv_to_vertex_colours,\n",
    "    polar2cartesian,\n",
    "    triangulate_segments,\n",
    ")"
   ]
  },
  {
   "cell_type": "code",
   "execution_count": null,
   "id": "5b2c8e9f",
   "metadata": {},
   "outputs": [
    {
     "name": "stdout",
     "output_type": "stream",
     "text": [
      "Getting the mustard-bottle\n"
     ]
    }
   ],
   "source": [
    "names = (\n",
    "    ('mustard-bottle', 'mustard-bottle.obj'),\n",
    "    ('table', 'table.obj'),\n",
    "    # ('power-drill', 'power-drill.obj'),\n",
    "    # ('bleach', 'bleach.obj'),\n",
    "    # ('pitcher', 'pitcher.obj'),\n",
    "    # ('mug', 'mug.obj'),\n",
    "    # ('extra-large-clamp', 'extra-large-clamp-leaning.obj'),\n",
    ")\n",
    "\n",
    "meshes = dict()\n",
    "for foldername,filename in names:\n",
    "    print(f'Getting the {filename.split('.')[0]}')\n",
    "    \n",
    "    mesh = o3d.io.read_triangle_mesh(f\"../data/posed-meshes/{foldername}/{filename}\", enable_post_processing=True)\n",
    "\n",
    "    bake_uv_to_vertex_colours(mesh)\n",
    "    mesh.compute_vertex_normals()\n",
    "\n",
    "    meshes[foldername] = mesh\n",
    "\n",
    "meshlist = list(meshes.values())"
   ]
  },
  {
   "cell_type": "code",
   "execution_count": null,
   "id": "5b1856fb",
   "metadata": {},
   "outputs": [],
   "source": [
    "centres = []\n",
    "for meshname, mesh in meshes.items():\n",
    "    if meshname == 'table':\n",
    "        continue\n",
    "    centres.append(mesh.get_center())\n",
    "\n",
    "centres = np.vstack(centres)\n",
    "\n",
    "obj_centre = centres.mean(axis=0)"
   ]
  },
  {
   "cell_type": "code",
   "execution_count": null,
   "id": "b83d1980",
   "metadata": {},
   "outputs": [],
   "source": [
    "mesh: o3d.geometry.TriangleMesh = meshlist\n",
    "cam_centre=polar2cartesian(1.0, 30, 90)\n",
    "look_dir=obj_centre\n",
    "dropout_rate: float = 0.0\n",
    "depth_error_std: float = 0.0\n",
    "translation_error_std: float = 0.0\n",
    "rotation_error_std_degs: float = 0.0\n",
    "width_px: int = 360\n",
    "height_px: int = 240\n",
    "fov: float = 70.0\n",
    "k: float = 3.0"
   ]
  },
  {
   "cell_type": "code",
   "execution_count": null,
   "id": "3a9f5aa4",
   "metadata": {},
   "outputs": [
    {
     "name": "stdout",
     "output_type": "stream",
     "text": [
      "mustard-bottle is geom id 0\n",
      "table is geom id 1\n"
     ]
    }
   ],
   "source": [
    "###############\n",
    "# Ray casting #\n",
    "###############\n",
    "scene = o3d.t.geometry.RaycastingScene()\n",
    "geom_ids = []\n",
    "for name,mesh in meshes.items():\n",
    "    id = scene.add_triangles(o3d.t.geometry.TriangleMesh.from_legacy(mesh))\n",
    "    geom_ids.append(id)\n",
    "    print(f'{name} is geom id {id}')\n",
    "\n",
    "rays = o3d.t.geometry.RaycastingScene.create_rays_pinhole(\n",
    "    fov_deg=fov,\n",
    "    center=list(look_dir),\n",
    "    eye=list(cam_centre),\n",
    "    up=[0, 0, 1],\n",
    "    width_px=width_px,\n",
    "    height_px=height_px,\n",
    ")\n",
    "\n",
    "ans = scene.cast_rays(rays)\n",
    "t_hit = ans[\"t_hit\"].numpy()\n",
    "\n",
    "# Intersection metadata (gometry id + triangle id + barycentric uv + normals)\n",
    "geom_ids = ans[\"geometry_ids\"].numpy().astype(np.int16)\n",
    "geom_ids[geom_ids > 1e2] = -1\n",
    "prim_ids = ans[\"primitive_ids\"].numpy().astype(np.int32)\n",
    "bary_uv = ans.get(\"primitive_uvs\", None).numpy()\n",
    "normals = ans[\"primitive_normals\"]"
   ]
  },
  {
   "cell_type": "code",
   "execution_count": null,
   "id": "5f84e197",
   "metadata": {},
   "outputs": [],
   "source": [
    "valid = np.isfinite(t_hit).reshape(-1)"
   ]
  },
  {
   "cell_type": "code",
   "execution_count": null,
   "id": "165053fe",
   "metadata": {},
   "outputs": [],
   "source": [
    "########################\n",
    "# Generate 3‑D vertices#\n",
    "########################\n",
    "rays_np = rays.numpy()  # (H*W,6)\n",
    "origins = rays_np[..., :3]\n",
    "dirs = rays_np[..., 3:]\n",
    "noise = (depth_error_std * np.random.randn(*t_hit.shape)).astype(np.float32)\n",
    "t_noisy = t_hit + noise\n",
    "verts = origins + dirs * t_noisy[..., None]"
   ]
  },
  {
   "cell_type": "code",
   "execution_count": null,
   "id": "937b55d5",
   "metadata": {},
   "outputs": [],
   "source": [
    "#############################\n",
    "# Colour interpolation step #\n",
    "#############################\n",
    "vcols = np.full((*t_hit.shape, 3), 0.5)\n",
    "\n",
    "# Assertions for bugfixing\n",
    "assert bary_uv is not None\n",
    "for mesh in meshlist:\n",
    "    assert mesh.has_vertex_colors()\n",
    "\n",
    "for id in range(len(meshlist)):\n",
    "    rel_prim_ids = prim_ids[geom_ids==id]\n",
    "    rel_bary_uv  =  bary_uv[geom_ids==id]\n",
    "    vcols[geom_ids==id] = _interpolate_vertex_colors(meshlist[id], rel_prim_ids, rel_bary_uv)"
   ]
  },
  {
   "cell_type": "code",
   "execution_count": null,
   "id": "69986502",
   "metadata": {},
   "outputs": [
    {
     "name": "stdout",
     "output_type": "stream",
     "text": [
      "(240, 360, 3)\n",
      "(86400,)\n",
      "(240, 360)\n",
      "(240, 360)\n",
      "\n",
      "There are 83755 triangles\n"
     ]
    }
   ],
   "source": [
    "tris = triangulate_rgbd_grid(\n",
    "    verts=verts,\n",
    "    valid=valid,\n",
    "    z=t_hit,\n",
    "    obj_id=geom_ids,\n",
    "    k=3.5,\n",
    "    normals=None,                   # or your per-pixel normals (H,W,3)\n",
    "    max_normal_angle_deg=None       # e.g. 60 to be stricter on folds\n",
    ").astype(np.int32)"
   ]
  },
  {
   "cell_type": "code",
   "execution_count": null,
   "id": "936bfb74",
   "metadata": {},
   "outputs": [],
   "source": [
    "mesh_out = o3d.geometry.TriangleMesh()\n",
    "mesh_out.vertices = o3d.utility.Vector3dVector(verts.reshape(-1, 3))\n",
    "mesh_out.triangles = o3d.utility.Vector3iVector(tris[:, [0,2,1]])\n",
    "\n",
    "if vcols is not None:\n",
    "    mesh_out.vertex_colors = o3d.utility.Vector3dVector(vcols.reshape(-1,3))\n",
    "\n",
    "#############################\n",
    "# Clean‑up / post‑processing#\n",
    "#############################\n",
    "mesh_out.remove_unreferenced_vertices()\n",
    "mesh_out.remove_degenerate_triangles()\n",
    "mesh_out.remove_duplicated_triangles()\n",
    "mesh_out.remove_non_manifold_edges()\n",
    "mesh_out.compute_vertex_normals()\n",
    "\n",
    "######################\n",
    "# Registration error #\n",
    "######################\n",
    "mesh_out.translate(tuple(np.random.randn(3) * translation_error_std))\n",
    "R = mesh.get_rotation_matrix_from_xyz(\n",
    "    tuple(np.random.randn(3) * np.deg2rad(rotation_error_std_degs))\n",
    ")\n",
    "mesh_out.rotate(R, center=mesh_out.get_center())\n",
    "\n",
    "mesh = mesh_out"
   ]
  },
  {
   "cell_type": "code",
   "execution_count": null,
   "id": "1251a544",
   "metadata": {},
   "outputs": [],
   "source": [
    "o3d.visualization.draw_geometries([mesh])"
   ]
  }
 ],
 "metadata": {
  "kernelspec": {
   "display_name": "msc-project",
   "language": "python",
   "name": "python3"
  },
  "language_info": {
   "codemirror_mode": {
    "name": "ipython",
    "version": 3
   },
   "file_extension": ".py",
   "mimetype": "text/x-python",
   "name": "python",
   "nbconvert_exporter": "python",
   "pygments_lexer": "ipython3",
   "version": "3.12.2"
  }
 },
 "nbformat": 4,
 "nbformat_minor": 5
}
