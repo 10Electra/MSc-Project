{
 "cells": [
  {
   "cell_type": "code",
   "execution_count": 1,
   "id": "fd52ba20",
   "metadata": {},
   "outputs": [
    {
     "name": "stdout",
     "output_type": "stream",
     "text": [
      "Jupyter environment detected. Enabling Open3D WebVisualizer.\n",
      "[Open3D INFO] WebRTC GUI backend enabled.\n",
      "[Open3D INFO] WebRTCWindowSystem: HTTP handshake server disabled.\n"
     ]
    }
   ],
   "source": [
    "import numpy as np\n",
    "import open3d as o3d\n",
    "import torch\n",
    "\n",
    "from sam2.build_sam import build_sam2\n",
    "from sam2.automatic_mask_generator import SAM2AutomaticMaskGenerator\n",
    "\n",
    "from superprimitive_fusion.scanner import capture_spherical_scans\n",
    "from superprimitive_fusion.utils import bake_uv_to_vertex_colours, distinct_colours\n",
    "from superprimitive_fusion.mesh_fusion import fuse_meshes"
   ]
  },
  {
   "cell_type": "code",
   "execution_count": null,
   "id": "255c02bc",
   "metadata": {},
   "outputs": [],
   "source": [
    "device0 = torch.device(\"cuda:0\")\n",
    "\n",
    "torch.autocast(\"cuda\", dtype=torch.bfloat16).__enter__()\n",
    "if torch.cuda.get_device_properties(0).major >= 8:\n",
    "    torch.backends.cuda.matmul.allow_tf32 = True\n",
    "    torch.backends.cudnn.allow_tf32 = True"
   ]
  },
  {
   "cell_type": "code",
   "execution_count": 8,
   "id": "1789940a",
   "metadata": {},
   "outputs": [],
   "source": [
    "sam2_checkpoint = \"../models/SAM2/sam2.1_hiera_large.pt\"\n",
    "model_cfg = \"configs/sam2.1/sam2.1_hiera_l.yaml\"\n",
    "\n",
    "sam2 = build_sam2(model_cfg, sam2_checkpoint, device=device0, apply_postprocessing=False)\n",
    "\n",
    "# mask_generator = SAM2AutomaticMaskGenerator(sam2)\n",
    "mask_generator = SAM2AutomaticMaskGenerator(\n",
    "    model=sam2,\n",
    "    points_per_side=64,\n",
    "    points_per_batch=128,\n",
    "    pred_iou_thresh=0.7,\n",
    "    stability_score_thresh=0.92,\n",
    "    stability_score_offset=0.7,\n",
    "    crop_n_layers=1,\n",
    "    box_nms_thresh=0.7,\n",
    "    crop_n_points_downscale_factor=2,\n",
    "    min_mask_region_area=25.0,\n",
    "    use_m2m=True,\n",
    ")"
   ]
  },
  {
   "cell_type": "code",
   "execution_count": 11,
   "id": "d75a093a",
   "metadata": {},
   "outputs": [],
   "source": [
    "mesh = o3d.io.read_triangle_mesh(\"../data/mustard-bottle/textured.obj\", enable_post_processing=True)\n",
    "\n",
    "bake_uv_to_vertex_colours(mesh)\n",
    "\n",
    "mesh.compute_vertex_normals()\n",
    "\n",
    "bb = mesh.get_minimal_oriented_bounding_box()\n",
    "scale = np.mean(bb.get_max_bound())"
   ]
  },
  {
   "cell_type": "code",
   "execution_count": 17,
   "id": "974494dd",
   "metadata": {},
   "outputs": [],
   "source": [
    "scans = capture_spherical_scans(\n",
    "    mesh=mesh,\n",
    "    mask_generator=None,\n",
    "    num_views=6,\n",
    "    radius=0.3,\n",
    "    width_px=360,\n",
    "    height_px=240,\n",
    "    fov=70,\n",
    "    dropout_rate=0,\n",
    "    depth_error_std=0.0,\n",
    "    translation_error_std=0,\n",
    "    rotation_error_std_degs=0,\n",
    "    k=10,\n",
    "    sampler=\"fibonacci\",\n",
    ")\n",
    "meshes = [scan['mesh'] for scan in scans]\n",
    "\n",
    "o3d.visualization.draw_geometries(\n",
    "    meshes,\n",
    "    window_name=\"Virtual scan\",\n",
    "    front=[0.3, 1, 0],\n",
    "    lookat=[0, 0, 0],\n",
    "    up=[0, 0, 1],\n",
    "    zoom=0.7,\n",
    ")"
   ]
  },
  {
   "cell_type": "code",
   "execution_count": 25,
   "id": "a3adf51c",
   "metadata": {},
   "outputs": [],
   "source": [
    "slices = []\n",
    "axis = 'z'      # Choose from 'x', 'y', or 'z'\n",
    "c = 0.0         # Plane location (e.g., z = 0.0)\n",
    "width = 0.01    # Width of the null zone on each side\n",
    "\n",
    "axis_index = {'x': 0, 'y': 1, 'z': 2}[axis]\n",
    "\n",
    "for i, mesh in enumerate(meshes):\n",
    "    mesh.compute_triangle_normals()\n",
    "    triangles = np.asarray(mesh.triangles)\n",
    "    vertices = np.asarray(mesh.vertices)\n",
    "\n",
    "    # Get coordinate values for each vertex along the slicing axis\n",
    "    coords = vertices[:, axis_index]\n",
    "\n",
    "    # For each triangle, get the 3 corresponding coordinate values\n",
    "    tri_coords = coords[triangles]\n",
    "\n",
    "    # Find triangles that span the plane ± width (min < c-width and max > c+width)\n",
    "    mask = np.logical_or(\n",
    "        np.min(tri_coords, axis=1) < c - width,\n",
    "        np.max(tri_coords, axis=1) > c + width\n",
    "    )\n",
    "    # Also make sure triangle is not intersecting the null zone\n",
    "    not_crossing = np.logical_or(\n",
    "        np.max(tri_coords, axis=1) < c - width,\n",
    "        np.min(tri_coords, axis=1) > c + width\n",
    "    )\n",
    "\n",
    "    keep_triangles = triangles[not_crossing]\n",
    "    \n",
    "    # Create a new mesh with only the kept triangles\n",
    "    new_mesh = o3d.geometry.TriangleMesh()\n",
    "    new_mesh.vertices = o3d.utility.Vector3dVector(vertices)\n",
    "    new_mesh.vertex_colors = mesh.vertex_colors\n",
    "    new_mesh.triangles = o3d.utility.Vector3iVector(keep_triangles)\n",
    "    new_mesh.compute_vertex_normals()\n",
    "\n",
    "    slices.append(new_mesh)\n",
    "\n",
    "o3d.visualization.draw_geometries(\n",
    "    slices,\n",
    "    window_name=\"Virtual scan\",\n",
    "    front=[0.3, 1, 0],\n",
    "    lookat=[0, 0, 0],\n",
    "    up=[0, 0, 1],\n",
    "    zoom=0.7,\n",
    ")"
   ]
  },
  {
   "cell_type": "code",
   "execution_count": 27,
   "id": "6a1696ec",
   "metadata": {},
   "outputs": [],
   "source": [
    "for i in range(len(meshes)):\n",
    "    o3d.visualization.draw_geometries(\n",
    "        [meshes[i]],\n",
    "        window_name=\"Virtual scan\",\n",
    "        front=[0.3, 1, 0],\n",
    "        lookat=[0, 0, 0],\n",
    "        up=[0, 0, 1],\n",
    "        zoom=0.7,\n",
    "    )"
   ]
  },
  {
   "cell_type": "code",
   "execution_count": null,
   "id": "a9d6f742",
   "metadata": {},
   "outputs": [],
   "source": [
    "for i in range(2):\n",
    "    o3d.visualization.draw_geometries(\n",
    "        [slices[i]],\n",
    "        window_name=\"Virtual scan\",\n",
    "        front=[0.3, 1, 0],\n",
    "        lookat=[0, 0, 0],\n",
    "        up=[0, 0, 1],\n",
    "        zoom=0.7,\n",
    "    )"
   ]
  },
  {
   "cell_type": "code",
   "execution_count": 29,
   "id": "5da0939e",
   "metadata": {},
   "outputs": [
    {
     "name": "stderr",
     "output_type": "stream",
     "text": [
      "/home/christopher/Documents/Code/project/src/superprimitive_fusion/mesh_fusion_utils.py:599: RuntimeWarning: invalid value encountered in divide\n",
      "  clustered_overlap_nrms.append(merged_nrm / np.linalg.norm(merged_nrm))\n"
     ]
    }
   ],
   "source": [
    "j = 2\n",
    "fused_mesh = slices[0]\n",
    "for i in range(1,j):\n",
    "    fused_mesh = fuse_meshes(\n",
    "        fused_mesh,\n",
    "        slices[i],\n",
    "        h_alpha=5,\n",
    "        trilat_iters=2,\n",
    "        shift_all=False,\n",
    "        fill_holes=False,\n",
    "    )\n",
    "\n",
    "o3d.visualization.draw_geometries(\n",
    "    [fused_mesh],\n",
    "    window_name=\"Virtual scan\",\n",
    "    front=[0.3, 1, 0],\n",
    "    lookat=[0, 0, 0],\n",
    "    up=[0, 0, 1],\n",
    "    zoom=0.7,\n",
    ")"
   ]
  },
  {
   "cell_type": "code",
   "execution_count": null,
   "id": "78ec61f8",
   "metadata": {},
   "outputs": [],
   "source": [
    "j = 6\n",
    "fused_mesh = meshes[0]\n",
    "for i in range(1,j):\n",
    "    fused_mesh = fuse_meshes(\n",
    "        fused_mesh,\n",
    "        meshes[i],\n",
    "        h_alpha=5,\n",
    "        trilat_iters=2,\n",
    "        shift_all=False,\n",
    "        fill_holes=True,\n",
    "    )\n",
    "\n",
    "o3d.visualization.draw_geometries(\n",
    "    [fused_mesh],\n",
    "    window_name=\"Virtual scan\",\n",
    "    front=[0.3, 1, 0],\n",
    "    lookat=[0, 0, 0],\n",
    "    up=[0, 0, 1],\n",
    "    zoom=0.7,\n",
    ")"
   ]
  },
  {
   "cell_type": "code",
   "execution_count": 18,
   "id": "1a2421ab",
   "metadata": {},
   "outputs": [
    {
     "name": "stdout",
     "output_type": "stream",
     "text": [
      "There are 22 clusters of connected components\n"
     ]
    }
   ],
   "source": [
    "import copy\n",
    "\n",
    "mesh = copy.deepcopy(fused_mesh)\n",
    "\n",
    "out = mesh.cluster_connected_triangles()\n",
    "\n",
    "clust_ids = np.asarray(out[0])\n",
    "unique_clusters = np.unique(clust_ids)\n",
    "print(f'There are {len(unique_clusters)} clusters of connected components')\n",
    "\n",
    "colours = distinct_colours(len(unique_clusters))\n",
    "colours = (colours * 255).astype(np.uint8)\n",
    "\n",
    "components = []\n",
    "for i in unique_clusters:\n",
    "    component = copy.deepcopy(mesh)\n",
    "    tris = np.asarray(component.triangles)\n",
    "    tris_clust = tris[clust_ids==i]\n",
    "    component.triangles = o3d.utility.Vector3iVector(tris_clust)\n",
    "    component.paint_uniform_color(colours[i].astype(float) / 255)\n",
    "    components.append(component)\n",
    "\n",
    "o3d.visualization.draw_geometries(\n",
    "    components\n",
    ")"
   ]
  }
 ],
 "metadata": {
  "kernelspec": {
   "display_name": "msc-project",
   "language": "python",
   "name": "python3"
  },
  "language_info": {
   "codemirror_mode": {
    "name": "ipython",
    "version": 3
   },
   "file_extension": ".py",
   "mimetype": "text/x-python",
   "name": "python",
   "nbconvert_exporter": "python",
   "pygments_lexer": "ipython3",
   "version": "3.12.3"
  }
 },
 "nbformat": 4,
 "nbformat_minor": 5
}
