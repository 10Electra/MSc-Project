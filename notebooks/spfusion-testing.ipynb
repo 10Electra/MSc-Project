{
 "cells": [
  {
   "cell_type": "code",
   "execution_count": 1,
   "id": "fd52ba20",
   "metadata": {},
   "outputs": [
    {
     "name": "stdout",
     "output_type": "stream",
     "text": [
      "Jupyter environment detected. Enabling Open3D WebVisualizer.\n",
      "[Open3D INFO] WebRTC GUI backend enabled.\n",
      "[Open3D INFO] WebRTCWindowSystem: HTTP handshake server disabled.\n"
     ]
    }
   ],
   "source": [
    "import numpy as np\n",
    "import open3d as o3d\n",
    "from superprimitive_fusion.scanner import virtual_rgbd_scan\n",
    "from superprimitive_fusion.utils import bake_uv_to_vertex_colours, polar2cartesian\n",
    "from superprimitive_fusion.mesh_fusion import fuse_meshes"
   ]
  },
  {
   "cell_type": "code",
   "execution_count": 2,
   "id": "d75a093a",
   "metadata": {},
   "outputs": [],
   "source": [
    "mesh = o3d.io.read_triangle_mesh(\"../data/mustard-bottle/textured.obj\", enable_post_processing=True)\n",
    "\n",
    "bake_uv_to_vertex_colours(mesh)\n",
    "\n",
    "mesh.compute_vertex_normals()\n",
    "\n",
    "bb = mesh.get_minimal_oriented_bounding_box()\n",
    "scale = np.mean(bb.get_max_bound())"
   ]
  },
  {
   "cell_type": "code",
   "execution_count": 3,
   "id": "974494dd",
   "metadata": {},
   "outputs": [],
   "source": [
    "scans = []\n",
    "for i in range(6):\n",
    "    mesh_scan, pcd_scan = virtual_rgbd_scan(\n",
    "        mesh,\n",
    "        cam_centre=polar2cartesian(r=0.3, lat=60, long=0+60*i),\n",
    "        look_dir=(0, 0, 0),\n",
    "        width_px=180,\n",
    "        height_px=120,\n",
    "        fov=70,\n",
    "        dropout_rate=0,\n",
    "        depth_error_std=0.003*scale,\n",
    "        translation_error_std=0,#0.02*scale,\n",
    "        rotation_error_std_degs=0,\n",
    "        dist_thresh=0.25*scale,\n",
    "    )\n",
    "    scans.append(mesh_scan)\n",
    "\n",
    "# o3d.visualization.draw_geometries(\n",
    "#     scans,\n",
    "#     window_name=\"Virtual scan\",\n",
    "#     front=[0.3, 1, 0],\n",
    "#     lookat=[0, 0, 0],\n",
    "#     up=[0, 0, 1],\n",
    "#     zoom=0.7,\n",
    "# )"
   ]
  },
  {
   "cell_type": "code",
   "execution_count": 5,
   "id": "5da0939e",
   "metadata": {},
   "outputs": [
    {
     "ename": "",
     "evalue": "",
     "output_type": "error",
     "traceback": [
      "\u001b[1;31mThe Kernel crashed while executing code in the current cell or a previous cell. \n",
      "\u001b[1;31mPlease review the code in the cell(s) to identify a possible cause of the failure. \n",
      "\u001b[1;31mClick <a href='https://aka.ms/vscodeJupyterKernelCrash'>here</a> for more info. \n",
      "\u001b[1;31mView Jupyter <a href='command:jupyter.viewOutput'>log</a> for further details."
     ]
    }
   ],
   "source": [
    "j = 2\n",
    "fused_mesh = scans[0]\n",
    "for i in range(1,j):\n",
    "    fused_mesh = fuse_meshes(\n",
    "        fused_mesh,\n",
    "        scans[i],\n",
    "        h_alpha=5,\n",
    "        trilat_iters=2,\n",
    "        shift_all=False,\n",
    "        fill_holes=True,\n",
    "    )\n",
    "\n",
    "o3d.visualization.draw_geometries(\n",
    "    [fused_mesh],\n",
    "    window_name=\"Virtual scan\",\n",
    "    front=[0.3, 1, 0],\n",
    "    lookat=[0, 0, 0],\n",
    "    up=[0, 0, 1],\n",
    "    zoom=0.7,\n",
    ")"
   ]
  }
 ],
 "metadata": {
  "kernelspec": {
   "display_name": "msc-project",
   "language": "python",
   "name": "python3"
  },
  "language_info": {
   "codemirror_mode": {
    "name": "ipython",
    "version": 3
   },
   "file_extension": ".py",
   "mimetype": "text/x-python",
   "name": "python",
   "nbconvert_exporter": "python",
   "pygments_lexer": "ipython3",
   "version": "3.12.3"
  }
 },
 "nbformat": 4,
 "nbformat_minor": 5
}
