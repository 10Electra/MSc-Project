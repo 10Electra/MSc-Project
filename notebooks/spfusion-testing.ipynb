{
 "cells": [
  {
   "cell_type": "code",
   "execution_count": 18,
   "id": "4fcf5599",
   "metadata": {},
   "outputs": [],
   "source": [
    "import copy\n",
    "from tqdm.auto import tqdm\n",
    "import numpy as np\n",
    "import open3d as o3d\n",
    "import matplotlib.pyplot as plt\n",
    "\n",
    "\n",
    "from superprimitive_fusion.scanner import (\n",
    "    virtual_mesh_scan,\n",
    "    mesh_depth_image,\n",
    "    generate_rgbd_noise,\n",
    "    clean_mesh_and_remap_weights,\n",
    ")\n",
    "from superprimitive_fusion.utils import (\n",
    "    bake_uv_to_vertex_colours,\n",
    "    polar2cartesian,\n",
    "    distinct_colours,\n",
    ")\n",
    "from superprimitive_fusion.mesh_fusion import (\n",
    "    fuse_meshes,\n",
    ")\n",
    "from superprimitive_fusion.mesh_fusion_utils import (\n",
    "    get_mesh_components,\n",
    ")"
   ]
  },
  {
   "cell_type": "code",
   "execution_count": 8,
   "id": "166bdeed",
   "metadata": {},
   "outputs": [
    {
     "name": "stdout",
     "output_type": "stream",
     "text": [
      "Getting the mustard-bottle\n",
      "Getting the table\n",
      "Getting the power-drill\n",
      "Getting the bleach\n",
      "Getting the pitcher\n",
      "Getting the mug\n",
      "Getting the extra-large-clamp\n"
     ]
    }
   ],
   "source": [
    "names = (\n",
    "    ('mustard-bottle', 'mustard-bottle.obj'),\n",
    "    ('table', 'table.obj'),\n",
    "    ('power-drill', 'power-drill.obj'),\n",
    "    ('bleach', 'bleach.obj'),\n",
    "    ('pitcher', 'pitcher.obj'),\n",
    "    ('mug', 'mug.obj'),\n",
    "    ('extra-large-clamp', 'extra-large-clamp-leaning.obj'),\n",
    ")\n",
    "\n",
    "gt_meshes = dict()\n",
    "for foldername,filename in names:\n",
    "    print(f'Getting the {foldername}')\n",
    "    \n",
    "    gt_mesh = o3d.io.read_triangle_mesh(f\"../data/posed-meshes/{foldername}/{filename}\", enable_post_processing=True)\n",
    "\n",
    "    bake_uv_to_vertex_colours(gt_mesh)\n",
    "    gt_mesh.compute_vertex_normals()\n",
    "\n",
    "    gt_meshes[foldername] = gt_mesh\n",
    "\n",
    "gt_mesh_list = list(gt_meshes.values())"
   ]
  },
  {
   "cell_type": "code",
   "execution_count": 9,
   "id": "e2e9b9a4",
   "metadata": {},
   "outputs": [],
   "source": [
    "centres = []\n",
    "for gt_meshname, gt_mesh in gt_meshes.items():\n",
    "    if gt_meshname == 'table':\n",
    "        continue\n",
    "    centres.append(gt_mesh.get_center())\n",
    "\n",
    "centres = np.vstack(centres)\n",
    "\n",
    "obj_centre = centres.mean(axis=0)"
   ]
  },
  {
   "cell_type": "code",
   "execution_count": 10,
   "id": "c75ac80d",
   "metadata": {},
   "outputs": [],
   "source": [
    "cam_centre_offset=np.array([0, 0, 0.2])\n",
    "look_at = obj_centre\n",
    "width_px: int = 360\n",
    "height_px: int = 240\n",
    "fov: float = 70.0\n",
    "k: float = 3.5\n",
    "max_normal_angle_deg = None"
   ]
  },
  {
   "cell_type": "code",
   "execution_count": 15,
   "id": "f063becb",
   "metadata": {},
   "outputs": [
    {
     "name": "stderr",
     "output_type": "stream",
     "text": [
      "Scanning: 100%|██████████| 10/10 [00:09<00:00,  1.03it/s]\n"
     ]
    },
    {
     "name": "stdout",
     "output_type": "stream",
     "text": [
      "\u001b[1;33m[Open3D WARNING] The number of points is 0 when creating axis-aligned bounding box.\u001b[0;m\n",
      "\u001b[1;33m[Open3D WARNING] The number of points is 0 when creating axis-aligned bounding box.\u001b[0;m\n",
      "\u001b[1;33m[Open3D WARNING] The number of points is 0 when creating axis-aligned bounding box.\u001b[0;m\n",
      "\u001b[1;33m[Open3D WARNING] The number of points is 0 when creating axis-aligned bounding box.\u001b[0;m\n"
     ]
    }
   ],
   "source": [
    "scans = []\n",
    "N = 10\n",
    "for theta in tqdm(np.linspace(0,360/N * (N-1), N), desc='Scanning'):\n",
    "# for theta in np.linspace(30,180, N):\n",
    "# for theta in [70, 110]:\n",
    "    object_meshes, object_weights = virtual_mesh_scan(\n",
    "        meshlist=gt_mesh_list,\n",
    "        cam_centre=cam_centre_offset + polar2cartesian(0.8, 30, theta),\n",
    "        look_at=look_at,\n",
    "        k=10,\n",
    "        max_normal_angle_deg=None,\n",
    "        linear_depth_sigma=0,\n",
    "        quadrt_depth_sigma=0,\n",
    "        sigma_floor=1e-4,\n",
    "        bias_k1=0.025,\n",
    "    )\n",
    "    scans.append([(m,w) for m,w in zip(object_meshes, object_weights)])\n",
    "\n",
    "meshlists = [[scan_obj[0] for scan_obj in scan] for scan in scans]\n",
    "meshes = np.array(meshlists).flatten().tolist()\n",
    "\n",
    "for mesh in meshes:\n",
    "    mesh.compute_vertex_normals()\n",
    "o3d.visualization.draw_geometries(meshes)"
   ]
  },
  {
   "cell_type": "code",
   "execution_count": 16,
   "id": "39cf7032",
   "metadata": {},
   "outputs": [
    {
     "name": "stderr",
     "output_type": "stream",
     "text": [
      "Scan:   0%|          | 0/9 [00:00<?, ?it/s]"
     ]
    },
    {
     "name": "stdout",
     "output_type": "stream",
     "text": [
      "Scan 0 obj 0 is empty\n"
     ]
    },
    {
     "name": "stderr",
     "output_type": "stream",
     "text": [
      "Object: 100%|██████████| 7/7 [00:07<00:00,  1.04s/it]\n",
      "Object: 100%|██████████| 7/7 [00:09<00:00,  1.42s/it]\n",
      "Scan:  22%|██▏       | 2/9 [00:17<01:01,  8.84s/it]"
     ]
    },
    {
     "name": "stdout",
     "output_type": "stream",
     "text": [
      "point 21709 has no neighbours\n",
      "point 21709 has no neighbours\n"
     ]
    },
    {
     "name": "stderr",
     "output_type": "stream",
     "text": [
      "Object: 100%|██████████| 7/7 [00:10<00:00,  1.57s/it]\n",
      "Scan:  33%|███▎      | 3/9 [00:28<00:58,  9.82s/it]"
     ]
    },
    {
     "name": "stdout",
     "output_type": "stream",
     "text": [
      "point 5044 has no neighbours\n",
      "point 5044 has no neighbours\n"
     ]
    },
    {
     "name": "stderr",
     "output_type": "stream",
     "text": [
      "Object: 100%|██████████| 7/7 [00:11<00:00,  1.57s/it]\n",
      "Scan:  44%|████▍     | 4/9 [00:39<00:51, 10.29s/it]"
     ]
    },
    {
     "name": "stdout",
     "output_type": "stream",
     "text": [
      "point 6648 has no neighbours\n",
      "point 6648 has no neighbours\n"
     ]
    },
    {
     "name": "stderr",
     "output_type": "stream",
     "text": [
      "Object: 100%|██████████| 7/7 [00:10<00:00,  1.56s/it]\n",
      "Scan:  56%|█████▌    | 5/9 [00:50<00:42, 10.52s/it]"
     ]
    },
    {
     "name": "stdout",
     "output_type": "stream",
     "text": [
      "point 7849 has no neighbours\n",
      "point 25963 has no neighbours\n",
      "point 7849 has no neighbours\n",
      "point 25963 has no neighbours\n"
     ]
    },
    {
     "name": "stderr",
     "output_type": "stream",
     "text": [
      "Object: 100%|██████████| 7/7 [00:13<00:00,  1.89s/it]\n",
      "Scan:  67%|██████▋   | 6/9 [01:03<00:34, 11.45s/it]"
     ]
    },
    {
     "name": "stdout",
     "output_type": "stream",
     "text": [
      "Scan 7 obj 3 is empty\n",
      "point 16018 has no neighbours\n",
      "point 16018 has no neighbours\n"
     ]
    },
    {
     "name": "stderr",
     "output_type": "stream",
     "text": []
    },
    {
     "name": "stdout",
     "output_type": "stream",
     "text": [
      "Scan 7 obj 5 is empty\n"
     ]
    },
    {
     "name": "stderr",
     "output_type": "stream",
     "text": [
      "Object: 100%|██████████| 7/7 [00:12<00:00,  1.80s/it]\n",
      "Scan:  78%|███████▊  | 7/9 [01:16<00:23, 11.83s/it]"
     ]
    },
    {
     "name": "stdout",
     "output_type": "stream",
     "text": [
      "Scan 8 obj 0 is empty\n"
     ]
    },
    {
     "name": "stderr",
     "output_type": "stream",
     "text": []
    },
    {
     "name": "stdout",
     "output_type": "stream",
     "text": [
      "point 24649 has no neighbours\n",
      "point 24649 has no neighbours\n"
     ]
    },
    {
     "name": "stderr",
     "output_type": "stream",
     "text": [
      "Object: 100%|██████████| 7/7 [00:14<00:00,  2.03s/it]\n",
      "Scan:  89%|████████▉ | 8/9 [01:30<00:12, 12.58s/it]"
     ]
    },
    {
     "name": "stdout",
     "output_type": "stream",
     "text": [
      "point 40874 has no neighbours\n",
      "point 40874 has no neighbours\n"
     ]
    },
    {
     "name": "stderr",
     "output_type": "stream",
     "text": [
      "Object: 100%|██████████| 7/7 [00:16<00:00,  2.35s/it]\n",
      "Scan: 100%|██████████| 9/9 [01:46<00:00, 11.85s/it]\n"
     ]
    }
   ],
   "source": [
    "fused_scan = scans[0]\n",
    "N = len(scans[0])\n",
    "assert len(set([len(scan) for scan in scans])) == 1\n",
    "\n",
    "for t in tqdm(range(1,len(scans)), desc='Scan'):\n",
    "    fused_scan_meshes = []\n",
    "    fused_scan_weights = []\n",
    "    for obj_id in tqdm(range(N), desc='Object'):\n",
    "        mesh1, weights1 = fused_scan[obj_id]\n",
    "        mesh2, weights2 = scans[t][obj_id]\n",
    "\n",
    "        if len(np.asarray(mesh1.vertices)) == 0:\n",
    "            # Either one or both meshes are empty\n",
    "            print(f'Scan {t-1} obj {obj_id} is empty')\n",
    "            fused_obj_mesh    = mesh2\n",
    "            fused_obj_weights = weights2\n",
    "        elif len(np.asarray(mesh2.vertices)) == 0:\n",
    "            print(f'Scan {t} obj {obj_id} is empty')\n",
    "            # mesh2 is bad but mesh1 is fine\n",
    "            fused_obj_mesh    = mesh1\n",
    "            fused_obj_weights = weights1\n",
    "        else:\n",
    "            # both meshes fine\n",
    "            # print(f'Fusing obj {obj_id} scans {t-1,t}')\n",
    "            fused_obj_mesh, fused_obj_weights = fuse_meshes(\n",
    "                mesh1           = mesh1,\n",
    "                weights1        = weights1,\n",
    "                mesh2           = mesh2,\n",
    "                weights2        = weights2,\n",
    "                h_alpha         = 2.5,\n",
    "                r_alpha         = 2.0,\n",
    "                nrm_shift_iters = 2,\n",
    "                nrm_smth_iters  = 1,\n",
    "                shift_all       = False,\n",
    "                fill_holes      = False,\n",
    "            )\n",
    "        fused_scan_meshes.append(fused_obj_mesh)\n",
    "        fused_scan_weights.append(fused_obj_weights)\n",
    "        \n",
    "    fused_scan = [(m,w) for m,w in zip(fused_scan_meshes, fused_scan_weights)]"
   ]
  },
  {
   "cell_type": "code",
   "execution_count": 19,
   "id": "8fec301a",
   "metadata": {},
   "outputs": [
    {
     "data": {
      "application/vnd.jupyter.widget-view+json": {
       "model_id": "9b7146365cb3467bbd812365ca9be916",
       "version_major": 2,
       "version_minor": 0
      },
      "text/plain": [
       "Scan:   0%|          | 0/9 [00:00<?, ?scan/s]"
      ]
     },
     "metadata": {},
     "output_type": "display_data"
    },
    {
     "data": {
      "application/vnd.jupyter.widget-view+json": {
       "model_id": "dbe9321515eb49fbaa4764fd0f2f9f47",
       "version_major": 2,
       "version_minor": 0
      },
      "text/plain": [
       "Object:   0%|          | 0/7 [00:00<?, ?obj/s]"
      ]
     },
     "metadata": {},
     "output_type": "display_data"
    },
    {
     "name": "stdout",
     "output_type": "stream",
     "text": [
      "Scan 0 obj 0 is empty\n"
     ]
    },
    {
     "data": {
      "application/vnd.jupyter.widget-view+json": {
       "model_id": "bc8b4701e88244749ac39cf08827228f",
       "version_major": 2,
       "version_minor": 0
      },
      "text/plain": [
       "Object:   0%|          | 0/7 [00:00<?, ?obj/s]"
      ]
     },
     "metadata": {},
     "output_type": "display_data"
    },
    {
     "data": {
      "application/vnd.jupyter.widget-view+json": {
       "model_id": "c55d7e9426fd4d428a7c541d89b5d850",
       "version_major": 2,
       "version_minor": 0
      },
      "text/plain": [
       "Object:   0%|          | 0/7 [00:00<?, ?obj/s]"
      ]
     },
     "metadata": {},
     "output_type": "display_data"
    },
    {
     "name": "stdout",
     "output_type": "stream",
     "text": [
      "point 21675 has no neighbours\n",
      "point 21675 has no neighbours\n"
     ]
    },
    {
     "data": {
      "application/vnd.jupyter.widget-view+json": {
       "model_id": "736cd4d37a764eb39d02e77026952add",
       "version_major": 2,
       "version_minor": 0
      },
      "text/plain": [
       "Object:   0%|          | 0/7 [00:00<?, ?obj/s]"
      ]
     },
     "metadata": {},
     "output_type": "display_data"
    },
    {
     "name": "stdout",
     "output_type": "stream",
     "text": [
      "point 5048 has no neighbours\n",
      "point 5048 has no neighbours\n"
     ]
    },
    {
     "data": {
      "application/vnd.jupyter.widget-view+json": {
       "model_id": "2c4900b6825e472c9f74a9c2e30fa501",
       "version_major": 2,
       "version_minor": 0
      },
      "text/plain": [
       "Object:   0%|          | 0/7 [00:00<?, ?obj/s]"
      ]
     },
     "metadata": {},
     "output_type": "display_data"
    },
    {
     "name": "stdout",
     "output_type": "stream",
     "text": [
      "point 6606 has no neighbours\n",
      "point 6606 has no neighbours\n"
     ]
    },
    {
     "data": {
      "application/vnd.jupyter.widget-view+json": {
       "model_id": "8e56a2cf45494b9cbd46d0f758a9b31a",
       "version_major": 2,
       "version_minor": 0
      },
      "text/plain": [
       "Object:   0%|          | 0/7 [00:00<?, ?obj/s]"
      ]
     },
     "metadata": {},
     "output_type": "display_data"
    },
    {
     "name": "stdout",
     "output_type": "stream",
     "text": [
      "point 7935 has no neighbours\n",
      "point 25865 has no neighbours\n",
      "point 7935 has no neighbours\n",
      "point 25865 has no neighbours\n"
     ]
    },
    {
     "data": {
      "application/vnd.jupyter.widget-view+json": {
       "model_id": "0cfc8eaa173e4d4ab7e58fb0d747aa03",
       "version_major": 2,
       "version_minor": 0
      },
      "text/plain": [
       "Object:   0%|          | 0/7 [00:00<?, ?obj/s]"
      ]
     },
     "metadata": {},
     "output_type": "display_data"
    },
    {
     "name": "stdout",
     "output_type": "stream",
     "text": [
      "Scan 7 obj 3 is empty\n",
      "point 16163 has no neighbours\n",
      "point 16163 has no neighbours\n",
      "Scan 7 obj 5 is empty\n"
     ]
    },
    {
     "data": {
      "application/vnd.jupyter.widget-view+json": {
       "model_id": "625f680302c04a0c8df7c7665e680d8f",
       "version_major": 2,
       "version_minor": 0
      },
      "text/plain": [
       "Object:   0%|          | 0/7 [00:00<?, ?obj/s]"
      ]
     },
     "metadata": {},
     "output_type": "display_data"
    },
    {
     "name": "stdout",
     "output_type": "stream",
     "text": [
      "Scan 8 obj 0 is empty\n",
      "point 24694 has no neighbours\n",
      "point 24694 has no neighbours\n"
     ]
    },
    {
     "data": {
      "application/vnd.jupyter.widget-view+json": {
       "model_id": "8797bd3b32ee4535b4f47df8be11059a",
       "version_major": 2,
       "version_minor": 0
      },
      "text/plain": [
       "Object:   0%|          | 0/7 [00:00<?, ?obj/s]"
      ]
     },
     "metadata": {},
     "output_type": "display_data"
    },
    {
     "name": "stdout",
     "output_type": "stream",
     "text": [
      "point 40368 has no neighbours\n",
      "point 40368 has no neighbours\n"
     ]
    }
   ],
   "source": [
    "fused_scan = scans[0]\n",
    "N = len(scans[0])\n",
    "assert all(len(s) == N for s in scans), \"All scans must have the same length\"\n",
    "\n",
    "for t, scan in enumerate(tqdm(scans[1:], desc=\"Scan\", unit=\"scan\"), start=1):\n",
    "    fused_scan_meshes = []\n",
    "    fused_scan_weights = []\n",
    "    for obj_id in tqdm(range(N), desc=\"Object\", unit=\"obj\", position=1, leave=False):\n",
    "        mesh1, weights1 = fused_scan[obj_id]\n",
    "        mesh2, weights2 = scan[obj_id]\n",
    "\n",
    "        if len(np.asarray(mesh1.vertices)) == 0:\n",
    "            tqdm.write(f\"Scan {t-1} obj {obj_id} is empty\")\n",
    "            fused_obj_mesh, fused_obj_weights = mesh2, weights2\n",
    "        elif len(np.asarray(mesh2.vertices)) == 0:\n",
    "            tqdm.write(f\"Scan {t} obj {obj_id} is empty\")\n",
    "            fused_obj_mesh, fused_obj_weights = mesh1, weights1\n",
    "        else:\n",
    "            fused_obj_mesh, fused_obj_weights = fuse_meshes(\n",
    "                mesh1=mesh1, weights1=weights1,\n",
    "                mesh2=mesh2, weights2=weights2,\n",
    "                h_alpha=3.5, r_alpha=2.0,\n",
    "                nrm_shift_iters=2, nrm_smth_iters=1,\n",
    "                shift_all=False, fill_holes=False,\n",
    "            )\n",
    "        fused_scan_meshes.append(fused_obj_mesh)\n",
    "        fused_scan_weights.append(fused_obj_weights)\n",
    "\n",
    "    fused_scan = list(zip(fused_scan_meshes, fused_scan_weights))\n"
   ]
  },
  {
   "cell_type": "code",
   "execution_count": 20,
   "id": "7ac7fbbf",
   "metadata": {},
   "outputs": [],
   "source": [
    "fused_mesh_result = [obj[0] for obj in fused_scan]\n",
    "o3d.visualization.draw_geometries(fused_mesh_result)"
   ]
  }
 ],
 "metadata": {
  "kernelspec": {
   "display_name": "msc-project",
   "language": "python",
   "name": "python3"
  },
  "language_info": {
   "codemirror_mode": {
    "name": "ipython",
    "version": 3
   },
   "file_extension": ".py",
   "mimetype": "text/x-python",
   "name": "python",
   "nbconvert_exporter": "python",
   "pygments_lexer": "ipython3",
   "version": "3.12.2"
  }
 },
 "nbformat": 4,
 "nbformat_minor": 5
}
