{
 "cells": [
  {
   "cell_type": "code",
   "execution_count": 13,
   "id": "fd52ba20",
   "metadata": {},
   "outputs": [],
   "source": [
    "import numpy as np\n",
    "import open3d as o3d\n",
    "from superprimitive_fusion.scanner import capture_spherical_scans\n",
    "from superprimitive_fusion.utils import bake_uv_to_vertex_colours, distinct_colours\n",
    "from superprimitive_fusion.mesh_fusion import fuse_meshes"
   ]
  },
  {
   "cell_type": "code",
   "execution_count": 14,
   "id": "d75a093a",
   "metadata": {},
   "outputs": [],
   "source": [
    "mesh = o3d.io.read_triangle_mesh(\"../data/power-drill/textured.obj\", enable_post_processing=True)\n",
    "\n",
    "bake_uv_to_vertex_colours(mesh)\n",
    "\n",
    "mesh.compute_vertex_normals()\n",
    "\n",
    "bb = mesh.get_minimal_oriented_bounding_box()\n",
    "scale = np.mean(bb.get_max_bound())"
   ]
  },
  {
   "cell_type": "code",
   "execution_count": 15,
   "id": "974494dd",
   "metadata": {},
   "outputs": [],
   "source": [
    "scans = capture_spherical_scans(\n",
    "    mesh=mesh,\n",
    "    num_views=6,\n",
    "    radius=0.3,\n",
    "    width_px=360,\n",
    "    height_px=240,\n",
    "    fov=70,\n",
    "    dropout_rate=0,\n",
    "    depth_error_std=0.0,\n",
    "    translation_error_std=0,\n",
    "    rotation_error_std_degs=0,\n",
    "    dist_thresh=0.25,\n",
    "    sampler=\"fibonacci\",\n",
    ")\n",
    "meshes = [scan['mesh'] for scan in scans]\n",
    "\n",
    "o3d.visualization.draw_geometries(\n",
    "    meshes,\n",
    "    window_name=\"Virtual scan\",\n",
    "    front=[0.3, 1, 0],\n",
    "    lookat=[0, 0, 0],\n",
    "    up=[0, 0, 1],\n",
    "    zoom=0.7,\n",
    ")"
   ]
  },
  {
   "cell_type": "code",
   "execution_count": 16,
   "id": "6a1696ec",
   "metadata": {},
   "outputs": [],
   "source": [
    "for i in range(len(meshes)):\n",
    "    o3d.visualization.draw_geometries(\n",
    "        [meshes[i]],\n",
    "        window_name=\"Virtual scan\",\n",
    "        front=[0.3, 1, 0],\n",
    "        lookat=[0, 0, 0],\n",
    "        up=[0, 0, 1],\n",
    "        zoom=0.7,\n",
    "    )"
   ]
  },
  {
   "cell_type": "code",
   "execution_count": 17,
   "id": "5da0939e",
   "metadata": {},
   "outputs": [],
   "source": [
    "j = 6\n",
    "fused_mesh = meshes[0]\n",
    "for i in range(1,j):\n",
    "    fused_mesh = fuse_meshes(\n",
    "        fused_mesh,\n",
    "        meshes[i],\n",
    "        h_alpha=5,\n",
    "        trilat_iters=2,\n",
    "        shift_all=False,\n",
    "        fill_holes=True,\n",
    "    )\n",
    "\n",
    "o3d.visualization.draw_geometries(\n",
    "    [fused_mesh],\n",
    "    window_name=\"Virtual scan\",\n",
    "    front=[0.3, 1, 0],\n",
    "    lookat=[0, 0, 0],\n",
    "    up=[0, 0, 1],\n",
    "    zoom=0.7,\n",
    ")"
   ]
  },
  {
   "cell_type": "code",
   "execution_count": 18,
   "id": "1a2421ab",
   "metadata": {},
   "outputs": [
    {
     "name": "stdout",
     "output_type": "stream",
     "text": [
      "There are 22 clusters of connected components\n"
     ]
    }
   ],
   "source": [
    "import copy\n",
    "\n",
    "mesh = copy.deepcopy(fused_mesh)\n",
    "\n",
    "out = mesh.cluster_connected_triangles()\n",
    "\n",
    "clust_ids = np.asarray(out[0])\n",
    "unique_clusters = np.unique(clust_ids)\n",
    "print(f'There are {len(unique_clusters)} clusters of connected components')\n",
    "\n",
    "colours = distinct_colours(len(unique_clusters))\n",
    "colours = (colours * 255).astype(np.uint8)\n",
    "\n",
    "components = []\n",
    "for i in unique_clusters:\n",
    "    component = copy.deepcopy(mesh)\n",
    "    tris = np.asarray(component.triangles)\n",
    "    tris_clust = tris[clust_ids==i]\n",
    "    component.triangles = o3d.utility.Vector3iVector(tris_clust)\n",
    "    component.paint_uniform_color(colours[i].astype(float) / 255)\n",
    "    components.append(component)\n",
    "\n",
    "o3d.visualization.draw_geometries(\n",
    "    components\n",
    ")"
   ]
  }
 ],
 "metadata": {
  "kernelspec": {
   "display_name": "msc-project",
   "language": "python",
   "name": "python3"
  },
  "language_info": {
   "codemirror_mode": {
    "name": "ipython",
    "version": 3
   },
   "file_extension": ".py",
   "mimetype": "text/x-python",
   "name": "python",
   "nbconvert_exporter": "python",
   "pygments_lexer": "ipython3",
   "version": "3.12.3"
  }
 },
 "nbformat": 4,
 "nbformat_minor": 5
}
