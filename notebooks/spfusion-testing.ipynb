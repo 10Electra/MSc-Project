{
 "cells": [
  {
   "cell_type": "code",
   "execution_count": null,
   "id": "4fcf5599",
   "metadata": {},
   "outputs": [
    {
     "name": "stdout",
     "output_type": "stream",
     "text": [
      "Jupyter environment detected. Enabling Open3D WebVisualizer.\n",
      "[Open3D INFO] WebRTC GUI backend enabled.\n",
      "[Open3D INFO] WebRTCWindowSystem: HTTP handshake server disabled.\n"
     ]
    }
   ],
   "source": [
    "import copy\n",
    "from tqdm.auto import tqdm\n",
    "import numpy as np\n",
    "import open3d as o3d\n",
    "import matplotlib.pyplot as plt\n",
    "\n",
    "\n",
    "from superprimitive_fusion.scanner import (\n",
    "    virtual_mesh_scan,\n",
    "    mesh_depth_image,\n",
    "    generate_rgbd_noise,\n",
    "    clean_mesh_and_remap_weights,\n",
    ")\n",
    "from superprimitive_fusion.utils import (\n",
    "    bake_uv_to_vertex_colours,\n",
    "    polar2cartesian,\n",
    "    distinct_colours,\n",
    ")\n",
    "from superprimitive_fusion.mesh_fusion import (\n",
    "    fuse_meshes,\n",
    ")\n",
    "from superprimitive_fusion.mesh_fusion_utils import (\n",
    "    get_mesh_components,\n",
    ")"
   ]
  },
  {
   "cell_type": "code",
   "execution_count": 2,
   "id": "166bdeed",
   "metadata": {},
   "outputs": [
    {
     "name": "stdout",
     "output_type": "stream",
     "text": [
      "Getting the mustard-bottle\n",
      "Getting the table\n",
      "Getting the power-drill\n",
      "Getting the bleach\n",
      "Getting the pitcher\n",
      "Getting the mug\n",
      "Getting the extra-large-clamp\n"
     ]
    }
   ],
   "source": [
    "names = (\n",
    "    ('mustard-bottle', 'mustard-bottle.obj'),\n",
    "    ('table', 'table.obj'),\n",
    "    ('power-drill', 'power-drill.obj'),\n",
    "    ('bleach', 'bleach.obj'),\n",
    "    ('pitcher', 'pitcher.obj'),\n",
    "    ('mug', 'mug.obj'),\n",
    "    ('extra-large-clamp', 'extra-large-clamp-leaning.obj'),\n",
    ")\n",
    "\n",
    "gt_meshes = dict()\n",
    "for foldername,filename in names:\n",
    "    print(f'Getting the {foldername}')\n",
    "    \n",
    "    gt_mesh = o3d.io.read_triangle_mesh(f\"../data/posed-meshes/{foldername}/{filename}\", enable_post_processing=True)\n",
    "\n",
    "    bake_uv_to_vertex_colours(gt_mesh)\n",
    "    gt_mesh.compute_vertex_normals()\n",
    "\n",
    "    gt_meshes[foldername] = gt_mesh\n",
    "\n",
    "gt_mesh_list = list(gt_meshes.values())"
   ]
  },
  {
   "cell_type": "code",
   "execution_count": 3,
   "id": "e2e9b9a4",
   "metadata": {},
   "outputs": [],
   "source": [
    "centres = []\n",
    "for gt_meshname, gt_mesh in gt_meshes.items():\n",
    "    if gt_meshname == 'table':\n",
    "        continue\n",
    "    centres.append(gt_mesh.get_center())\n",
    "\n",
    "centres = np.vstack(centres)\n",
    "\n",
    "obj_centre = centres.mean(axis=0)"
   ]
  },
  {
   "cell_type": "code",
   "execution_count": 4,
   "id": "c75ac80d",
   "metadata": {},
   "outputs": [],
   "source": [
    "cam_centre_offset=np.array([0, 0, 0.2])\n",
    "look_at = obj_centre\n",
    "width_px: int = 360\n",
    "height_px: int = 240\n",
    "fov: float = 70.0\n",
    "k: float = 3.5\n",
    "max_normal_angle_deg = None"
   ]
  },
  {
   "cell_type": "code",
   "execution_count": 97,
   "id": "f063becb",
   "metadata": {},
   "outputs": [
    {
     "data": {
      "application/vnd.jupyter.widget-view+json": {
       "model_id": "fe4d90ae7626421a889ee83d6bf56d21",
       "version_major": 2,
       "version_minor": 0
      },
      "text/plain": [
       "Scanning:   0%|          | 0/10 [00:00<?, ?it/s]"
      ]
     },
     "metadata": {},
     "output_type": "display_data"
    },
    {
     "name": "stderr",
     "output_type": "stream",
     "text": [
      "/home/christopher/Documents/Code/project/src/superprimitive_fusion/scanner.py:560: RuntimeWarning: invalid value encountered in matmul\n",
      "  z = ((points - cam_centre) @ L).clip(min=0.0) # (H,W)\n"
     ]
    }
   ],
   "source": [
    "scans = []\n",
    "N = 10\n",
    "cam_centres = []\n",
    "for theta in tqdm(np.linspace(0,360/N * (N-1), N), desc='Scanning'):\n",
    "# for theta in np.linspace(30,180, N):\n",
    "# for theta in [70, 110]:\n",
    "    cc = cam_centre_offset + polar2cartesian(0.8, 30, theta)\n",
    "    cam_centres.append(cc)\n",
    "\n",
    "    object_meshes, object_weights = virtual_mesh_scan(\n",
    "        meshlist=gt_mesh_list,\n",
    "        cam_centre=cc,\n",
    "        look_at=look_at,\n",
    "        k=10,\n",
    "        max_normal_angle_deg=None,\n",
    "        linear_depth_sigma=2.5e-4,\n",
    "        quadrt_depth_sigma=2.5e-4,\n",
    "        sigma_floor=1e-4,\n",
    "        bias_k1=0.03,\n",
    "        # linear_depth_sigma=0,\n",
    "        # quadrt_depth_sigma=0,\n",
    "        # sigma_floor=0,\n",
    "        # bias_k1=0,\n",
    "    )\n",
    "    scans.append([(m,w) for m,w in zip(object_meshes, object_weights)])\n",
    "\n",
    "meshlists = [[scan_obj[0] for scan_obj in scan] for scan in scans]\n",
    "meshes = np.array(meshlists).flatten().tolist()"
   ]
  },
  {
   "cell_type": "code",
   "execution_count": 109,
   "id": "f4b22469",
   "metadata": {},
   "outputs": [],
   "source": [
    "# DEMO mesh scan colours\n",
    "diff_mesh_colours = distinct_colours(len(meshes))\n",
    "diff_col_meshes = []\n",
    "for i,mesh in enumerate(meshes):\n",
    "    if len(np.asarray(mesh.vertices)) == 0:\n",
    "        continue\n",
    "    col_mesh = copy.deepcopy(mesh)\n",
    "    col_mesh.compute_vertex_normals()\n",
    "    col_mesh.paint_uniform_color(diff_mesh_colours[i])\n",
    "    diff_col_meshes.append(col_mesh)\n",
    "\n",
    "meshes_nrm = copy.deepcopy(meshes)\n",
    "for mesh in meshes_nrm:\n",
    "    if len(np.asarray(mesh.vertices)) == 0:\n",
    "        continue\n",
    "    mesh.compute_vertex_normals()\n",
    "\n",
    "front = look_at - cam_centre_offset + polar2cartesian(0.8, 110, 90)\n",
    "front /= np.linalg.norm(front)\n",
    "o3d.visualization.draw_geometries(\n",
    "    geometry_list=diff_col_meshes,\n",
    "    lookat=look_at,\n",
    "    front=front,\n",
    "    up=np.array([0, 0, 1]),\n",
    "    zoom=0.11,\n",
    ")"
   ]
  },
  {
   "cell_type": "code",
   "execution_count": null,
   "id": "8fec301a",
   "metadata": {},
   "outputs": [
    {
     "data": {
      "application/vnd.jupyter.widget-view+json": {
       "model_id": "0ae703f215564abdb3f3c8d800402f11",
       "version_major": 2,
       "version_minor": 0
      },
      "text/plain": [
       "Scan:   0%|          | 0/9 [00:00<?, ?scan/s]"
      ]
     },
     "metadata": {},
     "output_type": "display_data"
    },
    {
     "data": {
      "application/vnd.jupyter.widget-view+json": {
       "model_id": "6f5071d6b0f542f1ab7c5bc80718ee0d",
       "version_major": 2,
       "version_minor": 0
      },
      "text/plain": [
       "Object:   0%|          | 0/7 [00:00<?, ?obj/s]"
      ]
     },
     "metadata": {},
     "output_type": "display_data"
    },
    {
     "name": "stdout",
     "output_type": "stream",
     "text": [
      "Scan 0 obj 0 is empty\n"
     ]
    },
    {
     "data": {
      "application/vnd.jupyter.widget-view+json": {
       "model_id": "65e8c8e51d88446989c8febb3b29b3a4",
       "version_major": 2,
       "version_minor": 0
      },
      "text/plain": [
       "Object:   0%|          | 0/7 [00:00<?, ?obj/s]"
      ]
     },
     "metadata": {},
     "output_type": "display_data"
    },
    {
     "data": {
      "application/vnd.jupyter.widget-view+json": {
       "model_id": "f94816f50fbd437f960d84f09ff1fc70",
       "version_major": 2,
       "version_minor": 0
      },
      "text/plain": [
       "Object:   0%|          | 0/7 [00:00<?, ?obj/s]"
      ]
     },
     "metadata": {},
     "output_type": "display_data"
    },
    {
     "data": {
      "application/vnd.jupyter.widget-view+json": {
       "model_id": "757b51e152394144b0e31d8b1fed81ef",
       "version_major": 2,
       "version_minor": 0
      },
      "text/plain": [
       "Object:   0%|          | 0/7 [00:00<?, ?obj/s]"
      ]
     },
     "metadata": {},
     "output_type": "display_data"
    },
    {
     "data": {
      "application/vnd.jupyter.widget-view+json": {
       "model_id": "65e84cb0147541649a5640192602c3ab",
       "version_major": 2,
       "version_minor": 0
      },
      "text/plain": [
       "Object:   0%|          | 0/7 [00:00<?, ?obj/s]"
      ]
     },
     "metadata": {},
     "output_type": "display_data"
    },
    {
     "data": {
      "application/vnd.jupyter.widget-view+json": {
       "model_id": "8b84d57be8234b7ba4b9f01e258b701f",
       "version_major": 2,
       "version_minor": 0
      },
      "text/plain": [
       "Object:   0%|          | 0/7 [00:00<?, ?obj/s]"
      ]
     },
     "metadata": {},
     "output_type": "display_data"
    },
    {
     "data": {
      "application/vnd.jupyter.widget-view+json": {
       "model_id": "f96b91998eb448d9881ce32eb11c9f2b",
       "version_major": 2,
       "version_minor": 0
      },
      "text/plain": [
       "Object:   0%|          | 0/7 [00:00<?, ?obj/s]"
      ]
     },
     "metadata": {},
     "output_type": "display_data"
    },
    {
     "name": "stdout",
     "output_type": "stream",
     "text": [
      "Scan 7 obj 3 is empty\n",
      "Scan 7 obj 5 is empty\n"
     ]
    },
    {
     "data": {
      "application/vnd.jupyter.widget-view+json": {
       "model_id": "f4246c7aab08463e8e737bfc39e8cde3",
       "version_major": 2,
       "version_minor": 0
      },
      "text/plain": [
       "Object:   0%|          | 0/7 [00:00<?, ?obj/s]"
      ]
     },
     "metadata": {},
     "output_type": "display_data"
    },
    {
     "name": "stdout",
     "output_type": "stream",
     "text": [
      "Scan 8 obj 0 is empty\n"
     ]
    },
    {
     "data": {
      "application/vnd.jupyter.widget-view+json": {
       "model_id": "9eb7b782941241e8ac05c48144181a1d",
       "version_major": 2,
       "version_minor": 0
      },
      "text/plain": [
       "Object:   0%|          | 0/7 [00:00<?, ?obj/s]"
      ]
     },
     "metadata": {},
     "output_type": "display_data"
    }
   ],
   "source": [
    "fused_scan = scans[0]\n",
    "N = len(scans[0])\n",
    "assert all(len(s) == N for s in scans), \"All scans must have the same length\"\n",
    "\n",
    "for t, scan in enumerate(tqdm(scans[1:], desc=\"Scan\", unit=\"scan\"), start=1):\n",
    "    fused_scan_meshes = []\n",
    "    fused_scan_weights = []\n",
    "    for obj_id in tqdm(range(N), desc=\"Object\", unit=\"obj\", position=1, leave=False):\n",
    "        mesh1, weights1 = fused_scan[obj_id]\n",
    "        mesh2, weights2 = scan[obj_id]\n",
    "\n",
    "        if len(np.asarray(mesh1.vertices)) == 0:\n",
    "            tqdm.write(f\"Scan {t-1} obj {obj_id} is empty\")\n",
    "            fused_obj_mesh, fused_obj_weights = mesh2, weights2\n",
    "        elif len(np.asarray(mesh2.vertices)) == 0:\n",
    "            tqdm.write(f\"Scan {t} obj {obj_id} is empty\")\n",
    "            fused_obj_mesh, fused_obj_weights = mesh1, weights1\n",
    "        else:\n",
    "            fused_obj_mesh, fused_obj_weights = fuse_meshes(\n",
    "                mesh1=mesh1, weights1=weights1,\n",
    "                mesh2=mesh2, weights2=weights2,\n",
    "                h_alpha=5.0, r_alpha=2.0,\n",
    "                nrm_shift_iters=3, nrm_smth_iters=1,\n",
    "                shift_all=False, fill_holes=False,\n",
    "            )\n",
    "        fused_scan_meshes.append(fused_obj_mesh)\n",
    "        fused_scan_weights.append(fused_obj_weights)\n",
    "\n",
    "    fused_scan = list(zip(fused_scan_meshes, fused_scan_weights))\n"
   ]
  },
  {
   "cell_type": "code",
   "execution_count": null,
   "id": "7ac7fbbf",
   "metadata": {},
   "outputs": [],
   "source": [
    "fused_mesh_result = [obj[0] for obj in fused_scan]"
   ]
  },
  {
   "cell_type": "code",
   "execution_count": 107,
   "id": "fcec63c1",
   "metadata": {},
   "outputs": [],
   "source": [
    "diff_mesh_colours = distinct_colours(len(fused_mesh_result))\n",
    "diff_col_meshes = []\n",
    "for i,mesh in enumerate(fused_mesh_result):\n",
    "    if len(np.asarray(mesh.vertices)) == 0:\n",
    "        continue\n",
    "    col_mesh = copy.deepcopy(mesh)\n",
    "    col_mesh.compute_vertex_normals()\n",
    "    col_mesh.paint_uniform_color(diff_mesh_colours[i])\n",
    "    diff_col_meshes.append(col_mesh)\n",
    "\n",
    "front = look_at - cam_centre_offset + polar2cartesian(0.8, 110, 90)\n",
    "front /= np.linalg.norm(front)\n",
    "o3d.visualization.draw_geometries(\n",
    "    geometry_list=fused_mesh_result,\n",
    "    lookat=look_at,\n",
    "    front=front,\n",
    "    up=np.array([0, 0, 1]),\n",
    "    zoom=0.15,\n",
    ")"
   ]
  }
 ],
 "metadata": {
  "kernelspec": {
   "display_name": "msc-project",
   "language": "python",
   "name": "python3"
  },
  "language_info": {
   "codemirror_mode": {
    "name": "ipython",
    "version": 3
   },
   "file_extension": ".py",
   "mimetype": "text/x-python",
   "name": "python",
   "nbconvert_exporter": "python",
   "pygments_lexer": "ipython3",
   "version": "3.12.2"
  }
 },
 "nbformat": 4,
 "nbformat_minor": 5
}
