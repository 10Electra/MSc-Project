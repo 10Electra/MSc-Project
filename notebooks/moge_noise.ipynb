{
 "cells": [
  {
   "cell_type": "code",
   "execution_count": 2,
   "id": "7b2bdbbf",
   "metadata": {},
   "outputs": [],
   "source": [
    "import copy\n",
    "import numpy as np\n",
    "import open3d as o3d\n",
    "import matplotlib.pyplot as plt\n",
    "\n",
    "\n",
    "from superprimitive_fusion.scanner import (\n",
    "    virtual_scan,\n",
    "    mesh_depth_image,\n",
    "    generate_rgbd_noise,\n",
    "    generate_rgbd_noise_moge_like,\n",
    "    clean_mesh_and_remap_weights,\n",
    "    virtual_mesh_scan,\n",
    ")\n",
    "from superprimitive_fusion.utils import (\n",
    "    bake_uv_to_vertex_colours,\n",
    "    polar2cartesian,\n",
    "    distinct_colours,\n",
    ")\n",
    "from superprimitive_fusion.mesh_fusion import (\n",
    "    fuse_meshes,\n",
    ")"
   ]
  },
  {
   "cell_type": "code",
   "execution_count": 3,
   "id": "50e40fdd",
   "metadata": {},
   "outputs": [
    {
     "name": "stdout",
     "output_type": "stream",
     "text": [
      "Getting the mustard-bottle\n",
      "Getting the table\n",
      "Getting the power-drill\n"
     ]
    }
   ],
   "source": [
    "names = (\n",
    "    ('mustard-bottle', 'mustard-bottle.obj'),\n",
    "    ('table', 'table.obj'),\n",
    "    ('power-drill', 'power-drill.obj'),\n",
    ")\n",
    "\n",
    "gt_meshes = dict()\n",
    "for foldername,filename in names:\n",
    "    print(f'Getting the {filename.split('.')[0]}')\n",
    "    \n",
    "    gt_mesh = o3d.io.read_triangle_mesh(f\"../data/posed-meshes/{foldername}/{filename}\", enable_post_processing=True)\n",
    "\n",
    "    bake_uv_to_vertex_colours(gt_mesh)\n",
    "    gt_mesh.compute_vertex_normals()\n",
    "\n",
    "    gt_meshes[foldername] = gt_mesh\n",
    "\n",
    "gt_mesh_list = list(gt_meshes.values())"
   ]
  },
  {
   "cell_type": "code",
   "execution_count": 4,
   "id": "0cc5660c",
   "metadata": {},
   "outputs": [],
   "source": [
    "centres = []\n",
    "for gt_meshname, gt_mesh in gt_meshes.items():\n",
    "    if gt_meshname == 'table':\n",
    "        continue\n",
    "    centres.append(gt_mesh.get_center())\n",
    "\n",
    "centres = np.vstack(centres)\n",
    "\n",
    "obj_centre = centres.mean(axis=0)"
   ]
  },
  {
   "cell_type": "code",
   "execution_count": 52,
   "id": "55e87be1",
   "metadata": {},
   "outputs": [],
   "source": [
    "cam_centre=obj_centre + polar2cartesian(0.6, 60, 90)\n",
    "look_at=obj_centre\n",
    "width_px: int = 360\n",
    "height_px: int = 240\n",
    "fov: float = 70.0\n",
    "k: float = 5\n",
    "max_normal_angle_deg = None"
   ]
  },
  {
   "cell_type": "code",
   "execution_count": 112,
   "id": "d11ec571",
   "metadata": {},
   "outputs": [
    {
     "name": "stderr",
     "output_type": "stream",
     "text": [
      "/var/folders/bs/3nkwh0fn3dlgwt0xc5n0pnrc0000gn/T/ipykernel_35142/2486481854.py:54: RuntimeWarning: invalid value encountered in matmul\n",
      "  depth = ((verts_noised - cam_centre_np) @ L).clip(min=0.0)\n"
     ]
    }
   ],
   "source": [
    "meshlist = gt_mesh_list\n",
    "width_px:               int=360\n",
    "height_px:              int=240\n",
    "fov:                    float=70\n",
    "constant_perlin_sigma:  float=2e-4  # constant perlin noise term\n",
    "linear_perlin_sigma:    float=3e-3  # linear depth term\n",
    "quadrt_perlin_sigma:    float=1e-3  # quadratic depth term\n",
    "perlin_octaves:         int=3\n",
    "seg_scale_std:          float=1e-4  # std of per-segment scale noise\n",
    "rot_std:                float=1e-4  # std of global rotation noise\n",
    "trn_std:                float=1e-3  # std of global translation noise\n",
    "sigma_floor:            float=0     # prevents infinite weights\n",
    "grazing_lambda:         float=1.0   # sigma multiplier at grazing angles; 0 disables\n",
    "seed = None\n",
    "include_depth_image:    bool=False\n",
    "\n",
    "cam_centre_np = np.asarray(cam_centre) if isinstance(cam_centre, tuple) else cam_centre\n",
    "look_at_np = np.asarray(look_at) if isinstance(look_at, tuple) else look_at\n",
    "up = [0, 0, 1]\n",
    "\n",
    "scan_result = virtual_scan(\n",
    "    meshlist,\n",
    "    cam_centre_np,\n",
    "    look_at_np,\n",
    "    width_px=width_px,\n",
    "    height_px=height_px,\n",
    "    fov=fov,\n",
    "    up=up,\n",
    ")\n",
    "\n",
    "look_dir = look_at_np - cam_centre_np\n",
    "look_dir = look_dir / (np.linalg.norm(look_dir) + 1e-12)\n",
    "\n",
    "verts_noised, weights = generate_rgbd_noise(\n",
    "    verts_img=scan_result['verts'],\n",
    "    cam_centre=cam_centre,\n",
    "    look_dir=look_dir,\n",
    "    normals_img=scan_result['norms'],\n",
    "    segmt_img=scan_result['segmt'],\n",
    "    \n",
    "    con_perlin=constant_perlin_sigma,\n",
    "    lin_perlin=linear_perlin_sigma,\n",
    "    qdr_perlin=quadrt_perlin_sigma,\n",
    "    oct_perlin=perlin_octaves,\n",
    "    seg_scale_std=seg_scale_std,\n",
    "    rot_std=rot_std,\n",
    "    trn_std=trn_std,\n",
    "    grazing_lambda=grazing_lambda,\n",
    "    sigma_floor=sigma_floor,\n",
    "    seed=seed,\n",
    ")\n",
    "\n",
    "L = look_dir / np.linalg.norm(look_dir)\n",
    "depth = ((verts_noised - cam_centre_np) @ L).clip(min=0.0)\n",
    "\n",
    "object_meshes, object_weights = mesh_depth_image(\n",
    "    points=verts_noised,\n",
    "    weights=weights,\n",
    "    vertex_colours=scan_result['vcols'],\n",
    "    look_dir=look_dir,\n",
    "    cam_centre=cam_centre_np,\n",
    "    z=depth,\n",
    "    segmentation=scan_result['segmt'],\n",
    "    normals=scan_result['norms'],\n",
    "    k=k,\n",
    "    max_normal_angle_deg=max_normal_angle_deg,\n",
    ")\n",
    "\n",
    "VN_flat = verts_noised.reshape(-1, 3).astype(np.float64, copy=False)\n",
    "valid_VN = np.isfinite(VN_flat).all(axis=1)\n",
    "valid_verts_noised = VN_flat[valid_VN]\n",
    "\n",
    "V_flat = scan_result['verts'].reshape(-1, 3).astype(np.float64, copy=False)\n",
    "valid_V = np.isfinite(V_flat).all(axis=1)\n",
    "valid_verts = V_flat[valid_V]\n",
    "\n",
    "pcd1 = o3d.geometry.PointCloud(o3d.utility.Vector3dVector(valid_verts))\n",
    "pcd1.paint_uniform_color(np.array([1, 0, 0]))\n",
    "pcd2 = o3d.geometry.PointCloud(o3d.utility.Vector3dVector(valid_verts_noised))\n",
    "pcd2.paint_uniform_color(np.array([0, 1, 0]))\n",
    "\n",
    "o3d.visualization.draw_geometries([pcd1, pcd2])"
   ]
  },
  {
   "cell_type": "code",
   "execution_count": 94,
   "id": "aebb2a9a",
   "metadata": {},
   "outputs": [],
   "source": [
    "for mesh in object_meshes:\n",
    "    mesh.compute_vertex_normals()\n",
    "o3d.visualization.draw_geometries(object_meshes)"
   ]
  },
  {
   "cell_type": "code",
   "execution_count": null,
   "id": "8c20b1bf",
   "metadata": {},
   "outputs": [],
   "source": [
    "\n",
    "# mesh_list, trimmed_weights_list = mesh_depth_image(\n",
    "#     points=verts_noised,\n",
    "#     weights=weights,\n",
    "#     vertex_colours=scan_result['vcols'],\n",
    "#     look_dir=look_dir,\n",
    "#     cam_centre=cam_centre,\n",
    "#     segmentation=scan_result['segmt'],\n",
    "#     normals=scan_result['norms'],\n",
    "#     k=3.5,\n",
    "#     max_normal_angle_deg=max_normal_angle_deg,\n",
    "# )\n",
    "\n",
    "# clean_mesh_list, clean_weights_list = [], []\n",
    "# for mesh,weights in zip(mesh_list, trimmed_weights_list):\n",
    "#     m, w = clean_mesh_and_remap_weights(mesh, weights)\n",
    "#     clean_mesh_list.append(m)\n",
    "#     clean_weights_list.append(w)\n",
    "\n",
    "# mesh_weight_list.append(tuple((m,w) for m,w in zip(clean_mesh_list, clean_weights_list)))"
   ]
  },
  {
   "cell_type": "code",
   "execution_count": 6,
   "id": "1cb0ef06",
   "metadata": {},
   "outputs": [
    {
     "name": "stdout",
     "output_type": "stream",
     "text": [
      "[TriangleMesh with 3903 points and 7552 triangles., TriangleMesh with 34687 points and 68282 triangles., TriangleMesh with 3523 points and 6710 triangles.]\n"
     ]
    }
   ],
   "source": [
    "ml0 = [mesh for mesh,weight in mesh_weight_list[0]]\n",
    "print(ml0)\n",
    "\n",
    "colours = distinct_colours(len(ml0))\n",
    "\n",
    "# Suppose your meshes are in a list called `meshes`\n",
    "coloured_meshes = []\n",
    "for i,mesh in enumerate(ml0):\n",
    "    m = copy.deepcopy(mesh)\n",
    "    m.paint_uniform_color(colours[i])\n",
    "    coloured_meshes.append(m)\n",
    "\n",
    "o3d.visualization.draw_geometries(coloured_meshes)"
   ]
  },
  {
   "cell_type": "code",
   "execution_count": 6,
   "id": "97e8f1fe",
   "metadata": {},
   "outputs": [
    {
     "data": {
      "image/png": "[encoded data removed]",
      "text/plain": [
       "<Figure size 640x480 with 1 Axes>"
      ]
     },
     "metadata": {},
     "output_type": "display_data"
    }
   ],
   "source": [
    "# _ = plt.hist((1/np.sqrt(weights[weights!=0])).reshape(-1),bins=100)\n",
    "w0 = np.concatenate([w for m,w in mesh_weight_list[0]])\n",
    "_ = plt.hist((1/np.sqrt(w0)).reshape(-1),bins=100)"
   ]
  },
  {
   "cell_type": "code",
   "execution_count": 7,
   "id": "3d8eff35",
   "metadata": {},
   "outputs": [],
   "source": [
    "shading = distinct_colours(len(mesh_weight_list[0]), s=0.5, v=0.99)\n",
    "\n",
    "pcd_list = []\n",
    "for i,mesh_weight in enumerate(mesh_weight_list[0]):\n",
    "    mesh, weight = mesh_weight\n",
    "    pcd = o3d.geometry.PointCloud(mesh.vertices)\n",
    "    nrm_wts = weight / weight.max()\n",
    "    colours_np = np.concatenate([\n",
    "        nrm_wts[:,None]             *shading[i,0],\n",
    "        1-nrm_wts[:,None]           *shading[i,1],\n",
    "        np.ones((len(nrm_wts),1))   *shading[i,2]], axis=1)\n",
    "    pcd.colors = o3d.utility.Vector3dVector(colours_np)\n",
    "    pcd_list.append(pcd)\n",
    "o3d.visualization.draw_geometries(pcd_list)"
   ]
  },
  {
   "cell_type": "code",
   "execution_count": null,
   "id": "eed57345",
   "metadata": {},
   "outputs": [],
   "source": [
    "m0, w0 = mesh_weight_list[0][0]\n",
    "m1, w1 = mesh_weight_list[1][0]\n",
    "\n",
    "fused_mesh, fused_weight = fuse_meshes(\n",
    "    mesh1           = m0,\n",
    "    weights1        = w0,\n",
    "    mesh2           = m1,\n",
    "    weights2        = w1,\n",
    "    h_alpha         = 2.5,\n",
    "    r_alpha         = 2.0,\n",
    "    nrm_shift_iters = 2,\n",
    "    nrm_smth_iters  = 1,\n",
    "    shift_all       = False,\n",
    "    fill_holes      = False,\n",
    ")"
   ]
  },
  {
   "cell_type": "code",
   "execution_count": 13,
   "id": "5d5ac251",
   "metadata": {},
   "outputs": [
    {
     "name": "stdout",
     "output_type": "stream",
     "text": [
      "3\n"
     ]
    }
   ],
   "source": [
    "print(len(mesh_weight_list[0]))"
   ]
  },
  {
   "cell_type": "code",
   "execution_count": 22,
   "id": "171c6c7a",
   "metadata": {},
   "outputs": [],
   "source": [
    "o3d.visualization.draw_geometries([fused_mesh])"
   ]
  },
  {
   "cell_type": "code",
   "execution_count": null,
   "id": "d3b64d0c",
   "metadata": {},
   "outputs": [
    {
     "name": "stdout",
     "output_type": "stream",
     "text": [
      "[WARN; vertex smoother] Using w_density=1.0 as sigma_rho < rho_floor.\n",
      "[WARN; vertex smoother] Using w_density=1.0 as sigma_rho < rho_floor.\n",
      "[WARN; vertex smoother] Using w_density=1.0 as sigma_rho < rho_floor.\n",
      "[WARN; vertex smoother] Using w_density=1.0 as sigma_rho < rho_floor.\n"
     ]
    }
   ],
   "source": [
    "N = len(mesh_weight_list[0]) # Number of objects in the scene\n",
    "assert len(mesh_weight_list[0]) == len(mesh_weight_list[1]) # Scans should have the same number of objects\n",
    "\n",
    "fused_mesh_weights = []\n",
    "for obj_id in range(N):\n",
    "    \n",
    "    fused_mesh, fused_weight = fuse_meshes(\n",
    "        mesh1           = mesh_weight_list[0][obj_id][0],\n",
    "        weights1        = mesh_weight_list[0][obj_id][1],\n",
    "        mesh2           = mesh_weight_list[1][obj_id][0],\n",
    "        weights2        = mesh_weight_list[1][obj_id][1],\n",
    "        h_alpha         = 2.5,\n",
    "        r_alpha         = 2.0,\n",
    "        nrm_shift_iters = 2,\n",
    "        nrm_smth_iters  = 1,\n",
    "        shift_all       = False,\n",
    "        fill_holes      = False,\n",
    "    )\n",
    "    \n",
    "    fused_mesh_weights.append((fused_mesh, fused_weight))"
   ]
  },
  {
   "cell_type": "code",
   "execution_count": 23,
   "id": "02672b4c",
   "metadata": {},
   "outputs": [],
   "source": [
    "fused_meshes = [mw[0] for mw in fused_mesh_weights]\n",
    "o3d.visualization.draw_geometries(fused_meshes)"
   ]
  }
 ],
 "metadata": {
  "kernelspec": {
   "display_name": "msc-project",
   "language": "python",
   "name": "python3"
  },
  "language_info": {
   "codemirror_mode": {
    "name": "ipython",
    "version": 3
   },
   "file_extension": ".py",
   "mimetype": "text/x-python",
   "name": "python",
   "nbconvert_exporter": "python",
   "pygments_lexer": "ipython3",
   "version": "3.12.2"
  }
 },
 "nbformat": 4,
 "nbformat_minor": 5
}
