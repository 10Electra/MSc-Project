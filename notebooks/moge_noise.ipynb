{
 "cells": [
  {
   "cell_type": "code",
   "execution_count": 1,
   "id": "7b2bdbbf",
   "metadata": {},
   "outputs": [],
   "source": [
    "import numpy as np\n",
    "import open3d as o3d\n",
    "import matplotlib.pyplot as plt\n",
    "\n",
    "\n",
    "from superprimitive_fusion.scanner import (\n",
    "    virtual_scan,\n",
    "    mesh_depth_image,\n",
    ")\n",
    "from superprimitive_fusion.utils import (\n",
    "    bake_uv_to_vertex_colours,\n",
    "    polar2cartesian,\n",
    ")"
   ]
  },
  {
   "cell_type": "code",
   "execution_count": null,
   "id": "8ed9d1e1",
   "metadata": {},
   "outputs": [],
   "source": [
    "import numpy as np\n",
    "\n",
    "def generate_rgbd_noise(\n",
    "    verts_img: np.ndarray,                 # (H,W,3) or (N,3); may contain inf/NaN\n",
    "    cam_centre: np.ndarray | tuple,\n",
    "    look_dir:   np.ndarray | tuple,\n",
    "    normals_img: np.ndarray | None = None, # same layout as verts if provided\n",
    "    *,\n",
    "    # axial noise model: sigma_z = (alpha*d + beta*d^2) * (1 + lambda*(1-cos(theta)))\n",
    "    alpha: float = 2e-4,\n",
    "    beta:  float = 2e-4,\n",
    "    grazing_lambda: float = 1.0,\n",
    "    sigma_floor: float = 1e-4,            # meters; avoid huge weights\n",
    "    # optional low-frequency radial bias (kept out of sigma)\n",
    "    bias_k1: float = 0.0,                 # 0 disables; try 0.01–0.02 for mild bow\n",
    "    fov_deg: float = 70.0,\n",
    "    seed: int | None = None,\n",
    "):\n",
    "    \"\"\"\n",
    "    Returns:\n",
    "      verts_noised : same shape as verts_img, with inf/NaN preserved at original pixels\n",
    "      weights      : (H,W) if input is (H,W,3), else (N,), precision along ray; 0 for invalid\n",
    "    \"\"\"\n",
    "    rng = np.random.default_rng(seed)\n",
    "\n",
    "    V = np.asarray(verts_img)\n",
    "    orig_dtype = V.dtype\n",
    "    is_image = (V.ndim == 3)\n",
    "\n",
    "    # Flatten to (N,3) view; we'll write back into a copy\n",
    "    V_flat = V.reshape(-1, 3).astype(np.float64, copy=False)\n",
    "\n",
    "    # A vertex is valid iff all 3 components are finite\n",
    "    valid = np.isfinite(V_flat).all(axis=1)\n",
    "    if not np.any(valid):\n",
    "        # Nothing to do\n",
    "        weights = np.zeros(V.shape[:2] if is_image else (V_flat.shape[0],), dtype=np.float32)\n",
    "        return V.copy(), weights\n",
    "\n",
    "    Vv = V_flat[valid]\n",
    "\n",
    "    # Normals: optional, aligned to verts; select the same valid subset\n",
    "    if normals_img is not None:\n",
    "        N_in = np.asarray(normals_img).reshape(-1, 3)\n",
    "        Nv = N_in[valid].astype(np.float64, copy=False)\n",
    "    else:\n",
    "        Nv = None\n",
    "\n",
    "    # Camera vectors\n",
    "    C = np.asarray(cam_centre, dtype=np.float64).reshape(1, 3)\n",
    "    L = np.asarray(look_dir,   dtype=np.float64).reshape(3)\n",
    "    L /= (np.linalg.norm(L) + 1e-12)\n",
    "\n",
    "    # Geometry for valid points\n",
    "    R  = Vv - C                             # camera -> point\n",
    "    d  = R @ L                              # depth along camera forward\n",
    "    d  = np.maximum(d, 0.0)\n",
    "    Rn = np.linalg.norm(R, axis=1, keepdims=True)\n",
    "    ray_dir = R / np.maximum(Rn, 1e-12)     # per-pixel viewing ray (unit)\n",
    "\n",
    "    # Grazing term\n",
    "    if Nv is not None:\n",
    "        Nv = Nv / (np.linalg.norm(Nv, axis=1, keepdims=True) + 1e-12)\n",
    "        cos_th = np.abs(np.sum(Nv * (-ray_dir), axis=1))\n",
    "    else:\n",
    "        cos_th = np.abs(ray_dir @ (-L))\n",
    "    grazing_boost = 1.0 + grazing_lambda * (1.0 - cos_th)\n",
    "\n",
    "    # Axial std dev (meters)\n",
    "    sigma_z = (alpha * d + beta * (d ** 2)) * grazing_boost\n",
    "    sigma_z = np.maximum(sigma_z, sigma_floor)\n",
    "\n",
    "    # Sample zero-mean axial noise\n",
    "    n_ax = rng.normal(0.0, sigma_z)\n",
    "    disp = n_ax[:, None] * ray_dir\n",
    "\n",
    "    # Optional simple radial bias (kept out of sigma/weights)\n",
    "    if bias_k1 != 0.0:\n",
    "        # Build (right, up) camera basis\n",
    "        up_guess = np.array([0.0, 1.0, 0.0], dtype=np.float64)\n",
    "        if abs(np.dot(up_guess, L)) > 0.95:\n",
    "            up_guess = np.array([0.0, 0.0, 1.0], dtype=np.float64)\n",
    "        right = np.cross(L, up_guess); right /= (np.linalg.norm(right) + 1e-12)\n",
    "        up    = np.cross(right, L)\n",
    "\n",
    "        denom = d + 1e-12\n",
    "        x = (R @ right) / denom\n",
    "        y = (R @ up)    / denom\n",
    "        scale = np.tan(np.deg2rad(fov_deg) * 0.5)\n",
    "        xn, yn = x / scale, y / scale\n",
    "        r2 = xn * xn + yn * yn\n",
    "\n",
    "        disp += (bias_k1 * d * r2)[:, None] * ray_dir\n",
    "\n",
    "    # Write back into a copy, preserving invalid pixels as-is (inf/NaN)\n",
    "    V_out = V_flat.copy()\n",
    "    V_out[valid] = (Vv + disp).astype(orig_dtype, copy=False)\n",
    "    V_out = V_out.reshape(V.shape)\n",
    "\n",
    "    # Per-vertex precision from axial jitter only; 0 for invalid\n",
    "    w = np.zeros(V_flat.shape[0], dtype=np.float32)\n",
    "    w[valid] = (1.0 / (sigma_z ** 2)).astype(np.float32)\n",
    "\n",
    "    weights = w.reshape(V.shape[:2] if is_image else (-1,))\n",
    "    return V_out, weights\n"
   ]
  },
  {
   "cell_type": "code",
   "execution_count": 4,
   "id": "50e40fdd",
   "metadata": {},
   "outputs": [
    {
     "name": "stdout",
     "output_type": "stream",
     "text": [
      "Getting the mustard-bottle\n",
      "Getting the table\n",
      "Getting the power-drill\n"
     ]
    }
   ],
   "source": [
    "names = (\n",
    "    ('mustard-bottle', 'mustard-bottle.obj'),\n",
    "    ('table', 'table.obj'),\n",
    "    ('power-drill', 'power-drill.obj'),\n",
    ")\n",
    "\n",
    "meshes = dict()\n",
    "for foldername,filename in names:\n",
    "    print(f'Getting the {filename.split('.')[0]}')\n",
    "    \n",
    "    mesh = o3d.io.read_triangle_mesh(f\"../data/posed-meshes/{foldername}/{filename}\", enable_post_processing=True)\n",
    "\n",
    "    bake_uv_to_vertex_colours(mesh)\n",
    "    mesh.compute_vertex_normals()\n",
    "\n",
    "    meshes[foldername] = mesh\n",
    "\n",
    "meshlist = list(meshes.values())"
   ]
  },
  {
   "cell_type": "code",
   "execution_count": 5,
   "id": "0cc5660c",
   "metadata": {},
   "outputs": [],
   "source": [
    "centres = []\n",
    "for meshname, mesh in meshes.items():\n",
    "    if meshname == 'table':\n",
    "        continue\n",
    "    centres.append(mesh.get_center())\n",
    "\n",
    "centres = np.vstack(centres)\n",
    "\n",
    "obj_centre = centres.mean(axis=0)"
   ]
  },
  {
   "cell_type": "code",
   "execution_count": 6,
   "id": "55e87be1",
   "metadata": {},
   "outputs": [],
   "source": [
    "mesh: o3d.geometry.TriangleMesh = meshlist\n",
    "cam_centre=polar2cartesian(1.0, 30, 90)\n",
    "look_at=obj_centre\n",
    "width_px: int = 360\n",
    "height_px: int = 240\n",
    "fov: float = 70.0\n",
    "k: float = 3.5\n",
    "max_normal_angle_deg = None"
   ]
  },
  {
   "cell_type": "code",
   "execution_count": 7,
   "id": "e17c75bd",
   "metadata": {},
   "outputs": [
    {
     "data": {
      "text/plain": [
       "<matplotlib.colorbar.Colorbar at 0x300a9d730>"
      ]
     },
     "execution_count": 7,
     "metadata": {},
     "output_type": "execute_result"
    },
    {
     "data": {
      "image/png": "[encoded data removed]",
      "text/plain": [
       "<Figure size 640x480 with 2 Axes>"
      ]
     },
     "metadata": {},
     "output_type": "display_data"
    }
   ],
   "source": [
    "mesh_scans = list()\n",
    "for i in range(2):\n",
    "    scan_result = virtual_scan(\n",
    "        meshlist,\n",
    "        cam_centre,\n",
    "        look_at,\n",
    "        width_px=width_px,\n",
    "        height_px=height_px,\n",
    "        fov=fov,\n",
    "    )\n",
    "\n",
    "    look_dir   = obj_centre - cam_centre\n",
    "    look_dir   = look_dir / np.linalg.norm(look_dir)\n",
    "\n",
    "    verts_noised, weights = generate_rgbd_noise(\n",
    "        verts_img=scan_result['verts'],\n",
    "        cam_centre=cam_centre,\n",
    "        look_dir=look_dir,\n",
    "        normals_img=scan_result['norms'],\n",
    "        \n",
    "        alpha = 0.0002,         # linear depth term (≈ 2% of depth)\n",
    "        beta  = 0.0002,         # quadratic depth term\n",
    "        grazing_lambda = 1.0,   # boosts σ at grazing angles; 0 disables\n",
    "        sigma_floor = 0.00015,  # prevents infinite weights\n",
    "        # --- optional low-frequency radial bias (image-plane) ---\n",
    "        bias_k1 =  0.0,         # e.g., 0.01–0.03 for mild bowing\n",
    "        fov_deg = 70.0,         # only needed if bias_k1 != 0\n",
    "        seed = None,\n",
    "    )\n",
    "\n",
    "    # pcd1 = o3d.geometry.PointCloud(o3d.utility.Vector3dVector(valid_verts))\n",
    "    # pcd1.paint_uniform_color(np.array([1, 0, 0]))\n",
    "    # pcd2 = o3d.geometry.PointCloud(o3d.utility.Vector3dVector(valid_verts_noised))\n",
    "    # pcd2.paint_uniform_color(np.array([0, 1, 0]))\n",
    "\n",
    "    # o3d.visualization.draw_geometries([pcd1, pcd2])\n",
    "\n",
    "    mesh, trimmed_weights = mesh_depth_image(\n",
    "        points=verts_noised,\n",
    "        weights=weights,\n",
    "        vertex_colours=scan_result['vcols'],\n",
    "        cam_centre=cam_centre,\n",
    "        segmentation=scan_result['segmt'],\n",
    "        normals=scan_result['norms'],\n",
    "        k=3.5,\n",
    "        max_normal_angle_deg=max_normal_angle_deg,\n",
    "    )\n",
    "\n",
    "    mesh.remove_non_manifold_edges()\n",
    "    mesh.remove_unreferenced_vertices()\n",
    "    mesh.remove_degenerate_triangles()\n",
    "    mesh.remove_duplicated_triangles()\n",
    "    mesh.compute_vertex_normals()\n",
    "\n",
    "    mesh_scans.append((mesh, trimmed_weights))\n",
    "    \n",
    "\n",
    "\n",
    "# plt.title('Uncertainty')\n",
    "# plt.imshow(np.flip(1/np.sqrt(weights)))\n",
    "plt.title('Confidence')\n",
    "plt.imshow(np.flip(weights))\n",
    "plt.colorbar()"
   ]
  },
  {
   "cell_type": "code",
   "execution_count": 8,
   "id": "97e8f1fe",
   "metadata": {},
   "outputs": [
    {
     "data": {
      "image/png": "[encoded data removed]",
      "text/plain": [
       "<Figure size 640x480 with 1 Axes>"
      ]
     },
     "metadata": {},
     "output_type": "display_data"
    }
   ],
   "source": [
    "# _ = plt.hist((1/np.sqrt(weights[weights!=0])).reshape(-1),bins=100)\n",
    "_ = plt.hist((1/np.sqrt(trimmed_weights[trimmed_weights!=0])).reshape(-1),bins=100)"
   ]
  },
  {
   "cell_type": "code",
   "execution_count": 9,
   "id": "12db0548",
   "metadata": {},
   "outputs": [],
   "source": [
    "o3d.visualization.draw_geometries([mesh_scan[0] for mesh_scan in mesh_scans])"
   ]
  },
  {
   "cell_type": "code",
   "execution_count": 10,
   "id": "3d8eff35",
   "metadata": {},
   "outputs": [],
   "source": [
    "pcd = o3d.geometry.PointCloud(mesh.vertices)\n",
    "nrm_wts = trimmed_weights / trimmed_weights.max()\n",
    "colours_np = np.concatenate([nrm_wts[:,None], 1-nrm_wts[:,None], np.zeros((len(nrm_wts),1))], axis=1)\n",
    "colours_np = np.concatenate([\n",
    "    nrm_wts[:,None],\n",
    "    1-nrm_wts[:,None],\n",
    "    # 1-nrm_wts[:,None],\n",
    "    np.ones((len(nrm_wts),1))], axis=1)\n",
    "pcd.colors = o3d.utility.Vector3dVector(colours_np)\n",
    "o3d.visualization.draw_geometries([pcd])"
   ]
  },
  {
   "cell_type": "code",
   "execution_count": 11,
   "id": "d5bfdbc8",
   "metadata": {},
   "outputs": [
    {
     "data": {
      "text/plain": [
       "(84213,)"
      ]
     },
     "execution_count": 11,
     "metadata": {},
     "output_type": "execute_result"
    }
   ],
   "source": [
    "weights1 = mesh_scans[0][1]\n",
    "weights2 = mesh_scans[1][1]\n",
    "\n",
    "np.concatenate((weights1, weights2)).shape"
   ]
  },
  {
   "cell_type": "code",
   "execution_count": 14,
   "id": "d3b64d0c",
   "metadata": {},
   "outputs": [
    {
     "name": "stderr",
     "output_type": "stream",
     "text": [
      "/Users/christopher/Documents/Coding/Imperial/MSc Project/MSc-Project/src/superprimitive_fusion/mesh_fusion_utils.py:352: RuntimeWarning: divide by zero encountered in divide\n",
      "  w_normal = np.exp(-(1.0 - cos_theta) / (2.0 * sigma_c))\n"
     ]
    },
    {
     "name": "stdout",
     "output_type": "stream",
     "text": [
      "[WARN; vertex smoother] Using w_density=1.0 as sigma_rho < rho_floor.\n",
      "[WARN; vertex smoother] Using w_density=1.0 as sigma_rho < rho_floor.\n",
      "[WARN; vertex smoother] Using w_density=1.0 as sigma_rho < rho_floor.\n",
      "[WARN; vertex smoother] Using w_density=1.0 as sigma_rho < rho_floor.\n",
      "[WARN; vertex smoother] Using w_density=1.0 as sigma_rho < rho_floor.\n",
      "[WARN; vertex smoother] Using w_density=1.0 as sigma_rho < rho_floor.\n"
     ]
    }
   ],
   "source": [
    "from superprimitive_fusion.mesh_fusion import (\n",
    "    fuse_meshes,\n",
    ")\n",
    "\n",
    "fused_mesh, fused_weights = fuse_meshes(\n",
    "    mesh1           = mesh_scans[0][0],\n",
    "    weights1        = mesh_scans[0][1],\n",
    "    mesh2           = mesh_scans[1][0],\n",
    "    weights2        = mesh_scans[1][1],\n",
    "    h_alpha         = 2.5,\n",
    "    r_alpha         = 2.0,\n",
    "    nrm_shift_iters = 2,\n",
    "    nrm_smth_iters  = 1,\n",
    "    shift_all       = False,\n",
    "    fill_holes      = False,\n",
    ")"
   ]
  },
  {
   "cell_type": "code",
   "execution_count": 15,
   "id": "732a684b",
   "metadata": {},
   "outputs": [],
   "source": [
    "o3d.visualization.draw_geometries([fused_mesh])"
   ]
  }
 ],
 "metadata": {
  "kernelspec": {
   "display_name": "msc-project",
   "language": "python",
   "name": "python3"
  },
  "language_info": {
   "codemirror_mode": {
    "name": "ipython",
    "version": 3
   },
   "file_extension": ".py",
   "mimetype": "text/x-python",
   "name": "python",
   "nbconvert_exporter": "python",
   "pygments_lexer": "ipython3",
   "version": "3.12.2"
  }
 },
 "nbformat": 4,
 "nbformat_minor": 5
}
