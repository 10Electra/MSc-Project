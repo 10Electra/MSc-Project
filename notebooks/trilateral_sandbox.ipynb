{
 "cells": [
  {
   "cell_type": "code",
   "execution_count": 7,
   "id": "a774a481",
   "metadata": {},
   "outputs": [],
   "source": [
    "import numpy as np\n",
    "import open3d as o3d\n",
    "from sklearn.cluster import MeanShift\n",
    "import trimesh\n",
    "from utils import trimesh_to_o3d, o3d_to_trimesh"
   ]
  },
  {
   "cell_type": "code",
   "execution_count": 8,
   "id": "eb472b01",
   "metadata": {},
   "outputs": [],
   "source": [
    "def local_spacing(pcd, k=25):\n",
    "    # estimate D(p) for every point\n",
    "    tree = o3d.geometry.KDTreeFlann(pcd)\n",
    "    D = np.empty(len(pcd.points))\n",
    "    for idx, p in enumerate(pcd.points):\n",
    "        _, idxs, dists = tree.search_knn_vector_3d(p, k)\n",
    "        D[idx] = np.sqrt(dists[-1])        # r = max distance\n",
    "    return D\n",
    "\n",
    "def trilateral_shift(pcd, scan_id, D, alpha=1.0, sigma_factor=1.0):\n",
    "    pts = np.asarray(pcd.points);  nrm = np.asarray(pcd.normals)\n",
    "    new_pts = pts.copy()\n",
    "    for i, (p, n, d) in enumerate(zip(pts, nrm, D)):\n",
    "        r = alpha * d;  h = 2*alpha*d\n",
    "        cyl_mask = np.logical_and.reduce([\n",
    "            np.linalg.norm(np.cross(pts - p, n), axis=1) < r,   # radial\n",
    "            np.abs((pts - p) @ n) < h/2,                        # height\n",
    "            scan_id != scan_id[i]                               # other scan\n",
    "        ])\n",
    "        idx = np.where(cyl_mask)[0]\n",
    "        if idx.size == 0: continue\n",
    "        P = pts[idx]; N = nrm[idx]\n",
    "        ri = np.linalg.norm(P - p - ((P - p) @ n)[:,None]*n, axis=1)\n",
    "        hi = (P - p) @ n\n",
    "        rho = 1./(D[idx]**2); rho_max = rho.max()\n",
    "        w = np.exp(-ri**2/(2*r**2*sigma_factor**2)) \\\n",
    "            * np.exp(-hi**2/(2*h**2*sigma_factor**2)) \\\n",
    "            * np.exp(-(rho-rho_max)**2/(2*(rho_max-rho.min())**2*sigma_factor**2))\n",
    "        shift = (w*hi).sum() / (w.sum() + 1e-12)\n",
    "        new_pts[i] = p + shift * n\n",
    "    pcd.points = o3d.utility.Vector3dVector(new_pts)\n",
    "    return pcd"
   ]
  },
  {
   "cell_type": "code",
   "execution_count": 11,
   "id": "ad56c019",
   "metadata": {},
   "outputs": [],
   "source": [
    "mesh1 = trimesh.load_mesh('meshes/bottle_1.ply')\n",
    "mesh2 = trimesh.load_mesh('meshes/bottle_2.ply')\n",
    "\n",
    "mesh1_o3d = trimesh_to_o3d(mesh1)\n",
    "mesh2_o3d = trimesh_to_o3d(mesh2)\n",
    "\n",
    "pcd_1 = o3d.geometry.PointCloud()\n",
    "pcd_2 = o3d.geometry.PointCloud()\n",
    "pcd_1.points = mesh1_o3d.vertices\n",
    "pcd_2.points = mesh2_o3d.vertices"
   ]
  },
  {
   "cell_type": "code",
   "execution_count": 6,
   "id": "d2035d90",
   "metadata": {},
   "outputs": [
    {
     "name": "stdout",
     "output_type": "stream",
     "text": [
      "[0.00809954 0.00878236 0.01072629 ... 0.00753484 0.00774001 0.00787874]\n"
     ]
    }
   ],
   "source": [
    "print(local_spacing(pcd_1))"
   ]
  }
 ],
 "metadata": {
  "kernelspec": {
   "display_name": "project",
   "language": "python",
   "name": "python3"
  },
  "language_info": {
   "codemirror_mode": {
    "name": "ipython",
    "version": 3
   },
   "file_extension": ".py",
   "mimetype": "text/x-python",
   "name": "python",
   "nbconvert_exporter": "python",
   "pygments_lexer": "ipython3",
   "version": "3.10.18"
  }
 },
 "nbformat": 4,
 "nbformat_minor": 5
}
