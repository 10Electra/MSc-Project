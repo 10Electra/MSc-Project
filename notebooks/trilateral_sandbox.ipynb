{
 "cells": [
  {
   "cell_type": "code",
   "execution_count": null,
   "id": "a774a481",
   "metadata": {},
   "outputs": [
    {
     "name": "stdout",
     "output_type": "stream",
     "text": [
      "Jupyter environment detected. Enabling Open3D WebVisualizer.\n",
      "[Open3D INFO] WebRTC GUI backend enabled.\n",
      "[Open3D INFO] WebRTCWindowSystem: HTTP handshake server disabled.\n"
     ]
    },
    {
     "ename": "ModuleNotFoundError",
     "evalue": "No module named 'superprimitive_fusion'",
     "output_type": "error",
     "traceback": [
      "\u001b[0;31m---------------------------------------------------------------------------\u001b[0m",
      "\u001b[0;31mModuleNotFoundError\u001b[0m                       Traceback (most recent call last)",
      "Cell \u001b[0;32mIn[1], line 4\u001b[0m\n\u001b[1;32m      2\u001b[0m \u001b[38;5;28;01mimport\u001b[39;00m\u001b[38;5;250m \u001b[39m\u001b[38;5;21;01mopen3d\u001b[39;00m\u001b[38;5;250m \u001b[39m\u001b[38;5;28;01mas\u001b[39;00m\u001b[38;5;250m \u001b[39m\u001b[38;5;21;01mo3d\u001b[39;00m\n\u001b[1;32m      3\u001b[0m \u001b[38;5;28;01mimport\u001b[39;00m\u001b[38;5;250m \u001b[39m\u001b[38;5;21;01mtrimesh\u001b[39;00m\n\u001b[0;32m----> 4\u001b[0m \u001b[38;5;28;01mfrom\u001b[39;00m\u001b[38;5;250m \u001b[39m\u001b[38;5;21;01msuperprimitive_fusion\u001b[39;00m\u001b[38;5;21;01m.\u001b[39;00m\u001b[38;5;21;01mutils\u001b[39;00m\u001b[38;5;250m \u001b[39m\u001b[38;5;28;01mimport\u001b[39;00m (\n\u001b[1;32m      5\u001b[0m     trimesh_to_o3d,\n\u001b[1;32m      6\u001b[0m     smooth_normals,\n\u001b[1;32m      7\u001b[0m     calc_local_spacing,\n\u001b[1;32m      8\u001b[0m     find_cyl_neighbours,\n\u001b[1;32m      9\u001b[0m     compute_overlap_set,\n\u001b[1;32m     10\u001b[0m     trilateral_shift,\n\u001b[1;32m     11\u001b[0m     get_o3d_colours_from_trimesh,\n\u001b[1;32m     12\u001b[0m     find_boundary_edges,\n\u001b[1;32m     13\u001b[0m     topological_trim,\n\u001b[1;32m     14\u001b[0m     merge_nearby_clusters,\n\u001b[1;32m     15\u001b[0m )\n",
      "\u001b[0;31mModuleNotFoundError\u001b[0m: No module named 'superprimitive_fusion'"
     ]
    }
   ],
   "source": [
    "import numpy as np\n",
    "import open3d as o3d\n",
    "import trimesh\n",
    "from superprimitive_fusion.utils import (\n",
    "    trimesh_to_o3d,\n",
    "    get_o3d_colours_from_trimesh,\n",
    ")\n",
    "from superprimitive_fusion.mesh_fusion_utils import (\n",
    "    smooth_normals,\n",
    "    calc_local_spacing,\n",
    "    find_cyl_neighbours,\n",
    "    compute_overlap_set,\n",
    "    trilateral_shift,\n",
    "    find_boundary_edges,\n",
    "    topological_trim,\n",
    "    merge_nearby_clusters,\n",
    ")"
   ]
  },
  {
   "cell_type": "markdown",
   "id": "fc8db76a",
   "metadata": {},
   "source": [
    "### Load meshes and extract data"
   ]
  },
  {
   "cell_type": "code",
   "execution_count": 3,
   "id": "ad56c019",
   "metadata": {},
   "outputs": [],
   "source": [
    "mesh1 = trimesh.load_mesh('meshes/bottle_1.ply')\n",
    "mesh2 = trimesh.load_mesh('meshes/bottle_2.ply')\n",
    "\n",
    "mesh1_o3d = trimesh_to_o3d(mesh1)\n",
    "mesh2_o3d = trimesh_to_o3d(mesh2)"
   ]
  },
  {
   "cell_type": "code",
   "execution_count": 4,
   "id": "97b638ac",
   "metadata": {},
   "outputs": [],
   "source": [
    "points1 = np.asarray(mesh1.vertices)\n",
    "points2 = np.asarray(mesh2.vertices)\n",
    "pointclouds = (points1, points2)\n",
    "points = np.vstack(pointclouds)\n",
    "\n",
    "colours1 = mesh1.visual.vertex_colors\n",
    "colours2 = mesh2.visual.vertex_colors\n",
    "colours = np.concat([colours1, colours2])\n",
    "\n",
    "tree = o3d.geometry.KDTreeFlann(points.T)\n",
    "\n",
    "mesh1_o3d.compute_vertex_normals()\n",
    "mesh2_o3d.compute_vertex_normals()\n",
    "\n",
    "normals1 = np.asarray(mesh1_o3d.vertex_normals)\n",
    "normals2 = np.asarray(mesh2_o3d.vertex_normals)\n",
    "normals = np.concat([normals1, normals2], axis=0)\n",
    "\n",
    "scan_ids = np.concat([np.ones(len(these_points)) * i for (i, these_points) in enumerate(pointclouds)])"
   ]
  },
  {
   "cell_type": "markdown",
   "id": "5bcdfb7d",
   "metadata": {},
   "source": [
    "#### Illustrate overlaps and mismatches"
   ]
  },
  {
   "cell_type": "code",
   "execution_count": 4,
   "id": "62afbf8b",
   "metadata": {},
   "outputs": [
    {
     "data": {
      "text/plain": [
       "TriangleMesh with 3144 points and 6071 triangles."
      ]
     },
     "execution_count": 4,
     "metadata": {},
     "output_type": "execute_result"
    }
   ],
   "source": [
    "mesh1_o3d.paint_uniform_color(np.array([0.9, 0, 0]))\n",
    "mesh2_o3d.paint_uniform_color(np.array([0, 0.9 , 0]))\n",
    "\n",
    "# o3d.visualization.draw_geometries([mesh1_o3d, mesh2_o3d])"
   ]
  },
  {
   "cell_type": "code",
   "execution_count": 5,
   "id": "34419e22",
   "metadata": {},
   "outputs": [],
   "source": [
    "pcd = o3d.geometry.PointCloud()\n",
    "pcd.points = o3d.utility.Vector3dVector(points)\n",
    "\n",
    "redgreen = np.vstack([\n",
    "    np.tile([0.9, 0, 0], (points1.shape[0], 1)),\n",
    "    np.tile([0, 0.9, 0], (points2.shape[0], 1))\n",
    "])\n",
    "pcd.colors = o3d.utility.Vector3dVector(redgreen)\n",
    "\n",
    "# o3d.visualization.draw_geometries([pcd])"
   ]
  },
  {
   "cell_type": "markdown",
   "id": "4bb46aad",
   "metadata": {},
   "source": [
    "### Smooth normals and calculate local properties"
   ]
  },
  {
   "cell_type": "code",
   "execution_count": 6,
   "id": "897aa4eb",
   "metadata": {},
   "outputs": [],
   "source": [
    "normals = smooth_normals(points, normals, k=8, T=0.7, n_iters=5)"
   ]
  },
  {
   "cell_type": "code",
   "execution_count": 7,
   "id": "1b2f31f2",
   "metadata": {},
   "outputs": [],
   "source": [
    "local_spacing_1, local_density_1 = calc_local_spacing(mesh1.vertices, np.asarray(mesh1_o3d.vertices))\n",
    "local_spacing_2, local_density_2 = calc_local_spacing(mesh2.vertices, np.asarray(mesh2_o3d.vertices))\n",
    "local_spacings = (local_spacing_1, local_spacing_2)\n",
    "local_spacing = np.concat(local_spacings)\n",
    "\n",
    "local_density = np.concat((local_spacing_1, local_spacing_2))\n",
    "\n",
    "global_avg_spacing = (1/len(local_spacings)) * np.sum([(1/len(localspacing)) * np.sum(localspacing) for localspacing in local_spacings])"
   ]
  },
  {
   "cell_type": "markdown",
   "id": "1f9acf33",
   "metadata": {},
   "source": [
    "### Calculate overlapping region"
   ]
  },
  {
   "cell_type": "code",
   "execution_count": 8,
   "id": "8eaff534",
   "metadata": {},
   "outputs": [],
   "source": [
    "h_alpha = 2.5\n",
    "r_alpha = 2\n",
    "overlap_idx, overlap_mask = compute_overlap_set(points, normals, local_spacing, scan_ids, h_alpha, r_alpha, tree)"
   ]
  },
  {
   "cell_type": "markdown",
   "id": "0f9c640e",
   "metadata": {},
   "source": [
    "#### Illustrate overlapping region as a pointcloud"
   ]
  },
  {
   "cell_type": "code",
   "execution_count": 9,
   "id": "55d85b9c",
   "metadata": {},
   "outputs": [],
   "source": [
    "pcd = o3d.geometry.PointCloud()\n",
    "pcd.points = o3d.utility.Vector3dVector(points[~overlap_mask])\n",
    "pcd.colors = get_o3d_colours_from_trimesh(colours[~overlap_mask])\n",
    "\n",
    "# o3d.visualization.draw_geometries([pcd])"
   ]
  },
  {
   "cell_type": "markdown",
   "id": "57022bc1",
   "metadata": {},
   "source": [
    "### Find the edges that should constrain the overlap mesh"
   ]
  },
  {
   "cell_type": "code",
   "execution_count": 10,
   "id": "11a106d3",
   "metadata": {},
   "outputs": [],
   "source": [
    "tris1 = np.asarray(mesh1_o3d.triangles)\n",
    "tris2 = np.asarray(mesh2_o3d.triangles)\n",
    "all_tris = np.concat([tris1, tris2+len(points1)])\n",
    "\n",
    "nonoverlap_tris = all_tris[~np.all(overlap_mask[all_tris], axis=1)]"
   ]
  },
  {
   "cell_type": "code",
   "execution_count": 11,
   "id": "8ab0acb1",
   "metadata": {},
   "outputs": [],
   "source": [
    "boundary_edges = find_boundary_edges(nonoverlap_tris)"
   ]
  },
  {
   "cell_type": "markdown",
   "id": "c9a21d2d",
   "metadata": {},
   "source": [
    "#### Illustrate boundary edges"
   ]
  },
  {
   "cell_type": "code",
   "execution_count": 12,
   "id": "f3e4ac1d",
   "metadata": {},
   "outputs": [],
   "source": [
    "mask = np.zeros(len(points), dtype=bool)\n",
    "mask[np.unique(boundary_edges)] = True\n",
    "\n",
    "pcd = o3d.geometry.PointCloud()\n",
    "pcd.points = o3d.utility.Vector3dVector(points[mask])\n",
    "pcd.colors = get_o3d_colours_from_trimesh(colours[mask])\n",
    "\n",
    "# o3d.visualization.draw_geometries([pcd])"
   ]
  },
  {
   "cell_type": "markdown",
   "id": "890b75da",
   "metadata": {},
   "source": [
    "### Perform trilateral point shifting"
   ]
  },
  {
   "cell_type": "code",
   "execution_count": 13,
   "id": "0105a06e",
   "metadata": {},
   "outputs": [],
   "source": [
    "trilat_shifted_pts = points\n",
    "for i in range(5):\n",
    "    trilat_shifted_pts = trilateral_shift(trilat_shifted_pts, normals, local_spacing, local_density, overlap_idx, tree, r_alpha, h_alpha)"
   ]
  },
  {
   "cell_type": "markdown",
   "id": "bcde916a",
   "metadata": {},
   "source": [
    "#### Illustrate point shifted result"
   ]
  },
  {
   "cell_type": "code",
   "execution_count": 14,
   "id": "aac1585c",
   "metadata": {},
   "outputs": [],
   "source": [
    "pcd = o3d.geometry.PointCloud()\n",
    "pcd.points = o3d.utility.Vector3dVector(trilat_shifted_pts)\n",
    "pcd.colors = get_o3d_colours_from_trimesh(colours)\n",
    "\n",
    "# o3d.visualization.draw_geometries([pcd])"
   ]
  },
  {
   "cell_type": "markdown",
   "id": "518c0726",
   "metadata": {},
   "source": [
    "### Merge nearby clusters of points"
   ]
  },
  {
   "cell_type": "code",
   "execution_count": 15,
   "id": "482ef426",
   "metadata": {},
   "outputs": [],
   "source": [
    "cluster_mapping, clustered_overlap_pnts, clustered_overlap_cols, clustered_overlap_nrms = merge_nearby_clusters(\n",
    "    trilat_shifted_pts=trilat_shifted_pts,\n",
    "    normals=normals,\n",
    "    colours=colours,\n",
    "    overlap_mask=overlap_mask,\n",
    "    global_avg_spacing=global_avg_spacing,\n",
    "    h_alpha=h_alpha,\n",
    "    find_cyl_neighbours=find_cyl_neighbours,\n",
    ")"
   ]
  },
  {
   "cell_type": "code",
   "execution_count": 16,
   "id": "bbce3c78",
   "metadata": {},
   "outputs": [],
   "source": [
    "pcd = o3d.geometry.PointCloud()\n",
    "pcd.points = o3d.utility.Vector3dVector(clustered_overlap_pnts)\n",
    "pcd.colors = get_o3d_colours_from_trimesh(200*np.ones_like(clustered_overlap_cols))\n",
    "\n",
    "pcd2 = o3d.geometry.PointCloud()\n",
    "pcd2.points = o3d.utility.Vector3dVector(points[cluster_mapping==-1])\n",
    "pcd2.colors = get_o3d_colours_from_trimesh(100*np.zeros((len(points[cluster_mapping==-1]),4)))\n",
    "\n",
    "# o3d.visualization.draw_geometries([pcd,pcd2])"
   ]
  },
  {
   "cell_type": "markdown",
   "id": "11e0ca5c",
   "metadata": {},
   "source": [
    "### Classify vertices and create mapping\n",
    "Original vertices were stored in `points`, but some have been merged etc. Resulting vertices should be stored in a new array `new_points`, which has a convenient order (overlap, border, and free vertices)."
   ]
  },
  {
   "cell_type": "code",
   "execution_count": 17,
   "id": "fdd1a835",
   "metadata": {},
   "outputs": [],
   "source": [
    "tris1 = np.asarray(mesh1_o3d.triangles)\n",
    "tris2 = np.asarray(mesh2_o3d.triangles)\n",
    "\n",
    "tris2_shifted = tris2 + len(points1)\n",
    "all_tris = np.vstack([tris1, tris2_shifted])\n",
    "\n",
    "tri_has_overlap_any = overlap_mask[all_tris].any(axis=1)\n",
    "\n",
    "overlap_any_idx = np.unique(\n",
    "    all_tris[tri_has_overlap_any]\n",
    ")\n",
    "\n",
    "border_mask = np.zeros(len(points), dtype=bool)\n",
    "border_mask[overlap_any_idx] = True # Add both border verts and overlap verts\n",
    "border_mask[cluster_mapping!=-1] = False # Remove overlap verts\n",
    "\n",
    "nonoverlap_nonborder_mask = np.zeros(len(points), dtype=bool)\n",
    "nonoverlap_nonborder_mask[cluster_mapping==-1] = True\n",
    "nonoverlap_nonborder_mask[border_mask] = False\n",
    "\n",
    "n_overlap, n_border, n_free = len(clustered_overlap_pnts), border_mask.sum(), nonoverlap_nonborder_mask.sum()\n",
    "#                        Overlapping             Border with overlap              Not overlapping or border (free)\n",
    "new_points  = np.concat([clustered_overlap_pnts, trilat_shifted_pts[border_mask], trilat_shifted_pts[nonoverlap_nonborder_mask]])\n",
    "new_colours = np.concat([clustered_overlap_cols, colours[border_mask],            colours[nonoverlap_nonborder_mask]])\n",
    "new_normals = np.concat([clustered_overlap_nrms, normals[border_mask],            normals[nonoverlap_nonborder_mask]])\n",
    "\n",
    "pcd = o3d.geometry.PointCloud()\n",
    "pcd.points = o3d.utility.Vector3dVector(new_points)\n",
    "c = np.concat([230*np.ones((n_overlap,4)), 160*np.ones((n_border,4)), 0*np.ones((n_free,4))])\n",
    "pcd.colors = get_o3d_colours_from_trimesh(c)\n",
    "\n",
    "# Plot vertices and their classifications\n",
    "# o3d.visualization.draw_geometries([pcd])"
   ]
  },
  {
   "cell_type": "code",
   "execution_count": 18,
   "id": "abdba557",
   "metadata": {},
   "outputs": [],
   "source": [
    "overlap_idx_from = overlap_idx\n",
    "overlap_idx_to   = np.array(range(n_overlap))\n",
    "\n",
    "border_idx_from  = np.array(range(len(points)))[border_mask]\n",
    "border_idx_to    = np.array(range(n_border)) + n_overlap\n",
    "\n",
    "free_idx_from    = np.array(range(len(points)))[nonoverlap_nonborder_mask]\n",
    "free_idx_to      = np.array(range(n_free)) + n_overlap + n_border\n",
    "\n",
    "mapping = cluster_mapping # contains mappings for overlap area already\n",
    "mapping[border_idx_from] = border_idx_to\n",
    "mapping[free_idx_from]   = free_idx_to"
   ]
  },
  {
   "cell_type": "markdown",
   "id": "0c5c866b",
   "metadata": {},
   "source": [
    "### Mesh the overlap zone"
   ]
  },
  {
   "cell_type": "code",
   "execution_count": 19,
   "id": "12af3b1a",
   "metadata": {},
   "outputs": [],
   "source": [
    "pcd = o3d.geometry.PointCloud()\n",
    "pcd.points  = o3d.utility.Vector3dVector(new_points[:n_overlap])\n",
    "pcd.colors = get_o3d_colours_from_trimesh(new_colours[:n_overlap])\n",
    "\n",
    "if new_normals[:n_overlap] is not None:\n",
    "    pcd.normals = o3d.utility.Vector3dVector(new_normals[:n_overlap])\n",
    "else:\n",
    "    pcd.estimate_normals(search_param=o3d.geometry.KDTreeSearchParamHybrid(\n",
    "                            radius=2.5 * global_avg_spacing,  # ~10–30 neighbours\n",
    "                            max_nn=30))\n",
    "    pcd.orient_normals_consistent_tangent_plane(k=30)\n",
    "\n",
    "ball_r   = 1.1 * global_avg_spacing\n",
    "radii    = o3d.utility.DoubleVector([ball_r, ball_r * 1.5, ball_r * 2.0])\n",
    "\n",
    "overlap_mesh = o3d.geometry.TriangleMesh.create_from_point_cloud_ball_pivoting(\n",
    "           pcd, radii)\n",
    "\n",
    "overlap_mesh.remove_duplicated_vertices()\n",
    "overlap_mesh.remove_duplicated_triangles()\n",
    "overlap_mesh.remove_degenerate_triangles()\n",
    "overlap_mesh.remove_non_manifold_edges()\n",
    "overlap_mesh.compute_vertex_normals()\n",
    "\n",
    "overlap_mesh.vertex_colors = pcd.colors"
   ]
  },
  {
   "cell_type": "markdown",
   "id": "675c9bb6",
   "metadata": {},
   "source": [
    "### Debug plot: overlap mesh, border verts, free mesh"
   ]
  },
  {
   "cell_type": "code",
   "execution_count": 20,
   "id": "4013822d",
   "metadata": {},
   "outputs": [
    {
     "data": {
      "text/plain": [
       "TriangleMesh with 3571 points and 1068 triangles."
      ]
     },
     "execution_count": 20,
     "metadata": {},
     "output_type": "execute_result"
    }
   ],
   "source": [
    "v = np.asarray(overlap_mesh.vertices)\n",
    "vidx = np.unique(mapping[boundary_edges])\n",
    "vidx = vidx[vidx < len(v)]\n",
    "\n",
    "pcd = o3d.geometry.PointCloud()\n",
    "pcd.points = o3d.utility.Vector3dVector(v[vidx])\n",
    "pcd.colors = get_o3d_colours_from_trimesh(np.zeros((len(vidx), 4)))\n",
    "\n",
    "free_mesh = o3d.geometry.TriangleMesh(vertices=o3d.utility.Vector3dVector(new_points),\n",
    "                                      triangles=o3d.utility.Vector3iVector(mapping[nonoverlap_tris]))\n",
    "free_mesh.compute_vertex_normals()\n",
    "\n",
    "# o3d.visualization.draw_geometries([overlap_mesh, pcd, free_mesh])"
   ]
  },
  {
   "cell_type": "markdown",
   "id": "02fbf0a8",
   "metadata": {},
   "source": [
    "### Trim overlap mesh to the boundary edge loop"
   ]
  },
  {
   "cell_type": "code",
   "execution_count": 21,
   "id": "cfc16b2a",
   "metadata": {},
   "outputs": [],
   "source": [
    "mapped_boundary_edges = mapping[boundary_edges]\n",
    "relevant_boundary_edges = mapped_boundary_edges[np.all(mapped_boundary_edges<len(v), axis=1)]\n",
    "\n",
    "trimmed_overlap_mesh = topological_trim(overlap_mesh, relevant_boundary_edges)\n",
    "\n",
    "# o3d.visualization.draw_geometries([trimmed_overlap_mesh,pcd])"
   ]
  },
  {
   "cell_type": "code",
   "execution_count": 22,
   "id": "2f7471f5",
   "metadata": {},
   "outputs": [],
   "source": [
    "trimmed_overlap_tris = np.asarray(trimmed_overlap_mesh.triangles)\n",
    "fused_mesh_triangles = np.concatenate([trimmed_overlap_tris, mapping[nonoverlap_tris]], axis=0)\n",
    "fused_mesh = o3d.geometry.TriangleMesh(\n",
    "    vertices=o3d.utility.Vector3dVector(new_points),\n",
    "    triangles=o3d.utility.Vector3iVector(fused_mesh_triangles)\n",
    ")\n",
    "\n",
    "fused_mesh.remove_unreferenced_vertices()\n",
    "fused_mesh.remove_duplicated_triangles()\n",
    "fused_mesh.remove_duplicated_vertices()\n",
    "fused_mesh.remove_degenerate_triangles()\n",
    "fused_mesh.remove_non_manifold_edges()\n",
    "\n",
    "fused_mesh.vertex_colors = get_o3d_colours_from_trimesh(new_colours)\n",
    "\n",
    "fused_mesh.compute_vertex_normals()\n",
    "\n",
    "o3d.visualization.draw_geometries([fused_mesh])"
   ]
  }
 ],
 "metadata": {
  "kernelspec": {
   "display_name": "project",
   "language": "python",
   "name": "python3"
  },
  "language_info": {
   "codemirror_mode": {
    "name": "ipython",
    "version": 3
   },
   "file_extension": ".py",
   "mimetype": "text/x-python",
   "name": "python",
   "nbconvert_exporter": "python",
   "pygments_lexer": "ipython3",
   "version": "3.10.18"
  }
 },
 "nbformat": 4,
 "nbformat_minor": 5
}
