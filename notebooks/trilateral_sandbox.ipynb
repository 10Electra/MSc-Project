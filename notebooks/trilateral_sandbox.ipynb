{
 "cells": [
  {
   "cell_type": "code",
   "execution_count": 1,
   "id": "ce30ba70",
   "metadata": {},
   "outputs": [],
   "source": [
    "import numpy as np\n",
    "import open3d as o3d  # type: ignore\n",
    "import pymeshfix # type: ignore\n",
    "from scipy.spatial import cKDTree # type: ignore\n",
    "\n",
    "from superprimitive_fusion.mesh_fusion_utils import (\n",
    "    smooth_normals,\n",
    "    calc_local_spacing,\n",
    "    compute_overlap_set_cached,\n",
    "    smooth_overlap_set_cached,\n",
    "    precompute_cyl_neighbours,\n",
    "    update_weights,\n",
    "    normal_shift_smooth,\n",
    "    find_boundary_edges,\n",
    "    topological_trim,\n",
    "    merge_nearby_clusters,\n",
    "    get_mesh_components,\n",
    ")\n",
    "from superprimitive_fusion.mesh_fusion import (\n",
    "    fuse_meshes,\n",
    "    sanitise_mesh,\n",
    ")\n",
    "from superprimitive_fusion.scanner import (\n",
    "    capture_spherical_scans,\n",
    ")\n",
    "from superprimitive_fusion.utils import (\n",
    "    bake_uv_to_vertex_colours,\n",
    "    polar2cartesian,\n",
    ")"
   ]
  },
  {
   "cell_type": "code",
   "execution_count": 2,
   "id": "113c569d",
   "metadata": {},
   "outputs": [],
   "source": [
    "mesh_gt = o3d.io.read_triangle_mesh(\"../data/mustard-bottle/textured.obj\", enable_post_processing=True)\n",
    "\n",
    "bake_uv_to_vertex_colours(mesh_gt)\n",
    "\n",
    "mesh_gt.compute_vertex_normals()\n",
    "\n",
    "bb = mesh_gt.get_minimal_oriented_bounding_box()\n",
    "scale = np.mean(bb.get_max_bound())"
   ]
  },
  {
   "cell_type": "code",
   "execution_count": null,
   "id": "20e8202b",
   "metadata": {},
   "outputs": [],
   "source": [
    "o3d.visualization.draw_geometries([mesh_gt])"
   ]
  },
  {
   "cell_type": "code",
   "execution_count": 3,
   "id": "dab3d671",
   "metadata": {},
   "outputs": [
    {
     "name": "stderr",
     "output_type": "stream",
     "text": [
      "/Users/christopher/Documents/Coding/Imperial/MSc Project/MSc-Project/src/superprimitive_fusion/scanner.py:548: RuntimeWarning: invalid value encountered in matmul\n",
      "  z = ((points - cam_centre) @ L).clip(min=0.0) # (H,W)\n"
     ]
    },
    {
     "ename": "TypeError",
     "evalue": "draw_geometries(): incompatible function arguments. The following argument types are supported:\n    1. (geometry_list: list[open3d.cpu.pybind.geometry.Geometry], window_name: str = 'Open3D', width: int = 1920, height: int = 1080, left: int = 50, top: int = 50, point_show_normal: bool = False, mesh_show_wireframe: bool = False, mesh_show_back_face: bool = False, lookat: Optional[numpy.ndarray[numpy.float64[3, 1]]] = None, up: Optional[numpy.ndarray[numpy.float64[3, 1]]] = None, front: Optional[numpy.ndarray[numpy.float64[3, 1]]] = None, zoom: Optional[float] = None) -> None\n\nInvoked with: [[TriangleMesh with 10416 points and 20071 triangles.], [TriangleMesh with 7198 points and 13855 triangles.], [TriangleMesh with 5597 points and 10847 triangles.], [TriangleMesh with 5988 points and 11411 triangles.], [TriangleMesh with 10371 points and 20130 triangles.], [TriangleMesh with 9113 points and 17662 triangles.]]; kwargs: window_name='Virtual scan', front=[0.3, 1, 0], lookat=[0, 0, 0], up=[0, 0, 1], zoom=0.7",
     "output_type": "error",
     "traceback": [
      "\u001b[31m---------------------------------------------------------------------------\u001b[39m",
      "\u001b[31mTypeError\u001b[39m                                 Traceback (most recent call last)",
      "\u001b[36mCell\u001b[39m\u001b[36m \u001b[39m\u001b[32mIn[3]\u001b[39m\u001b[32m, line 15\u001b[39m\n\u001b[32m     12\u001b[39m meshes = [scan[\u001b[33m'\u001b[39m\u001b[33mmesh\u001b[39m\u001b[33m'\u001b[39m][\u001b[32m0\u001b[39m][\u001b[32m0\u001b[39m] \u001b[38;5;28;01mfor\u001b[39;00m scan \u001b[38;5;129;01min\u001b[39;00m scans]\n\u001b[32m     13\u001b[39m weights = [scan[\u001b[33m'\u001b[39m\u001b[33mmesh\u001b[39m\u001b[33m'\u001b[39m][\u001b[32m1\u001b[39m][\u001b[32m0\u001b[39m] \u001b[38;5;28;01mfor\u001b[39;00m scan \u001b[38;5;129;01min\u001b[39;00m scans]\n\u001b[32m---> \u001b[39m\u001b[32m15\u001b[39m \u001b[43mo3d\u001b[49m\u001b[43m.\u001b[49m\u001b[43mvisualization\u001b[49m\u001b[43m.\u001b[49m\u001b[43mdraw_geometries\u001b[49m\u001b[43m(\u001b[49m\n\u001b[32m     16\u001b[39m \u001b[43m    \u001b[49m\u001b[43mmeshes\u001b[49m\u001b[43m,\u001b[49m\n\u001b[32m     17\u001b[39m \u001b[43m    \u001b[49m\u001b[43mwindow_name\u001b[49m\u001b[43m=\u001b[49m\u001b[33;43m\"\u001b[39;49m\u001b[33;43mVirtual scan\u001b[39;49m\u001b[33;43m\"\u001b[39;49m\u001b[43m,\u001b[49m\n\u001b[32m     18\u001b[39m \u001b[43m    \u001b[49m\u001b[43mfront\u001b[49m\u001b[43m=\u001b[49m\u001b[43m[\u001b[49m\u001b[32;43m0.3\u001b[39;49m\u001b[43m,\u001b[49m\u001b[43m \u001b[49m\u001b[32;43m1\u001b[39;49m\u001b[43m,\u001b[49m\u001b[43m \u001b[49m\u001b[32;43m0\u001b[39;49m\u001b[43m]\u001b[49m\u001b[43m,\u001b[49m\n\u001b[32m     19\u001b[39m \u001b[43m    \u001b[49m\u001b[43mlookat\u001b[49m\u001b[43m=\u001b[49m\u001b[43m[\u001b[49m\u001b[32;43m0\u001b[39;49m\u001b[43m,\u001b[49m\u001b[43m \u001b[49m\u001b[32;43m0\u001b[39;49m\u001b[43m,\u001b[49m\u001b[43m \u001b[49m\u001b[32;43m0\u001b[39;49m\u001b[43m]\u001b[49m\u001b[43m,\u001b[49m\n\u001b[32m     20\u001b[39m \u001b[43m    \u001b[49m\u001b[43mup\u001b[49m\u001b[43m=\u001b[49m\u001b[43m[\u001b[49m\u001b[32;43m0\u001b[39;49m\u001b[43m,\u001b[49m\u001b[43m \u001b[49m\u001b[32;43m0\u001b[39;49m\u001b[43m,\u001b[49m\u001b[43m \u001b[49m\u001b[32;43m1\u001b[39;49m\u001b[43m]\u001b[49m\u001b[43m,\u001b[49m\n\u001b[32m     21\u001b[39m \u001b[43m    \u001b[49m\u001b[43mzoom\u001b[49m\u001b[43m=\u001b[49m\u001b[32;43m0.7\u001b[39;49m\u001b[43m,\u001b[49m\n\u001b[32m     22\u001b[39m \u001b[43m)\u001b[49m\n",
      "\u001b[31mTypeError\u001b[39m: draw_geometries(): incompatible function arguments. The following argument types are supported:\n    1. (geometry_list: list[open3d.cpu.pybind.geometry.Geometry], window_name: str = 'Open3D', width: int = 1920, height: int = 1080, left: int = 50, top: int = 50, point_show_normal: bool = False, mesh_show_wireframe: bool = False, mesh_show_back_face: bool = False, lookat: Optional[numpy.ndarray[numpy.float64[3, 1]]] = None, up: Optional[numpy.ndarray[numpy.float64[3, 1]]] = None, front: Optional[numpy.ndarray[numpy.float64[3, 1]]] = None, zoom: Optional[float] = None) -> None\n\nInvoked with: [[TriangleMesh with 10416 points and 20071 triangles.], [TriangleMesh with 7198 points and 13855 triangles.], [TriangleMesh with 5597 points and 10847 triangles.], [TriangleMesh with 5988 points and 11411 triangles.], [TriangleMesh with 10371 points and 20130 triangles.], [TriangleMesh with 9113 points and 17662 triangles.]]; kwargs: window_name='Virtual scan', front=[0.3, 1, 0], lookat=[0, 0, 0], up=[0, 0, 1], zoom=0.7"
     ]
    }
   ],
   "source": [
    "scans = capture_spherical_scans(\n",
    "    meshlist=[mesh_gt],\n",
    "    num_views=6,\n",
    "    radius=0.3,\n",
    "    width_px=360,\n",
    "    height_px=240,\n",
    "    fov=70,\n",
    "    k=5,\n",
    "    sampler=\"fibonacci\",\n",
    ")\n",
    "\n",
    "meshes = [scan['mesh'][0][0] for scan in scans]\n",
    "weights = [scan['mesh'][1][0] for scan in scans]\n",
    "\n",
    "o3d.visualization.draw_geometries(\n",
    "    meshes,\n",
    "    window_name=\"Virtual scan\",\n",
    "    front=[0.3, 1, 0],\n",
    "    lookat=[0, 0, 0],\n",
    "    up=[0, 0, 1],\n",
    "    zoom=0.7,\n",
    ")"
   ]
  },
  {
   "cell_type": "code",
   "execution_count": 4,
   "id": "62ba4834",
   "metadata": {},
   "outputs": [],
   "source": [
    "from superprimitive_fusion.scanner import virtual_mesh_scan"
   ]
  },
  {
   "cell_type": "code",
   "execution_count": 5,
   "id": "78993cb3",
   "metadata": {},
   "outputs": [
    {
     "name": "stderr",
     "output_type": "stream",
     "text": [
      "/Users/christopher/Documents/Coding/Imperial/MSc Project/MSc-Project/src/superprimitive_fusion/scanner.py:721: RuntimeWarning: divide by zero encountered in divide\n",
      "  w[valid] = (1.0 / (sigma_z ** 2)).astype(np.float32)\n"
     ]
    }
   ],
   "source": [
    "meshes, _ = virtual_mesh_scan(\n",
    "    meshlist=[mesh_gt],\n",
    "    cam_centre=mesh_gt.get_center() + polar2cartesian(0.4, 60, 45),#45,150?\n",
    "    look_at=mesh_gt.get_center(),\n",
    "    k=10,\n",
    "    max_normal_angle_deg=None,\n",
    "    linear_depth_sigma=0,\n",
    "    quadrt_depth_sigma=0,\n",
    "    sigma_floor=0,\n",
    "    bias_k1=0.03,\n",
    ")\n",
    "mesh1 = meshes[0][0]\n",
    "weights1 = meshes[1][0]\n",
    "# o3d.visualization.draw_geometries([mesh1])\n",
    "\n",
    "meshes, _ = virtual_mesh_scan(\n",
    "    meshlist=[mesh_gt],\n",
    "    cam_centre=mesh_gt.get_center() + polar2cartesian(0.4, 60, 150),#45,150?\n",
    "    look_at=mesh_gt.get_center(),\n",
    "    k=10,\n",
    "    max_normal_angle_deg=None,\n",
    "    linear_depth_sigma=0,\n",
    "    quadrt_depth_sigma=0,\n",
    "    sigma_floor=0,\n",
    "    bias_k1=0.03\n",
    ")\n",
    "mesh2 = meshes[0][0]\n",
    "weights2 = meshes[1][0]\n",
    "# o3d.visualization.draw_geometries([mesh2])\n",
    "\n",
    "o3d.visualization.draw_geometries([mesh1, mesh2])"
   ]
  },
  {
   "cell_type": "code",
   "execution_count": 6,
   "id": "dacbf28c",
   "metadata": {},
   "outputs": [],
   "source": [
    "weights1 = np.ones_like(weights1, dtype=np.float64)\n",
    "weights2 = np.ones_like(weights2, dtype=np.float64)"
   ]
  },
  {
   "cell_type": "code",
   "execution_count": null,
   "id": "7d0abaf7",
   "metadata": {},
   "outputs": [],
   "source": [
    "# j = 6\n",
    "# fused_mesh = scans[0]\n",
    "# for i in range(1,j):\n",
    "#     fused_mesh = fuse_meshes(\n",
    "#         fused_mesh,\n",
    "#         scans[i],\n",
    "#         h_alpha=3,\n",
    "#         nrm_shift_iters=2,\n",
    "#         shift_all=False,\n",
    "#         fill_holes=True,\n",
    "#     )\n",
    "\n",
    "# o3d.visualization.draw_geometries(\n",
    "#     [fused_mesh],\n",
    "#     window_name=\"Virtual scan\",\n",
    "#     front=[0.3, 1, 0],\n",
    "#     lookat=[0, 0, 0],\n",
    "#     up=[0, 0, 1],\n",
    "#     zoom=0.7,\n",
    "# )"
   ]
  },
  {
   "cell_type": "code",
   "execution_count": null,
   "id": "b13f5d61",
   "metadata": {},
   "outputs": [],
   "source": [
    "# show_connected_components(fused_mesh)"
   ]
  },
  {
   "cell_type": "code",
   "execution_count": 7,
   "id": "2fc941ac",
   "metadata": {},
   "outputs": [],
   "source": [
    "# mesh1 = o3d.io.read_triangle_mesh(\"meshes/bottle_1.ply\")\n",
    "# mesh2 = o3d.io.read_triangle_mesh(\"meshes/bottle_2.ply\")\n",
    "# mesh1 = meshes[0]\n",
    "# mesh2 = meshes[1]\n",
    "# Mesh1 must be the already fused mesh\n",
    "# weights1 = weights[0]\n",
    "# weights2 = weights[1]\n",
    "sigma_theta = 0.5\n",
    "h_alpha: float = 3.0\n",
    "r_alpha: float = 2.0\n",
    "nrm_shift_iters: int = 2\n",
    "nrm_smth_iters: int = 1\n",
    "shift_all: bool = False"
   ]
  },
  {
   "cell_type": "code",
   "execution_count": 39,
   "id": "c8b18db3",
   "metadata": {},
   "outputs": [],
   "source": [
    "import copy\n",
    "m01 = copy.deepcopy(mesh1)\n",
    "m01.compute_vertex_normals()\n",
    "o3d.visualization.draw_geometries([m01])"
   ]
  },
  {
   "cell_type": "code",
   "execution_count": 9,
   "id": "068b2902",
   "metadata": {},
   "outputs": [],
   "source": [
    "import copy\n",
    "m1 = copy.deepcopy(mesh1)\n",
    "m1.paint_uniform_color([1,0,0])\n",
    "m2 = copy.deepcopy(mesh2)\n",
    "m2.paint_uniform_color([0,1,0])\n",
    "o3d.visualization.draw_geometries([m1, m2])"
   ]
  },
  {
   "cell_type": "code",
   "execution_count": 8,
   "id": "05e849e3",
   "metadata": {},
   "outputs": [],
   "source": [
    "# ---------------------------------------------------------------------\n",
    "# Raw geometry & attribute extraction\n",
    "# ---------------------------------------------------------------------\n",
    "points1 = np.asarray(mesh1.vertices)\n",
    "points2 = np.asarray(mesh2.vertices)\n",
    "\n",
    "pointclouds = (points1, points2)\n",
    "points = np.vstack(pointclouds)\n",
    "\n",
    "assert weights1.ndim == 1 and len(weights1) == len(mesh1.vertices)\n",
    "assert weights2.ndim == 1 and len(weights2) == len(mesh2.vertices)\n",
    "weights = np.concatenate((weights1, weights2))\n",
    "\n",
    "colours1 = mesh1.vertex_colors\n",
    "colours2 = mesh2.vertex_colors\n",
    "colours = np.concatenate([colours1, colours2], axis=0)\n",
    "\n",
    "kd_tree = o3d.geometry.KDTreeFlann(points.T)"
   ]
  },
  {
   "cell_type": "code",
   "execution_count": 9,
   "id": "86c3597f",
   "metadata": {},
   "outputs": [],
   "source": [
    "# ---------------------------------------------------------------------\n",
    "# Normals\n",
    "# ---------------------------------------------------------------------\n",
    "mesh1.compute_vertex_normals()\n",
    "mesh2.compute_vertex_normals()\n",
    "\n",
    "normals1 = np.asarray(mesh1.vertex_normals)\n",
    "normals2 = np.asarray(mesh2.vertex_normals)\n",
    "normals = np.concatenate([normals1, normals2], axis=0)\n",
    "\n",
    "scan_ids = np.concatenate([np.full(len(pts), i) for i, pts in enumerate(pointclouds)])\n",
    "\n",
    "normals = smooth_normals(points, normals, tree=kd_tree, k=8, T=0.7, n_iters=nrm_smth_iters)"
   ]
  },
  {
   "cell_type": "code",
   "execution_count": 10,
   "id": "946b36a3",
   "metadata": {},
   "outputs": [],
   "source": [
    "# ---------------------------------------------------------------------\n",
    "# Local geometric properties\n",
    "# ---------------------------------------------------------------------\n",
    "local_spacing_1, local_density_1 = calc_local_spacing(points1, points1, tree=kd_tree)\n",
    "local_spacing_2, local_density_2 = calc_local_spacing(points2, points2, tree=kd_tree)\n",
    "local_spacings = (local_spacing_1, local_spacing_2)\n",
    "\n",
    "local_spacing = np.concatenate(local_spacings)\n",
    "local_density = np.concatenate((local_density_1, local_density_2))\n",
    "\n",
    "global_avg_spacing = (1 / len(local_spacings)) * np.sum(\n",
    "    [(1 / len(ls)) * np.sum(ls) for ls in local_spacings]\n",
    ")"
   ]
  },
  {
   "cell_type": "code",
   "execution_count": 11,
   "id": "5abc387c",
   "metadata": {},
   "outputs": [],
   "source": [
    "# ---------------------------------------------------------------------\n",
    "# Overlap detection\n",
    "# ---------------------------------------------------------------------\n",
    "nbr_cache = precompute_cyl_neighbours(points, normals, local_spacing, r_alpha, h_alpha, kd_tree)\n",
    "\n",
    "overlap_idx, overlap_mask = compute_overlap_set_cached(scan_ids, nbr_cache)\n",
    "overlap_idx, overlap_mask = smooth_overlap_set_cached(overlap_mask, nbr_cache)\n",
    "overlap_idx, overlap_mask = smooth_overlap_set_cached(overlap_mask, nbr_cache, p_thresh=1)"
   ]
  },
  {
   "cell_type": "code",
   "execution_count": null,
   "id": "94e4a881",
   "metadata": {},
   "outputs": [],
   "source": [
    "debug_colours = np.array([\n",
    "    [255,   0,   0],\n",
    "    [  0, 255,   0],\n",
    "])\n",
    "f0 = overlap_mask\n",
    "f1 = ~overlap_mask\n",
    "filters = np.column_stack((f0, f1))\n",
    "idx = filters.argmax(axis=1)\n",
    "row_colours = debug_colours[idx]\n",
    "# row_colours[oidx] = np.array([0,0,0])\n",
    "\n",
    "pcd = o3d.geometry.PointCloud()\n",
    "pcd.points = o3d.utility.Vector3dVector(points)\n",
    "pcd.colors = o3d.utility.Vector3dVector(row_colours)\n",
    "\n",
    "# o3d.visualization.draw_geometries([pcd])"
   ]
  },
  {
   "cell_type": "code",
   "execution_count": 45,
   "id": "25984fee",
   "metadata": {},
   "outputs": [],
   "source": [
    "m1 = scan_ids==0\n",
    "m2 = overlap_mask\n",
    "debug_colours = np.array([\n",
    "    [255,   0,   0],\n",
    "    [  0, 255,   0],\n",
    "    [  0,   0, 255],\n",
    "    [255,   0, 255],\n",
    "])\n",
    "f0 = ~m1 & ~m2\n",
    "f1 =  m1 & ~m2\n",
    "f2 = ~m1 &  m2\n",
    "f3 =  m1 &  m2\n",
    "filters = np.column_stack((f0, f1, f2, f3))\n",
    "idx = filters.argmax(axis=1)\n",
    "row_colours = debug_colours[idx]\n",
    "\n",
    "pcd = o3d.geometry.PointCloud()\n",
    "pcd.points = o3d.utility.Vector3dVector(points)\n",
    "pcd.colors = o3d.utility.Vector3dVector(row_colours)\n",
    "\n",
    "o3d.visualization.draw_geometries([pcd])"
   ]
  },
  {
   "cell_type": "code",
   "execution_count": 12,
   "id": "c0a05bcc",
   "metadata": {},
   "outputs": [],
   "source": [
    "# ---------------------------------------------------------------------\n",
    "# Find overlap boundary edges\n",
    "# ---------------------------------------------------------------------\n",
    "tris1 = np.asarray(mesh1.triangles)\n",
    "tris2 = np.asarray(mesh2.triangles) + len(points1)  # shift indices\n",
    "all_tris = np.concatenate([tris1, tris2], axis=0)\n",
    "\n",
    "nonoverlap_tris = all_tris[~np.all(overlap_mask[all_tris], axis=1)]\n",
    "boundary_edges = find_boundary_edges(nonoverlap_tris)"
   ]
  },
  {
   "cell_type": "code",
   "execution_count": 13,
   "id": "6aba0077",
   "metadata": {},
   "outputs": [],
   "source": [
    "# ---------------------------------------------------------------------\n",
    "# Update weights\n",
    "# ---------------------------------------------------------------------\n",
    "\n",
    "updated_weights = update_weights(points, normals, weights, overlap_mask, scan_ids, nbr_cache)"
   ]
  },
  {
   "cell_type": "code",
   "execution_count": 14,
   "id": "ae1b1772",
   "metadata": {},
   "outputs": [
    {
     "name": "stdout",
     "output_type": "stream",
     "text": [
      "[WARN; vertex smoother] Using w_density=1.0 as sigma_rho < rho_floor.\n",
      "[WARN; vertex smoother] Using w_density=1.0 as sigma_rho < rho_floor.\n",
      "2.6989912717235817e-05\n"
     ]
    }
   ],
   "source": [
    "# ---------------------------------------------------------------------\n",
    "# Multilateral point shifting along normals\n",
    "# ---------------------------------------------------------------------\n",
    "normal_shifted_points = points.copy()\n",
    "for _ in range(nrm_shift_iters):\n",
    "    normal_shifted_points = normal_shift_smooth(\n",
    "        points=normal_shifted_points,\n",
    "        normals=normals,\n",
    "        weights=weights,\n",
    "        local_spacing=local_spacing,\n",
    "        local_density=local_density,\n",
    "        overlap_idx=overlap_idx,\n",
    "        nbr_cache=nbr_cache,\n",
    "        normal_diff_thresh=45,\n",
    "        r_alpha=r_alpha,\n",
    "        h_alpha=h_alpha,\n",
    "        sigma_theta=sigma_theta,\n",
    "        shift_all=shift_all)\n",
    "\n",
    "kd_tree = o3d.geometry.KDTreeFlann(normal_shifted_points.T)\n",
    "\n",
    "print(np.mean(np.abs(points - normal_shifted_points)))"
   ]
  },
  {
   "cell_type": "code",
   "execution_count": 149,
   "id": "9b77ddf9",
   "metadata": {},
   "outputs": [],
   "source": [
    "shift_comparison_colours = np.concatenate([np.full((len(normal_shifted_points), 3), [0, 1, 0], dtype=np.int32), np.full((len(points), 3), [1, 0, 0], dtype=np.int32)], axis=0)\n",
    "\n",
    "pcd = o3d.geometry.PointCloud()\n",
    "pcd.points = o3d.utility.Vector3dVector(np.concatenate([normal_shifted_points, points], axis=0))\n",
    "pcd.colors = o3d.utility.Vector3dVector(shift_comparison_colours)\n",
    "o3d.visualization.draw_geometries([pcd])"
   ]
  },
  {
   "cell_type": "code",
   "execution_count": 155,
   "id": "ac89d706",
   "metadata": {},
   "outputs": [],
   "source": [
    "shift = np.linalg.norm(points - normal_shifted_points, axis=1)\n",
    "noshift_mask = shift==0\n",
    "shift_rankings = np.argsort(np.argsort(shift[~noshift_mask]))\n",
    "rankings = np.zeros_like(shift)\n",
    "rankings[~noshift_mask] = shift_rankings\n",
    "nrm_rankings = rankings/rankings.max()\n",
    "\n",
    "shift_colours = (1-nrm_rankings[:,None])*np.full_like(points, np.array([0, 1, 1]))+nrm_rankings[:,None]*np.full_like(points, np.array([1, 0, 1]))\n",
    "pcd = o3d.geometry.PointCloud()\n",
    "pcd.points = o3d.utility.Vector3dVector(normal_shifted_points)\n",
    "pcd.colors = o3d.utility.Vector3dVector(shift_colours)\n",
    "o3d.visualization.draw_geometries([pcd])"
   ]
  },
  {
   "cell_type": "code",
   "execution_count": 15,
   "id": "e77907a6",
   "metadata": {},
   "outputs": [],
   "source": [
    "# ---------------------------------------------------------------------\n",
    "# Merge nearby clusters\n",
    "# ---------------------------------------------------------------------\n",
    "merged_out = merge_nearby_clusters(\n",
    "    normal_shifted_points=normal_shifted_points,\n",
    "    normals=normals,\n",
    "    weights=updated_weights,\n",
    "    colours=colours,\n",
    "    overlap_mask=overlap_mask,\n",
    "    overlap_idx=overlap_idx,\n",
    "    global_avg_spacing=global_avg_spacing,\n",
    "    h_alpha=h_alpha,\n",
    "    tree=kd_tree,\n",
    ")\n",
    "cluster_mapping, clustered_overlap_pnts, clustered_overlap_cols, clustered_overlap_nrms, clustered_overlap_wts = merged_out"
   ]
  },
  {
   "cell_type": "code",
   "execution_count": 166,
   "id": "1a0d2d12",
   "metadata": {},
   "outputs": [],
   "source": [
    "demo_pts = np.concatenate((clustered_overlap_pnts, normal_shifted_points))\n",
    "demo_col = np.concatenate((np.full((len(clustered_overlap_pnts),3), [1, 0, 1]), np.full((len(normal_shifted_points),3), [0, 1, 1])))\n",
    "\n",
    "pcd = o3d.geometry.PointCloud()\n",
    "pcd.points = o3d.utility.Vector3dVector(demo_pts)\n",
    "pcd.colors = o3d.utility.Vector3dVector(demo_col)\n",
    "o3d.visualization.draw_geometries([pcd])"
   ]
  },
  {
   "cell_type": "code",
   "execution_count": 16,
   "id": "739a3fef",
   "metadata": {},
   "outputs": [],
   "source": [
    "# ---------------------------------------------------------------------\n",
    "# Classify vertices\n",
    "# ---------------------------------------------------------------------\n",
    "tri_has_overlap_any = overlap_mask[all_tris].any(axis=1)\n",
    "overlap_any_idx = np.unique(all_tris[tri_has_overlap_any])\n",
    "\n",
    "border_mask = np.zeros(len(points), dtype=bool)\n",
    "border_mask[overlap_any_idx] = True\n",
    "border_mask[cluster_mapping != -1] = False\n",
    "\n",
    "nonoverlap_nonborder_mask = np.zeros(len(points), dtype=bool)\n",
    "nonoverlap_nonborder_mask[cluster_mapping == -1] = True\n",
    "nonoverlap_nonborder_mask[border_mask] = False\n",
    "\n",
    "n_overlap = len(clustered_overlap_pnts)\n",
    "n_border = border_mask.sum()\n",
    "n_free = nonoverlap_nonborder_mask.sum()\n",
    "\n",
    "new_points = np.concatenate(\n",
    "    [\n",
    "        clustered_overlap_pnts,\n",
    "        normal_shifted_points[border_mask],\n",
    "        normal_shifted_points[nonoverlap_nonborder_mask],\n",
    "    ],\n",
    "    axis=0,\n",
    ")\n",
    "new_colours = np.concatenate(\n",
    "    [\n",
    "        clustered_overlap_cols,\n",
    "        colours[border_mask],\n",
    "        colours[nonoverlap_nonborder_mask],\n",
    "    ],\n",
    "    axis=0,\n",
    ")\n",
    "new_normals = np.concatenate(\n",
    "    [\n",
    "        clustered_overlap_nrms,\n",
    "        normals[border_mask],\n",
    "        normals[nonoverlap_nonborder_mask],\n",
    "    ],\n",
    "    axis=0,\n",
    ")\n",
    "new_weights = np.concatenate(\n",
    "        [\n",
    "            clustered_overlap_wts,\n",
    "            weights[border_mask],\n",
    "            weights[nonoverlap_nonborder_mask],\n",
    "        ],\n",
    "        axis=0,\n",
    "    )\n",
    "\n",
    "new_colours = np.clip(new_colours, 0, 1)"
   ]
  },
  {
   "cell_type": "code",
   "execution_count": 17,
   "id": "82fbc723",
   "metadata": {},
   "outputs": [],
   "source": [
    "# ---------------------------------------------------------------------\n",
    "# Complete mapping\n",
    "# ---------------------------------------------------------------------\n",
    "border_idx_from = np.arange(len(points))[border_mask]\n",
    "border_idx_to = np.arange(n_border) + n_overlap\n",
    "\n",
    "free_idx_from = np.arange(len(points))[nonoverlap_nonborder_mask]\n",
    "free_idx_to = np.arange(n_free) + n_overlap + n_border\n",
    "\n",
    "mapping = cluster_mapping.copy()\n",
    "mapping[border_idx_from] = border_idx_to\n",
    "mapping[free_idx_from] = free_idx_to"
   ]
  },
  {
   "cell_type": "code",
   "execution_count": 18,
   "id": "75330860",
   "metadata": {},
   "outputs": [],
   "source": [
    "def density_aware_radii(pcd: o3d.geometry.PointCloud, k=10):\n",
    "    pts = np.asarray(pcd.points)\n",
    "    kdt = o3d.geometry.KDTreeFlann(pcd)\n",
    "    dk = np.empty(len(pts))\n",
    "    for i, p in enumerate(pts):\n",
    "        _, _, d2 = kdt.search_knn_vector_3d(p, k+1)  # includes the point itself\n",
    "        dk[i] = np.sqrt(d2[-1])                      # k-th neighbor distance\n",
    "    h10, h50, h90 = np.percentile(dk, [10, 50, 90])\n",
    "    r_min = 0.8 * h10\n",
    "    r_mid = h50\n",
    "    r_max = 1.2 * h90\n",
    "    return [r_min, r_mid, r_max]"
   ]
  },
  {
   "cell_type": "code",
   "execution_count": 19,
   "id": "8bb6fa96",
   "metadata": {},
   "outputs": [
    {
     "data": {
      "text/plain": [
       "TriangleMesh with 2570 points and 4893 triangles."
      ]
     },
     "execution_count": 19,
     "metadata": {},
     "output_type": "execute_result"
    }
   ],
   "source": [
    "# ---------------------------------------------------------------------\n",
    "# Mesh the overlap zone\n",
    "# ---------------------------------------------------------------------\n",
    "pcd = o3d.geometry.PointCloud()\n",
    "pcd.points = o3d.utility.Vector3dVector(new_points[:n_overlap])\n",
    "\n",
    "if new_normals[:n_overlap] is not None:\n",
    "    pcd.normals = o3d.utility.Vector3dVector(new_normals[:n_overlap])\n",
    "else:\n",
    "    pcd.estimate_normals(\n",
    "        search_param=o3d.geometry.KDTreeSearchParamHybrid(\n",
    "            radius=2.5 * global_avg_spacing, max_nn=30\n",
    "        )\n",
    "    )\n",
    "    pcd.orient_normals_consistent_tangent_plane(k=30)\n",
    "\n",
    "# r_min = global_avg_spacing\n",
    "# radii = o3d.utility.DoubleVector(np.geomspace(r_min, r_min*4, num=5))\n",
    "\n",
    "# points_pcd = o3d.geometry.PointCloud(o3d.utility.Vector3dVector(points))\n",
    "# dists = points_pcd.compute_nearest_neighbor_distance()\n",
    "# s = np.median(dists)\n",
    "\n",
    "# radii = o3d.utility.DoubleVector([1.2*s, 2*s, 3*s, 4*s])\n",
    "\n",
    "radii = o3d.utility.DoubleVector(density_aware_radii(pcd, k=10))\n",
    "pcd.estimate_normals(o3d.geometry.KDTreeSearchParamKNN(40))\n",
    "pcd.orient_normals_consistent_tangent_plane(50)\n",
    "\n",
    "overlap_mesh = o3d.geometry.TriangleMesh.create_from_point_cloud_ball_pivoting(\n",
    "    pcd, radii\n",
    ")\n",
    "\n",
    "# overlap_mesh.remove_duplicated_vertices()\n",
    "overlap_mesh.remove_duplicated_triangles()\n",
    "overlap_mesh.remove_degenerate_triangles()\n",
    "overlap_mesh.remove_non_manifold_edges()\n",
    "overlap_mesh.compute_vertex_normals()"
   ]
  },
  {
   "cell_type": "code",
   "execution_count": 171,
   "id": "4a60f822",
   "metadata": {},
   "outputs": [],
   "source": [
    "pcd = o3d.geometry.PointCloud()\n",
    "pcd.points = o3d.utility.Vector3dVector(new_points)\n",
    "colours = np.concatenate([\n",
    "    np.full((n_overlap,3),[255, 0, 0]),\n",
    "    np.full((n_border,3), [0, 255, 0]),\n",
    "    np.full((n_free,3),   [0, 0, 255]),\n",
    "])\n",
    "pcd.colors = o3d.utility.Vector3dVector(colours)\n",
    "\n",
    "o3d.visualization.draw_geometries([overlap_mesh, pcd])"
   ]
  },
  {
   "cell_type": "code",
   "execution_count": 20,
   "id": "1916ee07",
   "metadata": {},
   "outputs": [],
   "source": [
    "new_nonoverlap_tris = mapping[nonoverlap_tris]\n",
    "nonoverlap_mesh = o3d.geometry.TriangleMesh(\n",
    "    vertices=o3d.utility.Vector3dVector(new_points),\n",
    "    triangles=o3d.utility.Vector3iVector(new_nonoverlap_tris),\n",
    ")\n",
    "\n",
    "# o3d.visualization.draw_geometries([nonoverlap_mesh, pcd])"
   ]
  },
  {
   "cell_type": "code",
   "execution_count": 24,
   "id": "a81e0a08",
   "metadata": {},
   "outputs": [],
   "source": [
    "# o3d.visualization.draw_geometries([mesh1, mesh2, pcd])"
   ]
  },
  {
   "cell_type": "code",
   "execution_count": 21,
   "id": "a152d54a",
   "metadata": {},
   "outputs": [],
   "source": [
    "# ---------------------------------------------------------------------\n",
    "# Trim overlap mesh\n",
    "# ---------------------------------------------------------------------\n",
    "mapped_boundary_edges = mapping[boundary_edges]\n",
    "relevant_boundary_edges = mapped_boundary_edges[\n",
    "    np.all(mapped_boundary_edges < len(overlap_mesh.vertices), axis=1)\n",
    "]\n",
    "\n",
    "Ncc = len(overlap_mesh.cluster_connected_triangles()[1])\n",
    "\n",
    "trimmed_overlap_mesh = topological_trim(\n",
    "    overlap_mesh, relevant_boundary_edges, k=Ncc,\n",
    ")\n",
    "\n",
    "o3d.visualization.draw_geometries([trimmed_overlap_mesh, pcd])"
   ]
  },
  {
   "cell_type": "code",
   "execution_count": 22,
   "id": "cf699d70",
   "metadata": {},
   "outputs": [],
   "source": [
    "def compact_by_faces(V, F, attrs):\n",
    "    \"\"\"\n",
    "    V: (N,3), F: (M,3), attrs: list of (N,...) arrays (e.g. colors, normals, weights)\n",
    "    Returns Vc, Fc, attrs_c (all compacted), used_mask, remap\n",
    "    \"\"\"\n",
    "    used = np.zeros(len(V), dtype=bool)\n",
    "    used[np.unique(F)] = True\n",
    "    remap = -np.ones(len(V), dtype=int)\n",
    "    remap[used] = np.arange(used.sum())\n",
    "    Vc = V[used]\n",
    "    Fc = remap[F]\n",
    "    attrs_c = [a[used] if a is not None else None for a in attrs]\n",
    "    return Vc, Fc, attrs_c, used, remap"
   ]
  },
  {
   "cell_type": "code",
   "execution_count": null,
   "id": "6be5b830",
   "metadata": {},
   "outputs": [
    {
     "data": {
      "text/plain": [
       "TriangleMesh with 8470 points and 16593 triangles."
      ]
     },
     "execution_count": 23,
     "metadata": {},
     "output_type": "execute_result"
    }
   ],
   "source": [
    "trimmed_overlap_tris = np.asarray(trimmed_overlap_mesh.triangles)\n",
    "fused_mesh_triangles = np.concatenate(\n",
    "    [trimmed_overlap_tris, mapping[nonoverlap_tris]], axis=0\n",
    ")\n",
    "\n",
    "V0, F0, (C0, N0, W0), used_mask, remap = compact_by_faces(\n",
    "    new_points, fused_mesh_triangles, [new_colours, new_normals, new_weights]\n",
    ")\n",
    "\n",
    "fused_mesh = o3d.geometry.TriangleMesh(\n",
    "    vertices=o3d.utility.Vector3dVector(V0),\n",
    "    triangles=o3d.utility.Vector3iVector(F0),\n",
    ")\n",
    "\n",
    "fused_mesh.vertex_colors = o3d.utility.Vector3dVector(np.clip(C0, 0, 1))\n",
    "\n",
    "fused_mesh.remove_duplicated_triangles()\n",
    "fused_mesh.remove_degenerate_triangles()\n",
    "fused_mesh.remove_non_manifold_edges()\n",
    "# fused_mesh.remove_unreferenced_vertices()\n",
    "# fused_mesh.remove_duplicated_vertices()\n",
    "# fused_mesh.compute_vertex_normals()"
   ]
  },
  {
   "cell_type": "code",
   "execution_count": 25,
   "id": "67eaeac3",
   "metadata": {},
   "outputs": [],
   "source": [
    "from superprimitive_fusion.mesh_fusion_utils import (\n",
    "    colour_transfer,\n",
    ")\n",
    "\n",
    "fill_holes=False\n",
    "if not fill_holes:\n",
    "    fused_mesh.compute_vertex_normals()\n",
    "else:\n",
    "    V0, F0 = sanitise_mesh(new_points, fused_mesh_triangles)\n",
    "    C0 = new_colours\n",
    "\n",
    "    mf = pymeshfix.PyTMesh(False)\n",
    "    mf.load_array(V0, F0)\n",
    "\n",
    "    mf.fill_small_boundaries(nbe=20)\n",
    "\n",
    "    V1, F1 = mf.return_arrays()\n",
    "\n",
    "    C1 = colour_transfer(V0, C0, V1)\n",
    "\n",
    "    repaired = o3d.geometry.TriangleMesh()\n",
    "    repaired.vertices = o3d.utility.Vector3dVector(V1)\n",
    "    repaired.triangles = o3d.utility.Vector3iVector(F1)\n",
    "    repaired.vertex_colors = o3d.utility.Vector3dVector(C1)\n",
    "    repaired.compute_vertex_normals()"
   ]
  },
  {
   "cell_type": "code",
   "execution_count": 176,
   "id": "555cbdd8",
   "metadata": {},
   "outputs": [],
   "source": [
    "o3d.visualization.draw_geometries([fused_mesh, pcd])"
   ]
  },
  {
   "cell_type": "code",
   "execution_count": null,
   "id": "aca76d7c",
   "metadata": {},
   "outputs": [],
   "source": [
    "# V0 = np.ascontiguousarray(new_points, dtype=np.float64)\n",
    "# F0 = np.ascontiguousarray(fused_mesh.triangles, dtype=np.int32)\n",
    "# C0 = new_colours\n",
    "\n",
    "# # sanity checks\n",
    "# if not np.isfinite(V0).all():\n",
    "#     raise ValueError(\"Non-finite vertex coordinates\")\n",
    "# if F0.min() < 0 or F0.max() >= len(V0):\n",
    "#     raise ValueError(\"Face indices out of range\")\n",
    "\n",
    "# V0, F0 = sanitise_mesh(new_points, fused_mesh_triangles)\n",
    "\n",
    "# mf = pymeshfix.PyTMesh(False)\n",
    "# mf.load_array(V0, F0)\n",
    "\n",
    "# mf.fill_small_boundaries(nbe=10)\n",
    "\n",
    "# V1, F1 = mf.return_arrays()\n",
    "\n",
    "# # ---- colour transfer\n",
    "# tree = cKDTree(V0)\n",
    "# dist, idx = tree.query(V1, k=1)\n",
    "# C1 = C0[idx]\n",
    "\n",
    "# mask = dist > 1e-6\n",
    "# if mask.any():\n",
    "#     dist3, idx3 = tree.query(V1[mask], k=3)\n",
    "#     w = 1.0 / (dist3 + 1e-12)\n",
    "#     w /= w.sum(axis=1, keepdims=True)\n",
    "#     C1[mask] = (C0[idx3] * w[..., None]).sum(axis=1)\n",
    "\n",
    "# repaired = o3d.geometry.TriangleMesh()\n",
    "# repaired.vertices = o3d.utility.Vector3dVector(V1)\n",
    "# repaired.triangles = o3d.utility.Vector3iVector(F1)\n",
    "# repaired.vertex_colors = o3d.utility.Vector3dVector(C1)\n",
    "# repaired.compute_vertex_normals()\n",
    "\n",
    "# o3d.visualization.draw_geometries([repaired])"
   ]
  }
 ],
 "metadata": {
  "kernelspec": {
   "display_name": "msc-project",
   "language": "python",
   "name": "python3"
  },
  "language_info": {
   "codemirror_mode": {
    "name": "ipython",
    "version": 3
   },
   "file_extension": ".py",
   "mimetype": "text/x-python",
   "name": "python",
   "nbconvert_exporter": "python",
   "pygments_lexer": "ipython3",
   "version": "3.12.2"
  }
 },
 "nbformat": 4,
 "nbformat_minor": 5
}
