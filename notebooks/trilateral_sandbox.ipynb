{
 "cells": [
  {
   "cell_type": "code",
   "execution_count": 2,
   "id": "a774a481",
   "metadata": {},
   "outputs": [],
   "source": [
    "import math\n",
    "import numpy as np\n",
    "import open3d as o3d\n",
    "from sklearn.cluster import MeanShift\n",
    "import trimesh\n",
    "from utils import trimesh_to_o3d, o3d_to_trimesh, smooth_normals, calc_local_sampling_spacing, find_cyl_neighbours"
   ]
  },
  {
   "cell_type": "code",
   "execution_count": 3,
   "id": "eb472b01",
   "metadata": {},
   "outputs": [],
   "source": [
    "def trilateral_shift(pcd, scan_id, D, alpha=1.0, sigma_factor=1.0):\n",
    "    pts = np.asarray(pcd.points);  nrm = np.asarray(pcd.normals)\n",
    "    new_pts = pts.copy()\n",
    "    for i, (p, n, d) in enumerate(zip(pts, nrm, D)):\n",
    "        r = alpha * d;  h = 2*alpha*d\n",
    "        cyl_mask = np.logical_and.reduce([\n",
    "            np.linalg.norm(np.cross(pts - p, n), axis=1) < r,   # radial\n",
    "            np.abs((pts - p) @ n) < h/2,                        # height\n",
    "            scan_id != scan_id[i]                               # other scan\n",
    "        ])\n",
    "        idx = np.where(cyl_mask)[0]\n",
    "        if idx.size == 0: continue\n",
    "        P = pts[idx]; N = nrm[idx]\n",
    "        ri = np.linalg.norm(P - p - ((P - p) @ n)[:,None]*n, axis=1)\n",
    "        hi = (P - p) @ n\n",
    "        rho = 1./(D[idx]**2); rho_max = rho.max()\n",
    "        w = np.exp(-ri**2/(2*r**2*sigma_factor**2)) \\\n",
    "            * np.exp(-hi**2/(2*h**2*sigma_factor**2)) \\\n",
    "            * np.exp(-(rho-rho_max)**2/(2*(rho_max-rho.min())**2*sigma_factor**2))\n",
    "        shift = (w*hi).sum() / (w.sum() + 1e-12)\n",
    "        new_pts[i] = p + shift * n\n",
    "    pcd.points = o3d.utility.Vector3dVector(new_pts)\n",
    "    return pcd"
   ]
  },
  {
   "cell_type": "code",
   "execution_count": 4,
   "id": "ad56c019",
   "metadata": {},
   "outputs": [],
   "source": [
    "mesh1 = trimesh.load_mesh('meshes/bottle_1.ply')\n",
    "mesh2 = trimesh.load_mesh('meshes/bottle_2.ply')\n",
    "\n",
    "mesh1_o3d = trimesh_to_o3d(mesh1)\n",
    "mesh2_o3d = trimesh_to_o3d(mesh2)"
   ]
  },
  {
   "cell_type": "code",
   "execution_count": 5,
   "id": "97b638ac",
   "metadata": {},
   "outputs": [],
   "source": [
    "points1 = np.asarray(mesh1.vertices)\n",
    "points2 = np.asarray(mesh2.vertices)\n",
    "pointclouds = (points1, points2)\n",
    "points = np.vstack(pointclouds)\n",
    "\n",
    "tree = o3d.geometry.KDTreeFlann(points.T)\n",
    "\n",
    "mesh1_o3d.compute_vertex_normals()\n",
    "mesh2_o3d.compute_vertex_normals()\n",
    "\n",
    "normals1 = np.asarray(mesh1_o3d.vertex_normals)\n",
    "normals2 = np.asarray(mesh2_o3d.vertex_normals)\n",
    "normals = np.concat([normals1, normals2], axis=0)\n",
    "\n",
    "ids = np.concat([np.ones(len(these_points)) * i for (i, these_points) in enumerate(pointclouds)])"
   ]
  },
  {
   "cell_type": "code",
   "execution_count": 6,
   "id": "897aa4eb",
   "metadata": {},
   "outputs": [],
   "source": [
    "normals = smooth_normals(points, normals, k=8, T=0.7, n_iters=5)"
   ]
  },
  {
   "cell_type": "code",
   "execution_count": 7,
   "id": "1b2f31f2",
   "metadata": {},
   "outputs": [],
   "source": [
    "lss1, lsd1 = calc_local_sampling_spacing(mesh1.vertices, np.asarray(mesh1_o3d.vertices))\n",
    "lss2, lsd2 = calc_local_sampling_spacing(mesh2.vertices, np.asarray(mesh2_o3d.vertices))\n",
    "lsss = (lss1, lss2)\n",
    "local_sampling_spacing = np.concat(lsss)\n",
    "\n",
    "global_avg_spacing = (1/len(lsss)) * np.sum([(1/len(lss)) * np.sum(lss) for lss in lsss])"
   ]
  },
  {
   "cell_type": "code",
   "execution_count": 8,
   "id": "f52763c7",
   "metadata": {},
   "outputs": [
    {
     "name": "stdout",
     "output_type": "stream",
     "text": [
      "[ 4  5  3 12  1 13 11 14  6 10 25 24 23 26]\n"
     ]
    }
   ],
   "source": [
    "j = 0\n",
    "\n",
    "pj = points[j]\n",
    "nj = normals[j]\n",
    "\n",
    "alph = 2.0\n",
    "Dpj = local_sampling_spacing[j]\n",
    "r_c = alph * Dpj\n",
    "h_c = 2*alph * Dpj\n",
    "R = np.sqrt(r_c**2 + (h_c/2)**2)\n",
    "\n",
    "N, idx, d2 = tree.search_radius_vector_3d(pj, R)\n",
    "assert N > 1, 'need to find more than one point'\n",
    "\n",
    "neighbour_idx = []\n",
    "for k in np.asarray(idx[1:]):\n",
    "    pk = points[k]\n",
    "    h = abs(np.dot(nj, pk - pj))\n",
    "    \n",
    "    d = pk - pj\n",
    "    dist2 = np.dot(d, d)\n",
    "    r2 = max(dist2 - h*h, 0.0)\n",
    "    r = math.sqrt(r2)\n",
    "    \n",
    "    if h <= 0.5*h_c and r <= r_c:\n",
    "        neighbour_idx.append(k)\n",
    "\n",
    "print(np.array([int(n) for n in neighbour_idx]))"
   ]
  },
  {
   "cell_type": "code",
   "execution_count": 10,
   "id": "6e25a459",
   "metadata": {},
   "outputs": [
    {
     "name": "stdout",
     "output_type": "stream",
     "text": [
      "[ 4  5  3 12  1 13 11 14  6 10 25 24 23 26]\n"
     ]
    }
   ],
   "source": [
    "j = 0\n",
    "pj = points[j]\n",
    "nj = normals[j]\n",
    "alph = 2.0\n",
    "Dpj = local_sampling_spacing[j]\n",
    "neighbour_idx = find_cyl_neighbours(pj, nj, Dpj, alph, points, tree)\n",
    "print(neighbour_idx)"
   ]
  }
 ],
 "metadata": {
  "kernelspec": {
   "display_name": ".venv",
   "language": "python",
   "name": "python3"
  },
  "language_info": {
   "codemirror_mode": {
    "name": "ipython",
    "version": 3
   },
   "file_extension": ".py",
   "mimetype": "text/x-python",
   "name": "python",
   "nbconvert_exporter": "python",
   "pygments_lexer": "ipython3",
   "version": "3.12.3"
  }
 },
 "nbformat": 4,
 "nbformat_minor": 5
}
