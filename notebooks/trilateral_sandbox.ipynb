{
 "cells": [
  {
   "cell_type": "code",
   "execution_count": 55,
   "id": "ce30ba70",
   "metadata": {},
   "outputs": [],
   "source": [
    "import numpy as np\n",
    "import open3d as o3d  # type: ignore\n",
    "\n",
    "from superprimitive_fusion.mesh_fusion_utils import (\n",
    "    smooth_normals,\n",
    "    calc_local_spacing,\n",
    "    compute_overlap_set_cached,\n",
    "    precompute_cyl_neighbours,\n",
    "    trilateral_shift_cached,\n",
    "    find_boundary_edges,\n",
    "    topological_trim,\n",
    "    merge_nearby_clusters,\n",
    ")"
   ]
  },
  {
   "cell_type": "code",
   "execution_count": 56,
   "id": "2fc941ac",
   "metadata": {},
   "outputs": [],
   "source": [
    "mesh1 = o3d.io.read_triangle_mesh(\"meshes/bottle_1.ply\")\n",
    "mesh2 = o3d.io.read_triangle_mesh(\"meshes/bottle_2.ply\")\n",
    "h_alpha: float = 2.5\n",
    "r_alpha: float = 2.0\n",
    "trilat_iters: int = 2\n",
    "nrm_smth_iters: int = 1\n",
    "shift_all: bool = False"
   ]
  },
  {
   "cell_type": "code",
   "execution_count": 57,
   "id": "05e849e3",
   "metadata": {},
   "outputs": [],
   "source": [
    "# ---------------------------------------------------------------------\n",
    "# Raw geometry & attribute extraction\n",
    "# ---------------------------------------------------------------------\n",
    "points1 = np.asarray(mesh1.vertices)\n",
    "points2 = np.asarray(mesh2.vertices)\n",
    "\n",
    "pointclouds = (points1, points2)\n",
    "points = np.vstack(pointclouds)\n",
    "\n",
    "colours1 = mesh1.vertex_colors\n",
    "colours2 = mesh2.vertex_colors\n",
    "colours = np.concatenate([colours1, colours2], axis=0)\n",
    "\n",
    "kd_tree = o3d.geometry.KDTreeFlann(points.T)"
   ]
  },
  {
   "cell_type": "code",
   "execution_count": 58,
   "id": "86c3597f",
   "metadata": {},
   "outputs": [],
   "source": [
    "# ---------------------------------------------------------------------\n",
    "# Normals\n",
    "# ---------------------------------------------------------------------\n",
    "mesh1.compute_vertex_normals()\n",
    "mesh2.compute_vertex_normals()\n",
    "\n",
    "normals1 = np.asarray(mesh1.vertex_normals)\n",
    "normals2 = np.asarray(mesh2.vertex_normals)\n",
    "normals = np.concatenate([normals1, normals2], axis=0)\n",
    "\n",
    "scan_ids = np.concatenate([np.full(len(pts), i) for i, pts in enumerate(pointclouds)])\n",
    "\n",
    "normals = smooth_normals(points, normals, tree=kd_tree, k=8, T=0.7, n_iters=nrm_smth_iters)"
   ]
  },
  {
   "cell_type": "code",
   "execution_count": 59,
   "id": "946b36a3",
   "metadata": {},
   "outputs": [],
   "source": [
    "# ---------------------------------------------------------------------\n",
    "# Local geometric properties\n",
    "# ---------------------------------------------------------------------\n",
    "local_spacing_1, local_density_1 = calc_local_spacing(points1, points1, tree=kd_tree)\n",
    "local_spacing_2, local_density_2 = calc_local_spacing(points2, points2, tree=kd_tree)\n",
    "local_spacings = (local_spacing_1, local_spacing_2)\n",
    "\n",
    "local_spacing = np.concatenate(local_spacings)\n",
    "local_density = np.concatenate((local_density_1, local_density_2))\n",
    "\n",
    "global_avg_spacing = (1 / len(local_spacings)) * np.sum(\n",
    "    [(1 / len(ls)) * np.sum(ls) for ls in local_spacings]\n",
    ")"
   ]
  },
  {
   "cell_type": "code",
   "execution_count": 60,
   "id": "6dbb7c74",
   "metadata": {},
   "outputs": [],
   "source": [
    "# ---------------------------------------------------------------------\n",
    "# Overlap detection\n",
    "# ---------------------------------------------------------------------\n",
    "nbr_cache = precompute_cyl_neighbours(points, normals, local_spacing, r_alpha, h_alpha, kd_tree)\n",
    "\n",
    "overlap_idx, overlap_mask = compute_overlap_set_cached(points, scan_ids, nbr_cache)"
   ]
  },
  {
   "cell_type": "code",
   "execution_count": 61,
   "id": "c0a05bcc",
   "metadata": {},
   "outputs": [],
   "source": [
    "# ---------------------------------------------------------------------\n",
    "# Find overlap boundary edges\n",
    "# ---------------------------------------------------------------------\n",
    "tris1 = np.asarray(mesh1.triangles)\n",
    "tris2 = np.asarray(mesh2.triangles) + len(points1)  # shift indices\n",
    "all_tris = np.concatenate([tris1, tris2], axis=0)\n",
    "\n",
    "nonoverlap_tris = all_tris[~np.all(overlap_mask[all_tris], axis=1)]\n",
    "boundary_edges = find_boundary_edges(nonoverlap_tris)"
   ]
  },
  {
   "cell_type": "code",
   "execution_count": 62,
   "id": "ae1b1772",
   "metadata": {},
   "outputs": [],
   "source": [
    "# ---------------------------------------------------------------------\n",
    "# Trilateral point shifting\n",
    "# ---------------------------------------------------------------------\n",
    "trilat_shifted_pts = points.copy()\n",
    "for _ in range(trilat_iters):\n",
    "    trilat_shifted_pts = trilateral_shift_cached(trilat_shifted_pts, normals, local_spacing, local_density, overlap_idx, nbr_cache, r_alpha, h_alpha, shift_all)\n",
    "    kd_tree = o3d.geometry.KDTreeFlann(trilat_shifted_pts.T)"
   ]
  },
  {
   "cell_type": "code",
   "execution_count": 63,
   "id": "e77907a6",
   "metadata": {},
   "outputs": [],
   "source": [
    "# ---------------------------------------------------------------------\n",
    "# Merge nearby clusters\n",
    "# ---------------------------------------------------------------------\n",
    "cluster_mapping, clustered_overlap_pnts, clustered_overlap_cols, clustered_overlap_nrms = merge_nearby_clusters(\n",
    "    trilat_shifted_pts=trilat_shifted_pts,\n",
    "    normals=normals,\n",
    "    colours=colours,\n",
    "    overlap_mask=overlap_mask,\n",
    "    overlap_idx=overlap_idx,\n",
    "    global_avg_spacing=global_avg_spacing,\n",
    "    h_alpha=h_alpha,\n",
    "    tree=kd_tree,\n",
    ")"
   ]
  },
  {
   "cell_type": "code",
   "execution_count": 64,
   "id": "739a3fef",
   "metadata": {},
   "outputs": [],
   "source": [
    "# ---------------------------------------------------------------------\n",
    "# Classify vertices\n",
    "# ---------------------------------------------------------------------\n",
    "tri_has_overlap_any = overlap_mask[all_tris].any(axis=1)\n",
    "overlap_any_idx = np.unique(all_tris[tri_has_overlap_any])\n",
    "\n",
    "border_mask = np.zeros(len(points), dtype=bool)\n",
    "border_mask[overlap_any_idx] = True\n",
    "border_mask[cluster_mapping != -1] = False\n",
    "\n",
    "nonoverlap_nonborder_mask = np.zeros(len(points), dtype=bool)\n",
    "nonoverlap_nonborder_mask[cluster_mapping == -1] = True\n",
    "nonoverlap_nonborder_mask[border_mask] = False\n",
    "\n",
    "n_overlap = len(clustered_overlap_pnts)\n",
    "n_border = border_mask.sum()\n",
    "n_free = nonoverlap_nonborder_mask.sum()\n",
    "\n",
    "new_points = np.concatenate(\n",
    "    [\n",
    "        clustered_overlap_pnts,\n",
    "        trilat_shifted_pts[border_mask],\n",
    "        trilat_shifted_pts[nonoverlap_nonborder_mask],\n",
    "    ],\n",
    "    axis=0,\n",
    ")\n",
    "new_colours = np.concatenate(\n",
    "    [\n",
    "        clustered_overlap_cols,\n",
    "        colours[border_mask],\n",
    "        colours[nonoverlap_nonborder_mask],\n",
    "    ],\n",
    "    axis=0,\n",
    ")\n",
    "new_normals = np.concatenate(\n",
    "    [\n",
    "        clustered_overlap_nrms,\n",
    "        normals[border_mask],\n",
    "        normals[nonoverlap_nonborder_mask],\n",
    "    ],\n",
    "    axis=0,\n",
    ")\n",
    "\n",
    "new_colours = np.clip(new_colours, 0, 1)"
   ]
  },
  {
   "cell_type": "code",
   "execution_count": 65,
   "id": "82fbc723",
   "metadata": {},
   "outputs": [],
   "source": [
    "# ---------------------------------------------------------------------\n",
    "# Complete mapping\n",
    "# ---------------------------------------------------------------------\n",
    "border_idx_from = np.arange(len(points))[border_mask]\n",
    "border_idx_to = np.arange(n_border) + n_overlap\n",
    "\n",
    "free_idx_from = np.arange(len(points))[nonoverlap_nonborder_mask]\n",
    "free_idx_to = np.arange(n_free) + n_overlap + n_border\n",
    "\n",
    "mapping = cluster_mapping.copy()\n",
    "mapping[border_idx_from] = border_idx_to\n",
    "mapping[free_idx_from] = free_idx_to"
   ]
  },
  {
   "cell_type": "code",
   "execution_count": 66,
   "id": "8bb6fa96",
   "metadata": {},
   "outputs": [
    {
     "data": {
      "text/plain": [
       "TriangleMesh with 3592 points and 6975 triangles."
      ]
     },
     "execution_count": 66,
     "metadata": {},
     "output_type": "execute_result"
    }
   ],
   "source": [
    "# ---------------------------------------------------------------------\n",
    "# Mesh the overlap zone\n",
    "# ---------------------------------------------------------------------\n",
    "pcd = o3d.geometry.PointCloud()\n",
    "pcd.points = o3d.utility.Vector3dVector(new_points[:n_overlap])\n",
    "\n",
    "if new_normals[:n_overlap] is not None:\n",
    "    pcd.normals = o3d.utility.Vector3dVector(new_normals[:n_overlap])\n",
    "else:\n",
    "    pcd.estimate_normals(\n",
    "        search_param=o3d.geometry.KDTreeSearchParamHybrid(\n",
    "            radius=2.5 * global_avg_spacing, max_nn=30\n",
    "        )\n",
    "    )\n",
    "    pcd.orient_normals_consistent_tangent_plane(k=30)\n",
    "\n",
    "ball_r = 1.1 * global_avg_spacing\n",
    "radii = o3d.utility.DoubleVector([ball_r, ball_r * 1.5])\n",
    "\n",
    "overlap_mesh = o3d.geometry.TriangleMesh.create_from_point_cloud_ball_pivoting(\n",
    "    pcd, radii\n",
    ")\n",
    "\n",
    "overlap_mesh.remove_duplicated_vertices()\n",
    "overlap_mesh.remove_duplicated_triangles()\n",
    "overlap_mesh.remove_degenerate_triangles()\n",
    "overlap_mesh.remove_non_manifold_edges()\n",
    "overlap_mesh.compute_vertex_normals()"
   ]
  },
  {
   "cell_type": "code",
   "execution_count": 67,
   "id": "a152d54a",
   "metadata": {},
   "outputs": [
    {
     "data": {
      "text/plain": [
       "TriangleMesh with 4157 points and 8083 triangles."
      ]
     },
     "execution_count": 67,
     "metadata": {},
     "output_type": "execute_result"
    }
   ],
   "source": [
    "# ---------------------------------------------------------------------\n",
    "# Trim overlap mesh\n",
    "# ---------------------------------------------------------------------\n",
    "mapped_boundary_edges = mapping[boundary_edges]\n",
    "relevant_boundary_edges = mapped_boundary_edges[\n",
    "    np.all(mapped_boundary_edges < len(overlap_mesh.vertices), axis=1)\n",
    "]\n",
    "\n",
    "trimmed_overlap_mesh = topological_trim(\n",
    "    overlap_mesh, relevant_boundary_edges\n",
    ")\n",
    "\n",
    "trimmed_overlap_tris = np.asarray(trimmed_overlap_mesh.triangles)\n",
    "fused_mesh_triangles = np.concatenate(\n",
    "    [trimmed_overlap_tris, mapping[nonoverlap_tris]], axis=0\n",
    ")\n",
    "\n",
    "fused_mesh = o3d.geometry.TriangleMesh(\n",
    "    vertices=o3d.utility.Vector3dVector(new_points),\n",
    "    triangles=o3d.utility.Vector3iVector(fused_mesh_triangles),\n",
    ")\n",
    "\n",
    "fused_mesh.vertex_colors = o3d.utility.Vector3dVector(new_colours)\n",
    "\n",
    "fused_mesh.remove_unreferenced_vertices()\n",
    "fused_mesh.remove_duplicated_triangles()\n",
    "fused_mesh.remove_duplicated_vertices()\n",
    "fused_mesh.remove_degenerate_triangles()\n",
    "fused_mesh.remove_non_manifold_edges()\n",
    "fused_mesh.compute_vertex_normals()"
   ]
  },
  {
   "cell_type": "code",
   "execution_count": 68,
   "id": "d3a3604a",
   "metadata": {},
   "outputs": [],
   "source": [
    "o3d.visualization.draw_geometries([fused_mesh])"
   ]
  }
 ],
 "metadata": {
  "kernelspec": {
   "display_name": "msc-project",
   "language": "python",
   "name": "python3"
  },
  "language_info": {
   "codemirror_mode": {
    "name": "ipython",
    "version": 3
   },
   "file_extension": ".py",
   "mimetype": "text/x-python",
   "name": "python",
   "nbconvert_exporter": "python",
   "pygments_lexer": "ipython3",
   "version": "3.12.3"
  }
 },
 "nbformat": 4,
 "nbformat_minor": 5
}
