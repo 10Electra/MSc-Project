{
 "cells": [
  {
   "cell_type": "code",
   "execution_count": 1,
   "id": "ce30ba70",
   "metadata": {},
   "outputs": [
    {
     "name": "stdout",
     "output_type": "stream",
     "text": [
      "Jupyter environment detected. Enabling Open3D WebVisualizer.\n",
      "[Open3D INFO] WebRTC GUI backend enabled.\n",
      "[Open3D INFO] WebRTCWindowSystem: HTTP handshake server disabled.\n"
     ]
    }
   ],
   "source": [
    "import numpy as np\n",
    "import open3d as o3d  # type: ignore\n",
    "\n",
    "from superprimitive_fusion.mesh_fusion_utils import (\n",
    "    smooth_normals,\n",
    "    calc_local_spacing,\n",
    "    compute_overlap_set_cached,\n",
    "    smooth_overlap_set_cached,\n",
    "    precompute_cyl_neighbours,\n",
    "    trilateral_shift_cached,\n",
    "    find_boundary_edges,\n",
    "    topological_trim,\n",
    "    merge_nearby_clusters,\n",
    ")\n",
    "from superprimitive_fusion.scanner import (\n",
    "    virtual_rgbd_scan\n",
    ")\n",
    "from superprimitive_fusion.utils import (\n",
    "    bake_uv_to_vertex_colours,\n",
    "    polar2cartesian,\n",
    ")"
   ]
  },
  {
   "cell_type": "code",
   "execution_count": 2,
   "id": "113c569d",
   "metadata": {},
   "outputs": [],
   "source": [
    "mesh = o3d.io.read_triangle_mesh(\"../data/mustard-bottle/textured.obj\", enable_post_processing=True)\n",
    "\n",
    "bake_uv_to_vertex_colours(mesh)\n",
    "\n",
    "mesh.compute_vertex_normals()\n",
    "\n",
    "bb = mesh.get_minimal_oriented_bounding_box()\n",
    "scale = np.mean(bb.get_max_bound())"
   ]
  },
  {
   "cell_type": "code",
   "execution_count": 3,
   "id": "dab3d671",
   "metadata": {},
   "outputs": [],
   "source": [
    "scans = []\n",
    "for i in range(2):\n",
    "    mesh_scan, pcd_scan = virtual_rgbd_scan(\n",
    "        mesh,\n",
    "        cam_centre=polar2cartesian(r=0.3, lat=60, long=0+60*i),\n",
    "        look_dir=(0, 0, 0),\n",
    "        width_px=180,\n",
    "        height_px=120,\n",
    "        fov=70,\n",
    "        dropout_rate=0,\n",
    "        depth_error_std=0.002*scale,\n",
    "        translation_error_std=0,#0.02*scale,\n",
    "        rotation_error_std_degs=0,\n",
    "        dist_thresh=0.25*scale,\n",
    "    )\n",
    "    scans.append(mesh_scan)\n",
    "\n",
    "o3d.visualization.draw_geometries(\n",
    "    scans,\n",
    "    window_name=\"Virtual scan\",\n",
    "    front=[0.3, 1, 0],\n",
    "    lookat=[0, 0, 0],\n",
    "    up=[0, 0, 1],\n",
    "    zoom=0.7,\n",
    ")"
   ]
  },
  {
   "cell_type": "code",
   "execution_count": 4,
   "id": "2fc941ac",
   "metadata": {},
   "outputs": [],
   "source": [
    "# mesh1 = o3d.io.read_triangle_mesh(\"meshes/bottle_1.ply\")\n",
    "# mesh2 = o3d.io.read_triangle_mesh(\"meshes/bottle_2.ply\")\n",
    "mesh1 = scans[0]\n",
    "mesh2 = scans[1]\n",
    "h_alpha: float = 3.0\n",
    "r_alpha: float = 2.0\n",
    "trilat_iters: int = 2\n",
    "nrm_smth_iters: int = 1\n",
    "shift_all: bool = False"
   ]
  },
  {
   "cell_type": "code",
   "execution_count": 5,
   "id": "05e849e3",
   "metadata": {},
   "outputs": [],
   "source": [
    "# ---------------------------------------------------------------------\n",
    "# Raw geometry & attribute extraction\n",
    "# ---------------------------------------------------------------------\n",
    "points1 = np.asarray(mesh1.vertices)\n",
    "points2 = np.asarray(mesh2.vertices)\n",
    "\n",
    "pointclouds = (points1, points2)\n",
    "points = np.vstack(pointclouds)\n",
    "\n",
    "colours1 = mesh1.vertex_colors\n",
    "colours2 = mesh2.vertex_colors\n",
    "colours = np.concatenate([colours1, colours2], axis=0)\n",
    "\n",
    "kd_tree = o3d.geometry.KDTreeFlann(points.T)"
   ]
  },
  {
   "cell_type": "code",
   "execution_count": 6,
   "id": "86c3597f",
   "metadata": {},
   "outputs": [],
   "source": [
    "# ---------------------------------------------------------------------\n",
    "# Normals\n",
    "# ---------------------------------------------------------------------\n",
    "mesh1.compute_vertex_normals()\n",
    "mesh2.compute_vertex_normals()\n",
    "\n",
    "normals1 = np.asarray(mesh1.vertex_normals)\n",
    "normals2 = np.asarray(mesh2.vertex_normals)\n",
    "normals = np.concatenate([normals1, normals2], axis=0)\n",
    "\n",
    "scan_ids = np.concatenate([np.full(len(pts), i) for i, pts in enumerate(pointclouds)])\n",
    "\n",
    "normals = smooth_normals(points, normals, tree=kd_tree, k=8, T=0.7, n_iters=nrm_smth_iters)"
   ]
  },
  {
   "cell_type": "code",
   "execution_count": 7,
   "id": "946b36a3",
   "metadata": {},
   "outputs": [],
   "source": [
    "# ---------------------------------------------------------------------\n",
    "# Local geometric properties\n",
    "# ---------------------------------------------------------------------\n",
    "local_spacing_1, local_density_1 = calc_local_spacing(points1, points1, tree=kd_tree)\n",
    "local_spacing_2, local_density_2 = calc_local_spacing(points2, points2, tree=kd_tree)\n",
    "local_spacings = (local_spacing_1, local_spacing_2)\n",
    "\n",
    "local_spacing = np.concatenate(local_spacings)\n",
    "local_density = np.concatenate((local_density_1, local_density_2))\n",
    "\n",
    "global_avg_spacing = (1 / len(local_spacings)) * np.sum(\n",
    "    [(1 / len(ls)) * np.sum(ls) for ls in local_spacings]\n",
    ")"
   ]
  },
  {
   "cell_type": "code",
   "execution_count": 8,
   "id": "5abc387c",
   "metadata": {},
   "outputs": [],
   "source": [
    "# ---------------------------------------------------------------------\n",
    "# Overlap detection\n",
    "# ---------------------------------------------------------------------\n",
    "nbr_cache = precompute_cyl_neighbours(points, normals, local_spacing, r_alpha, h_alpha, kd_tree)\n",
    "\n",
    "overlap_idx, overlap_mask = compute_overlap_set_cached(scan_ids, nbr_cache)\n",
    "overlap_idx, overlap_mask = smooth_overlap_set_cached(overlap_mask, nbr_cache)\n",
    "overlap_idx, overlap_mask = smooth_overlap_set_cached(overlap_mask, nbr_cache, p_thresh=1)"
   ]
  },
  {
   "cell_type": "code",
   "execution_count": 9,
   "id": "94e4a881",
   "metadata": {},
   "outputs": [],
   "source": [
    "debug_colours = np.array([\n",
    "    [255,   0,   0],\n",
    "    [  0, 255,   0],\n",
    "])\n",
    "f0 = overlap_mask\n",
    "f1 = ~overlap_mask\n",
    "filters = np.column_stack((f0, f1))\n",
    "idx = filters.argmax(axis=1)\n",
    "row_colours = debug_colours[idx]\n",
    "# row_colours[oidx] = np.array([0,0,0])\n",
    "\n",
    "pcd = o3d.geometry.PointCloud()\n",
    "pcd.points = o3d.utility.Vector3dVector(points)\n",
    "pcd.colors = o3d.utility.Vector3dVector(row_colours)\n",
    "\n",
    "# o3d.visualization.draw_geometries([pcd])"
   ]
  },
  {
   "cell_type": "code",
   "execution_count": 10,
   "id": "25984fee",
   "metadata": {},
   "outputs": [],
   "source": [
    "m1 = scan_ids==0\n",
    "m2 = overlap_mask\n",
    "debug_colours = np.array([\n",
    "    [255,   0,   0],\n",
    "    [  0, 255,   0],\n",
    "    [  0,   0, 255],\n",
    "    [255,   0, 255],\n",
    "])\n",
    "f0 = ~m1 & ~m2\n",
    "f1 =  m1 & ~m2\n",
    "f2 = ~m1 &  m2\n",
    "f3 =  m1 &  m2\n",
    "filters = np.column_stack((f0, f1, f2, f3))\n",
    "idx = filters.argmax(axis=1)\n",
    "row_colours = debug_colours[idx]\n",
    "\n",
    "pcd = o3d.geometry.PointCloud()\n",
    "pcd.points = o3d.utility.Vector3dVector(points)\n",
    "pcd.colors = o3d.utility.Vector3dVector(row_colours)\n",
    "\n",
    "# o3d.visualization.draw_geometries([pcd])"
   ]
  },
  {
   "cell_type": "code",
   "execution_count": 11,
   "id": "c0a05bcc",
   "metadata": {},
   "outputs": [],
   "source": [
    "# ---------------------------------------------------------------------\n",
    "# Find overlap boundary edges\n",
    "# ---------------------------------------------------------------------\n",
    "tris1 = np.asarray(mesh1.triangles)\n",
    "tris2 = np.asarray(mesh2.triangles) + len(points1)  # shift indices\n",
    "all_tris = np.concatenate([tris1, tris2], axis=0)\n",
    "\n",
    "nonoverlap_tris = all_tris[~np.all(overlap_mask[all_tris], axis=1)]\n",
    "boundary_edges = find_boundary_edges(nonoverlap_tris)"
   ]
  },
  {
   "cell_type": "code",
   "execution_count": 12,
   "id": "ae1b1772",
   "metadata": {},
   "outputs": [],
   "source": [
    "# ---------------------------------------------------------------------\n",
    "# Trilateral point shifting\n",
    "# ---------------------------------------------------------------------\n",
    "trilat_shifted_pts = points.copy()\n",
    "for _ in range(trilat_iters):\n",
    "    trilat_shifted_pts = trilateral_shift_cached(trilat_shifted_pts, normals, local_spacing, local_density, overlap_idx, nbr_cache, r_alpha, h_alpha, shift_all)\n",
    "\n",
    "kd_tree = o3d.geometry.KDTreeFlann(trilat_shifted_pts.T)"
   ]
  },
  {
   "cell_type": "code",
   "execution_count": 13,
   "id": "e77907a6",
   "metadata": {},
   "outputs": [],
   "source": [
    "# ---------------------------------------------------------------------\n",
    "# Merge nearby clusters\n",
    "# ---------------------------------------------------------------------\n",
    "cluster_mapping, clustered_overlap_pnts, clustered_overlap_cols, clustered_overlap_nrms = merge_nearby_clusters(\n",
    "    trilat_shifted_pts=trilat_shifted_pts,\n",
    "    normals=normals,\n",
    "    colours=colours,\n",
    "    overlap_mask=overlap_mask,\n",
    "    overlap_idx=overlap_idx,\n",
    "    global_avg_spacing=global_avg_spacing,\n",
    "    h_alpha=h_alpha,\n",
    "    tree=kd_tree,\n",
    ")"
   ]
  },
  {
   "cell_type": "code",
   "execution_count": 14,
   "id": "739a3fef",
   "metadata": {},
   "outputs": [],
   "source": [
    "# ---------------------------------------------------------------------\n",
    "# Classify vertices\n",
    "# ---------------------------------------------------------------------\n",
    "tri_has_overlap_any = overlap_mask[all_tris].any(axis=1)\n",
    "overlap_any_idx = np.unique(all_tris[tri_has_overlap_any])\n",
    "\n",
    "border_mask = np.zeros(len(points), dtype=bool)\n",
    "border_mask[overlap_any_idx] = True\n",
    "border_mask[cluster_mapping != -1] = False\n",
    "\n",
    "nonoverlap_nonborder_mask = np.zeros(len(points), dtype=bool)\n",
    "nonoverlap_nonborder_mask[cluster_mapping == -1] = True\n",
    "nonoverlap_nonborder_mask[border_mask] = False\n",
    "\n",
    "n_overlap = len(clustered_overlap_pnts)\n",
    "n_border = border_mask.sum()\n",
    "n_free = nonoverlap_nonborder_mask.sum()\n",
    "\n",
    "new_points = np.concatenate(\n",
    "    [\n",
    "        clustered_overlap_pnts,\n",
    "        trilat_shifted_pts[border_mask],\n",
    "        trilat_shifted_pts[nonoverlap_nonborder_mask],\n",
    "    ],\n",
    "    axis=0,\n",
    ")\n",
    "new_colours = np.concatenate(\n",
    "    [\n",
    "        clustered_overlap_cols,\n",
    "        colours[border_mask],\n",
    "        colours[nonoverlap_nonborder_mask],\n",
    "    ],\n",
    "    axis=0,\n",
    ")\n",
    "new_normals = np.concatenate(\n",
    "    [\n",
    "        clustered_overlap_nrms,\n",
    "        normals[border_mask],\n",
    "        normals[nonoverlap_nonborder_mask],\n",
    "    ],\n",
    "    axis=0,\n",
    ")\n",
    "\n",
    "new_colours = np.clip(new_colours, 0, 1)"
   ]
  },
  {
   "cell_type": "code",
   "execution_count": 15,
   "id": "82fbc723",
   "metadata": {},
   "outputs": [],
   "source": [
    "# ---------------------------------------------------------------------\n",
    "# Complete mapping\n",
    "# ---------------------------------------------------------------------\n",
    "border_idx_from = np.arange(len(points))[border_mask]\n",
    "border_idx_to = np.arange(n_border) + n_overlap\n",
    "\n",
    "free_idx_from = np.arange(len(points))[nonoverlap_nonborder_mask]\n",
    "free_idx_to = np.arange(n_free) + n_overlap + n_border\n",
    "\n",
    "mapping = cluster_mapping.copy()\n",
    "mapping[border_idx_from] = border_idx_to\n",
    "mapping[free_idx_from] = free_idx_to"
   ]
  },
  {
   "cell_type": "code",
   "execution_count": 16,
   "id": "8bb6fa96",
   "metadata": {},
   "outputs": [
    {
     "data": {
      "text/plain": [
       "TriangleMesh with 2657 points and 5165 triangles."
      ]
     },
     "execution_count": 16,
     "metadata": {},
     "output_type": "execute_result"
    }
   ],
   "source": [
    "# ---------------------------------------------------------------------\n",
    "# Mesh the overlap zone\n",
    "# ---------------------------------------------------------------------\n",
    "pcd = o3d.geometry.PointCloud()\n",
    "pcd.points = o3d.utility.Vector3dVector(new_points[:n_overlap])\n",
    "\n",
    "if new_normals[:n_overlap] is not None:\n",
    "    pcd.normals = o3d.utility.Vector3dVector(new_normals[:n_overlap])\n",
    "else:\n",
    "    pcd.estimate_normals(\n",
    "        search_param=o3d.geometry.KDTreeSearchParamHybrid(\n",
    "            radius=2.5 * global_avg_spacing, max_nn=30\n",
    "        )\n",
    "    )\n",
    "    pcd.orient_normals_consistent_tangent_plane(k=30)\n",
    "\n",
    "r_min = global_avg_spacing\n",
    "radii = o3d.utility.DoubleVector(np.geomspace(r_min, r_min*4, num=5))\n",
    "\n",
    "overlap_mesh = o3d.geometry.TriangleMesh.create_from_point_cloud_ball_pivoting(\n",
    "    pcd, radii\n",
    ")\n",
    "\n",
    "overlap_mesh.remove_duplicated_vertices()\n",
    "overlap_mesh.remove_duplicated_triangles()\n",
    "overlap_mesh.remove_degenerate_triangles()\n",
    "overlap_mesh.remove_non_manifold_edges()\n",
    "overlap_mesh.compute_vertex_normals()"
   ]
  },
  {
   "cell_type": "code",
   "execution_count": 17,
   "id": "4a60f822",
   "metadata": {},
   "outputs": [],
   "source": [
    "pcd = o3d.geometry.PointCloud()\n",
    "pcd.points = o3d.utility.Vector3dVector(new_points)\n",
    "colours = np.concatenate([\n",
    "    np.full((n_overlap,3),[255, 0, 0]),\n",
    "    np.full((n_border,3), [0, 255, 0]),\n",
    "    np.full((n_free,3),   [0, 0, 255]),\n",
    "])\n",
    "pcd.colors = o3d.utility.Vector3dVector(colours)\n",
    "\n",
    "# o3d.visualization.draw_geometries([overlap_mesh, pcd])"
   ]
  },
  {
   "cell_type": "code",
   "execution_count": 18,
   "id": "1916ee07",
   "metadata": {},
   "outputs": [],
   "source": [
    "new_nonoverlap_tris = mapping[nonoverlap_tris]\n",
    "nonoverlap_mesh = o3d.geometry.TriangleMesh(\n",
    "    vertices=o3d.utility.Vector3dVector(new_points),\n",
    "    triangles=o3d.utility.Vector3iVector(new_nonoverlap_tris),\n",
    ")\n",
    "\n",
    "# o3d.visualization.draw_geometries([nonoverlap_mesh, pcd])"
   ]
  },
  {
   "cell_type": "code",
   "execution_count": 19,
   "id": "a81e0a08",
   "metadata": {},
   "outputs": [],
   "source": [
    "# o3d.visualization.draw_geometries([mesh1, mesh2, pcd])"
   ]
  },
  {
   "cell_type": "code",
   "execution_count": 19,
   "id": "a152d54a",
   "metadata": {},
   "outputs": [],
   "source": [
    "# ---------------------------------------------------------------------\n",
    "# Trim overlap mesh\n",
    "# ---------------------------------------------------------------------\n",
    "mapped_boundary_edges = mapping[boundary_edges]\n",
    "relevant_boundary_edges = mapped_boundary_edges[\n",
    "    np.all(mapped_boundary_edges < len(overlap_mesh.vertices), axis=1)\n",
    "]\n",
    "\n",
    "trimmed_overlap_mesh = topological_trim(\n",
    "    overlap_mesh, relevant_boundary_edges\n",
    ")\n",
    "\n",
    "# o3d.visualization.draw_geometries([trimmed_overlap_mesh, pcd])"
   ]
  },
  {
   "cell_type": "code",
   "execution_count": 20,
   "id": "6be5b830",
   "metadata": {},
   "outputs": [],
   "source": [
    "trimmed_overlap_tris = np.asarray(trimmed_overlap_mesh.triangles)\n",
    "fused_mesh_triangles = np.concatenate(\n",
    "    [trimmed_overlap_tris, mapping[nonoverlap_tris]], axis=0\n",
    ")\n",
    "\n",
    "# fused_mesh = o3d.geometry.TriangleMesh(\n",
    "#     vertices=o3d.utility.Vector3dVector(new_points),\n",
    "#     triangles=o3d.utility.Vector3iVector(fused_mesh_triangles),\n",
    "# )\n",
    "\n",
    "# fused_mesh.vertex_colors = o3d.utility.Vector3dVector(new_colours)\n",
    "\n",
    "# fused_mesh.remove_unreferenced_vertices()\n",
    "# fused_mesh.remove_duplicated_triangles()\n",
    "# fused_mesh.remove_duplicated_vertices()\n",
    "# fused_mesh.remove_degenerate_triangles()\n",
    "# fused_mesh.remove_non_manifold_edges()\n",
    "\n",
    "# o3d.visualization.draw_geometries([fused_mesh, pcd])"
   ]
  },
  {
   "cell_type": "code",
   "execution_count": 21,
   "id": "aca76d7c",
   "metadata": {},
   "outputs": [
    {
     "ename": "",
     "evalue": "",
     "output_type": "error",
     "traceback": [
      "\u001b[1;31mThe Kernel crashed while executing code in the current cell or a previous cell. \n",
      "\u001b[1;31mPlease review the code in the cell(s) to identify a possible cause of the failure. \n",
      "\u001b[1;31mClick <a href='https://aka.ms/vscodeJupyterKernelCrash'>here</a> for more info. \n",
      "\u001b[1;31mView Jupyter <a href='command:jupyter.viewOutput'>log</a> for further details."
     ]
    }
   ],
   "source": [
    "import pymeshfix\n",
    "\n",
    "mf = pymeshfix.PyTMesh()\n",
    "mf.load_array(new_points, fused_mesh_triangles)\n",
    "mf.fill_small_boundaries(nbe=10)\n",
    "\n",
    "points, faces = mf.return_arrays()\n",
    "\n",
    "repaired = o3d.geometry.TriangleMesh()\n",
    "repaired.vertices = o3d.utility.Vector3dVector(points)\n",
    "repaired.triangles = o3d.utility.Vector3iVector(faces)\n",
    "repaired.vertex_colors = o3d.utility.Vector3dVector(new_colours)\n",
    "\n",
    "o3d.visualization.draw_geometries([repaired])"
   ]
  }
 ],
 "metadata": {
  "kernelspec": {
   "display_name": "msc-project",
   "language": "python",
   "name": "python3"
  },
  "language_info": {
   "codemirror_mode": {
    "name": "ipython",
    "version": 3
   },
   "file_extension": ".py",
   "mimetype": "text/x-python",
   "name": "python",
   "nbconvert_exporter": "python",
   "pygments_lexer": "ipython3",
   "version": "3.12.3"
  }
 },
 "nbformat": 4,
 "nbformat_minor": 5
}
