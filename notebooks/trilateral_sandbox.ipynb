{
 "cells": [
  {
   "cell_type": "code",
   "execution_count": 7,
   "id": "a774a481",
   "metadata": {},
   "outputs": [],
   "source": [
    "import numpy as np\n",
    "import open3d as o3d\n",
    "from sklearn.cluster import MeanShift\n",
    "import trimesh\n",
    "from utils import trimesh_to_o3d, o3d_to_trimesh"
   ]
  },
  {
   "cell_type": "code",
   "execution_count": null,
   "id": "eb472b01",
   "metadata": {},
   "outputs": [],
   "source": [
    "def local_spacing(pcd, k=25):\n",
    "    # estimate D(p) for every point\n",
    "    tree = o3d.geometry.KDTreeFlann(pcd)\n",
    "    D = np.empty(len(pcd.points))\n",
    "    for idx, p in enumerate(pcd.points):\n",
    "        _, idxs, dists = tree.search_knn_vector_2d(p, k)\n",
    "        D[idx] = np.sqrt(dists[-2])        # r = max distance\n",
    "    return D\n",
    "\n",
    "def trilateral_shift(pcd, scan_id, D, alpha=1.0, sigma_factor=1.0):\n",
    "    pts = np.asarray(pcd.points);  nrm = np.asarray(pcd.normals)\n",
    "    new_pts = pts.copy()\n",
    "    for i, (p, n, d) in enumerate(zip(pts, nrm, D)):\n",
    "        r = alpha * d;  h = 2*alpha*d\n",
    "        cyl_mask = np.logical_and.reduce([\n",
    "            np.linalg.norm(np.cross(pts - p, n), axis=1) < r,   # radial\n",
    "            np.abs((pts - p) @ n) < h/2,                        # height\n",
    "            scan_id != scan_id[i]                               # other scan\n",
    "        ])\n",
    "        idx = np.where(cyl_mask)[0]\n",
    "        if idx.size == 0: continue\n",
    "        P = pts[idx]; N = nrm[idx]\n",
    "        ri = np.linalg.norm(P - p - ((P - p) @ n)[:,None]*n, axis=1)\n",
    "        hi = (P - p) @ n\n",
    "        rho = 1./(D[idx]**2); rho_max = rho.max()\n",
    "        w = np.exp(-ri**2/(2*r**2*sigma_factor**2)) \\\n",
    "            * np.exp(-hi**2/(2*h**2*sigma_factor**2)) \\\n",
    "            * np.exp(-(rho-rho_max)**2/(2*(rho_max-rho.min())**2*sigma_factor**2))\n",
    "        shift = (w*hi).sum() / (w.sum() + 1e-12)\n",
    "        new_pts[i] = p + shift * n\n",
    "    pcd.points = o3d.utility.Vector3dVector(new_pts)\n",
    "    return pcd"
   ]
  },
  {
   "cell_type": "code",
   "execution_count": null,
   "id": "46850451",
   "metadata": {},
   "outputs": [],
   "source": [
    "import numpy as np\n",
    "import open3d as o3d\n",
    "from typing import Tuple, Union\n",
    "\n",
    "def local_sampling_spacing(\n",
    "        query: np.ndarray,\n",
    "        points: Union[o3d.geometry.PointCloud, np.ndarray],\n",
    "        k: int = 25,\n",
    "        tree: o3d.geometry.KDTreeFlann = None\n",
    ") -> Tuple[np.ndarray, np.ndarray]:\n",
    "    \"\"\"Estimate local sample spacing D(p_j) around each of the query points p_j.\n",
    "\n",
    "    Args:\n",
    "        query (np.ndarray): array of query points\n",
    "        points (np.ndarray): array of all points in the pointcloud\n",
    "        k (int, optional): number of nearest neighbours to find. Defaults to 25.\n",
    "        tree (o3d.geometry.KDTreeFlann, optional): tree to seach for nearest neighbours. Defaults to None.\n",
    "\n",
    "    Raises:\n",
    "        ValueError: points must be a (N,3) array\n",
    "        ValueError: query must be a (N,3) array\n",
    "        ValueError: there must be at least k neighbours in the pointcloud\n",
    "\n",
    "    Returns:\n",
    "        Tuple[np.ndarray, np.ndarray]: local sample spacings, local sample densities\n",
    "    \"\"\"\n",
    "    if not (isinstance(points, o3d.geometry.PointCloud) or isinstance(points, np.ndarray)):\n",
    "        raise TypeError(\"points must be either an o3d pointcloud or a numpy ndarray\")\n",
    "    if isinstance(points, np.ndarray) and (points.ndim != 2 or points.shape[1] != 3):\n",
    "        raise ValueError(\"points must be a (N,3) array\")\n",
    "    if query.ndim != 2 or query.shape[1] != 3:\n",
    "        raise ValueError(\"query must be a (N,3) array\")\n",
    "\n",
    "    if tree is None:\n",
    "        tree = o3d.geometry.KDTreeFlann(points.transpose())\n",
    "\n",
    "    q = query.reshape(-1, 3)\n",
    "    n_query = q.shape[0]\n",
    "\n",
    "    D = np.empty(n_query)\n",
    "    rho = np.empty(n_query)\n",
    "\n",
    "    for i, p in enumerate(q):\n",
    "        # k + 1 because the first hit is p itself with distance=0\n",
    "        _, idx, d2 = tree.search_knn_vector_3d(p, k + 1)\n",
    "\n",
    "        if len(idx) < k + 1:\n",
    "            raise ValueError(f\"Found only {len(idx)-1} neighbours; \"\n",
    "                             f\"increase point cloud size or reduce k.\")\n",
    "\n",
    "        r_k2 = d2[-1]               # Squared distance to k-th real neighbour\n",
    "        rho[i] = k / (np.pi * r_k2)\n",
    "        D[i]  = 1.0 / np.sqrt(rho[i])\n",
    "\n",
    "    # Return scalars if a single point was given\n",
    "    if query.ndim == 1 or query.shape[0] == 1:\n",
    "        return D[0], rho[0]\n",
    "    return D, rho\n"
   ]
  },
  {
   "cell_type": "code",
   "execution_count": 11,
   "id": "ad56c019",
   "metadata": {},
   "outputs": [],
   "source": [
    "mesh1 = trimesh.load_mesh('meshes/bottle_1.ply')\n",
    "mesh2 = trimesh.load_mesh('meshes/bottle_2.ply')\n",
    "\n",
    "mesh1_o3d = trimesh_to_o3d(mesh1)\n",
    "mesh2_o3d = trimesh_to_o3d(mesh2)\n",
    "\n",
    "pcd_1 = o3d.geometry.PointCloud()\n",
    "pcd_2 = o3d.geometry.PointCloud()\n",
    "pcd_1.points = mesh1_o3d.vertices\n",
    "pcd_2.points = mesh2_o3d.vertices"
   ]
  },
  {
   "cell_type": "code",
   "execution_count": 30,
   "id": "d2035d90",
   "metadata": {},
   "outputs": [
    {
     "name": "stdout",
     "output_type": "stream",
     "text": [
      "[0.00809955 0.00878236 0.01072631 ... 0.00753483 0.00774    0.00787873]\n",
      "(array([0.00287345, 0.00320869, 0.00384399, ..., 0.0026871 , 0.0028199 ,\n",
      "       0.00286917]), array([121113.64897006,  97128.27252865,  67676.25579015, ...,\n",
      "       138494.66088189, 125756.90610107, 121474.83015164]))\n"
     ]
    }
   ],
   "source": [
    "print(local_spacing(pcd_1))\n",
    "print(local_sampling_spacing(np.asarray(pcd_1.points), np.asarray(pcd_1.points)))"
   ]
  }
 ],
 "metadata": {
  "kernelspec": {
   "display_name": "project",
   "language": "python",
   "name": "python3"
  },
  "language_info": {
   "codemirror_mode": {
    "name": "ipython",
    "version": 3
   },
   "file_extension": ".py",
   "mimetype": "text/x-python",
   "name": "python",
   "nbconvert_exporter": "python",
   "pygments_lexer": "ipython3",
   "version": "3.10.18"
  }
 },
 "nbformat": 4,
 "nbformat_minor": 5
}
