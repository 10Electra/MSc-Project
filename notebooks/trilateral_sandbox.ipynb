{
 "cells": [
  {
   "cell_type": "code",
   "execution_count": 18,
   "id": "a774a481",
   "metadata": {},
   "outputs": [],
   "source": [
    "import math\n",
    "import numpy as np\n",
    "import open3d as o3d\n",
    "from sklearn.cluster import MeanShift\n",
    "import trimesh\n",
    "from trimesh import Trimesh\n",
    "from utils import (\n",
    "    trimesh_to_o3d,\n",
    "    o3d_to_trimesh,\n",
    "    smooth_normals,\n",
    "    calc_local_spacing,\n",
    "    find_cyl_neighbours,\n",
    "    calc_local_spacing,\n",
    "    compute_overlap_set,\n",
    "    trilateral_shift,\n",
    "    get_o3d_colours_from_trimesh,\n",
    ")"
   ]
  },
  {
   "cell_type": "markdown",
   "id": "fc8db76a",
   "metadata": {},
   "source": [
    "### Load meshes and extract data"
   ]
  },
  {
   "cell_type": "code",
   "execution_count": 19,
   "id": "ad56c019",
   "metadata": {},
   "outputs": [],
   "source": [
    "mesh1 = trimesh.load_mesh('meshes/bottle_1.ply')\n",
    "mesh2 = trimesh.load_mesh('meshes/bottle_2.ply')\n",
    "\n",
    "mesh1_o3d = trimesh_to_o3d(mesh1)\n",
    "mesh2_o3d = trimesh_to_o3d(mesh2)"
   ]
  },
  {
   "cell_type": "code",
   "execution_count": 20,
   "id": "97b638ac",
   "metadata": {},
   "outputs": [],
   "source": [
    "points1 = np.asarray(mesh1.vertices)\n",
    "points2 = np.asarray(mesh2.vertices)\n",
    "pointclouds = (points1, points2)\n",
    "points = np.vstack(pointclouds)\n",
    "\n",
    "colours1 = mesh1.visual.vertex_colors\n",
    "colours2 = mesh2.visual.vertex_colors\n",
    "colours = np.concat([colours1, colours2])\n",
    "\n",
    "tree = o3d.geometry.KDTreeFlann(points.T)\n",
    "\n",
    "mesh1_o3d.compute_vertex_normals()\n",
    "mesh2_o3d.compute_vertex_normals()\n",
    "\n",
    "normals1 = np.asarray(mesh1_o3d.vertex_normals)\n",
    "normals2 = np.asarray(mesh2_o3d.vertex_normals)\n",
    "normals = np.concat([normals1, normals2], axis=0)\n",
    "\n",
    "scan_ids = np.concat([np.ones(len(these_points)) * i for (i, these_points) in enumerate(pointclouds)])"
   ]
  },
  {
   "cell_type": "code",
   "execution_count": 21,
   "id": "34419e22",
   "metadata": {},
   "outputs": [],
   "source": [
    "pcd = o3d.geometry.PointCloud()\n",
    "pcd.points = o3d.utility.Vector3dVector(points)\n",
    "pcd.colors = get_o3d_colours_from_trimesh(colours)\n",
    "\n",
    "# o3d.visualization.draw_geometries([pcd])"
   ]
  },
  {
   "cell_type": "markdown",
   "id": "4bb46aad",
   "metadata": {},
   "source": [
    "### Smooth normals and calculate local properties"
   ]
  },
  {
   "cell_type": "code",
   "execution_count": 22,
   "id": "897aa4eb",
   "metadata": {},
   "outputs": [],
   "source": [
    "normals = smooth_normals(points, normals, k=8, T=0.7, n_iters=5)"
   ]
  },
  {
   "cell_type": "code",
   "execution_count": 23,
   "id": "1b2f31f2",
   "metadata": {},
   "outputs": [],
   "source": [
    "local_spacing_1, local_density_1 = calc_local_spacing(mesh1.vertices, np.asarray(mesh1_o3d.vertices))\n",
    "local_spacing_2, local_density_2 = calc_local_spacing(mesh2.vertices, np.asarray(mesh2_o3d.vertices))\n",
    "local_spacings = (local_spacing_1, local_spacing_2)\n",
    "local_spacing = np.concat(local_spacings)\n",
    "\n",
    "local_density = np.concat((local_spacing_1, local_spacing_2))\n",
    "\n",
    "global_avg_spacing = (1/len(local_spacings)) * np.sum([(1/len(localspacing)) * np.sum(localspacing) for localspacing in local_spacings])"
   ]
  },
  {
   "cell_type": "markdown",
   "id": "1f9acf33",
   "metadata": {},
   "source": [
    "### Calculate overlapping region"
   ]
  },
  {
   "cell_type": "code",
   "execution_count": 24,
   "id": "8eaff534",
   "metadata": {},
   "outputs": [],
   "source": [
    "h_alpha = 2.5\n",
    "r_alpha = 2\n",
    "overlap_idx, overlap_mask = compute_overlap_set(points, normals, local_spacing, scan_ids, h_alpha, r_alpha, tree)"
   ]
  },
  {
   "cell_type": "code",
   "execution_count": 25,
   "id": "11a106d3",
   "metadata": {},
   "outputs": [],
   "source": [
    "tris = np.asarray(mesh1_o3d.triangles)\n",
    "tris_to_keep = tris[~np.all(overlap_mask[tris], axis=1)] # Tris where at most two vertices are in the overlap set\n",
    "\n",
    "mesh = Trimesh(points, tris_to_keep)\n",
    "# mesh.show()"
   ]
  },
  {
   "cell_type": "markdown",
   "id": "890b75da",
   "metadata": {},
   "source": [
    "### Perform trilateral point shifting"
   ]
  },
  {
   "cell_type": "code",
   "execution_count": 26,
   "id": "0105a06e",
   "metadata": {},
   "outputs": [],
   "source": [
    "trilat_shifted_pts = points\n",
    "for i in range(3):\n",
    "    trilat_shifted_pts = trilateral_shift(trilat_shifted_pts, normals, local_spacing, local_density, overlap_idx, tree, r_alpha, h_alpha)"
   ]
  },
  {
   "cell_type": "code",
   "execution_count": null,
   "id": "aac1585c",
   "metadata": {},
   "outputs": [],
   "source": [
    "pcd = o3d.geometry.PointCloud()\n",
    "pcd.points = o3d.utility.Vector3dVector(trilat_shifted_pts)\n",
    "pcd.colors = get_o3d_colours_from_trimesh(colours)\n",
    "\n",
    "# o3d.visualization.draw_geometries([pcd])"
   ]
  },
  {
   "cell_type": "markdown",
   "id": "518c0726",
   "metadata": {},
   "source": [
    "### Merge nearby clusters of points"
   ]
  },
  {
   "cell_type": "code",
   "execution_count": 28,
   "id": "482ef426",
   "metadata": {},
   "outputs": [],
   "source": [
    "trilat_shifted_tree = o3d.geometry.KDTreeFlann(trilat_shifted_pts.T)\n",
    "\n",
    "delta = np.sqrt(2)/2\n",
    "sigma = delta * global_avg_spacing\n",
    "merge_mapping = - np.ones(len(points))\n",
    "\n",
    "merged_pnts = []\n",
    "merged_cols = []\n",
    "merged_nrms = []\n",
    "\n",
    "while (merge_mapping < 0).any() > 0:\n",
    "\n",
    "    free_idx= np.flatnonzero(merge_mapping < 0)\n",
    "    id      = np.random.choice(free_idx)\n",
    "    point   = trilat_shifted_pts[id]\n",
    "    normal  = normals[id]\n",
    "    \n",
    "    nbr, d2  = find_cyl_neighbours(point, # includes curr point\n",
    "                                  normal,\n",
    "                                  global_avg_spacing,\n",
    "                                  h_alpha,\n",
    "                                  delta,\n",
    "                                  trilat_shifted_pts,\n",
    "                                  trilat_shifted_tree,\n",
    "                                  self_idx=None)\n",
    "\n",
    "    mask  = merge_mapping[nbr] < 0 # ignore already merged points\n",
    "    nbr, d2 = nbr[mask], d2[mask]\n",
    "\n",
    "    if len(nbr) == 0:\n",
    "        raise RuntimeError('Point neighbourhood is empty')\n",
    "    \n",
    "    w = np.exp(-(d2) / (2*sigma**2))\n",
    "    w /= w.sum()\n",
    "\n",
    "    merged_id = len(merged_pnts)\n",
    "    merge_mapping[nbr] = merged_id\n",
    "    \n",
    "    merged_pnts.append(w @ trilat_shifted_pts[nbr])\n",
    "    merged_cols.append(w @ colours[nbr])\n",
    "\n",
    "    merged_nrm = w @ normals[nbr]\n",
    "    merged_nrms.append(merged_nrm / np.linalg.norm(merged_nrm))\n",
    "\n",
    "merged_pnts = np.vstack(merged_pnts)\n",
    "merged_cols = np.vstack(merged_cols)\n",
    "merged_nrms = np.vstack(merged_nrms)\n",
    "\n"
   ]
  },
  {
   "cell_type": "markdown",
   "id": "11e0ca5c",
   "metadata": {},
   "source": [
    "### Remesh the overlapping region"
   ]
  },
  {
   "cell_type": "code",
   "execution_count": 29,
   "id": "11853112",
   "metadata": {},
   "outputs": [],
   "source": [
    "import numpy as np\n",
    "import open3d as o3d\n",
    "\n",
    "pcd = o3d.geometry.PointCloud()\n",
    "pcd.points  = o3d.utility.Vector3dVector(merged_pnts)\n",
    "pcd.colors = get_o3d_colours_from_trimesh(merged_cols)\n",
    "\n",
    "if merged_nrms is not None and len(merged_nrms) == len(merged_pnts):\n",
    "    pcd.normals = o3d.utility.Vector3dVector(merged_nrms)\n",
    "else:                                              # fast, radius-based estimate\n",
    "    pcd.estimate_normals(search_param=o3d.geometry.KDTreeSearchParamHybrid(\n",
    "                            radius=2.5 * global_avg_spacing,  # ~10–30 neighbours\n",
    "                            max_nn=30))\n",
    "    pcd.orient_normals_consistent_tangent_plane(k=30)\n",
    "\n",
    "ball_r   = 1.5 * global_avg_spacing\n",
    "radii    = o3d.utility.DoubleVector([ball_r, ball_r * 2.0])\n",
    "\n",
    "mesh = o3d.geometry.TriangleMesh.create_from_point_cloud_ball_pivoting(\n",
    "           pcd, radii)\n",
    "\n",
    "mesh.remove_duplicated_vertices()\n",
    "mesh.remove_duplicated_triangles()\n",
    "mesh.remove_degenerate_triangles()\n",
    "mesh.remove_non_manifold_edges()\n",
    "mesh.compute_vertex_normals()\n",
    "\n",
    "mesh.vertex_colors = pcd.colors\n",
    "\n",
    "# o3d.io.write_triangle_mesh(\"merged_mesh.ply\", mesh, write_ascii=False)\n",
    "# o3d.visualization.draw_geometries([mesh])"
   ]
  },
  {
   "cell_type": "markdown",
   "id": "1fc16ea5",
   "metadata": {},
   "source": [
    "### [Mean-Shift Clustering Implementation (didn't work well)]"
   ]
  },
  {
   "cell_type": "code",
   "execution_count": 30,
   "id": "e6220f30",
   "metadata": {},
   "outputs": [
    {
     "name": "stderr",
     "output_type": "stream",
     "text": [
      "Mean-Shift Clustering: 100%|██████████| 6499/6499 [00:00<00:00, 7619.97it/s]\n"
     ]
    }
   ],
   "source": [
    "from tqdm import tqdm\n",
    "\n",
    "eps = 0.01\n",
    "delta = np.sqrt(2)/2\n",
    "mclust_shifted_points = np.copy(trilat_shifted_pts)\n",
    "mclust_shifted_normals = np.copy(normals)\n",
    "for i, point in tqdm(enumerate(trilat_shifted_pts), total=len(trilat_shifted_pts), desc=\"Mean-Shift Clustering\"):\n",
    "    normal = normals[i]\n",
    "    shifted_point = point.copy()\n",
    "    shifted_normal = normal.copy()\n",
    "    it_count = 0\n",
    "    while True:\n",
    "        it_count += 1\n",
    "        nbr, d2 = find_cyl_neighbours(shifted_point,\n",
    "                                      shifted_normal,\n",
    "                                      global_avg_spacing,\n",
    "                                      h_alpha,\n",
    "                                      delta,\n",
    "                                      trilat_shifted_pts,\n",
    "                                      trilat_shifted_tree,\n",
    "                                      i)\n",
    "        \n",
    "        if len(nbr) == 0:\n",
    "            break\n",
    "        if it_count == 5000:\n",
    "            print(nbr, d2)\n",
    "        \n",
    "        nbr_points = trilat_shifted_pts[nbr]\n",
    "        nbr_normals  = normals[nbr]\n",
    "\n",
    "        hv = np.max(np.linalg.norm(nbr_points - shifted_point, axis=1))\n",
    "        hn = np.max(np.linalg.norm(nbr_normals - shifted_normal, axis=1))\n",
    "\n",
    "        hv = max(hv, 0.05*global_avg_spacing)\n",
    "        hn = max(hn, 0.05*global_avg_spacing)\n",
    "\n",
    "        diff_p   = nbr_points - shifted_point\n",
    "        dist2_p  = np.sum(diff_p*diff_p, axis=1)\n",
    "\n",
    "        diff_n   = nbr_normals - shifted_normal\n",
    "        dist2_n  = np.sum(diff_n*diff_n, axis=1)\n",
    "\n",
    "        w = np.exp(-dist2_p / (2*hv**2)) * np.exp(-dist2_n / (2*hn**2))\n",
    "        w_sum    = w.sum()\n",
    "\n",
    "        delta_p  = (w[:, None] * diff_p).sum(axis=0) / w_sum\n",
    "        delta_n  = (w[:, None] * diff_n).sum(axis=0) / w_sum\n",
    "\n",
    "        shifted_point  += delta_p\n",
    "        shifted_normal += delta_n\n",
    "        shifted_normal /= np.linalg.norm(shifted_normal)\n",
    "        \n",
    "        if np.linalg.norm(delta_p) <= eps * global_avg_spacing:\n",
    "            break\n",
    "        \n",
    "    mclust_shifted_points[i] = shifted_point\n",
    "    mclust_shifted_normals[i] = shifted_normal"
   ]
  },
  {
   "cell_type": "code",
   "execution_count": 31,
   "id": "623f82ca",
   "metadata": {},
   "outputs": [],
   "source": [
    "pcd = o3d.geometry.PointCloud()\n",
    "pcd.points = o3d.utility.Vector3dVector(mclust_shifted_points)\n",
    "pcd.colors = get_o3d_colours_from_trimesh(colours)\n",
    "\n",
    "# o3d.visualization.draw_geometries([pcd])"
   ]
  }
 ],
 "metadata": {
  "kernelspec": {
   "display_name": "project",
   "language": "python",
   "name": "python3"
  },
  "language_info": {
   "codemirror_mode": {
    "name": "ipython",
    "version": 3
   },
   "file_extension": ".py",
   "mimetype": "text/x-python",
   "name": "python",
   "nbconvert_exporter": "python",
   "pygments_lexer": "ipython3",
   "version": "3.10.18"
  }
 },
 "nbformat": 4,
 "nbformat_minor": 5
}
