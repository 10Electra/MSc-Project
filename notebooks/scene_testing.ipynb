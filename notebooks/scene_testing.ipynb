{
 "cells": [
  {
   "cell_type": "code",
   "execution_count": 1,
   "id": "2d46210f",
   "metadata": {},
   "outputs": [],
   "source": [
    "import numpy as np\n",
    "import open3d as o3d\n",
    "import torch\n",
    "\n",
    "from superprimitive_fusion.scanner import capture_spherical_scans\n",
    "from superprimitive_fusion.utils import bake_uv_to_vertex_colours\n",
    "from superprimitive_fusion.mesh_fusion_utils import get_mesh_components, show_mesh_boundaries\n",
    "from superprimitive_fusion.mesh_fusion import fuse_meshes"
   ]
  },
  {
   "cell_type": "code",
   "execution_count": 5,
   "id": "d8842b33",
   "metadata": {},
   "outputs": [
    {
     "name": "stdout",
     "output_type": "stream",
     "text": [
      "Getting the mustard-bottle\n",
      "No texture / UVs found; skipping bake\n",
      "Getting the table\n",
      "Getting the power-drill\n",
      "Getting the bleach\n",
      "Getting the pitcher\n",
      "Getting the mug\n",
      "Getting the extra-large-clamp-leaning\n"
     ]
    }
   ],
   "source": [
    "names = (\n",
    "    ('mustard-bottle', 'mustard-bottle.ply'),\n",
    "    ('table', 'table.obj'),\n",
    "    ('power-drill', 'power-drill.obj'),\n",
    "    ('bleach', 'bleach.obj'),\n",
    "    ('pitcher', 'pitcher.obj'),\n",
    "    ('mug', 'mug.obj'),\n",
    "    ('extra-large-clamp', 'extra-large-clamp-leaning.obj'),\n",
    ")\n",
    "\n",
    "meshes = []\n",
    "for foldername,filename in names:\n",
    "    print(f'Getting the {filename.split('.')[0]}')\n",
    "    \n",
    "    mesh = o3d.io.read_triangle_mesh(f\"../data/posed-meshes/{foldername}/{filename}\", enable_post_processing=True)\n",
    "\n",
    "    bake_uv_to_vertex_colours(mesh)\n",
    "    mesh.compute_vertex_normals()\n",
    "\n",
    "    meshes.append(mesh)"
   ]
  },
  {
   "cell_type": "code",
   "execution_count": null,
   "id": "bfad1c89",
   "metadata": {},
   "outputs": [
    {
     "ename": "",
     "evalue": "",
     "output_type": "error",
     "traceback": [
      "\u001b[1;31mThe Kernel crashed while executing code in the current cell or a previous cell. \n",
      "\u001b[1;31mPlease review the code in the cell(s) to identify a possible cause of the failure. \n",
      "\u001b[1;31mClick <a href='https://aka.ms/vscodeJupyterKernelCrash'>here</a> for more info. \n",
      "\u001b[1;31mView Jupyter <a href='command:jupyter.viewOutput'>log</a> for further details."
     ]
    }
   ],
   "source": [
    "o3d.visualization.draw_geometries(meshes)"
   ]
  },
  {
   "cell_type": "code",
   "execution_count": null,
   "id": "75020882",
   "metadata": {},
   "outputs": [],
   "source": [
    "# {\n",
    "# \t\"class_name\" : \"ViewTrajectory\",\n",
    "# \t\"interval\" : 29,\n",
    "# \t\"is_loop\" : false,\n",
    "# \t\"trajectory\" : \n",
    "# \t[\n",
    "# \t\t{\n",
    "# \t\t\t\"boundingbox_max\" : [ 0.89999997615814209, 0.44999998807907104, 0.97050297260284424 ],\n",
    "# \t\t\t\"boundingbox_min\" : [ -0.89999997615814209, -0.44999998807907104, 0.0 ],\n",
    "# \t\t\t\"field_of_view\" : 60.0,\n",
    "# \t\t\t\"front\" : [ 0.033181979928996505, 0.89223756678007571, 0.45034551250607779 ],\n",
    "# \t\t\t\"lookat\" : [ 0.0088310242409319843, 0.0013222086626097952, 0.81265236644826389 ],\n",
    "# \t\t\t\"up\" : [ -0.0093729695001894316, -0.45029602336870767, 0.89283012873730749 ],\n",
    "# \t\t\t\"zoom\" : 0.11999999999999962\n",
    "# \t\t}\n",
    "# \t],\n",
    "# \t\"version_major\" : 1,\n",
    "# \t\"version_minor\" : 0\n",
    "# }"
   ]
  },
  {
   "cell_type": "code",
   "execution_count": null,
   "id": "2302df10",
   "metadata": {},
   "outputs": [],
   "source": [
    "import numpy as np\n",
    "import open3d as o3d\n",
    "\n",
    "def render_rgb_view(\n",
    "    mesh: o3d.geometry.TriangleMesh,\n",
    "    cam_centre=(0.3, 0.3, 0.0),\n",
    "    look_dir=(0.0, 0.0, 0.0),\n",
    "    *,\n",
    "    width_px: int = 360,\n",
    "    height_px: int = 240,\n",
    "    fov: float = 70.0,\n",
    "    bg_rgba=(1.0, 1.0, 1.0, 1.0),  # white background\n",
    ") -> np.ndarray:\n",
    "    \"\"\"Render an RGB image of `mesh` from a given camera pose.\"\"\"\n",
    "    renderer = o3d.visualization.rendering.OffscreenRenderer(width_px, height_px)\n",
    "\n",
    "    # Simple material: unlit if vertex colors exist, otherwise lit shading\n",
    "    mtl = o3d.visualization.rendering.MaterialRecord()\n",
    "    mtl.shader = \"defaultUnlit\" if mesh.has_vertex_colors() else \"defaultLit\"\n",
    "    renderer.scene.add_geometry(\"mesh\", mesh, mtl)\n",
    "    renderer.scene.set_background(bg_rgba)\n",
    "\n",
    "    # Camera: vertical FOV in degrees, look-at with Z-up\n",
    "    aspect = width_px / height_px\n",
    "    cam = renderer.scene.camera\n",
    "    cam.set_projection(\n",
    "        fov, aspect, 0.01, 1000.0,\n",
    "        o3d.visualization.rendering.Camera.FovType.Vertical\n",
    "    )\n",
    "    cam.look_at(look_dir, cam_centre, [0, 0, 1])\n",
    "\n",
    "    # Render to image and return RGB\n",
    "    img = renderer.render_to_image()\n",
    "    rgb = np.asarray(img)\n",
    "    if rgb.ndim == 3 and rgb.shape[2] == 4:  # drop alpha if present\n",
    "        rgb = rgb[:, :, :3]\n",
    "    return rgb\n"
   ]
  }
 ],
 "metadata": {
  "kernelspec": {
   "display_name": "msc-project",
   "language": "python",
   "name": "python3"
  },
  "language_info": {
   "codemirror_mode": {
    "name": "ipython",
    "version": 3
   },
   "file_extension": ".py",
   "mimetype": "text/x-python",
   "name": "python",
   "nbconvert_exporter": "python",
   "pygments_lexer": "ipython3",
   "version": "3.12.2"
  }
 },
 "nbformat": 4,
 "nbformat_minor": 5
}
