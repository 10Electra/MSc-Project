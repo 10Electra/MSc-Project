{
 "cells": [
  {
   "cell_type": "code",
   "execution_count": 1,
   "id": "2d46210f",
   "metadata": {},
   "outputs": [
    {
     "name": "stdout",
     "output_type": "stream",
     "text": [
      "Jupyter environment detected. Enabling Open3D WebVisualizer.\n",
      "[Open3D INFO] WebRTC GUI backend enabled.\n",
      "[Open3D INFO] WebRTCWindowSystem: HTTP handshake server disabled.\n"
     ]
    }
   ],
   "source": [
    "import numpy as np\n",
    "import open3d as o3d\n",
    "import torch\n",
    "\n",
    "from superprimitive_fusion.scanner import capture_spherical_scans\n",
    "from superprimitive_fusion.utils import bake_uv_to_vertex_colours\n",
    "from superprimitive_fusion.mesh_fusion_utils import get_mesh_components, show_mesh_boundaries\n",
    "from superprimitive_fusion.mesh_fusion import fuse_meshes"
   ]
  },
  {
   "cell_type": "code",
   "execution_count": 30,
   "id": "d8842b33",
   "metadata": {},
   "outputs": [],
   "source": [
    "mustard = o3d.io.read_triangle_mesh(\"../data/posed-meshes/mustard-bottle/mustard-bottle.ply\", enable_post_processing=True)\n",
    "\n",
    "table = o3d.io.read_triangle_mesh(\"../data/posed-meshes/table/table.obj\", enable_post_processing=True)\n",
    "\n",
    "drill = o3d.io.read_triangle_mesh(\"../data/posed-meshes/power-drill/power-drill.obj\", enable_post_processing=True)\n",
    "\n",
    "bleach = o3d.io.read_triangle_mesh(\"../data/posed-meshes/bleach/bleach.obj\", enable_post_processing=True)\n",
    "\n",
    "pitcher = o3d.io.read_triangle_mesh(\"../data/posed-meshes/pitcher/pitcher.obj\", enable_post_processing=True)\n",
    "\n",
    "mug = o3d.io.read_triangle_mesh(\"../data/posed-meshes/mug/mug.obj\", enable_post_processing=True)\n",
    "\n",
    "clamp = o3d.io.read_triangle_mesh(\"../data/posed-meshes/extra-large-clamp/extra-large-clamp-leaning.obj\", enable_post_processing=True)\n",
    "\n",
    "# bake_uv_to_vertex_colours(mesh)\n",
    "\n",
    "# mesh.compute_vertex_normals()\n",
    "\n",
    "# bb = mesh.get_minimal_oriented_bounding_box()\n",
    "# scale = np.mean(bb.get_max_bound())"
   ]
  },
  {
   "cell_type": "code",
   "execution_count": 38,
   "id": "bfad1c89",
   "metadata": {},
   "outputs": [],
   "source": [
    "meshes = [mustard, table, drill, bleach, pitcher, mug, clamp]\n",
    "o3d.visualization.draw_geometries(meshes)"
   ]
  },
  {
   "cell_type": "code",
   "execution_count": 41,
   "id": "75020882",
   "metadata": {},
   "outputs": [],
   "source": [
    "# {\n",
    "# \t\"class_name\" : \"ViewTrajectory\",\n",
    "# \t\"interval\" : 29,\n",
    "# \t\"is_loop\" : false,\n",
    "# \t\"trajectory\" : \n",
    "# \t[\n",
    "# \t\t{\n",
    "# \t\t\t\"boundingbox_max\" : [ 0.89999997615814209, 0.44999998807907104, 0.97050297260284424 ],\n",
    "# \t\t\t\"boundingbox_min\" : [ -0.89999997615814209, -0.44999998807907104, 0.0 ],\n",
    "# \t\t\t\"field_of_view\" : 60.0,\n",
    "# \t\t\t\"front\" : [ 0.033181979928996505, 0.89223756678007571, 0.45034551250607779 ],\n",
    "# \t\t\t\"lookat\" : [ 0.0088310242409319843, 0.0013222086626097952, 0.81265236644826389 ],\n",
    "# \t\t\t\"up\" : [ -0.0093729695001894316, -0.45029602336870767, 0.89283012873730749 ],\n",
    "# \t\t\t\"zoom\" : 0.11999999999999962\n",
    "# \t\t}\n",
    "# \t],\n",
    "# \t\"version_major\" : 1,\n",
    "# \t\"version_minor\" : 0\n",
    "# }"
   ]
  },
  {
   "cell_type": "code",
   "execution_count": 39,
   "id": "2302df10",
   "metadata": {},
   "outputs": [],
   "source": [
    "import numpy as np\n",
    "import open3d as o3d\n",
    "\n",
    "def render_rgb_view(\n",
    "    mesh: o3d.geometry.TriangleMesh,\n",
    "    cam_centre=(0.3, 0.3, 0.0),\n",
    "    look_dir=(0.0, 0.0, 0.0),\n",
    "    *,\n",
    "    width_px: int = 360,\n",
    "    height_px: int = 240,\n",
    "    fov: float = 70.0,\n",
    "    bg_rgba=(1.0, 1.0, 1.0, 1.0),  # white background\n",
    ") -> np.ndarray:\n",
    "    \"\"\"Render an RGB image of `mesh` from a given camera pose.\"\"\"\n",
    "    renderer = o3d.visualization.rendering.OffscreenRenderer(width_px, height_px)\n",
    "\n",
    "    # Simple material: unlit if vertex colors exist, otherwise lit shading\n",
    "    mtl = o3d.visualization.rendering.MaterialRecord()\n",
    "    mtl.shader = \"defaultUnlit\" if mesh.has_vertex_colors() else \"defaultLit\"\n",
    "    renderer.scene.add_geometry(\"mesh\", mesh, mtl)\n",
    "    renderer.scene.set_background(bg_rgba)\n",
    "\n",
    "    # Camera: vertical FOV in degrees, look-at with Z-up\n",
    "    aspect = width_px / height_px\n",
    "    cam = renderer.scene.camera\n",
    "    cam.set_projection(\n",
    "        fov, aspect, 0.01, 1000.0,\n",
    "        o3d.visualization.rendering.Camera.FovType.Vertical\n",
    "    )\n",
    "    cam.look_at(look_dir, cam_centre, [0, 0, 1])\n",
    "\n",
    "    # Render to image and return RGB\n",
    "    img = renderer.render_to_image()\n",
    "    rgb = np.asarray(img)\n",
    "    if rgb.ndim == 3 and rgb.shape[2] == 4:  # drop alpha if present\n",
    "        rgb = rgb[:, :, :3]\n",
    "    return rgb\n"
   ]
  }
 ],
 "metadata": {
  "kernelspec": {
   "display_name": "msc-project",
   "language": "python",
   "name": "python3"
  },
  "language_info": {
   "codemirror_mode": {
    "name": "ipython",
    "version": 3
   },
   "file_extension": ".py",
   "mimetype": "text/x-python",
   "name": "python",
   "nbconvert_exporter": "python",
   "pygments_lexer": "ipython3",
   "version": "3.12.2"
  }
 },
 "nbformat": 4,
 "nbformat_minor": 5
}
