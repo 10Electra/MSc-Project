{
 "cells": [
  {
   "cell_type": "code",
   "execution_count": 1,
   "id": "8f653491",
   "metadata": {},
   "outputs": [],
   "source": [
    "import numpy as np\n",
    "import matplotlib.pyplot as plt\n",
    "import torch\n",
    "\n",
    "from vggt.models.vggt import VGGT\n",
    "from vggt.utils.load_fn import load_and_preprocess_images"
   ]
  },
  {
   "cell_type": "code",
   "execution_count": 2,
   "id": "1102d726",
   "metadata": {},
   "outputs": [],
   "source": [
    "device = \"cuda\" if torch.cuda.is_available() else \"cpu\"\n",
    "# bfloat16 is supported on Ampere GPUs (Compute Capability 8.0+) \n",
    "dtype = torch.bfloat16 if torch.cuda.get_device_capability()[0] >= 8 else torch.float16"
   ]
  },
  {
   "cell_type": "code",
   "execution_count": 3,
   "id": "4e706876",
   "metadata": {},
   "outputs": [],
   "source": [
    "# Initialize the model and load the pretrained weights.\n",
    "# This will automatically download the model weights the first time it's run, which may take a while.\n",
    "model = VGGT.from_pretrained(\"facebook/VGGT-1B\").to(device)"
   ]
  },
  {
   "cell_type": "code",
   "execution_count": 4,
   "id": "29d97c0c",
   "metadata": {},
   "outputs": [],
   "source": [
    "# Load and preprocess example images (replace with your own image paths)\n",
    "rt = \"../data/mustard360/images/frame_\"\n",
    "ext = \".png\"\n",
    "image_names = [str(i*10) for i in range(33)]\n",
    "image_names = [rt+name+ext for name in image_names]\n",
    "images = load_and_preprocess_images(image_names).to(device)"
   ]
  },
  {
   "cell_type": "code",
   "execution_count": 5,
   "id": "c0e85d31",
   "metadata": {},
   "outputs": [
    {
     "name": "stderr",
     "output_type": "stream",
     "text": [
      "/tmp/ipykernel_482074/679868208.py:2: FutureWarning: `torch.cuda.amp.autocast(args...)` is deprecated. Please use `torch.amp.autocast('cuda', args...)` instead.\n",
      "  with torch.cuda.amp.autocast(dtype=dtype):\n",
      "/home/christopher/Documents/Code/vggt/vggt/models/vggt.py:65: FutureWarning: `torch.cuda.amp.autocast(args...)` is deprecated. Please use `torch.amp.autocast('cuda', args...)` instead.\n",
      "  with torch.cuda.amp.autocast(enabled=False):\n"
     ]
    }
   ],
   "source": [
    "with torch.no_grad():\n",
    "    with torch.cuda.amp.autocast(dtype=dtype):\n",
    "        # Predict attributes including cameras, depth maps, and point maps.\n",
    "        predictions = model(images)"
   ]
  },
  {
   "cell_type": "code",
   "execution_count": 6,
   "id": "f23ba12d",
   "metadata": {},
   "outputs": [
    {
     "name": "stdout",
     "output_type": "stream",
     "text": [
      "Jupyter environment detected. Enabling Open3D WebVisualizer.\n",
      "[Open3D INFO] WebRTC GUI backend enabled.\n",
      "[Open3D INFO] WebRTCWindowSystem: HTTP handshake server disabled.\n"
     ]
    }
   ],
   "source": [
    "import open3d as o3d\n",
    "\n",
    "depths = predictions['depth'].cpu().numpy()[0]\n",
    "world_points = predictions['world_points'].cpu().numpy()[0]\n",
    "world_points_conf = predictions['world_points_conf'].cpu().numpy()[0]"
   ]
  },
  {
   "cell_type": "code",
   "execution_count": 7,
   "id": "9d432f7f",
   "metadata": {},
   "outputs": [
    {
     "name": "stdout",
     "output_type": "stream",
     "text": [
      "(33, 294, 518, 3)\n",
      "(33, 294, 518)\n"
     ]
    }
   ],
   "source": [
    "print(world_points.shape)\n",
    "print(world_points_conf.shape)"
   ]
  },
  {
   "cell_type": "code",
   "execution_count": 15,
   "id": "89cf28b5",
   "metadata": {},
   "outputs": [],
   "source": [
    "cmask = world_points_conf > 1.1\n",
    "cpoints = world_points[cmask]\n",
    "\n",
    "pcd = o3d.geometry.PointCloud()\n",
    "pcd.points = o3d.utility.Vector3dVector(cpoints)\n",
    "o3d.visualization.draw_geometries([pcd])"
   ]
  },
  {
   "cell_type": "code",
   "execution_count": 10,
   "id": "b8ebf990",
   "metadata": {},
   "outputs": [],
   "source": [
    "pts = world_points.reshape(-1, 3)\n",
    "conf = world_points_conf.reshape(-1)\n",
    "\n",
    "valid_xyz = np.isfinite(pts).all(axis=1)\n",
    "valid_conf = np.isfinite(conf)\n",
    "valid = valid_xyz & valid_conf\n",
    "\n",
    "conf_norm = np.zeros_like(conf, dtype=np.float64)\n",
    "if np.any(valid):\n",
    "    cmin = conf[valid].min()\n",
    "    cmax = conf[valid].max()\n",
    "    conf_norm[valid] = 1.0 if cmax == cmin else (conf[valid] - cmin) / (cmax - cmin)\n",
    "\n",
    "H = conf_norm * (2.0 / 3.0)\n",
    "V = 0.9\n",
    "h6 = H * 6.0\n",
    "i = np.floor(h6).astype(int)\n",
    "f = h6 - i\n",
    "i_mod = i % 6\n",
    "\n",
    "v = np.full_like(f, V)\n",
    "p = np.zeros_like(f)\n",
    "q = v * (1.0 - f)\n",
    "t = v * f\n",
    "\n",
    "rgb = np.zeros((pts.shape[0], 3), dtype=np.float64)\n",
    "\n",
    "m0 = i_mod == 0; rgb[m0, 0] = v[m0]; rgb[m0, 1] = t[m0]; rgb[m0, 2] = p[m0]\n",
    "m1 = i_mod == 1; rgb[m1, 0] = q[m1]; rgb[m1, 1] = v[m1]; rgb[m1, 2] = p[m1]\n",
    "m2 = i_mod == 2; rgb[m2, 0] = p[m2]; rgb[m2, 1] = v[m2]; rgb[m2, 2] = t[m2]\n",
    "m3 = i_mod == 3; rgb[m3, 0] = p[m3]; rgb[m3, 1] = q[m3]; rgb[m3, 2] = v[m3]\n",
    "m4 = i_mod == 4; rgb[m4, 0] = t[m4]; rgb[m4, 1] = p[m4]; rgb[m4, 2] = v[m4]\n",
    "m5 = i_mod == 5; rgb[m5, 0] = v[m5]; rgb[m5, 1] = p[m5]; rgb[m5, 2] = q[m5]\n",
    "\n",
    "rgb[~valid] = 0.0\n",
    "\n",
    "pts_draw = pts[valid]\n",
    "rgb_draw = rgb[valid]\n",
    "\n",
    "pcd = o3d.geometry.PointCloud()\n",
    "pcd.points = o3d.utility.Vector3dVector(pts_draw)\n",
    "pcd.colors = o3d.utility.Vector3dVector(rgb_draw)\n",
    "o3d.visualization.draw_geometries([pcd])\n"
   ]
  }
 ],
 "metadata": {
  "kernelspec": {
   "display_name": "msc-project",
   "language": "python",
   "name": "python3"
  },
  "language_info": {
   "codemirror_mode": {
    "name": "ipython",
    "version": 3
   },
   "file_extension": ".py",
   "mimetype": "text/x-python",
   "name": "python",
   "nbconvert_exporter": "python",
   "pygments_lexer": "ipython3",
   "version": "3.12.3"
  }
 },
 "nbformat": 4,
 "nbformat_minor": 5
}
