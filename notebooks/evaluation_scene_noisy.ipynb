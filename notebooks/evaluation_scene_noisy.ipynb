{
 "cells": [
  {
   "cell_type": "code",
   "execution_count": 1,
   "id": "5d8d3ff1",
   "metadata": {},
   "outputs": [
    {
     "name": "stderr",
     "output_type": "stream",
     "text": [
      "/Users/christopher/miniconda3/envs/msc-project/lib/python3.12/site-packages/tqdm/auto.py:21: TqdmWarning: IProgress not found. Please update jupyter and ipywidgets. See https://ipywidgets.readthedocs.io/en/stable/user_install.html\n",
      "  from .autonotebook import tqdm as notebook_tqdm\n"
     ]
    }
   ],
   "source": [
    "import copy\n",
    "from tqdm.auto import tqdm\n",
    "import numpy as np\n",
    "import open3d as o3d\n",
    "import matplotlib.pyplot as plt\n",
    "\n",
    "\n",
    "from superprimitive_fusion.scanner import (\n",
    "    capture_spherical_scans,\n",
    "    virtual_mesh_scan,\n",
    "    mesh_depth_image,\n",
    "    generate_rgbd_noise,\n",
    "    clean_mesh_and_remap_weights,\n",
    ")\n",
    "from superprimitive_fusion.utils import (\n",
    "    bake_uv_to_vertex_colours,\n",
    "    polar2cartesian,\n",
    "    distinct_colours,\n",
    ")\n",
    "from superprimitive_fusion.mesh_fusion import (\n",
    "    fuse_meshes,\n",
    ")\n",
    "from superprimitive_fusion.mesh_fusion_utils import (\n",
    "    get_mesh_components,\n",
    ")\n",
    "\n",
    "from superprimitive_fusion.evaluation import (\n",
    "    evaluate_mesh_pair,\n",
    "    tsdf_fuse_from_depth_data,\n",
    "    mse_and_iou,\n",
    ")"
   ]
  },
  {
   "cell_type": "code",
   "execution_count": 2,
   "id": "6df8fd32",
   "metadata": {},
   "outputs": [
    {
     "name": "stdout",
     "output_type": "stream",
     "text": [
      "Getting the mustard-bottle\n",
      "Getting the table\n",
      "Getting the power-drill\n",
      "Getting the bleach\n",
      "Getting the pitcher\n",
      "Getting the mug\n",
      "Getting the extra-large-clamp\n"
     ]
    }
   ],
   "source": [
    "names = (\n",
    "    ('mustard-bottle', 'mustard-bottle.obj'),\n",
    "    ('table', 'table.obj'),\n",
    "    ('power-drill', 'power-drill.obj'),\n",
    "    ('bleach', 'bleach.obj'),\n",
    "    ('pitcher', 'pitcher.obj'),\n",
    "    ('mug', 'mug.obj'),\n",
    "    ('extra-large-clamp', 'extra-large-clamp-leaning.obj'),\n",
    ")\n",
    "\n",
    "gt_meshes = dict()\n",
    "for foldername,filename in names:\n",
    "    print(f'Getting the {foldername}')\n",
    "    \n",
    "    gt_mesh = o3d.io.read_triangle_mesh(f\"../data/posed-meshes/{foldername}/{filename}\", enable_post_processing=True)\n",
    "\n",
    "    bake_uv_to_vertex_colours(gt_mesh)\n",
    "    gt_mesh.compute_vertex_normals()\n",
    "\n",
    "    gt_meshes[foldername] = gt_mesh\n",
    "\n",
    "gt_mesh_list = list(gt_meshes.values())"
   ]
  },
  {
   "cell_type": "code",
   "execution_count": null,
   "id": "b40aba47",
   "metadata": {},
   "outputs": [],
   "source": [
    "gt_scene_mesh = copy.deepcopy(gt_mesh_list[0])\n",
    "for i in range(1,len(gt_mesh_list)):\n",
    "    gt_scene_mesh += copy.deepcopy(gt_mesh_list[i])"
   ]
  },
  {
   "cell_type": "code",
   "execution_count": null,
   "id": "6f21ba5a",
   "metadata": {},
   "outputs": [
    {
     "name": "stdout",
     "output_type": "stream",
     "text": [
      "\u001b[1;33m[Open3D WARNING] Write OBJ can not include triangle normals.\u001b[0;m\n",
      "True\n"
     ]
    }
   ],
   "source": [
    "# ok = o3d.io.write_triangle_mesh(str('evaluation/1_nonoise/gt_scene_mesh.obj'), gt_scene_mesh)\n",
    "# print(ok)"
   ]
  },
  {
   "cell_type": "code",
   "execution_count": 3,
   "id": "417ddfb3",
   "metadata": {},
   "outputs": [],
   "source": [
    "centres = []\n",
    "for gt_meshname, gt_mesh in gt_meshes.items():\n",
    "    if gt_meshname == 'table':\n",
    "        continue\n",
    "    centres.append(gt_mesh.get_center())\n",
    "\n",
    "centres = np.vstack(centres)\n",
    "\n",
    "obj_centre = centres.mean(axis=0)"
   ]
  },
  {
   "cell_type": "code",
   "execution_count": 6,
   "id": "72247fb7",
   "metadata": {},
   "outputs": [
    {
     "name": "stderr",
     "output_type": "stream",
     "text": [
      "/Users/christopher/Documents/Coding/Imperial/MSc Project/MSc-Project/src/superprimitive_fusion/scanner.py:823: RuntimeWarning: invalid value encountered in matmul\n",
      "  depth = ((verts_noised - cam_centre_np) @ L).clip(min=0.0)\n"
     ]
    }
   ],
   "source": [
    "cam_offset=obj_centre\n",
    "look_at = obj_centre\n",
    "width: int = 360\n",
    "height: int = 240\n",
    "fov: float = 70.0\n",
    "k: float = 3\n",
    "max_normal_angle_deg = None\n",
    "include_depth_images = True\n",
    "\n",
    "scans = []\n",
    "depth_data_list = []\n",
    "ccs = []\n",
    "a = 45\n",
    "c = int(360/10)\n",
    "rs = (0.45, 0.45)\n",
    "ls = (50, 80)\n",
    "for i in range(360//c):\n",
    "    r = rs[0] if i%2==0 else rs[1]\n",
    "    l = ls[0] if i%2==0 else ls[1]\n",
    "    ccs.append(cam_offset + polar2cartesian(r=r, lat=l, long=a+i*c))\n",
    "for cc in ccs:\n",
    "    object_meshes, object_weights, depth_data = virtual_mesh_scan(\n",
    "        gt_mesh_list,\n",
    "        cc,\n",
    "        look_at,\n",
    "        k=k,\n",
    "        max_normal_angle_deg=max_normal_angle_deg,\n",
    "        width_px=width,\n",
    "        height_px=height,\n",
    "        fov=fov,\n",
    "        constant_uncertainty    =2e-4,\n",
    "        linear_uncertainty      =2e-3,      # rate of uncertainty increase with depth\n",
    "        quadrt_uncertainty      =1e-4,      # quadratic uncertainty coefficient\n",
    "        constant_perlin_sigma   =2e-4,      # constant perlin noise term\n",
    "        linear_perlin_sigma     =2e-3,      # linear depth term\n",
    "        quadrt_perlin_sigma     =1e-4,      # quadratic depth term\n",
    "        perlin_octaves          =3,\n",
    "        seg_scale_std           =1e-4,      # std of per-segment scale noise\n",
    "        rot_std                 =1e-4,      # std of global rotation noise\n",
    "        trn_std                 =1e-3,      # std of global translation noise\n",
    "        grazing_lambda          =1.0,       # sigma multiplier at grazing angles; 0 disables\n",
    "        seed                    =None,\n",
    "        include_depth_image     =True,\n",
    "    )\n",
    "    for mesh in object_meshes:\n",
    "        mesh.compute_vertex_normals()\n",
    "    depth_data_list.append(depth_data)\n",
    "    scans.append([(m,w) for m,w in zip(object_meshes, object_weights)])\n",
    "\n",
    "scan_meshes = [m for scan in scans for m,w in scan]"
   ]
  },
  {
   "cell_type": "code",
   "execution_count": 8,
   "id": "7b346be4",
   "metadata": {},
   "outputs": [],
   "source": [
    "diff_mesh_colours = distinct_colours(len(scan_meshes))\n",
    "diff_col_meshes = []\n",
    "for i,mesh in enumerate(scan_meshes):\n",
    "    if len(np.asarray(mesh.vertices)) == 0:\n",
    "        continue\n",
    "    col_mesh = copy.deepcopy(mesh)\n",
    "    col_mesh.compute_vertex_normals()\n",
    "    col_mesh.paint_uniform_color(diff_mesh_colours[i])\n",
    "    diff_col_meshes.append(col_mesh)\n",
    "\n",
    "o3d.visualization.draw_geometries(diff_col_meshes)"
   ]
  },
  {
   "cell_type": "code",
   "execution_count": 6,
   "id": "7bb5d0ee",
   "metadata": {},
   "outputs": [],
   "source": [
    "from superprimitive_fusion.evaluation import tsdf_fuse\n",
    "from superprimitive_fusion.utils import plot_images\n",
    "\n",
    "def precompute_per_segment_depth_images(scene_depth_data):\n",
    "    per_seg_depth_images = []\n",
    "\n",
    "    segmt3d = np.array([d['segmt'] for d in scene_depth_data])\n",
    "    depth3d = np.array([d['depth'] for d in scene_depth_data])\n",
    "\n",
    "    seg_ids = np.unique(segmt3d)\n",
    "    for seg_id in seg_ids:\n",
    "        depth3d_masked = depth3d.copy()\n",
    "        mask = (segmt3d!=seg_id) | ~np.isfinite(depth3d)\n",
    "        depth3d_masked[mask] = 0\n",
    "        seg_depth_images = [depth3d_masked[i,...] for i in range(depth3d.shape[0])]\n",
    "        per_seg_depth_images.append(seg_depth_images)\n",
    "    return per_seg_depth_images\n",
    "\n",
    "def tsdf_fuse_scene_from_depth_data(depth_data, per_seg_depth_images, voxel_length=1./1024, trunc_voxels=5):\n",
    "    assert isinstance(per_seg_depth_images, list) and isinstance(per_seg_depth_images[0], list)\n",
    "    fused_meshes = []\n",
    "\n",
    "    K = depth_data[0]['K_t']\n",
    "\n",
    "    rgb_list  = [d['rgb'] for d in depth_data]\n",
    "    T_wc_list = [d['E'] for d in depth_data]\n",
    "\n",
    "    for seg_depth_images in per_seg_depth_images:\n",
    "        mesh = tsdf_fuse(\n",
    "            seg_depth_images, rgb_list, K, T_wc_list,\n",
    "            voxel_length=voxel_length,\n",
    "            trunc_voxels=trunc_voxels,\n",
    "        )\n",
    "        fused_meshes.append(mesh)\n",
    "    return fused_meshes\n",
    "\n",
    "per_seg_depth_images = precompute_per_segment_depth_images(scene_depth_data=depth_data_list)"
   ]
  },
  {
   "cell_type": "code",
   "execution_count": 12,
   "id": "b8347101",
   "metadata": {},
   "outputs": [
    {
     "name": "stdout",
     "output_type": "stream",
     "text": [
      "The low TSDF mesh has 438315 triangles\n",
      "CPU times: user 509 ms, sys: 307 ms, total: 816 ms\n",
      "Wall time: 267 ms\n"
     ]
    }
   ],
   "source": [
    "%%time\n",
    "# tsdf_lo_meshes = tsdf_fuse_scene_from_depth_data(depth_data=depth_data_list, per_seg_depth_images=per_seg_depth_images, voxel_length=1/1000, trunc_voxels=4)\n",
    "tsdf_lo_mesh = tsdf_fuse_from_depth_data(depth_data=depth_data_list, voxel_length=1/295, trunc_voxels=5)\n",
    "print(f'The low TSDF mesh has {len(np.asarray(tsdf_lo_mesh.triangles))} triangles')"
   ]
  },
  {
   "cell_type": "code",
   "execution_count": 13,
   "id": "3828b874",
   "metadata": {},
   "outputs": [],
   "source": [
    "o3d.visualization.draw_geometries([tsdf_lo_mesh])"
   ]
  },
  {
   "cell_type": "code",
   "execution_count": 14,
   "id": "709a7ea6",
   "metadata": {},
   "outputs": [
    {
     "name": "stdout",
     "output_type": "stream",
     "text": [
      "CPU times: user 50.5 ms, sys: 0 ns, total: 50.5 ms\n",
      "Wall time: 50.3 ms\n"
     ]
    },
    {
     "data": {
      "text/plain": [
       "TriangleMesh with 227510 points and 438315 triangles."
      ]
     },
     "execution_count": 14,
     "metadata": {},
     "output_type": "execute_result"
    }
   ],
   "source": [
    "%%time\n",
    "tsdf_lo_mesh_smth = tsdf_lo_mesh.filter_smooth_simple(number_of_iterations=1)\n",
    "tsdf_lo_mesh_smth.compute_vertex_normals()"
   ]
  },
  {
   "cell_type": "code",
   "execution_count": 15,
   "id": "7b3f4352",
   "metadata": {},
   "outputs": [],
   "source": [
    "o3d.visualization.draw_geometries([tsdf_lo_mesh_smth])"
   ]
  },
  {
   "cell_type": "code",
   "execution_count": 16,
   "id": "4c5ce053",
   "metadata": {},
   "outputs": [
    {
     "name": "stdout",
     "output_type": "stream",
     "text": [
      "The high TSDF mesh has 4768872 triangles\n",
      "CPU times: user 7.08 s, sys: 2.97 s, total: 10 s\n",
      "Wall time: 4.24 s\n"
     ]
    }
   ],
   "source": [
    "%%time\n",
    "# tsdf_hi_meshes = tsdf_fuse_scene_from_depth_data(depth_data=depth_data_list, per_seg_depth_images=per_seg_depth_images, voxel_length=1/1000, trunc_voxels=4)\n",
    "tsdf_hi_mesh = tsdf_fuse_from_depth_data(depth_data=depth_data_list, voxel_length=1/1000, trunc_voxels=12)\n",
    "print(f'The high TSDF mesh has {len(np.asarray(tsdf_hi_mesh.triangles))} triangles')"
   ]
  },
  {
   "cell_type": "code",
   "execution_count": 18,
   "id": "09cabe00",
   "metadata": {},
   "outputs": [],
   "source": [
    "o3d.visualization.draw_geometries([tsdf_hi_mesh])"
   ]
  },
  {
   "cell_type": "code",
   "execution_count": 17,
   "id": "8f349c1a",
   "metadata": {},
   "outputs": [
    {
     "name": "stdout",
     "output_type": "stream",
     "text": [
      "CPU times: user 737 ms, sys: 3.76 ms, total: 741 ms\n",
      "Wall time: 738 ms\n"
     ]
    },
    {
     "data": {
      "text/plain": [
       "TriangleMesh with 2407684 points and 4768872 triangles."
      ]
     },
     "execution_count": 17,
     "metadata": {},
     "output_type": "execute_result"
    }
   ],
   "source": [
    "%%time\n",
    "tsdf_hi_mesh_smth = tsdf_hi_mesh.filter_smooth_simple(number_of_iterations=3)\n",
    "tsdf_hi_mesh_smth.compute_vertex_normals()"
   ]
  },
  {
   "cell_type": "code",
   "execution_count": 19,
   "id": "32e85622",
   "metadata": {},
   "outputs": [],
   "source": [
    "o3d.visualization.draw_geometries([tsdf_hi_mesh_smth])"
   ]
  },
  {
   "cell_type": "code",
   "execution_count": 9,
   "id": "124631eb",
   "metadata": {},
   "outputs": [
    {
     "name": "stderr",
     "output_type": "stream",
     "text": [
      "                                                     \n",
      "Scan:  44%|████▍     | 4/9 [01:09<01:12, 14.46s/scan] "
     ]
    },
    {
     "name": "stdout",
     "output_type": "stream",
     "text": [
      "Scan 5 obj 5 is empty\n"
     ]
    },
    {
     "name": "stderr",
     "output_type": "stream",
     "text": [
      "                                                     \n",
      "Scan:  56%|█████▌    | 5/9 [01:26<00:59, 14.81s/scan] "
     ]
    },
    {
     "name": "stdout",
     "output_type": "stream",
     "text": [
      "Scan 6 obj 5 is empty\n"
     ]
    },
    {
     "name": "stderr",
     "output_type": "stream",
     "text": [
      "                                                     \n",
      "Scan:  67%|██████▋   | 6/9 [01:36<00:46, 15.37s/scan] "
     ]
    },
    {
     "name": "stdout",
     "output_type": "stream",
     "text": [
      "Scan 7 obj 2 is empty\n"
     ]
    },
    {
     "name": "stderr",
     "output_type": "stream",
     "text": [
      "Scan: 100%|██████████| 9/9 [02:25<00:00, 16.17s/scan]"
     ]
    },
    {
     "name": "stdout",
     "output_type": "stream",
     "text": [
      "The SPF unc mesh has 421895 triangles\n"
     ]
    },
    {
     "name": "stderr",
     "output_type": "stream",
     "text": [
      "\n"
     ]
    }
   ],
   "source": [
    "fused_scan = scans[0]\n",
    "N = len(scans[0])\n",
    "assert len(set([len(scan) for scan in scans])) == 1\n",
    "\n",
    "for t, scan in enumerate(tqdm(scans[1:], desc=\"Scan\", unit=\"scan\"), start=1):\n",
    "    fused_scan_meshes = []\n",
    "    fused_scan_weights = []\n",
    "    for obj_id in tqdm(range(N), desc=\"Object\", unit=\"obj\", position=1, leave=False):\n",
    "        mesh1, weights1 = fused_scan[obj_id]\n",
    "        mesh2, weights2 = scan[obj_id]\n",
    "\n",
    "        if len(np.asarray(mesh1.vertices)) == 0:\n",
    "            tqdm.write(f\"Scan {t-1} obj {obj_id} is empty\")\n",
    "            fused_obj_mesh, fused_obj_weights = mesh2, weights2\n",
    "        elif len(np.asarray(mesh2.vertices)) == 0:\n",
    "            tqdm.write(f\"Scan {t} obj {obj_id} is empty\")\n",
    "            fused_obj_mesh, fused_obj_weights = mesh1, weights1\n",
    "        else:\n",
    "            fused_obj_mesh, fused_obj_weights = fuse_meshes(\n",
    "                mesh1=mesh1, weights1=weights1,\n",
    "                mesh2=mesh2, weights2=weights2,\n",
    "                # h_alpha             = 3,\n",
    "                # r_alpha             = 3,\n",
    "                # nrm_shift_iters     = 2,\n",
    "                # nrm_smth_iters      = 1,\n",
    "                # sigma_theta         = 0.1,\n",
    "                # normal_diff_thresh  = 20.0,\n",
    "                # tau_max = None,\n",
    "                # shift_all = False,\n",
    "                # ball_radius_percentiles = [1,5,15,30,50,70,85,95,99],\n",
    "                # bilateral_weight_update = False,\n",
    "                h_alpha=5.0, r_alpha=2.0,\n",
    "                nrm_shift_iters=1, nrm_smth_iters=1,\n",
    "                sigma_theta=0.15,\n",
    "                normal_diff_thresh=20,\n",
    "                ball_radius_percentiles=[10,50,90],\n",
    "                bilateral_weight_update=False,\n",
    "                shift_all=False,\n",
    "            )\n",
    "        fused_scan_meshes.append(fused_obj_mesh)\n",
    "        fused_scan_weights.append(fused_obj_weights)\n",
    "        \n",
    "    fused_scan = [(m,w) for m,w in zip(fused_scan_meshes, fused_scan_weights)]\n",
    "\n",
    "spf_unc_meshes = [obj[0] for obj in fused_scan]\n",
    "spf_unc_mesh = spf_unc_meshes[0]\n",
    "for i in range(1,len(spf_unc_meshes)):\n",
    "    spf_unc_mesh += spf_unc_meshes[i]\n",
    "print(f'The SPF unc mesh has {len(np.asarray(spf_unc_mesh.triangles))} triangles')"
   ]
  },
  {
   "cell_type": "code",
   "execution_count": 10,
   "id": "fc554286",
   "metadata": {},
   "outputs": [],
   "source": [
    "o3d.visualization.draw_geometries([spf_unc_mesh])"
   ]
  },
  {
   "cell_type": "code",
   "execution_count": 7,
   "id": "0917009e",
   "metadata": {},
   "outputs": [
    {
     "data": {
      "application/vnd.jupyter.widget-view+json": {
       "model_id": "c5e3d77604cd4c3586e684007119272b",
       "version_major": 2,
       "version_minor": 0
      },
      "text/plain": [
       "Scan:   0%|          | 0/9 [00:00<?, ?scan/s]"
      ]
     },
     "metadata": {},
     "output_type": "display_data"
    },
    {
     "data": {
      "application/vnd.jupyter.widget-view+json": {
       "model_id": "cce85115748a47d4a4e072af7628da99",
       "version_major": 2,
       "version_minor": 0
      },
      "text/plain": [
       "Object:   0%|          | 0/7 [00:00<?, ?obj/s]"
      ]
     },
     "metadata": {},
     "output_type": "display_data"
    },
    {
     "data": {
      "application/vnd.jupyter.widget-view+json": {
       "model_id": "7056bdc07b9d4c8d945a40552eb99818",
       "version_major": 2,
       "version_minor": 0
      },
      "text/plain": [
       "Object:   0%|          | 0/7 [00:00<?, ?obj/s]"
      ]
     },
     "metadata": {},
     "output_type": "display_data"
    },
    {
     "data": {
      "application/vnd.jupyter.widget-view+json": {
       "model_id": "e2578b8f0138431f8021f0f809194e24",
       "version_major": 2,
       "version_minor": 0
      },
      "text/plain": [
       "Object:   0%|          | 0/7 [00:00<?, ?obj/s]"
      ]
     },
     "metadata": {},
     "output_type": "display_data"
    },
    {
     "data": {
      "application/vnd.jupyter.widget-view+json": {
       "model_id": "9575be7d68df4c9daa5c9d52e5a3adb3",
       "version_major": 2,
       "version_minor": 0
      },
      "text/plain": [
       "Object:   0%|          | 0/7 [00:00<?, ?obj/s]"
      ]
     },
     "metadata": {},
     "output_type": "display_data"
    },
    {
     "data": {
      "application/vnd.jupyter.widget-view+json": {
       "model_id": "6c6b048c51bc42a5ab812acd6d7ba2ff",
       "version_major": 2,
       "version_minor": 0
      },
      "text/plain": [
       "Object:   0%|          | 0/7 [00:00<?, ?obj/s]"
      ]
     },
     "metadata": {},
     "output_type": "display_data"
    },
    {
     "name": "stdout",
     "output_type": "stream",
     "text": [
      "Scan 5 obj 5 is empty\n"
     ]
    },
    {
     "data": {
      "application/vnd.jupyter.widget-view+json": {
       "model_id": "141621d65d2a475cb05df0038c380ef7",
       "version_major": 2,
       "version_minor": 0
      },
      "text/plain": [
       "Object:   0%|          | 0/7 [00:00<?, ?obj/s]"
      ]
     },
     "metadata": {},
     "output_type": "display_data"
    },
    {
     "name": "stdout",
     "output_type": "stream",
     "text": [
      "Scan 6 obj 5 is empty\n"
     ]
    },
    {
     "data": {
      "application/vnd.jupyter.widget-view+json": {
       "model_id": "364ece5daa7d4f258134aff34b7a2d42",
       "version_major": 2,
       "version_minor": 0
      },
      "text/plain": [
       "Object:   0%|          | 0/7 [00:00<?, ?obj/s]"
      ]
     },
     "metadata": {},
     "output_type": "display_data"
    },
    {
     "name": "stdout",
     "output_type": "stream",
     "text": [
      "Scan 7 obj 2 is empty\n"
     ]
    },
    {
     "data": {
      "application/vnd.jupyter.widget-view+json": {
       "model_id": "aabd17f2e3dc412b9a905b3aba0310df",
       "version_major": 2,
       "version_minor": 0
      },
      "text/plain": [
       "Object:   0%|          | 0/7 [00:00<?, ?obj/s]"
      ]
     },
     "metadata": {},
     "output_type": "display_data"
    },
    {
     "data": {
      "application/vnd.jupyter.widget-view+json": {
       "model_id": "3c0d43bf90484dd697c3c5663d867c48",
       "version_major": 2,
       "version_minor": 0
      },
      "text/plain": [
       "Object:   0%|          | 0/7 [00:00<?, ?obj/s]"
      ]
     },
     "metadata": {},
     "output_type": "display_data"
    },
    {
     "name": "stdout",
     "output_type": "stream",
     "text": [
      "The SPF van mesh has 431616 triangles\n"
     ]
    }
   ],
   "source": [
    "fused_scan = scans[0]\n",
    "N = len(scans[0])\n",
    "assert len(set([len(scan) for scan in scans])) == 1\n",
    "\n",
    "for t, scan in enumerate(tqdm(scans[1:], desc=\"Scan\", unit=\"scan\"), start=1):\n",
    "    fused_scan_meshes = []\n",
    "    fused_scan_weights = []\n",
    "    for obj_id in tqdm(range(N), desc=\"Object\", unit=\"obj\", position=1, leave=False):\n",
    "        mesh1, weights1 = fused_scan[obj_id]\n",
    "        mesh2, weights2 = scan[obj_id]\n",
    "\n",
    "        if len(np.asarray(mesh1.vertices)) == 0:\n",
    "            tqdm.write(f\"Scan {t-1} obj {obj_id} is empty\")\n",
    "            fused_obj_mesh, fused_obj_weights = mesh2, weights2\n",
    "        elif len(np.asarray(mesh2.vertices)) == 0:\n",
    "            tqdm.write(f\"Scan {t} obj {obj_id} is empty\")\n",
    "            fused_obj_mesh, fused_obj_weights = mesh1, weights1\n",
    "        else:\n",
    "            fused_obj_mesh, _ = fuse_meshes(\n",
    "                mesh1=mesh1, weights1=None,\n",
    "                mesh2=mesh2, weights2=None,\n",
    "                # h_alpha             = 3,\n",
    "                # r_alpha             = 3,\n",
    "                # nrm_shift_iters     = 2,\n",
    "                # nrm_smth_iters      = 1,\n",
    "                # sigma_theta         = 0.1,\n",
    "                # normal_diff_thresh  = 20.0,\n",
    "                # tau_max = None,\n",
    "                # shift_all = False,\n",
    "                # ball_radius_percentiles = [1,5,15,30,50,70,85,95,99],\n",
    "                # bilateral_weight_update = False,\n",
    "                h_alpha=5.0, r_alpha=2.0,\n",
    "                nrm_shift_iters=1, nrm_smth_iters=1,\n",
    "                sigma_theta=0.15,\n",
    "                normal_diff_thresh=20,\n",
    "                ball_radius_percentiles=[1,5,10,15,25,35,50,90],\n",
    "                bilateral_weight_update=False,\n",
    "                shift_all=False,\n",
    "            )\n",
    "        fused_scan_meshes.append(fused_obj_mesh)\n",
    "        fused_scan_weights.append(fused_obj_weights)\n",
    "        \n",
    "    fused_scan = [(m,w) for m,w in zip(fused_scan_meshes, fused_scan_weights)]\n",
    "\n",
    "spf_van_meshes = [obj[0] for obj in fused_scan]\n",
    "spf_van_mesh = spf_van_meshes[0]\n",
    "for i in range(1,len(spf_van_meshes)):\n",
    "    spf_van_mesh += spf_van_meshes[i]\n",
    "print(f'The SPF van mesh has {len(np.asarray(spf_van_mesh.triangles))} triangles')"
   ]
  },
  {
   "cell_type": "code",
   "execution_count": 8,
   "id": "4d419c05",
   "metadata": {},
   "outputs": [],
   "source": [
    "o3d.visualization.draw_geometries([spf_van_mesh])"
   ]
  },
  {
   "cell_type": "code",
   "execution_count": 14,
   "id": "fcb7bf72",
   "metadata": {},
   "outputs": [],
   "source": [
    "spf_unc_mesh = o3d.io.read_triangle_mesh('evaluation/1_nonoise/scene/1_scene_spf_unc.ply')\n",
    "spf_van_mesh = o3d.io.read_triangle_mesh('evaluation/1_nonoise/scene/1_scene_spf_van.ply')"
   ]
  },
  {
   "cell_type": "code",
   "execution_count": null,
   "id": "edc15704",
   "metadata": {},
   "outputs": [],
   "source": [
    "# rt = 'evaluation/1_nonoise/scene/1_scene_'\n",
    "# ext = '.ply'\n",
    "# meshes_and_names = [\n",
    "#     (spf_unc_mesh, 'spf_unc'),\n",
    "#     (spf_van_mesh, 'spf_van'), \n",
    "#     (tsdf_lo_mesh, 'tsdf_lo'), \n",
    "#     (tsdf_lo_mesh_smth, 'tsdf_lo_smth'),\n",
    "#     # (tsdf_hi_mesh, 'tsdf_hi'), \n",
    "#     # (tsdf_hi_mesh_smth, 'tsdf_hi_smth'),\n",
    "# ]\n",
    "# for mesh_to_write,fname in meshes_and_names:\n",
    "#     ok = o3d.io.write_triangle_mesh(rt+fname+ext, mesh_to_write)\n",
    "#     if not ok:\n",
    "#         raise RuntimeError(f\"Failed to write mesh: {fname}\")"
   ]
  },
  {
   "cell_type": "code",
   "execution_count": null,
   "id": "bf596b05",
   "metadata": {},
   "outputs": [
    {
     "name": "stderr",
     "output_type": "stream",
     "text": [
      "/home/christopher/Documents/Code/project/src/superprimitive_fusion/evaluation.py:86: UserWarning: Deprecated Function Warning: use 'mesh_number()' instead.\n",
      "  except Exception: return [i for i in range(ms.number_meshes())]\n"
     ]
    }
   ],
   "source": [
    "res = evaluate_mesh_pair('evaluation/1_nonoise/gt_scene_mesh.ply', spf_unc_mesh, samples_per_mesh=150_000, taus_abs=(2.5e-4, 5e-4, 1e-3, 2e-3), debug=False)\n",
    "print(res)"
   ]
  },
  {
   "cell_type": "code",
   "execution_count": null,
   "id": "a802f71f",
   "metadata": {},
   "outputs": [
    {
     "name": "stdout",
     "output_type": "stream",
     "text": [
      "\u001b[1;33m[Open3D WARNING] Write OBJ can not include triangle normals.\u001b[0;m\n",
      "\u001b[1;33m[Open3D WARNING] Write OBJ can not include triangle normals.\u001b[0;m\n",
      "{'recon_to_gt': {'mean': 4.0384852380717256e-05, 'median': 1.7132701139285084e-05, 'rms': 7.524295606832672e-05, 'p95': 0.0001395806485170233, 'p99': 0.00035224874428021444, 'hausdorff': 0.0007376469518846074, 'trimmed_hausdorff_99': 0.00035224874428021444, 'count': 150000}, 'gt_to_recon': {'mean': 4.270451252663487e-05, 'median': 1.73756302581686e-05, 'rms': 8.345590710805457e-05, 'p95': 0.00014688153927260158, 'p99': 0.00038730854653130036, 'hausdorff': 0.0009785458782574086, 'trimmed_hausdorff_99': 0.00038730854653130036, 'count': 150000}, 'fscore': {0.00025: {'tau_m': 0.00025, 'precision': 0.9809066666666667, 'recall': 0.97676, 'fscore': 0.9788289416652477}, 0.0005: {'tau_m': 0.0005, 'precision': 0.9977666666666667, 'recall': 0.99582, 'fscore': 0.9967923829078579}, 0.001: {'tau_m': 0.001, 'precision': 1.0, 'recall': 1.0, 'fscore': 1.0}, 0.002: {'tau_m': 0.002, 'precision': 1.0, 'recall': 1.0, 'fscore': 1.0}}, 'normal_error_deg_triangle': {'recon_to_gt': {'mean': 2.2885975683955855, 'median': 1.1936513799932142, 'p90': 4.797657887764692, 'p95': 7.218741531532033, 'max': 67.04380587302663, 'count': 150000}, 'gt_to_recon': {'mean': 2.342966266144733, 'median': 1.219399604903899, 'p90': 4.859722859331908, 'p95': 7.4399067264634375, 'max': 86.54389293381891, 'count': 150000}, 'symmetric': {'mean': 2.3157819172701593, 'median': 1.2066205679520516, 'p90': 4.830166158113042, 'p95': 7.328302740384979, 'max': 86.54389293381891, 'count': 300000}}, 'recon_topology': {'boundary_edges': 20, 'connected_components_number': 1, 'edges_number': 174154, 'faces_number': 116096, 'genus': -1, 'incident_faces_on_non_two_manifold_edges': 0, 'incident_faces_on_non_two_manifold_vertices': 38, 'is_mesh_two_manifold': False, 'non_two_manifold_edges': 0, 'non_two_manifold_vertices': 6, 'number_holes': -1, 'unreferenced_vertices': 0, 'vertices_number': 58049}, 'gt_topology': {'boundary_edges': 24760, 'connected_components_number': 34, 'edges_number': 798812, 'faces_number': 524288, 'genus': -1, 'incident_faces_on_non_two_manifold_edges': 0, 'incident_faces_on_non_two_manifold_vertices': 6, 'is_mesh_two_manifold': False, 'non_two_manifold_edges': 0, 'non_two_manifold_vertices': 4, 'number_holes': -1, 'unreferenced_vertices': 0, 'vertices_number': 274552}}\n"
     ]
    }
   ],
   "source": [
    "res = evaluate_mesh_pair(gt_mesh, spf_van_mesh, samples_per_mesh=150_000, taus_abs=(2.5e-4, 5e-4, 1e-3, 2e-3), debug=False)\n",
    "print(res)"
   ]
  },
  {
   "cell_type": "code",
   "execution_count": null,
   "id": "133c6f2d",
   "metadata": {},
   "outputs": [
    {
     "name": "stdout",
     "output_type": "stream",
     "text": [
      "\u001b[1;33m[Open3D WARNING] Write OBJ can not include triangle normals.\u001b[0;m\n",
      "\u001b[1;33m[Open3D WARNING] Write OBJ can not include triangle normals.\u001b[0;m\n",
      "{'recon_to_gt': {'mean': 0.00011092313379871096, 'median': 8.34117831873607e-05, 'rms': 0.00015213555092778548, 'p95': 0.0003087966048076047, 'p99': 0.0004935521555266538, 'hausdorff': 0.0016186546227601184, 'trimmed_hausdorff_99': 0.0004935521555266538, 'count': 150000}, 'gt_to_recon': {'mean': 0.00010395317678521375, 'median': 8.059037894918297e-05, 'rms': 0.00013830723774120756, 'p95': 0.00028419230635734195, 'p99': 0.00042503903324442956, 'hausdorff': 0.0009138957998547914, 'trimmed_hausdorff_99': 0.00042503903324442956, 'count': 150000}, 'fscore': {0.00025: {'tau_m': 0.00025, 'precision': 0.9116466666666667, 'recall': 0.92692, 'fscore': 0.9192198940478997}, 0.0005: {'tau_m': 0.0005, 'precision': 0.9905266666666667, 'recall': 0.9957066666666666, 'fscore': 0.9931099120725438}, 0.001: {'tau_m': 0.001, 'precision': 0.9997466666666667, 'recall': 1.0, 'fscore': 0.9998733172868562}, 0.002: {'tau_m': 0.002, 'precision': 1.0, 'recall': 1.0, 'fscore': 1.0}}, 'normal_error_deg_triangle': {'recon_to_gt': {'mean': 12.768408874054042, 'median': 10.655414904291158, 'p90': 23.985159971911983, 'p95': 30.16624558726414, 'max': 89.86556079815325, 'count': 150000}, 'gt_to_recon': {'mean': 12.50207715601533, 'median': 10.487567758937285, 'p90': 23.431252721935298, 'p95': 29.301401950732462, 'max': 89.92876701946884, 'count': 150000}, 'symmetric': {'mean': 12.635243015034685, 'median': 10.570326522525173, 'p90': 23.716462113877174, 'p95': 29.753046834319743, 'max': 89.92876701946884, 'count': 300000}}, 'recon_topology': {'boundary_edges': 121, 'connected_components_number': 8, 'edges_number': 202754, 'faces_number': 135129, 'genus': 0, 'incident_faces_on_non_two_manifold_edges': 0, 'incident_faces_on_non_two_manifold_vertices': 0, 'is_mesh_two_manifold': True, 'non_two_manifold_edges': 0, 'non_two_manifold_vertices': 0, 'number_holes': 21, 'unreferenced_vertices': 0, 'vertices_number': 67620}, 'gt_topology': {'boundary_edges': 24760, 'connected_components_number': 34, 'edges_number': 798812, 'faces_number': 524288, 'genus': -1, 'incident_faces_on_non_two_manifold_edges': 0, 'incident_faces_on_non_two_manifold_vertices': 6, 'is_mesh_two_manifold': False, 'non_two_manifold_edges': 0, 'non_two_manifold_vertices': 4, 'number_holes': -1, 'unreferenced_vertices': 0, 'vertices_number': 274552}}\n"
     ]
    }
   ],
   "source": [
    "res = evaluate_mesh_pair(gt_mesh, tsdf_lo_mesh, samples_per_mesh=150_000, taus_abs=(2.5e-4, 5e-4, 1e-3, 2e-3), debug=False)\n",
    "print(res)"
   ]
  },
  {
   "cell_type": "code",
   "execution_count": null,
   "id": "a2b41501",
   "metadata": {},
   "outputs": [
    {
     "name": "stdout",
     "output_type": "stream",
     "text": [
      "\u001b[1;33m[Open3D WARNING] Write OBJ can not include triangle normals.\u001b[0;m\n",
      "\u001b[1;33m[Open3D WARNING] Write OBJ can not include triangle normals.\u001b[0;m\n",
      "{'recon_to_gt': {'mean': 7.352038227595891e-05, 'median': 5.548410136772125e-05, 'rms': 0.0001001215368255377, 'p95': 0.00020496659091981672, 'p99': 0.00032492141235117766, 'hausdorff': 0.000893037585018811, 'trimmed_hausdorff_99': 0.00032492141235117766, 'count': 150000}, 'gt_to_recon': {'mean': 7.424136198636982e-05, 'median': 5.545155079813083e-05, 'rms': 0.00010249635483444255, 'p95': 0.00020629872715625846, 'p99': 0.0003357382115314736, 'hausdorff': 0.0010869523918122827, 'trimmed_hausdorff_99': 0.0003357382115314736, 'count': 150000}, 'fscore': {0.00025: {'tau_m': 0.00025, 'precision': 0.9740066666666667, 'recall': 0.97272, 'fscore': 0.973362908129544}, 0.0005: {'tau_m': 0.0005, 'precision': 0.9990733333333334, 'recall': 0.99804, 'fscore': 0.9985563993363754}, 0.001: {'tau_m': 0.001, 'precision': 1.0, 'recall': 0.9999933333333333, 'fscore': 0.9999966666555555}, 0.002: {'tau_m': 0.002, 'precision': 1.0, 'recall': 1.0, 'fscore': 1.0}}, 'normal_error_deg_triangle': {'recon_to_gt': {'mean': 4.060127018015723, 'median': 3.0830449742461368, 'p90': 7.691909769658968, 'p95': 10.263573001455052, 'max': 78.51973969119386, 'count': 150000}, 'gt_to_recon': {'mean': 4.04182170861267, 'median': 3.067179837866317, 'p90': 7.621456103127095, 'p95': 10.141276819957676, 'max': 66.53448204268558, 'count': 150000}, 'symmetric': {'mean': 4.050974363314197, 'median': 3.0741676575160275, 'p90': 7.6565786895667305, 'p95': 10.204652256872286, 'max': 78.51973969119386, 'count': 300000}}, 'recon_topology': {'boundary_edges': 121, 'connected_components_number': 8, 'edges_number': 202754, 'faces_number': 135129, 'genus': 0, 'incident_faces_on_non_two_manifold_edges': 0, 'incident_faces_on_non_two_manifold_vertices': 0, 'is_mesh_two_manifold': True, 'non_two_manifold_edges': 0, 'non_two_manifold_vertices': 0, 'number_holes': 21, 'unreferenced_vertices': 0, 'vertices_number': 67620}, 'gt_topology': {'boundary_edges': 24760, 'connected_components_number': 34, 'edges_number': 798812, 'faces_number': 524288, 'genus': -1, 'incident_faces_on_non_two_manifold_edges': 0, 'incident_faces_on_non_two_manifold_vertices': 6, 'is_mesh_two_manifold': False, 'non_two_manifold_edges': 0, 'non_two_manifold_vertices': 4, 'number_holes': -1, 'unreferenced_vertices': 0, 'vertices_number': 274552}}\n"
     ]
    }
   ],
   "source": [
    "res = evaluate_mesh_pair(gt_mesh, tsdf_lo_mesh_smth, samples_per_mesh=150_000, taus_abs=(2.5e-4, 5e-4, 1e-3, 2e-3), debug=False)\n",
    "print(res)"
   ]
  },
  {
   "cell_type": "code",
   "execution_count": null,
   "id": "ba693312",
   "metadata": {},
   "outputs": [
    {
     "name": "stdout",
     "output_type": "stream",
     "text": [
      "\u001b[1;33m[Open3D WARNING] Write OBJ can not include triangle normals.\u001b[0;m\n",
      "\u001b[1;33m[Open3D WARNING] Write OBJ can not include triangle normals.\u001b[0;m\n",
      "{'recon_to_gt': {'mean': 0.00011092313379871096, 'median': 8.34117831873607e-05, 'rms': 0.00015213555092778548, 'p95': 0.0003087966048076047, 'p99': 0.0004935521555266538, 'hausdorff': 0.0016186546227601184, 'trimmed_hausdorff_99': 0.0004935521555266538, 'count': 150000}, 'gt_to_recon': {'mean': 0.00010395317678521375, 'median': 8.059037894918297e-05, 'rms': 0.00013830723774120756, 'p95': 0.00028419230635734195, 'p99': 0.00042503903324442956, 'hausdorff': 0.0009138957998547914, 'trimmed_hausdorff_99': 0.00042503903324442956, 'count': 150000}, 'fscore': {0.00025: {'tau_m': 0.00025, 'precision': 0.9116466666666667, 'recall': 0.92692, 'fscore': 0.9192198940478997}, 0.0005: {'tau_m': 0.0005, 'precision': 0.9905266666666667, 'recall': 0.9957066666666666, 'fscore': 0.9931099120725438}, 0.001: {'tau_m': 0.001, 'precision': 0.9997466666666667, 'recall': 1.0, 'fscore': 0.9998733172868562}, 0.002: {'tau_m': 0.002, 'precision': 1.0, 'recall': 1.0, 'fscore': 1.0}}, 'normal_error_deg_triangle': {'recon_to_gt': {'mean': 12.768408874054042, 'median': 10.655414904291158, 'p90': 23.985159971911983, 'p95': 30.16624558726414, 'max': 89.86556079815325, 'count': 150000}, 'gt_to_recon': {'mean': 12.50207715601533, 'median': 10.487567758937285, 'p90': 23.431252721935298, 'p95': 29.301401950732462, 'max': 89.92876701946884, 'count': 150000}, 'symmetric': {'mean': 12.635243015034685, 'median': 10.570326522525173, 'p90': 23.716462113877174, 'p95': 29.753046834319743, 'max': 89.92876701946884, 'count': 300000}}, 'recon_topology': {'boundary_edges': 121, 'connected_components_number': 8, 'edges_number': 202754, 'faces_number': 135129, 'genus': 0, 'incident_faces_on_non_two_manifold_edges': 0, 'incident_faces_on_non_two_manifold_vertices': 0, 'is_mesh_two_manifold': True, 'non_two_manifold_edges': 0, 'non_two_manifold_vertices': 0, 'number_holes': 21, 'unreferenced_vertices': 0, 'vertices_number': 67620}, 'gt_topology': {'boundary_edges': 24760, 'connected_components_number': 34, 'edges_number': 798812, 'faces_number': 524288, 'genus': -1, 'incident_faces_on_non_two_manifold_edges': 0, 'incident_faces_on_non_two_manifold_vertices': 6, 'is_mesh_two_manifold': False, 'non_two_manifold_edges': 0, 'non_two_manifold_vertices': 4, 'number_holes': -1, 'unreferenced_vertices': 0, 'vertices_number': 274552}}\n"
     ]
    }
   ],
   "source": [
    "res = evaluate_mesh_pair(gt_mesh, tsdf_hi_mesh, samples_per_mesh=150_000, taus_abs=(2.5e-4, 5e-4, 1e-3, 2e-3), debug=False)\n",
    "print(res)"
   ]
  },
  {
   "cell_type": "code",
   "execution_count": null,
   "id": "dbd127f4",
   "metadata": {},
   "outputs": [
    {
     "name": "stdout",
     "output_type": "stream",
     "text": [
      "\u001b[1;33m[Open3D WARNING] Write OBJ can not include triangle normals.\u001b[0;m\n",
      "\u001b[1;33m[Open3D WARNING] Write OBJ can not include triangle normals.\u001b[0;m\n",
      "{'recon_to_gt': {'mean': 7.352038227595891e-05, 'median': 5.548410136772125e-05, 'rms': 0.0001001215368255377, 'p95': 0.00020496659091981672, 'p99': 0.00032492141235117766, 'hausdorff': 0.000893037585018811, 'trimmed_hausdorff_99': 0.00032492141235117766, 'count': 150000}, 'gt_to_recon': {'mean': 7.424136198636982e-05, 'median': 5.545155079813083e-05, 'rms': 0.00010249635483444255, 'p95': 0.00020629872715625846, 'p99': 0.0003357382115314736, 'hausdorff': 0.0010869523918122827, 'trimmed_hausdorff_99': 0.0003357382115314736, 'count': 150000}, 'fscore': {0.00025: {'tau_m': 0.00025, 'precision': 0.9740066666666667, 'recall': 0.97272, 'fscore': 0.973362908129544}, 0.0005: {'tau_m': 0.0005, 'precision': 0.9990733333333334, 'recall': 0.99804, 'fscore': 0.9985563993363754}, 0.001: {'tau_m': 0.001, 'precision': 1.0, 'recall': 0.9999933333333333, 'fscore': 0.9999966666555555}, 0.002: {'tau_m': 0.002, 'precision': 1.0, 'recall': 1.0, 'fscore': 1.0}}, 'normal_error_deg_triangle': {'recon_to_gt': {'mean': 4.060127018015723, 'median': 3.0830449742461368, 'p90': 7.691909769658968, 'p95': 10.263573001455052, 'max': 78.51973969119386, 'count': 150000}, 'gt_to_recon': {'mean': 4.04182170861267, 'median': 3.067179837866317, 'p90': 7.621456103127095, 'p95': 10.141276819957676, 'max': 66.53448204268558, 'count': 150000}, 'symmetric': {'mean': 4.050974363314197, 'median': 3.0741676575160275, 'p90': 7.6565786895667305, 'p95': 10.204652256872286, 'max': 78.51973969119386, 'count': 300000}}, 'recon_topology': {'boundary_edges': 121, 'connected_components_number': 8, 'edges_number': 202754, 'faces_number': 135129, 'genus': 0, 'incident_faces_on_non_two_manifold_edges': 0, 'incident_faces_on_non_two_manifold_vertices': 0, 'is_mesh_two_manifold': True, 'non_two_manifold_edges': 0, 'non_two_manifold_vertices': 0, 'number_holes': 21, 'unreferenced_vertices': 0, 'vertices_number': 67620}, 'gt_topology': {'boundary_edges': 24760, 'connected_components_number': 34, 'edges_number': 798812, 'faces_number': 524288, 'genus': -1, 'incident_faces_on_non_two_manifold_edges': 0, 'incident_faces_on_non_two_manifold_vertices': 6, 'is_mesh_two_manifold': False, 'non_two_manifold_edges': 0, 'non_two_manifold_vertices': 4, 'number_holes': -1, 'unreferenced_vertices': 0, 'vertices_number': 274552}}\n"
     ]
    }
   ],
   "source": [
    "res = evaluate_mesh_pair(gt_mesh, tsdf_hi_mesh_smth, samples_per_mesh=150_000, taus_abs=(2.5e-4, 5e-4, 1e-3, 2e-3), debug=False)\n",
    "print(res)"
   ]
  },
  {
   "cell_type": "code",
   "execution_count": null,
   "id": "562c3e60",
   "metadata": {},
   "outputs": [
    {
     "name": "stderr",
     "output_type": "stream",
     "text": [
      "/home/christopher/Documents/Code/project/src/superprimitive_fusion/scanner.py:823: RuntimeWarning: invalid value encountered in matmul\n",
      "  depth = ((verts_noised - cam_centre_np) @ L).clip(min=0.0)\n"
     ]
    }
   ],
   "source": [
    "spf_unc_eval_depth_data = []\n",
    "for cc in ccs:\n",
    "    object_meshes, object_weights, depth_data = virtual_mesh_scan(\n",
    "        [spf_unc_mesh],\n",
    "        cc,\n",
    "        look_at,\n",
    "        k=k,\n",
    "        max_normal_angle_deg=max_normal_angle_deg,\n",
    "        width_px=width,\n",
    "        height_px=height,\n",
    "        fov=fov,\n",
    "        constant_uncertainty    =2e-4,\n",
    "        linear_uncertainty      =0,#2e-3,      # rate of uncertainty increase with depth\n",
    "        quadrt_uncertainty      =0,#1e-4,      # quadratic uncertainty coefficient\n",
    "        constant_perlin_sigma   =0,#2e-4,      # constant perlin noise term\n",
    "        linear_perlin_sigma     =0,#2e-3,      # linear depth term\n",
    "        quadrt_perlin_sigma     =0,#1e-4,      # quadratic depth term\n",
    "        perlin_octaves          =3,\n",
    "        seg_scale_std           =0,#1e-4,      # std of per-segment scale noise\n",
    "        rot_std                 =0,#1e-4,      # std of global rotation noise\n",
    "        trn_std                 =0,#1e-3,      # std of global translation noise\n",
    "        grazing_lambda          =1.0,       # sigma multiplier at grazing angles; 0 disables\n",
    "        seed                    =None,\n",
    "        include_depth_image     =True,\n",
    "    )\n",
    "    spf_unc_eval_depth_data.append(depth_data)"
   ]
  },
  {
   "cell_type": "code",
   "execution_count": 136,
   "id": "d8df17f1",
   "metadata": {},
   "outputs": [],
   "source": [
    "spf_van_eval_depth_data = []\n",
    "for cc in ccs:\n",
    "    object_meshes, object_weights, depth_data = virtual_mesh_scan(\n",
    "        [spf_van_mesh],\n",
    "        cc,\n",
    "        look_at,\n",
    "        k=k,\n",
    "        max_normal_angle_deg=max_normal_angle_deg,\n",
    "        width_px=width,\n",
    "        height_px=height,\n",
    "        fov=fov,\n",
    "        constant_uncertainty    =2e-4,\n",
    "        linear_uncertainty      =0,#2e-3,      # rate of uncertainty increase with depth\n",
    "        quadrt_uncertainty      =0,#1e-4,      # quadratic uncertainty coefficient\n",
    "        constant_perlin_sigma   =0,#2e-4,      # constant perlin noise term\n",
    "        linear_perlin_sigma     =0,#2e-3,      # linear depth term\n",
    "        quadrt_perlin_sigma     =0,#1e-4,      # quadratic depth term\n",
    "        perlin_octaves          =3,\n",
    "        seg_scale_std           =0,#1e-4,      # std of per-segment scale noise\n",
    "        rot_std                 =0,#1e-4,      # std of global rotation noise\n",
    "        trn_std                 =0,#1e-3,      # std of global translation noise\n",
    "        grazing_lambda          =1.0,       # sigma multiplier at grazing angles; 0 disables\n",
    "        seed                    =None,\n",
    "        include_depth_image     =True,\n",
    "    )\n",
    "    spf_van_eval_depth_data.append(depth_data)"
   ]
  },
  {
   "cell_type": "code",
   "execution_count": 134,
   "id": "ff3afa15",
   "metadata": {},
   "outputs": [
    {
     "name": "stderr",
     "output_type": "stream",
     "text": [
      "/home/christopher/Documents/Code/project/src/superprimitive_fusion/scanner.py:823: RuntimeWarning: invalid value encountered in matmul\n",
      "  depth = ((verts_noised - cam_centre_np) @ L).clip(min=0.0)\n"
     ]
    }
   ],
   "source": [
    "tsdf_lo_eval_depth_data = []\n",
    "for cc in ccs:\n",
    "    object_meshes, object_weights, depth_data = virtual_mesh_scan(\n",
    "        [tsdf_lo_mesh],\n",
    "        cc,\n",
    "        look_at,\n",
    "        k=k,\n",
    "        max_normal_angle_deg=max_normal_angle_deg,\n",
    "        width_px=width,\n",
    "        height_px=height,\n",
    "        fov=fov,\n",
    "        constant_uncertainty    =2e-4,\n",
    "        linear_uncertainty      =0,#2e-3,      # rate of uncertainty increase with depth\n",
    "        quadrt_uncertainty      =0,#1e-4,      # quadratic uncertainty coefficient\n",
    "        constant_perlin_sigma   =0,#2e-4,      # constant perlin noise term\n",
    "        linear_perlin_sigma     =0,#2e-3,      # linear depth term\n",
    "        quadrt_perlin_sigma     =0,#1e-4,      # quadratic depth term\n",
    "        perlin_octaves          =3,\n",
    "        seg_scale_std           =0,#1e-4,      # std of per-segment scale noise\n",
    "        rot_std                 =0,#1e-4,      # std of global rotation noise\n",
    "        trn_std                 =0,#1e-3,      # std of global translation noise\n",
    "        grazing_lambda          =1.0,       # sigma multiplier at grazing angles; 0 disables\n",
    "        seed                    =None,\n",
    "        include_depth_image     =True,\n",
    "    )\n",
    "    tsdf_lo_eval_depth_data.append(depth_data)"
   ]
  },
  {
   "cell_type": "code",
   "execution_count": 135,
   "id": "9e0be7fd",
   "metadata": {},
   "outputs": [
    {
     "name": "stderr",
     "output_type": "stream",
     "text": [
      "/home/christopher/Documents/Code/project/src/superprimitive_fusion/scanner.py:823: RuntimeWarning: invalid value encountered in matmul\n",
      "  depth = ((verts_noised - cam_centre_np) @ L).clip(min=0.0)\n"
     ]
    }
   ],
   "source": [
    "tsdf_lo_smth_eval_depth_data = []\n",
    "for cc in ccs:\n",
    "    object_meshes, object_weights, depth_data = virtual_mesh_scan(\n",
    "        [tsdf_lo_mesh_smth],\n",
    "        cc,\n",
    "        look_at,\n",
    "        k=k,\n",
    "        max_normal_angle_deg=max_normal_angle_deg,\n",
    "        width_px=width,\n",
    "        height_px=height,\n",
    "        fov=fov,\n",
    "        constant_uncertainty    =2e-4,\n",
    "        linear_uncertainty      =0,#2e-3,      # rate of uncertainty increase with depth\n",
    "        quadrt_uncertainty      =0,#1e-4,      # quadratic uncertainty coefficient\n",
    "        constant_perlin_sigma   =0,#2e-4,      # constant perlin noise term\n",
    "        linear_perlin_sigma     =0,#2e-3,      # linear depth term\n",
    "        quadrt_perlin_sigma     =0,#1e-4,      # quadratic depth term\n",
    "        perlin_octaves          =3,\n",
    "        seg_scale_std           =0,#1e-4,      # std of per-segment scale noise\n",
    "        rot_std                 =0,#1e-4,      # std of global rotation noise\n",
    "        trn_std                 =0,#1e-3,      # std of global translation noise\n",
    "        grazing_lambda          =1.0,       # sigma multiplier at grazing angles; 0 disables\n",
    "        seed                    =None,\n",
    "        include_depth_image     =True,\n",
    "    )\n",
    "    tsdf_lo_smth_eval_depth_data.append(depth_data)"
   ]
  },
  {
   "cell_type": "code",
   "execution_count": null,
   "id": "1dd45b5a",
   "metadata": {},
   "outputs": [
    {
     "name": "stderr",
     "output_type": "stream",
     "text": [
      "/home/christopher/Documents/Code/project/src/superprimitive_fusion/scanner.py:823: RuntimeWarning: invalid value encountered in matmul\n",
      "  depth = ((verts_noised - cam_centre_np) @ L).clip(min=0.0)\n"
     ]
    }
   ],
   "source": [
    "tsdf_hi_eval_depth_data = []\n",
    "for cc in ccs:\n",
    "    object_meshes, object_weights, depth_data = virtual_mesh_scan(\n",
    "        [tsdf_hi_mesh],\n",
    "        cc,\n",
    "        look_at,\n",
    "        k=k,\n",
    "        max_normal_angle_deg=max_normal_angle_deg,\n",
    "        width_px=width,\n",
    "        height_px=height,\n",
    "        fov=fov,\n",
    "        constant_uncertainty    =2e-4,\n",
    "        linear_uncertainty      =0,#2e-3,      # rate of uncertainty increase with depth\n",
    "        quadrt_uncertainty      =0,#1e-4,      # quadratic uncertainty coefficient\n",
    "        constant_perlin_sigma   =0,#2e-4,      # constant perlin noise term\n",
    "        linear_perlin_sigma     =0,#2e-3,      # linear depth term\n",
    "        quadrt_perlin_sigma     =0,#1e-4,      # quadratic depth term\n",
    "        perlin_octaves          =3,\n",
    "        seg_scale_std           =0,#1e-4,      # std of per-segment scale noise\n",
    "        rot_std                 =0,#1e-4,      # std of global rotation noise\n",
    "        trn_std                 =0,#1e-3,      # std of global translation noise\n",
    "        grazing_lambda          =1.0,       # sigma multiplier at grazing angles; 0 disables\n",
    "        seed                    =None,\n",
    "        include_depth_image     =True,\n",
    "    )\n",
    "    tsdf_hi_eval_depth_data.append(depth_data)"
   ]
  },
  {
   "cell_type": "code",
   "execution_count": null,
   "id": "0f98d3ec",
   "metadata": {},
   "outputs": [
    {
     "name": "stderr",
     "output_type": "stream",
     "text": [
      "/home/christopher/Documents/Code/project/src/superprimitive_fusion/scanner.py:823: RuntimeWarning: invalid value encountered in matmul\n",
      "  depth = ((verts_noised - cam_centre_np) @ L).clip(min=0.0)\n"
     ]
    }
   ],
   "source": [
    "tsdf_hi_smth_eval_depth_data = []\n",
    "for cc in ccs:\n",
    "    object_meshes, object_weights, depth_data = virtual_mesh_scan(\n",
    "        [tsdf_hi_mesh_smth],\n",
    "        cc,\n",
    "        look_at,\n",
    "        k=k,\n",
    "        max_normal_angle_deg=max_normal_angle_deg,\n",
    "        width_px=width,\n",
    "        height_px=height,\n",
    "        fov=fov,\n",
    "        constant_uncertainty    =2e-4,\n",
    "        linear_uncertainty      =0,#2e-3,      # rate of uncertainty increase with depth\n",
    "        quadrt_uncertainty      =0,#1e-4,      # quadratic uncertainty coefficient\n",
    "        constant_perlin_sigma   =0,#2e-4,      # constant perlin noise term\n",
    "        linear_perlin_sigma     =0,#2e-3,      # linear depth term\n",
    "        quadrt_perlin_sigma     =0,#1e-4,      # quadratic depth term\n",
    "        perlin_octaves          =3,\n",
    "        seg_scale_std           =0,#1e-4,      # std of per-segment scale noise\n",
    "        rot_std                 =0,#1e-4,      # std of global rotation noise\n",
    "        trn_std                 =0,#1e-3,      # std of global translation noise\n",
    "        grazing_lambda          =1.0,       # sigma multiplier at grazing angles; 0 disables\n",
    "        seed                    =None,\n",
    "        include_depth_image     =True,\n",
    "    )\n",
    "    tsdf_hi_smth_eval_depth_data.append(depth_data)"
   ]
  },
  {
   "cell_type": "code",
   "execution_count": 137,
   "id": "b5397c67",
   "metadata": {},
   "outputs": [
    {
     "name": "stdout",
     "output_type": "stream",
     "text": [
      "{'mse': 0.0012201191663887302, 'iou': 0.9932613579308203}\n"
     ]
    }
   ],
   "source": [
    "print(mse_and_iou(depth_data_list, spf_unc_eval_depth_data)['overall'])"
   ]
  },
  {
   "cell_type": "code",
   "execution_count": 139,
   "id": "dbfdd0e3",
   "metadata": {},
   "outputs": [
    {
     "name": "stdout",
     "output_type": "stream",
     "text": [
      "{'mse': 0.0036101242065795284, 'iou': 0.9793138654316079}\n"
     ]
    }
   ],
   "source": [
    "print(mse_and_iou(depth_data_list, spf_van_eval_depth_data)['overall'])"
   ]
  },
  {
   "cell_type": "code",
   "execution_count": 140,
   "id": "0ca0f740",
   "metadata": {},
   "outputs": [
    {
     "name": "stdout",
     "output_type": "stream",
     "text": [
      "{'mse': 0.003329867925109111, 'iou': 0.9781751617270619}\n"
     ]
    }
   ],
   "source": [
    "print(mse_and_iou(depth_data_list, tsdf_lo_eval_depth_data)['overall'])"
   ]
  },
  {
   "cell_type": "code",
   "execution_count": null,
   "id": "10264495",
   "metadata": {},
   "outputs": [
    {
     "name": "stdout",
     "output_type": "stream",
     "text": [
      "{'mse': 0.003778855060117283, 'iou': 0.975867342140633}\n"
     ]
    }
   ],
   "source": [
    "print(mse_and_iou(depth_data_list, tsdf_lo_smth_eval_depth_data)['overall'])"
   ]
  },
  {
   "cell_type": "code",
   "execution_count": null,
   "id": "8855d505",
   "metadata": {},
   "outputs": [
    {
     "name": "stdout",
     "output_type": "stream",
     "text": [
      "{'mse': 0.003329867925109111, 'iou': 0.9781751617270619}\n"
     ]
    }
   ],
   "source": [
    "print(mse_and_iou(depth_data_list, tsdf_hi_eval_depth_data)['overall'])"
   ]
  },
  {
   "cell_type": "code",
   "execution_count": null,
   "id": "e5b4f3ea",
   "metadata": {},
   "outputs": [
    {
     "name": "stdout",
     "output_type": "stream",
     "text": [
      "{'mse': 0.003778855060117283, 'iou': 0.975867342140633}\n"
     ]
    }
   ],
   "source": [
    "print(mse_and_iou(depth_data_list, tsdf_hi_smth_eval_depth_data)['overall'])"
   ]
  }
 ],
 "metadata": {
  "kernelspec": {
   "display_name": "msc-project",
   "language": "python",
   "name": "python3"
  },
  "language_info": {
   "codemirror_mode": {
    "name": "ipython",
    "version": 3
   },
   "file_extension": ".py",
   "mimetype": "text/x-python",
   "name": "python",
   "nbconvert_exporter": "python",
   "pygments_lexer": "ipython3",
   "version": "3.12.2"
  }
 },
 "nbformat": 4,
 "nbformat_minor": 5
}
