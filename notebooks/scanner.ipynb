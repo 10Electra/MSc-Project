{
 "cells": [
  {
   "cell_type": "code",
   "execution_count": 18,
   "id": "f9702081",
   "metadata": {},
   "outputs": [],
   "source": [
    "import numpy as np\n",
    "import open3d as o3d  # type: ignore\n",
    "import matplotlib.pyplot as plt\n",
    "\n",
    "from superprimitive_fusion.utils import bake_uv_to_vertex_colours, polar2cartesian"
   ]
  },
  {
   "cell_type": "code",
   "execution_count": 2,
   "id": "86feea5d",
   "metadata": {},
   "outputs": [],
   "source": [
    "mesh = o3d.io.read_triangle_mesh(\"../data/power-drill/textured.obj\", enable_post_processing=True)\n",
    "\n",
    "bake_uv_to_vertex_colours(mesh)\n",
    "\n",
    "mesh.compute_vertex_normals()\n",
    "\n",
    "bb = mesh.get_minimal_oriented_bounding_box()\n",
    "scale = np.mean(bb.get_max_bound())"
   ]
  },
  {
   "cell_type": "code",
   "execution_count": 3,
   "id": "80f396fb",
   "metadata": {},
   "outputs": [],
   "source": [
    "###########################################################\n",
    "# Geometry helpers                                        #\n",
    "###########################################################\n",
    "\n",
    "def _quad_to_tris(idx: tuple[int, int, int, int],\n",
    "                  verts: np.ndarray) -> tuple[list[int], list[int]]:\n",
    "    \"\"\"Split a quadrilateral into two triangles.\n",
    "\n",
    "    The shortest diagonal is used for convex quads, while concave quads are\n",
    "    triangulated so both resulting triangles are oriented counter‑clockwise\n",
    "    (positive signed area).\n",
    "    \"\"\"\n",
    "    def signed_area(a, b, c):\n",
    "        return (b[0] - a[0]) * (c[1] - a[1]) - (b[1] - a[1]) * (c[0] - a[0])\n",
    "\n",
    "    # Convexity check – all cross products have the same sign\n",
    "    crosses: list[float] = []\n",
    "    for i in range(4):\n",
    "        a, b, c = verts[i], verts[(i + 1) % 4], verts[(i + 2) % 4]\n",
    "        ab, bc = b - a, c - b\n",
    "        crosses.append(ab[0] * bc[1] - ab[1] * bc[0])\n",
    "    is_convex = all(cp > 0 for cp in crosses)\n",
    "\n",
    "    if is_convex:\n",
    "        # pick the shorter diagonal\n",
    "        d0 = np.sum((verts[0] - verts[2]) ** 2)\n",
    "        d1 = np.sum((verts[1] - verts[3]) ** 2)\n",
    "        if d0 <= d1:\n",
    "            return [idx[0], idx[1], idx[2]], [idx[0], idx[2], idx[3]]\n",
    "        return [idx[0], idx[1], idx[3]], [idx[1], idx[2], idx[3]]\n",
    "\n",
    "    # Concave: test both diagonals for valid (positive‑area) triangles\n",
    "    sa = [signed_area(*verts[[0, 1, 2]]), signed_area(*verts[[0, 2, 3]]),\n",
    "          signed_area(*verts[[0, 1, 3]]), signed_area(*verts[[1, 2, 3]])]\n",
    "    split1_ok = sa[0] > 0 and sa[1] > 0  # (0,1,2) & (0,2,3)\n",
    "    split2_ok = sa[2] > 0 and sa[3] > 0  # (0,1,3) & (1,2,3)\n",
    "    if split1_ok or not split2_ok:\n",
    "        return [idx[0], idx[1], idx[2]], [idx[0], idx[2], idx[3]]\n",
    "    return [idx[0], idx[1], idx[3]], [idx[1], idx[2], idx[3]]\n",
    "\n",
    "###########################################################\n",
    "# Colour helpers                                          #\n",
    "###########################################################\n",
    "\n",
    "def _interpolate_vertex_colors(mesh: o3d.geometry.TriangleMesh,\n",
    "                               primitive_ids: np.ndarray,\n",
    "                               bary_uv: np.ndarray) -> np.ndarray:\n",
    "    \"\"\"Interpolate per‑vertex colours of *mesh* at the hit points.\"\"\"\n",
    "    vcols = np.asarray(mesh.vertex_colors)\n",
    "    tris = np.asarray(mesh.triangles, dtype=np.int32)\n",
    "\n",
    "    tri = tris[primitive_ids]\n",
    "    c0, c1, c2 = vcols[tri[:, :, 0]], vcols[tri[:, :, 1]], vcols[tri[:, :, 2]]\n",
    "\n",
    "    u, v = bary_uv[:, :, 0], bary_uv[:, :, 1]\n",
    "    w = 1.0 - u - v\n",
    "    vcols = w[:, :, None] * c0 + u[:, :, None] * c1 + v[:, :, None] * c2\n",
    "\n",
    "    return vcols"
   ]
  },
  {
   "cell_type": "code",
   "execution_count": 89,
   "id": "dfaf7472",
   "metadata": {},
   "outputs": [],
   "source": [
    "###########################################################\n",
    "# Main entry point                                        #\n",
    "###########################################################\n",
    "\n",
    "mesh: o3d.geometry.TriangleMesh\n",
    "cam_centre=polar2cartesian(r=0.3, lat=90, long=150)\n",
    "look_dir=(0.0, 0.0, 0.0)\n",
    "dropout_rate: float = 0\n",
    "depth_error_std: float = 0.0\n",
    "translation_error_std: float = 0.0\n",
    "rotation_error_std_degs: float = 0.0\n",
    "width_px: int = 360\n",
    "height_px: int = 240\n",
    "fov: float = 70.0\n",
    "dist_thresh: float = 10.0"
   ]
  },
  {
   "cell_type": "code",
   "execution_count": 90,
   "id": "399e7ad1",
   "metadata": {},
   "outputs": [],
   "source": [
    "###############\n",
    "# Ray casting #\n",
    "###############\n",
    "scene = o3d.t.geometry.RaycastingScene()\n",
    "scene.add_triangles(o3d.t.geometry.TriangleMesh.from_legacy(mesh))\n",
    "\n",
    "rays = o3d.t.geometry.RaycastingScene.create_rays_pinhole(\n",
    "    fov_deg=fov,\n",
    "    center=list(look_dir),\n",
    "    eye=list(cam_centre),\n",
    "    up=[0, 0, 1],\n",
    "    width_px=width_px,\n",
    "    height_px=height_px,\n",
    ")\n",
    "\n",
    "ans = scene.cast_rays(rays)\n",
    "t_hit = ans[\"t_hit\"].numpy()\n",
    "\n",
    "# Intersection metadata (triangle id + barycentric uv)\n",
    "prim_ids = ans[\"primitive_ids\"].numpy().astype(np.int32)\n",
    "bary_uv = ans.get(\"primitive_uvs\", None).numpy()"
   ]
  },
  {
   "cell_type": "code",
   "execution_count": 91,
   "id": "9aa050e3",
   "metadata": {},
   "outputs": [
    {
     "data": {
      "text/plain": [
       "<matplotlib.image.AxesImage at 0x7fcdc864d6d0>"
      ]
     },
     "execution_count": 91,
     "metadata": {},
     "output_type": "execute_result"
    },
    {
     "data": {
      "image/png": "[encoded data removed]",
      "text/plain": [
       "<Figure size 640x480 with 1 Axes>"
      ]
     },
     "metadata": {},
     "output_type": "display_data"
    }
   ],
   "source": [
    "plt.imshow(t_hit)"
   ]
  },
  {
   "cell_type": "code",
   "execution_count": 97,
   "id": "ca6026ec",
   "metadata": {},
   "outputs": [],
   "source": [
    "######################\n",
    "# Dropout / validity #\n",
    "######################\n",
    "valid = np.isfinite(t_hit).reshape(-1)\n",
    "# random dropout mask\n",
    "n_dropout = int(dropout_rate * valid.size)\n",
    "if n_dropout:\n",
    "    dropout_idx = np.random.choice(valid.size, n_dropout, replace=False)\n",
    "    valid[dropout_idx] = False"
   ]
  },
  {
   "cell_type": "code",
   "execution_count": 98,
   "id": "8416ec8e",
   "metadata": {},
   "outputs": [],
   "source": [
    "########################\n",
    "# Generate 3‑D vertices#\n",
    "########################\n",
    "rays_np = rays.numpy()  # (H*W,6)\n",
    "origins = rays_np[..., :3]\n",
    "dirs = rays_np[..., 3:]\n",
    "noise = (depth_error_std * np.random.randn(*t_hit.shape)).astype(np.float32)\n",
    "t_noisy = t_hit + noise\n",
    "verts = origins + dirs * t_noisy[..., None]\n",
    "verts = verts.reshape(-1, 3)"
   ]
  },
  {
   "cell_type": "code",
   "execution_count": 120,
   "id": "751b8e11",
   "metadata": {},
   "outputs": [],
   "source": [
    "H, W = height_px, width_px\n",
    "\n",
    "z = t_noisy.reshape(H, W)\n",
    "valid_img = valid.reshape(H, W)\n",
    "\n",
    "disp = np.zeros_like(z, dtype=np.float32)\n",
    "disp[valid_img] = 1.0 / z[valid_img]\n",
    "\n",
    "# Neighbor disparity diffs\n",
    "dx = np.abs(disp[:, 1:] - disp[:, :-1])\n",
    "dy = np.abs(disp[1:, :] - disp[:-1, :])\n",
    "\n",
    "mask_x = valid_img[:, 1:] & valid_img[:, :-1]\n",
    "mask_y = valid_img[1:, :] & valid_img[:-1, :]\n",
    "\n",
    "vals = np.concatenate([dx[mask_x].ravel(), dy[mask_y].ravel()])\n",
    "if vals.size:\n",
    "    med = np.median(vals)\n",
    "    mad = 1.4826 * np.median(np.abs(vals - med))\n",
    "    thr = med + 10.0 * mad if mad > 0 else med * 1.5  # fallback if everything is flat\n",
    "else:\n",
    "    thr = np.inf  # nothing valid → nothing is bad by disparity\n",
    "\n",
    "bad_x = (~mask_x) | (dx > thr)   # shape (H, W-1)\n",
    "bad_y = (~mask_y) | (dy > thr)   # shape (H-1, W)\n",
    "\n",
    "dd0 = np.abs(disp[:-1, :-1] - disp[1:, 1:])  # tl-br\n",
    "dd1 = np.abs(disp[:-1, 1:]  - disp[1:, :-1]) # tr-bl\n",
    "mask_d0 = valid_img[:-1, :-1] & valid_img[1:, 1:]\n",
    "mask_d1 = valid_img[:-1, 1:]  & valid_img[1:, :-1]\n",
    "bad_d0 = (~mask_d0) | (dd0 > thr)\n",
    "bad_d1 = (~mask_d1) | (dd1 > thr)"
   ]
  },
  {
   "cell_type": "code",
   "execution_count": 121,
   "id": "1a23e60e",
   "metadata": {},
   "outputs": [],
   "source": [
    "######################################\n",
    "# Optional colour interpolation step #\n",
    "######################################\n",
    "vcols: np.ndarray | None = None\n",
    "if mesh.has_vertex_colors():\n",
    "    if bary_uv is not None:\n",
    "        vcols = _interpolate_vertex_colors(mesh, prim_ids, bary_uv)\n",
    "    else:  # fall back to the first vertex of the hit triangle\n",
    "        source_cols = np.asarray(mesh.vertex_colors)\n",
    "        tri_first = np.asarray(mesh.triangles, dtype=np.int32)[prim_ids, 0]\n",
    "        vcols = source_cols[tri_first]\n",
    "    # invalid hits – set to black\n",
    "    assert vcols is not None  # narrow type for mypy\n",
    "    vcols.reshape(-1,3)[~valid] = np.full(3, 0.0)"
   ]
  },
  {
   "cell_type": "code",
   "execution_count": 122,
   "id": "e4302cc3",
   "metadata": {},
   "outputs": [],
   "source": [
    "########################\n",
    "# Re‑construct surface #\n",
    "########################\n",
    "tris: list[list] = []\n",
    "for v in range(H - 1):\n",
    "    for u in range(W - 1):\n",
    "        tl = v * W + u\n",
    "        tr = tl + 1\n",
    "        bl = tl + W\n",
    "        br = bl + 1\n",
    "        quad = (bl, tl, tr, br)\n",
    "        if not (valid[quad[0]] and valid[quad[1]] and valid[quad[2]] and valid[quad[3]]):\n",
    "            continue\n",
    "\n",
    "        if (bad_x[v, u] or          # tl - tr\n",
    "            bad_x[v + 1, u] or      # bl - br\n",
    "            bad_y[v, u] or          # tl - bl\n",
    "            bad_y[v, u + 1]):       # tr - br\n",
    "            continue\n",
    "\n",
    "        quad_verts = verts[list(quad)]\n",
    "\n",
    "        t0, t1 = _quad_to_tris(quad, quad_verts)\n",
    "\n",
    "\n",
    "        # Determine which diagonal was used and veto if that diag is bad\n",
    "        uses02 = ((quad[0] in t0 and quad[2] in t0) or (quad[0] in t1 and quad[2] in t1))  # tl (idx1)?? careful: quad=(bl,tl,tr,br)\n",
    "        uses13 = ((quad[1] in t0 and quad[3] in t0) or (quad[1] in t1 and quad[3] in t1))\n",
    "\n",
    "        # Map our quad tuple to the tl,tr,bl,br notation we used for masks:\n",
    "        # quad = (bl, tl, tr, br)\n",
    "        bl_i, tl_i, tr_i, br_i = quad\n",
    "\n",
    "        # Our bad_d0/1 indices are keyed by (v,u) for the quad itself.\n",
    "        # tl-br diagonal is verts[1]-verts[3] in this quad tuple (tl_i, br_i)\n",
    "        # tr-bl diagonal is verts[2]-verts[0] (tr_i, bl_i)\n",
    "\n",
    "        if uses02:  # quad[0]-quad[2] = bl - tr  (that's tr-bl diag)\n",
    "            if bad_d1[v, u]:  # tr-bl\n",
    "                continue\n",
    "        if uses13:  # quad[1]-quad[3] = tl - br  (that's tl-br diag)\n",
    "            if bad_d0[v, u]:  # tl-br\n",
    "                continue\n",
    "        \n",
    "\n",
    "        tris.extend([t0, t1])\n",
    "\n",
    "mesh_out = o3d.geometry.TriangleMesh()\n",
    "mesh_out.vertices = o3d.utility.Vector3dVector(verts)\n",
    "mesh_out.triangles = o3d.utility.Vector3iVector(np.asarray(tris, dtype=np.int32)[:, [0,2,1]])\n",
    "\n",
    "if vcols is not None:\n",
    "    mesh_out.vertex_colors = o3d.utility.Vector3dVector(vcols.reshape(-1,3))"
   ]
  },
  {
   "cell_type": "code",
   "execution_count": 123,
   "id": "53db2387",
   "metadata": {},
   "outputs": [
    {
     "data": {
      "text/plain": [
       "TriangleMesh with 6806 points and 12838 triangles."
      ]
     },
     "execution_count": 123,
     "metadata": {},
     "output_type": "execute_result"
    }
   ],
   "source": [
    "#############################\n",
    "# Clean‑up / post‑processing#\n",
    "#############################\n",
    "mesh_out.remove_unreferenced_vertices()\n",
    "mesh_out.remove_degenerate_triangles()\n",
    "mesh_out.remove_duplicated_triangles()\n",
    "mesh_out.remove_non_manifold_edges()\n",
    "mesh_out.compute_vertex_normals()"
   ]
  },
  {
   "cell_type": "code",
   "execution_count": 124,
   "id": "60d06118",
   "metadata": {},
   "outputs": [
    {
     "data": {
      "text/plain": [
       "TriangleMesh with 6806 points and 12838 triangles."
      ]
     },
     "execution_count": 124,
     "metadata": {},
     "output_type": "execute_result"
    }
   ],
   "source": [
    "######################\n",
    "# Registration error #\n",
    "######################\n",
    "mesh_out.translate(tuple(np.random.randn(3) * translation_error_std))\n",
    "R = mesh.get_rotation_matrix_from_xyz(\n",
    "    tuple(np.random.randn(3) * np.deg2rad(rotation_error_std_degs))\n",
    ")\n",
    "mesh_out.rotate(R, center=mesh_out.get_center())"
   ]
  },
  {
   "cell_type": "code",
   "execution_count": 125,
   "id": "489b086b",
   "metadata": {},
   "outputs": [],
   "source": [
    "#######################\n",
    "# Noised point cloud  #\n",
    "#######################\n",
    "pcd = o3d.t.geometry.PointCloud(o3d.core.Tensor(verts, dtype=o3d.core.Dtype.Float32))\n",
    "pcd = pcd.translate(tuple(np.random.randn(3) * translation_error_std))\n",
    "R = mesh.get_rotation_matrix_from_xyz(\n",
    "    tuple(np.random.randn(3) * np.deg2rad(rotation_error_std_degs))\n",
    ")\n",
    "pcd = pcd.rotate(R, center=pcd.get_center())"
   ]
  },
  {
   "cell_type": "code",
   "execution_count": 126,
   "id": "b31c1652",
   "metadata": {},
   "outputs": [],
   "source": [
    "o3d.visualization.draw_geometries([mesh_out])"
   ]
  }
 ],
 "metadata": {
  "kernelspec": {
   "display_name": "msc-project",
   "language": "python",
   "name": "python3"
  },
  "language_info": {
   "codemirror_mode": {
    "name": "ipython",
    "version": 3
   },
   "file_extension": ".py",
   "mimetype": "text/x-python",
   "name": "python",
   "nbconvert_exporter": "python",
   "pygments_lexer": "ipython3",
   "version": "3.12.3"
  }
 },
 "nbformat": 4,
 "nbformat_minor": 5
}
