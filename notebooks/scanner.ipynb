{
 "cells": [
  {
   "cell_type": "code",
   "execution_count": 15,
   "id": "f9702081",
   "metadata": {},
   "outputs": [],
   "source": [
    "import numpy as np\n",
    "import open3d as o3d  # type: ignore\n",
    "import matplotlib.pyplot as plt\n",
    "import torch\n",
    "\n",
    "from sam2.build_sam import build_sam2\n",
    "from sam2.automatic_mask_generator import SAM2AutomaticMaskGenerator\n",
    "\n",
    "from superprimitive_fusion.utils import (\n",
    "    bake_uv_to_vertex_colours,\n",
    "    polar2cartesian,\n",
    "    get_integer_segments,\n",
    "    triangulate_segments,\n",
    ")"
   ]
  },
  {
   "cell_type": "code",
   "execution_count": 16,
   "id": "a287018d",
   "metadata": {},
   "outputs": [],
   "source": [
    "device0 = torch.device(\"cuda:0\")\n",
    "device1 = torch.device(\"cuda:1\")\n",
    "\n",
    "torch.autocast(\"cuda\", dtype=torch.bfloat16).__enter__()\n",
    "if torch.cuda.get_device_properties(0).major >= 8:\n",
    "    torch.backends.cuda.matmul.allow_tf32 = True\n",
    "    torch.backends.cudnn.allow_tf32 = True"
   ]
  },
  {
   "cell_type": "code",
   "execution_count": 17,
   "id": "54e9857a",
   "metadata": {},
   "outputs": [],
   "source": [
    "sam2_checkpoint = \"../models/SAM2/sam2.1_hiera_large.pt\"\n",
    "model_cfg = \"configs/sam2.1/sam2.1_hiera_l.yaml\"\n",
    "\n",
    "sam2 = build_sam2(model_cfg, sam2_checkpoint, device=device0, apply_postprocessing=False)\n",
    "\n",
    "mask_generator = SAM2AutomaticMaskGenerator(sam2)"
   ]
  },
  {
   "cell_type": "code",
   "execution_count": 18,
   "id": "86feea5d",
   "metadata": {},
   "outputs": [],
   "source": [
    "mesh = o3d.io.read_triangle_mesh(\"../data/power-drill/textured.obj\", enable_post_processing=True)\n",
    "\n",
    "bake_uv_to_vertex_colours(mesh)\n",
    "\n",
    "mesh.compute_vertex_normals()\n",
    "\n",
    "bb = mesh.get_minimal_oriented_bounding_box()\n",
    "scale = np.mean(bb.get_max_bound())"
   ]
  },
  {
   "cell_type": "code",
   "execution_count": null,
   "id": "80f396fb",
   "metadata": {},
   "outputs": [],
   "source": [
    "###########################################################\n",
    "# Colour helpers                                          #\n",
    "###########################################################\n",
    "\n",
    "def _interpolate_vertex_colors(mesh: o3d.geometry.TriangleMesh,\n",
    "                               primitive_ids: np.ndarray,\n",
    "                               bary_uv: np.ndarray) -> np.ndarray:\n",
    "    \"\"\"Interpolate per‑vertex colours of *mesh* at the hit points.\"\"\"\n",
    "    vcols = np.asarray(mesh.vertex_colors)\n",
    "    tris = np.asarray(mesh.triangles, dtype=np.int32)\n",
    "\n",
    "    tri = tris[primitive_ids]\n",
    "    c0, c1, c2 = vcols[tri[:, :, 0]], vcols[tri[:, :, 1]], vcols[tri[:, :, 2]]\n",
    "\n",
    "    u, v = bary_uv[:, :, 0], bary_uv[:, :, 1]\n",
    "    w = 1.0 - u - v\n",
    "    vcols = w[:, :, None] * c0 + u[:, :, None] * c1 + v[:, :, None] * c2\n",
    "\n",
    "    return vcols"
   ]
  },
  {
   "cell_type": "code",
   "execution_count": null,
   "id": "dfaf7472",
   "metadata": {},
   "outputs": [],
   "source": [
    "###########################################################\n",
    "# Main entry point                                        #\n",
    "###########################################################\n",
    "\n",
    "mesh: o3d.geometry.TriangleMesh\n",
    "cam_centre=polar2cartesian(r=0.3, lat=90, long=150)\n",
    "look_at=(0.0, 0.0, 0.0)\n",
    "dropout_rate: float = 0\n",
    "depth_error_std: float = 0.0\n",
    "translation_error_std: float = 0.0\n",
    "rotation_error_std_degs: float = 0.0\n",
    "width_px: int = 360\n",
    "height_px: int = 240\n",
    "fov: float = 70.0\n",
    "dist_thresh: float = 10.0"
   ]
  },
  {
   "cell_type": "code",
   "execution_count": null,
   "id": "399e7ad1",
   "metadata": {},
   "outputs": [],
   "source": [
    "###############\n",
    "# Ray casting #\n",
    "###############\n",
    "scene = o3d.t.geometry.RaycastingScene()\n",
    "scene.add_triangles(o3d.t.geometry.TriangleMesh.from_legacy(mesh))\n",
    "\n",
    "rays = o3d.t.geometry.RaycastingScene.create_rays_pinhole(\n",
    "    fov_deg=fov,\n",
    "    center=list(look_at),\n",
    "    eye=list(cam_centre),\n",
    "    up=[0, 0, 1],\n",
    "    width_px=width_px,\n",
    "    height_px=height_px,\n",
    ")\n",
    "\n",
    "ans = scene.cast_rays(rays)\n",
    "t_hit = ans[\"t_hit\"].numpy()\n",
    "\n",
    "# Intersection metadata (triangle id + barycentric uv)\n",
    "prim_ids = ans[\"primitive_ids\"].numpy().astype(np.int32)\n",
    "bary_uv = ans.get(\"primitive_uvs\", None).numpy()"
   ]
  },
  {
   "cell_type": "code",
   "execution_count": 22,
   "id": "9aa050e3",
   "metadata": {},
   "outputs": [
    {
     "data": {
      "text/plain": [
       "<matplotlib.image.AxesImage at 0x7ff8a009a0c0>"
      ]
     },
     "execution_count": 22,
     "metadata": {},
     "output_type": "execute_result"
    },
    {
     "data": {
      "image/png": "[encoded data removed]",
      "text/plain": [
       "<Figure size 640x480 with 1 Axes>"
      ]
     },
     "metadata": {},
     "output_type": "display_data"
    }
   ],
   "source": [
    "plt.imshow(t_hit)"
   ]
  },
  {
   "cell_type": "code",
   "execution_count": 23,
   "id": "8416ec8e",
   "metadata": {},
   "outputs": [],
   "source": [
    "########################\n",
    "# Generate 3‑D vertices#\n",
    "########################\n",
    "rays_np = rays.numpy()  # (H*W,6)\n",
    "origins = rays_np[..., :3]\n",
    "dirs = rays_np[..., 3:]\n",
    "noise = (depth_error_std * np.random.randn(*t_hit.shape)).astype(np.float32)\n",
    "t_noisy = t_hit + noise\n",
    "verts = origins + dirs * t_noisy[..., None]\n",
    "verts = verts.reshape(-1, 3)\n",
    "valid = np.isfinite(verts).all(axis=1)"
   ]
  },
  {
   "cell_type": "code",
   "execution_count": 24,
   "id": "1a23e60e",
   "metadata": {},
   "outputs": [],
   "source": [
    "######################################\n",
    "# Optional colour interpolation step #\n",
    "######################################\n",
    "vcols: np.ndarray | None = None\n",
    "if mesh.has_vertex_colors():\n",
    "    if bary_uv is not None:\n",
    "        vcols = _interpolate_vertex_colors(mesh, prim_ids, bary_uv)\n",
    "    else:  # fall back to the first vertex of the hit triangle\n",
    "        source_cols = np.asarray(mesh.vertex_colors)\n",
    "        tri_first = np.asarray(mesh.triangles, dtype=np.int32)[prim_ids, 0]\n",
    "        vcols = source_cols[tri_first]\n",
    "    # invalid hits – set to black\n",
    "    assert vcols is not None  # narrow type for mypy\n",
    "    vcols.reshape(-1,3)[~valid] = np.full(3, 0.0)"
   ]
  },
  {
   "cell_type": "code",
   "execution_count": 25,
   "id": "f8188798",
   "metadata": {},
   "outputs": [],
   "source": [
    "masks = mask_generator.generate(vcols.astype(np.float32))"
   ]
  },
  {
   "cell_type": "code",
   "execution_count": 26,
   "id": "1b065d1d",
   "metadata": {},
   "outputs": [
    {
     "data": {
      "text/plain": [
       "<matplotlib.colorbar.Colorbar at 0x7ff906b2ca70>"
      ]
     },
     "execution_count": 26,
     "metadata": {},
     "output_type": "execute_result"
    },
    {
     "data": {
      "image/png": "[encoded data removed]",
      "text/plain": [
       "<Figure size 640x480 with 2 Axes>"
      ]
     },
     "metadata": {},
     "output_type": "display_data"
    }
   ],
   "source": [
    "sp_regions = np.array([mask['segmentation'] for mask in masks])\n",
    "\n",
    "int_seg = get_integer_segments(sp_regions)\n",
    "\n",
    "plt.axis('off')\n",
    "plt.imshow(int_seg)\n",
    "plt.colorbar()"
   ]
  },
  {
   "cell_type": "code",
   "execution_count": 27,
   "id": "e4302cc3",
   "metadata": {},
   "outputs": [],
   "source": [
    "########################\n",
    "# Re‑construct surface #\n",
    "########################\n",
    "tris = triangulate_segments(verts, int_seg)\n",
    "all_tris = [tri for trise in tris for tri in trise]\n",
    "\n",
    "mesh_out = o3d.geometry.TriangleMesh()\n",
    "mesh_out.vertices = o3d.utility.Vector3dVector(verts)\n",
    "mesh_out.triangles = o3d.utility.Vector3iVector(all_tris)\n",
    "\n",
    "if vcols is not None:\n",
    "    mesh_out.vertex_colors = o3d.utility.Vector3dVector(vcols.reshape(-1,3))"
   ]
  },
  {
   "cell_type": "code",
   "execution_count": 28,
   "id": "53db2387",
   "metadata": {},
   "outputs": [
    {
     "data": {
      "text/plain": [
       "TriangleMesh with 6652 points and 12556 triangles."
      ]
     },
     "execution_count": 28,
     "metadata": {},
     "output_type": "execute_result"
    }
   ],
   "source": [
    "#############################\n",
    "# Clean‑up / post‑processing#\n",
    "#############################\n",
    "mesh_out.remove_unreferenced_vertices()\n",
    "mesh_out.remove_degenerate_triangles()\n",
    "mesh_out.remove_duplicated_triangles()\n",
    "mesh_out.remove_non_manifold_edges()\n",
    "mesh_out.compute_vertex_normals()"
   ]
  },
  {
   "cell_type": "code",
   "execution_count": 29,
   "id": "60d06118",
   "metadata": {},
   "outputs": [
    {
     "data": {
      "text/plain": [
       "TriangleMesh with 6652 points and 12556 triangles."
      ]
     },
     "execution_count": 29,
     "metadata": {},
     "output_type": "execute_result"
    }
   ],
   "source": [
    "######################\n",
    "# Registration error #\n",
    "######################\n",
    "mesh_out.translate(tuple(np.random.randn(3) * translation_error_std))\n",
    "R = mesh.get_rotation_matrix_from_xyz(\n",
    "    tuple(np.random.randn(3) * np.deg2rad(rotation_error_std_degs))\n",
    ")\n",
    "mesh_out.rotate(R, center=mesh_out.get_center())"
   ]
  },
  {
   "cell_type": "code",
   "execution_count": 30,
   "id": "489b086b",
   "metadata": {},
   "outputs": [],
   "source": [
    "#######################\n",
    "# Noised point cloud  #\n",
    "#######################\n",
    "pcd = o3d.t.geometry.PointCloud(o3d.core.Tensor(verts, dtype=o3d.core.Dtype.Float32))\n",
    "pcd = pcd.translate(tuple(np.random.randn(3) * translation_error_std))\n",
    "R = mesh.get_rotation_matrix_from_xyz(\n",
    "    tuple(np.random.randn(3) * np.deg2rad(rotation_error_std_degs))\n",
    ")\n",
    "pcd = pcd.rotate(R, center=pcd.get_center())"
   ]
  },
  {
   "cell_type": "code",
   "execution_count": 31,
   "id": "b31c1652",
   "metadata": {},
   "outputs": [],
   "source": [
    "o3d.visualization.draw_geometries([mesh_out])"
   ]
  }
 ],
 "metadata": {
  "kernelspec": {
   "display_name": "msc-project",
   "language": "python",
   "name": "python3"
  },
  "language_info": {
   "codemirror_mode": {
    "name": "ipython",
    "version": 3
   },
   "file_extension": ".py",
   "mimetype": "text/x-python",
   "name": "python",
   "nbconvert_exporter": "python",
   "pygments_lexer": "ipython3",
   "version": "3.12.3"
  }
 },
 "nbformat": 4,
 "nbformat_minor": 5
}
