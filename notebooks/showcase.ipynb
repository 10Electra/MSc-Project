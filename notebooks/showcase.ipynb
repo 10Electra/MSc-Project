{
 "cells": [
  {
   "cell_type": "code",
   "execution_count": null,
   "id": "fd52ba20",
   "metadata": {},
   "outputs": [],
   "source": [
    "import numpy as np\n",
    "import open3d as o3d\n",
    "import matplotlib.pyplot as plt\n",
    "\n",
    "from superprimitive_fusion.scanner import capture_spherical_scans, render_rgb_view, virtual_mesh_scan\n",
    "from superprimitive_fusion.utils import bake_uv_to_vertex_colours, polar2cartesian\n",
    "from superprimitive_fusion.mesh_fusion_utils import get_mesh_components\n",
    "from superprimitive_fusion.mesh_fusion import fuse_meshes"
   ]
  },
  {
   "cell_type": "code",
   "execution_count": null,
   "id": "d75a093a",
   "metadata": {},
   "outputs": [],
   "source": [
    "mesh_gt = o3d.io.read_triangle_mesh(\"../data/posed-meshes/mustard-bottle/mustard-bottle.obj\", enable_post_processing=True)\n",
    "\n",
    "bake_uv_to_vertex_colours(mesh_gt)\n",
    "\n",
    "mesh_gt.compute_vertex_normals()\n",
    "\n",
    "bb = mesh_gt.get_minimal_oriented_bounding_box()\n",
    "scale = np.mean(bb.get_max_bound())"
   ]
  },
  {
   "cell_type": "code",
   "execution_count": null,
   "id": "b7e806cd",
   "metadata": {},
   "outputs": [],
   "source": [
    "look_at = mesh_gt.get_center() + np.array([0, 0, 0.5])"
   ]
  },
  {
   "cell_type": "code",
   "execution_count": null,
   "id": "974494dd",
   "metadata": {},
   "outputs": [],
   "source": [
    "scans = capture_spherical_scans(\n",
    "    meshlist=[mesh_gt],\n",
    "    num_views=6,\n",
    "    look_at=look_at,\n",
    "    radius=1,\n",
    "    width_px=360,\n",
    "    height_px=240,\n",
    "    fov=70,\n",
    "    k=10,\n",
    "    sampler=\"fibonacci\",\n",
    ")\n",
    "meshes = [scan['mesh'][0][0] for scan in scans]\n",
    "\n",
    "o3d.visualization.draw_geometries(meshes)"
   ]
  },
  {
   "cell_type": "code",
   "execution_count": null,
   "id": "2c23b014",
   "metadata": {},
   "outputs": [],
   "source": [
    "meshes, _ = virtual_mesh_scan(\n",
    "    meshlist=[mesh_gt],\n",
    "    cam_centre=mesh_gt.get_center() + polar2cartesian(0.4, 60, 45),#45,150?\n",
    "    look_at=mesh_gt.get_center(),\n",
    "    k=10,\n",
    "    max_normal_angle_deg=None,\n",
    "    linear_depth_sigma=0,\n",
    "    quadrt_depth_sigma=0\n",
    ")\n",
    "mesh1 = meshes[0][0]\n",
    "weights1 = meshes[1][0]\n",
    "o3d.visualization.draw_geometries([mesh1])"
   ]
  },
  {
   "cell_type": "code",
   "execution_count": null,
   "id": "9bb927a2",
   "metadata": {},
   "outputs": [],
   "source": [
    "meshes, _ = virtual_mesh_scan(\n",
    "    meshlist=[mesh_gt],\n",
    "    cam_centre=mesh_gt.get_center() + polar2cartesian(0.4, 60, 150),#45,150?\n",
    "    look_at=mesh_gt.get_center(),\n",
    "    k=10,\n",
    "    max_normal_angle_deg=None,\n",
    "    linear_depth_sigma=0,\n",
    "    quadrt_depth_sigma=0\n",
    ")\n",
    "mesh2 = meshes[0][0]\n",
    "weights2 = meshes[1][0]\n",
    "o3d.visualization.draw_geometries([mesh2])"
   ]
  },
  {
   "cell_type": "code",
   "execution_count": null,
   "id": "78827669",
   "metadata": {},
   "outputs": [],
   "source": [
    "m, w = fuse_meshes(\n",
    "    mesh1=mesh1,\n",
    "    mesh2=mesh2,\n",
    "    weights1=weights1,\n",
    "    weights2=weights2,\n",
    "    fill_holes=False,\n",
    ")"
   ]
  },
  {
   "cell_type": "code",
   "execution_count": null,
   "id": "4586c4fa",
   "metadata": {},
   "outputs": [],
   "source": [
    "o3d.visualization.draw_geometries([m])"
   ]
  },
  {
   "cell_type": "code",
   "execution_count": null,
   "id": "03f02125",
   "metadata": {},
   "outputs": [],
   "source": [
    "o3d.visualization.draw_geometries(\n",
    "    meshes,\n",
    "    window_name=\"Virtual scan\",\n",
    "    front=[0.3, 1, 0],\n",
    "    lookat=[0, 0, 0],\n",
    "    up=[0, 0, 1],\n",
    "    zoom=0.7,\n",
    ")"
   ]
  },
  {
   "cell_type": "code",
   "execution_count": null,
   "id": "78ec61f8",
   "metadata": {},
   "outputs": [],
   "source": [
    "j = 5\n",
    "fused_mesh = meshes[0]\n",
    "for i in range(1,j):\n",
    "    fused_mesh = fuse_meshes(\n",
    "        fused_mesh,\n",
    "        meshes[i],\n",
    "        h_alpha=3,\n",
    "        nrm_shift_iters=2,\n",
    "        shift_all=False,\n",
    "        fill_holes=False,\n",
    "    )"
   ]
  },
  {
   "cell_type": "code",
   "execution_count": null,
   "id": "9f6baf35",
   "metadata": {},
   "outputs": [],
   "source": [
    "o3d.visualization.draw_geometries(\n",
    "    [fused_mesh],\n",
    "    window_name=\"Virtual scan\",\n",
    "    front=[0.3, 1, 0],\n",
    "    lookat=[0, 0, 0],\n",
    "    up=[0, 0, 1],\n",
    "    zoom=0.7,\n",
    ")"
   ]
  },
  {
   "cell_type": "code",
   "execution_count": null,
   "id": "1a2421ab",
   "metadata": {},
   "outputs": [],
   "source": [
    "get_mesh_components(fused_mesh, show=False)"
   ]
  }
 ],
 "metadata": {
  "kernelspec": {
   "display_name": "msc-project",
   "language": "python",
   "name": "python3"
  },
  "language_info": {
   "codemirror_mode": {
    "name": "ipython",
    "version": 3
   },
   "file_extension": ".py",
   "mimetype": "text/x-python",
   "name": "python",
   "nbconvert_exporter": "python",
   "pygments_lexer": "ipython3",
   "version": "3.12.2"
  }
 },
 "nbformat": 4,
 "nbformat_minor": 5
}
