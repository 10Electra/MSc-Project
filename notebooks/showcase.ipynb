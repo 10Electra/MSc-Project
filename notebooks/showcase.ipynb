{
 "cells": [
  {
   "cell_type": "code",
   "execution_count": 4,
   "id": "fd52ba20",
   "metadata": {},
   "outputs": [],
   "source": [
    "import copy\n",
    "import numpy as np\n",
    "import open3d as o3d\n",
    "import matplotlib.pyplot as plt\n",
    "\n",
    "\n",
    "from superprimitive_fusion.scanner import (\n",
    "    virtual_mesh_scan,\n",
    "    virtual_scan,\n",
    "    mesh_depth_image,\n",
    "    generate_rgbd_noise,\n",
    "    clean_mesh_and_remap_weights,\n",
    ")\n",
    "from superprimitive_fusion.utils import (\n",
    "    bake_uv_to_vertex_colours,\n",
    "    polar2cartesian,\n",
    "    distinct_colours,\n",
    ")\n",
    "from superprimitive_fusion.mesh_fusion import (\n",
    "    fuse_meshes,\n",
    ")\n",
    "from superprimitive_fusion.mesh_fusion_utils import (\n",
    "    get_mesh_components,\n",
    ")"
   ]
  },
  {
   "cell_type": "code",
   "execution_count": 2,
   "id": "57b5d8a6",
   "metadata": {},
   "outputs": [
    {
     "name": "stdout",
     "output_type": "stream",
     "text": [
      "Getting the mustard-bottle\n",
      "Getting the table\n",
      "Getting the power-drill\n",
      "Getting the bleach\n",
      "Getting the pitcher\n",
      "Getting the mug\n"
     ]
    }
   ],
   "source": [
    "names = (\n",
    "    ('mustard-bottle', 'mustard-bottle.obj'),\n",
    "    ('table', 'table.obj'),\n",
    "    ('power-drill', 'power-drill.obj'),\n",
    "    ('bleach', 'bleach.obj'),\n",
    "    ('pitcher', 'pitcher.obj'),\n",
    "    ('mug', 'mug.obj'),\n",
    "    # ('extra-large-clamp', 'extra-large-clamp-leaning.obj'),\n",
    ")\n",
    "\n",
    "gt_meshes = dict()\n",
    "for foldername,filename in names:\n",
    "    print(f'Getting the {foldername}')\n",
    "    \n",
    "    gt_mesh = o3d.io.read_triangle_mesh(f\"../data/posed-meshes/{foldername}/{filename}\", enable_post_processing=True)\n",
    "\n",
    "    bake_uv_to_vertex_colours(gt_mesh)\n",
    "    gt_mesh.compute_vertex_normals()\n",
    "\n",
    "    gt_meshes[foldername] = gt_mesh\n",
    "\n",
    "gt_mesh_list = list(gt_meshes.values())"
   ]
  },
  {
   "cell_type": "code",
   "execution_count": 5,
   "id": "d07a908a",
   "metadata": {},
   "outputs": [],
   "source": [
    "centres = []\n",
    "for gt_meshname, gt_mesh in gt_meshes.items():\n",
    "    if gt_meshname == 'table':\n",
    "        continue\n",
    "    centres.append(gt_mesh.get_center())\n",
    "\n",
    "centres = np.vstack(centres)\n",
    "\n",
    "obj_centre = centres.mean(axis=0)"
   ]
  },
  {
   "cell_type": "code",
   "execution_count": 6,
   "id": "b7e806cd",
   "metadata": {},
   "outputs": [],
   "source": [
    "cam_centre_offset=np.array([0, 0, 0.2])\n",
    "look_at = obj_centre\n",
    "width_px: int = 360\n",
    "height_px: int = 240\n",
    "fov: float = 70.0\n",
    "k: float = 3.5\n",
    "max_normal_angle_deg = None"
   ]
  },
  {
   "cell_type": "code",
   "execution_count": 10,
   "id": "21ed3937",
   "metadata": {},
   "outputs": [
    {
     "name": "stdout",
     "output_type": "stream",
     "text": [
      "0.0\n",
      "120.0\n",
      "240.0\n"
     ]
    }
   ],
   "source": [
    "scans = []\n",
    "N = 3\n",
    "for theta in np.linspace(0,360/N * (N-1), N):\n",
    "# for theta in np.linspace(30,180, N):\n",
    "    print(theta)\n",
    "    scan = virtual_scan(\n",
    "        meshlist=gt_mesh_list,\n",
    "        cam_centre=cam_centre_offset + polar2cartesian(0.8, 30, theta),\n",
    "        look_at=look_at,\n",
    "        width_px=width_px,\n",
    "        height_px=height_px,\n",
    "        fov=fov,\n",
    "        up=[0, 0, 1],\n",
    "    )\n",
    "    scans.append(scan)"
   ]
  },
  {
   "cell_type": "code",
   "execution_count": 13,
   "id": "0eb89e12",
   "metadata": {},
   "outputs": [
    {
     "data": {
      "text/plain": [
       "<matplotlib.image.AxesImage at 0x7f344e9488c0>"
      ]
     },
     "execution_count": 13,
     "metadata": {},
     "output_type": "execute_result"
    },
    {
     "data": {
      "image/png": "[encoded data removed]",
      "text/plain": [
       "<Figure size 640x480 with 1 Axes>"
      ]
     },
     "metadata": {},
     "output_type": "display_data"
    }
   ],
   "source": [
    "scan = scans[2]\n",
    "plt.imshow(scan['segmt'])"
   ]
  },
  {
   "cell_type": "code",
   "execution_count": 24,
   "id": "2c23b014",
   "metadata": {},
   "outputs": [
    {
     "name": "stdout",
     "output_type": "stream",
     "text": [
      "0.0\n",
      "36.0\n",
      "72.0\n",
      "108.0\n",
      "144.0\n",
      "180.0\n",
      "216.0\n",
      "252.0\n",
      "288.0\n",
      "324.0\n"
     ]
    }
   ],
   "source": [
    "scans = []\n",
    "N = 10\n",
    "for theta in np.linspace(0,360/N * (N-1), N):\n",
    "# for theta in np.linspace(30,180, N):\n",
    "    print(theta)\n",
    "    object_meshes, object_weights = virtual_mesh_scan(\n",
    "        meshlist=gt_mesh_list,\n",
    "        cam_centre=cam_centre_offset + polar2cartesian(0.8, 30, theta),\n",
    "        look_at=look_at,\n",
    "        k=10,\n",
    "        max_normal_angle_deg=None,\n",
    "        linear_depth_sigma=0,\n",
    "        quadrt_depth_sigma=0,\n",
    "        sigma_floor=1e-4,\n",
    "    )\n",
    "    scans.append([(m,w) for m,w in zip(object_meshes, object_weights)])\n",
    "    # o3d.visualization.draw_geometries(object_meshes)"
   ]
  },
  {
   "cell_type": "code",
   "execution_count": null,
   "id": "4e1731bf",
   "metadata": {},
   "outputs": [],
   "source": [
    "fused_scan = scans[0]\n",
    "N = len(scans[0])\n",
    "assert len(set([len(scan) for scan in scans])) == 1\n",
    "\n",
    "for t in range(1,len(scans)-1):\n",
    "    fused_scan_meshes = []\n",
    "    fused_scan_weights = []\n",
    "    for obj_id in range(N):\n",
    "        print(f't={t}, obj_id={obj_id}')\n",
    "        fused_obj_mesh, fused_obj_weights = fuse_meshes(\n",
    "            mesh1           = fused_scan[obj_id][0],\n",
    "            weights1        = fused_scan[obj_id][1],\n",
    "            mesh2           = scans[t][obj_id][0],\n",
    "            weights2        = scans[t][obj_id][1],\n",
    "            h_alpha         = 2.5,\n",
    "            r_alpha         = 2.0,\n",
    "            nrm_shift_iters = 2,\n",
    "            nrm_smth_iters  = 1,\n",
    "            shift_all       = False,\n",
    "            fill_holes      = False,\n",
    "        )\n",
    "        fused_scan_meshes.append(fused_obj_mesh)\n",
    "        fused_scan_weights.append(fused_obj_weights)\n",
    "        \n",
    "    fused_scan = [(m,w) for m,w in zip(fused_scan_meshes, fused_scan_weights)]"
   ]
  },
  {
   "cell_type": "code",
   "execution_count": 27,
   "id": "2a644ff9",
   "metadata": {},
   "outputs": [],
   "source": [
    "fused_mesh_result = [obj[0] for obj in fused_scan]\n",
    "o3d.visualization.draw_geometries(fused_mesh_result)"
   ]
  }
 ],
 "metadata": {
  "kernelspec": {
   "display_name": "msc-project",
   "language": "python",
   "name": "python3"
  },
  "language_info": {
   "codemirror_mode": {
    "name": "ipython",
    "version": 3
   },
   "file_extension": ".py",
   "mimetype": "text/x-python",
   "name": "python",
   "nbconvert_exporter": "python",
   "pygments_lexer": "ipython3",
   "version": "3.12.2"
  }
 },
 "nbformat": 4,
 "nbformat_minor": 5
}
